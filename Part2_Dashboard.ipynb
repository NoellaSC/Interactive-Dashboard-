{
 "cells": [
  {
   "cell_type": "markdown",
   "metadata": {
    "id": "QVVN-MPfkylp"
   },
   "source": [
    "# Static Dashboard Developing\n",
    "### Run on Jupyter Notebook"
   ]
  },
  {
   "cell_type": "markdown",
   "metadata": {
    "id": "K4Auz3xalGiy"
   },
   "source": [
    "### Install necessary packages for creating interactive dashboard \n",
    "- panel\n",
    "- hvplot\n",
    "- vega_datasets\n",
    "- plotly\n",
    "- seaborn"
   ]
  },
  {
   "cell_type": "markdown",
   "metadata": {
    "id": "bfAxyINtleFM"
   },
   "source": [
    "### Import libraries "
   ]
  },
  {
   "cell_type": "code",
   "execution_count": 33,
   "metadata": {
    "id": "_eRTHsGOlblS"
   },
   "outputs": [],
   "source": [
    "import pandas as pd\n",
    "import numpy as np\n",
    "import panel as pn\n",
    "pn.extension('tabulator')\n",
    "\n",
    "import hvplot.pandas\n",
    "\n",
    "from vega_datasets import data as vds\n",
    "import holoviews as hv\n",
    "import seaborn as sns\n",
    "\n",
    "import plotly.express as px\n",
    "from plotly.subplots import make_subplots"
   ]
  },
  {
   "cell_type": "markdown",
   "metadata": {
    "id": "pd7mQ4Eklpni"
   },
   "source": [
    "### Upload and read csv file "
   ]
  },
  {
   "cell_type": "code",
   "execution_count": 34,
   "metadata": {
    "colab": {
     "base_uri": "https://localhost:8080/",
     "height": 765
    },
    "id": "RFV8J_PSloYZ",
    "outputId": "3362e3ce-987f-408e-9339-dc3bb53ba256"
   },
   "outputs": [
    {
     "data": {
      "text/html": [
       "<div>\n",
       "<style scoped>\n",
       "    .dataframe tbody tr th:only-of-type {\n",
       "        vertical-align: middle;\n",
       "    }\n",
       "\n",
       "    .dataframe tbody tr th {\n",
       "        vertical-align: top;\n",
       "    }\n",
       "\n",
       "    .dataframe thead th {\n",
       "        text-align: right;\n",
       "    }\n",
       "</style>\n",
       "<table border=\"1\" class=\"dataframe\">\n",
       "  <thead>\n",
       "    <tr style=\"text-align: right;\">\n",
       "      <th></th>\n",
       "      <th>Year</th>\n",
       "      <th>RANK</th>\n",
       "      <th>Country name</th>\n",
       "      <th>Regional indicator</th>\n",
       "      <th>Happiness score</th>\n",
       "      <th>Whisker-high</th>\n",
       "      <th>Whisker-low</th>\n",
       "      <th>Log GDP per capita</th>\n",
       "      <th>Social support</th>\n",
       "      <th>Healthy life expectancy</th>\n",
       "      <th>Freedom to make life choices</th>\n",
       "      <th>Generosity</th>\n",
       "      <th>Perceptions of corruption</th>\n",
       "      <th>Dystopia + residual</th>\n",
       "    </tr>\n",
       "  </thead>\n",
       "  <tbody>\n",
       "    <tr>\n",
       "      <th>0</th>\n",
       "      <td>2020</td>\n",
       "      <td>1</td>\n",
       "      <td>Finland</td>\n",
       "      <td>Western Europe</td>\n",
       "      <td>7.8087</td>\n",
       "      <td>7.869766</td>\n",
       "      <td>7.747634</td>\n",
       "      <td>1.285190</td>\n",
       "      <td>1.499526</td>\n",
       "      <td>0.961271</td>\n",
       "      <td>0.662317</td>\n",
       "      <td>0.159670</td>\n",
       "      <td>0.477857</td>\n",
       "      <td>2.762835</td>\n",
       "    </tr>\n",
       "    <tr>\n",
       "      <th>1</th>\n",
       "      <td>2020</td>\n",
       "      <td>2</td>\n",
       "      <td>Denmark</td>\n",
       "      <td>Western Europe</td>\n",
       "      <td>7.6456</td>\n",
       "      <td>7.711245</td>\n",
       "      <td>7.579955</td>\n",
       "      <td>1.326949</td>\n",
       "      <td>1.503449</td>\n",
       "      <td>0.979333</td>\n",
       "      <td>0.665040</td>\n",
       "      <td>0.242793</td>\n",
       "      <td>0.495260</td>\n",
       "      <td>2.432741</td>\n",
       "    </tr>\n",
       "    <tr>\n",
       "      <th>2</th>\n",
       "      <td>2020</td>\n",
       "      <td>3</td>\n",
       "      <td>Switzerland</td>\n",
       "      <td>Western Europe</td>\n",
       "      <td>7.5599</td>\n",
       "      <td>7.628528</td>\n",
       "      <td>7.491272</td>\n",
       "      <td>1.390774</td>\n",
       "      <td>1.472403</td>\n",
       "      <td>1.040533</td>\n",
       "      <td>0.628954</td>\n",
       "      <td>0.269056</td>\n",
       "      <td>0.407946</td>\n",
       "      <td>2.350267</td>\n",
       "    </tr>\n",
       "    <tr>\n",
       "      <th>3</th>\n",
       "      <td>2020</td>\n",
       "      <td>4</td>\n",
       "      <td>Iceland</td>\n",
       "      <td>Western Europe</td>\n",
       "      <td>7.5045</td>\n",
       "      <td>7.621347</td>\n",
       "      <td>7.387653</td>\n",
       "      <td>1.326502</td>\n",
       "      <td>1.547567</td>\n",
       "      <td>1.000843</td>\n",
       "      <td>0.661981</td>\n",
       "      <td>0.362330</td>\n",
       "      <td>0.144541</td>\n",
       "      <td>2.460688</td>\n",
       "    </tr>\n",
       "    <tr>\n",
       "      <th>4</th>\n",
       "      <td>2020</td>\n",
       "      <td>5</td>\n",
       "      <td>Norway</td>\n",
       "      <td>Western Europe</td>\n",
       "      <td>7.4880</td>\n",
       "      <td>7.556281</td>\n",
       "      <td>7.419719</td>\n",
       "      <td>1.424207</td>\n",
       "      <td>1.495173</td>\n",
       "      <td>1.008072</td>\n",
       "      <td>0.670201</td>\n",
       "      <td>0.287985</td>\n",
       "      <td>0.434101</td>\n",
       "      <td>2.168266</td>\n",
       "    </tr>\n",
       "    <tr>\n",
       "      <th>...</th>\n",
       "      <td>...</td>\n",
       "      <td>...</td>\n",
       "      <td>...</td>\n",
       "      <td>...</td>\n",
       "      <td>...</td>\n",
       "      <td>...</td>\n",
       "      <td>...</td>\n",
       "      <td>...</td>\n",
       "      <td>...</td>\n",
       "      <td>...</td>\n",
       "      <td>...</td>\n",
       "      <td>...</td>\n",
       "      <td>...</td>\n",
       "      <td>...</td>\n",
       "    </tr>\n",
       "    <tr>\n",
       "      <th>422</th>\n",
       "      <td>2022</td>\n",
       "      <td>139</td>\n",
       "      <td>Tanzania</td>\n",
       "      <td>Sub-Saharan Africa</td>\n",
       "      <td>3.7020</td>\n",
       "      <td>3.847000</td>\n",
       "      <td>3.558000</td>\n",
       "      <td>0.848000</td>\n",
       "      <td>0.597000</td>\n",
       "      <td>0.425000</td>\n",
       "      <td>0.578000</td>\n",
       "      <td>0.248000</td>\n",
       "      <td>0.270000</td>\n",
       "      <td>0.735000</td>\n",
       "    </tr>\n",
       "    <tr>\n",
       "      <th>423</th>\n",
       "      <td>2022</td>\n",
       "      <td>140</td>\n",
       "      <td>Sierra Leone</td>\n",
       "      <td>Sub-Saharan Africa</td>\n",
       "      <td>3.5740</td>\n",
       "      <td>3.732000</td>\n",
       "      <td>3.416000</td>\n",
       "      <td>0.686000</td>\n",
       "      <td>0.416000</td>\n",
       "      <td>0.273000</td>\n",
       "      <td>0.387000</td>\n",
       "      <td>0.202000</td>\n",
       "      <td>0.055000</td>\n",
       "      <td>1.556000</td>\n",
       "    </tr>\n",
       "    <tr>\n",
       "      <th>424</th>\n",
       "      <td>2022</td>\n",
       "      <td>144</td>\n",
       "      <td>Zimbabwe</td>\n",
       "      <td>Sub-Saharan Africa</td>\n",
       "      <td>2.9950</td>\n",
       "      <td>3.110000</td>\n",
       "      <td>2.880000</td>\n",
       "      <td>0.947000</td>\n",
       "      <td>0.690000</td>\n",
       "      <td>0.270000</td>\n",
       "      <td>0.329000</td>\n",
       "      <td>0.106000</td>\n",
       "      <td>0.105000</td>\n",
       "      <td>0.548000</td>\n",
       "    </tr>\n",
       "    <tr>\n",
       "      <th>425</th>\n",
       "      <td>2022</td>\n",
       "      <td>145</td>\n",
       "      <td>Lebanon</td>\n",
       "      <td>Middle East and North Africa</td>\n",
       "      <td>2.9550</td>\n",
       "      <td>3.049000</td>\n",
       "      <td>2.862000</td>\n",
       "      <td>1.392000</td>\n",
       "      <td>0.498000</td>\n",
       "      <td>0.631000</td>\n",
       "      <td>0.103000</td>\n",
       "      <td>0.082000</td>\n",
       "      <td>0.034000</td>\n",
       "      <td>0.216000</td>\n",
       "    </tr>\n",
       "    <tr>\n",
       "      <th>426</th>\n",
       "      <td>2022</td>\n",
       "      <td>146</td>\n",
       "      <td>Afghanistan</td>\n",
       "      <td>South Asia</td>\n",
       "      <td>2.4040</td>\n",
       "      <td>2.469000</td>\n",
       "      <td>2.339000</td>\n",
       "      <td>0.758000</td>\n",
       "      <td>0.000000</td>\n",
       "      <td>0.289000</td>\n",
       "      <td>0.000000</td>\n",
       "      <td>0.089000</td>\n",
       "      <td>0.005000</td>\n",
       "      <td>1.263000</td>\n",
       "    </tr>\n",
       "  </tbody>\n",
       "</table>\n",
       "<p>427 rows × 14 columns</p>\n",
       "</div>"
      ],
      "text/plain": [
       "     Year  RANK  Country name            Regional indicator  Happiness score   \n",
       "0    2020     1       Finland                Western Europe           7.8087  \\\n",
       "1    2020     2       Denmark                Western Europe           7.6456   \n",
       "2    2020     3   Switzerland                Western Europe           7.5599   \n",
       "3    2020     4       Iceland                Western Europe           7.5045   \n",
       "4    2020     5        Norway                Western Europe           7.4880   \n",
       "..    ...   ...           ...                           ...              ...   \n",
       "422  2022   139      Tanzania            Sub-Saharan Africa           3.7020   \n",
       "423  2022   140  Sierra Leone            Sub-Saharan Africa           3.5740   \n",
       "424  2022   144      Zimbabwe            Sub-Saharan Africa           2.9950   \n",
       "425  2022   145       Lebanon  Middle East and North Africa           2.9550   \n",
       "426  2022   146   Afghanistan                    South Asia           2.4040   \n",
       "\n",
       "     Whisker-high  Whisker-low  Log GDP per capita  Social support   \n",
       "0        7.869766     7.747634            1.285190        1.499526  \\\n",
       "1        7.711245     7.579955            1.326949        1.503449   \n",
       "2        7.628528     7.491272            1.390774        1.472403   \n",
       "3        7.621347     7.387653            1.326502        1.547567   \n",
       "4        7.556281     7.419719            1.424207        1.495173   \n",
       "..            ...          ...                 ...             ...   \n",
       "422      3.847000     3.558000            0.848000        0.597000   \n",
       "423      3.732000     3.416000            0.686000        0.416000   \n",
       "424      3.110000     2.880000            0.947000        0.690000   \n",
       "425      3.049000     2.862000            1.392000        0.498000   \n",
       "426      2.469000     2.339000            0.758000        0.000000   \n",
       "\n",
       "     Healthy life expectancy  Freedom to make life choices  Generosity   \n",
       "0                   0.961271                      0.662317    0.159670  \\\n",
       "1                   0.979333                      0.665040    0.242793   \n",
       "2                   1.040533                      0.628954    0.269056   \n",
       "3                   1.000843                      0.661981    0.362330   \n",
       "4                   1.008072                      0.670201    0.287985   \n",
       "..                       ...                           ...         ...   \n",
       "422                 0.425000                      0.578000    0.248000   \n",
       "423                 0.273000                      0.387000    0.202000   \n",
       "424                 0.270000                      0.329000    0.106000   \n",
       "425                 0.631000                      0.103000    0.082000   \n",
       "426                 0.289000                      0.000000    0.089000   \n",
       "\n",
       "     Perceptions of corruption  Dystopia + residual  \n",
       "0                     0.477857             2.762835  \n",
       "1                     0.495260             2.432741  \n",
       "2                     0.407946             2.350267  \n",
       "3                     0.144541             2.460688  \n",
       "4                     0.434101             2.168266  \n",
       "..                         ...                  ...  \n",
       "422                   0.270000             0.735000  \n",
       "423                   0.055000             1.556000  \n",
       "424                   0.105000             0.548000  \n",
       "425                   0.034000             0.216000  \n",
       "426                   0.005000             1.263000  \n",
       "\n",
       "[427 rows x 14 columns]"
      ]
     },
     "execution_count": 34,
     "metadata": {},
     "output_type": "execute_result"
    }
   ],
   "source": [
    "happiness = pd.read_csv('Worldhappinessreport2020-2022.csv')\n",
    "happiness"
   ]
  },
  {
   "cell_type": "code",
   "execution_count": 35,
   "metadata": {
    "id": "eLwnWi8LlzkQ"
   },
   "outputs": [],
   "source": [
    "# cache data to improve dashboard performance\n",
    "if 'data1' not in pn.state.cache.keys():\n",
    "\n",
    "    df1 = pd.read_csv('Worldhappinessreport2020-2022.csv')\n",
    "\n",
    "    pn.state.cache['data1'] = df1.copy()\n",
    "\n",
    "else: \n",
    "\n",
    "    df1 = pn.state.cache['data1']"
   ]
  },
  {
   "cell_type": "code",
   "execution_count": 36,
   "metadata": {
    "id": "aQQuIwHyl6D-"
   },
   "outputs": [],
   "source": [
    "# Make DataFrame Pipeline Interactive\n",
    "idf1 = df1.interactive()"
   ]
  },
  {
   "cell_type": "markdown",
   "metadata": {
    "id": "svUBnrapmXTg"
   },
   "source": [
    "### Create widgets"
   ]
  },
  {
   "cell_type": "code",
   "execution_count": 37,
   "metadata": {
    "colab": {
     "base_uri": "https://localhost:8080/",
     "height": 67
    },
    "id": "DknFSwVlmVEP",
    "outputId": "e4510c60-071c-43a7-f0f0-a76845ded8b4"
   },
   "outputs": [
    {
     "data": {},
     "metadata": {},
     "output_type": "display_data"
    },
    {
     "data": {
      "application/vnd.holoviews_exec.v0+json": "",
      "text/html": [
       "<div id='13692'>\n",
       "  <div class=\"bk-root\" id=\"4a1394a4-579b-4f15-98a9-6f5e1a59d5b2\" data-root-id=\"13692\"></div>\n",
       "</div>\n",
       "<script type=\"application/javascript\">(function(root) {\n",
       "  function embed_document(root) {\n",
       "    var docs_json = {\"5547f3ef-83fe-4808-a0cd-a3419cd4c16c\":{\"defs\":[{\"extends\":null,\"module\":null,\"name\":\"ReactiveHTML1\",\"overrides\":[],\"properties\":[]},{\"extends\":null,\"module\":null,\"name\":\"FlexBox1\",\"overrides\":[],\"properties\":[{\"default\":\"flex-start\",\"kind\":null,\"name\":\"align_content\"},{\"default\":\"flex-start\",\"kind\":null,\"name\":\"align_items\"},{\"default\":\"row\",\"kind\":null,\"name\":\"flex_direction\"},{\"default\":\"wrap\",\"kind\":null,\"name\":\"flex_wrap\"},{\"default\":\"flex-start\",\"kind\":null,\"name\":\"justify_content\"}]},{\"extends\":null,\"module\":null,\"name\":\"GridStack1\",\"overrides\":[],\"properties\":[{\"default\":\"warn\",\"kind\":null,\"name\":\"mode\"},{\"default\":null,\"kind\":null,\"name\":\"ncols\"},{\"default\":null,\"kind\":null,\"name\":\"nrows\"},{\"default\":true,\"kind\":null,\"name\":\"allow_resize\"},{\"default\":true,\"kind\":null,\"name\":\"allow_drag\"},{\"default\":[],\"kind\":null,\"name\":\"state\"}]},{\"extends\":null,\"module\":null,\"name\":\"click1\",\"overrides\":[],\"properties\":[{\"default\":\"\",\"kind\":null,\"name\":\"terminal_output\"},{\"default\":\"\",\"kind\":null,\"name\":\"debug_name\"},{\"default\":0,\"kind\":null,\"name\":\"clears\"}]},{\"extends\":null,\"module\":null,\"name\":\"NotificationAreaBase1\",\"overrides\":[],\"properties\":[{\"default\":\"bottom-right\",\"kind\":null,\"name\":\"position\"},{\"default\":0,\"kind\":null,\"name\":\"_clear\"}]},{\"extends\":null,\"module\":null,\"name\":\"NotificationArea1\",\"overrides\":[],\"properties\":[{\"default\":[],\"kind\":null,\"name\":\"notifications\"},{\"default\":\"bottom-right\",\"kind\":null,\"name\":\"position\"},{\"default\":0,\"kind\":null,\"name\":\"_clear\"},{\"default\":[{\"background\":\"#ffc107\",\"icon\":{\"className\":\"fas fa-exclamation-triangle\",\"color\":\"white\",\"tagName\":\"i\"},\"type\":\"warning\"},{\"background\":\"#007bff\",\"icon\":{\"className\":\"fas fa-info-circle\",\"color\":\"white\",\"tagName\":\"i\"},\"type\":\"info\"}],\"kind\":null,\"name\":\"types\"}]},{\"extends\":null,\"module\":null,\"name\":\"Notification\",\"overrides\":[],\"properties\":[{\"default\":null,\"kind\":null,\"name\":\"background\"},{\"default\":3000,\"kind\":null,\"name\":\"duration\"},{\"default\":null,\"kind\":null,\"name\":\"icon\"},{\"default\":\"\",\"kind\":null,\"name\":\"message\"},{\"default\":null,\"kind\":null,\"name\":\"notification_type\"},{\"default\":false,\"kind\":null,\"name\":\"_destroyed\"}]},{\"extends\":null,\"module\":null,\"name\":\"TemplateActions1\",\"overrides\":[],\"properties\":[{\"default\":0,\"kind\":null,\"name\":\"open_modal\"},{\"default\":0,\"kind\":null,\"name\":\"close_modal\"}]},{\"extends\":null,\"module\":null,\"name\":\"MaterialTemplateActions1\",\"overrides\":[],\"properties\":[{\"default\":0,\"kind\":null,\"name\":\"open_modal\"},{\"default\":0,\"kind\":null,\"name\":\"close_modal\"}]}],\"roots\":{\"references\":[{\"attributes\":{\"client_comm_id\":\"cda5e959db3b457b8b8118c9db63eb95\",\"comm_id\":\"a2ed448b52b3451da2ea19fb66a0657c\",\"plot_id\":\"13692\"},\"id\":\"13693\",\"type\":\"panel.models.comm_manager.CommManager\"},{\"attributes\":{\"end\":2022,\"margin\":[5,10,5,10],\"start\":2020,\"title\":\"Year slider\",\"value\":2022},\"id\":\"13692\",\"type\":\"Slider\"}],\"root_ids\":[\"13692\",\"13693\"]},\"title\":\"Bokeh Application\",\"version\":\"2.4.3\"}};\n",
       "    var render_items = [{\"docid\":\"5547f3ef-83fe-4808-a0cd-a3419cd4c16c\",\"root_ids\":[\"13692\"],\"roots\":{\"13692\":\"4a1394a4-579b-4f15-98a9-6f5e1a59d5b2\"}}];\n",
       "    root.Bokeh.embed.embed_items_notebook(docs_json, render_items);\n",
       "    for (const render_item of render_items) {\n",
       "      for (const root_id of render_item.root_ids) {\n",
       "\tconst id_el = document.getElementById(root_id)\n",
       "\tif (id_el.children.length && (id_el.children[0].className === 'bk-root')) {\n",
       "\t  const root_el = id_el.children[0]\n",
       "\t  root_el.id = root_el.id + '-rendered'\n",
       "\t}\n",
       "      }\n",
       "    }\n",
       "  }\n",
       "  if (root.Bokeh !== undefined && root.Bokeh.Panel !== undefined && ( root['Tabulator'] !== undefined) && ( root['Tabulator'] !== undefined)) {\n",
       "    embed_document(root);\n",
       "  } else {\n",
       "    var attempts = 0;\n",
       "    var timer = setInterval(function(root) {\n",
       "      if (root.Bokeh !== undefined && root.Bokeh.Panel !== undefined && (root['Tabulator'] !== undefined) && (root['Tabulator'] !== undefined)) {\n",
       "        clearInterval(timer);\n",
       "        embed_document(root);\n",
       "      } else if (document.readyState == \"complete\") {\n",
       "        attempts++;\n",
       "        if (attempts > 200) {\n",
       "          clearInterval(timer);\n",
       "          console.log(\"Bokeh: ERROR: Unable to run BokehJS code because BokehJS library is missing\");\n",
       "        }\n",
       "      }\n",
       "    }, 25, root)\n",
       "  }\n",
       "})(window);</script>"
      ],
      "text/plain": [
       "IntSlider(end=2022, name='Year slider', start=2020, value=2022)"
      ]
     },
     "execution_count": 37,
     "metadata": {
      "application/vnd.holoviews_exec.v0+json": {
       "id": "13692"
      }
     },
     "output_type": "execute_result"
    }
   ],
   "source": [
    "#year slider\n",
    "year_slider = pn.widgets.IntSlider(name='Year slider', start=2020, end=2022, step=1, value=2022)\n",
    "year_slider"
   ]
  },
  {
   "cell_type": "code",
   "execution_count": 38,
   "metadata": {
    "colab": {
     "base_uri": "https://localhost:8080/",
     "height": 137
    },
    "id": "UZJt-JnlmhyT",
    "outputId": "4c91a7b4-44d0-45cb-9a98-5507e9ff6a6c"
   },
   "outputs": [
    {
     "data": {},
     "metadata": {},
     "output_type": "display_data"
    },
    {
     "data": {
      "application/vnd.holoviews_exec.v0+json": "",
      "text/html": [
       "<div id='13694'>\n",
       "  <div class=\"bk-root\" id=\"5fc0b50b-4f43-444f-ab21-4ce48951861e\" data-root-id=\"13694\"></div>\n",
       "</div>\n",
       "<script type=\"application/javascript\">(function(root) {\n",
       "  function embed_document(root) {\n",
       "    var docs_json = {\"0a044d70-74c9-4799-b14a-1f14289b8033\":{\"defs\":[{\"extends\":null,\"module\":null,\"name\":\"ReactiveHTML1\",\"overrides\":[],\"properties\":[]},{\"extends\":null,\"module\":null,\"name\":\"FlexBox1\",\"overrides\":[],\"properties\":[{\"default\":\"flex-start\",\"kind\":null,\"name\":\"align_content\"},{\"default\":\"flex-start\",\"kind\":null,\"name\":\"align_items\"},{\"default\":\"row\",\"kind\":null,\"name\":\"flex_direction\"},{\"default\":\"wrap\",\"kind\":null,\"name\":\"flex_wrap\"},{\"default\":\"flex-start\",\"kind\":null,\"name\":\"justify_content\"}]},{\"extends\":null,\"module\":null,\"name\":\"GridStack1\",\"overrides\":[],\"properties\":[{\"default\":\"warn\",\"kind\":null,\"name\":\"mode\"},{\"default\":null,\"kind\":null,\"name\":\"ncols\"},{\"default\":null,\"kind\":null,\"name\":\"nrows\"},{\"default\":true,\"kind\":null,\"name\":\"allow_resize\"},{\"default\":true,\"kind\":null,\"name\":\"allow_drag\"},{\"default\":[],\"kind\":null,\"name\":\"state\"}]},{\"extends\":null,\"module\":null,\"name\":\"click1\",\"overrides\":[],\"properties\":[{\"default\":\"\",\"kind\":null,\"name\":\"terminal_output\"},{\"default\":\"\",\"kind\":null,\"name\":\"debug_name\"},{\"default\":0,\"kind\":null,\"name\":\"clears\"}]},{\"extends\":null,\"module\":null,\"name\":\"NotificationAreaBase1\",\"overrides\":[],\"properties\":[{\"default\":\"bottom-right\",\"kind\":null,\"name\":\"position\"},{\"default\":0,\"kind\":null,\"name\":\"_clear\"}]},{\"extends\":null,\"module\":null,\"name\":\"NotificationArea1\",\"overrides\":[],\"properties\":[{\"default\":[],\"kind\":null,\"name\":\"notifications\"},{\"default\":\"bottom-right\",\"kind\":null,\"name\":\"position\"},{\"default\":0,\"kind\":null,\"name\":\"_clear\"},{\"default\":[{\"background\":\"#ffc107\",\"icon\":{\"className\":\"fas fa-exclamation-triangle\",\"color\":\"white\",\"tagName\":\"i\"},\"type\":\"warning\"},{\"background\":\"#007bff\",\"icon\":{\"className\":\"fas fa-info-circle\",\"color\":\"white\",\"tagName\":\"i\"},\"type\":\"info\"}],\"kind\":null,\"name\":\"types\"}]},{\"extends\":null,\"module\":null,\"name\":\"Notification\",\"overrides\":[],\"properties\":[{\"default\":null,\"kind\":null,\"name\":\"background\"},{\"default\":3000,\"kind\":null,\"name\":\"duration\"},{\"default\":null,\"kind\":null,\"name\":\"icon\"},{\"default\":\"\",\"kind\":null,\"name\":\"message\"},{\"default\":null,\"kind\":null,\"name\":\"notification_type\"},{\"default\":false,\"kind\":null,\"name\":\"_destroyed\"}]},{\"extends\":null,\"module\":null,\"name\":\"TemplateActions1\",\"overrides\":[],\"properties\":[{\"default\":0,\"kind\":null,\"name\":\"open_modal\"},{\"default\":0,\"kind\":null,\"name\":\"close_modal\"}]},{\"extends\":null,\"module\":null,\"name\":\"MaterialTemplateActions1\",\"overrides\":[],\"properties\":[{\"default\":0,\"kind\":null,\"name\":\"open_modal\"},{\"default\":0,\"kind\":null,\"name\":\"close_modal\"}]}],\"roots\":{\"references\":[{\"attributes\":{\"children\":[{\"id\":\"13697\"},{\"id\":\"13698\"}],\"margin\":[0,0,0,0],\"name\":\"Row24618\"},\"id\":\"13696\",\"type\":\"Row\"},{\"attributes\":{\"children\":[{\"id\":\"13695\"}],\"margin\":[0,0,0,0],\"name\":\"Row24620\"},\"id\":\"13694\",\"type\":\"Row\"},{\"attributes\":{\"client_comm_id\":\"7d4c6b7c101444ef8794186efe533a1f\",\"comm_id\":\"bdaeb112187844e4909dd5d0ea7b98de\",\"plot_id\":\"13694\"},\"id\":\"13703\",\"type\":\"panel.models.comm_manager.CommManager\"},{\"attributes\":{\"children\":[{\"id\":\"13696\"},{\"id\":\"13699\"}],\"margin\":[0,0,0,0],\"name\":\"Column24619\"},\"id\":\"13695\",\"type\":\"Column\"},{\"attributes\":{\"margin\":[5,5,5,5],\"name\":\"HSpacer24617\",\"sizing_mode\":\"stretch_width\"},\"id\":\"13698\",\"type\":\"Spacer\"},{\"attributes\":{\"margin\":[0,0,0,0],\"name\":\"Column24616\"},\"id\":\"13700\",\"type\":\"Column\"},{\"attributes\":{\"margin\":[5,5,5,5],\"name\":\"interactive24590\",\"text\":\"&lt;pre&gt;Index([&#x27;Year&#x27;, &#x27;RANK&#x27;, &#x27;Country name&#x27;, &#x27;Regional indicator&#x27;, &#x27;Happiness score&#x27;,\\n       &#x27;Whisker-high&#x27;, &#x27;Whisker-low&#x27;, &#x27;Log GDP per capita&#x27;, &#x27;Social support&#x27;,\\n       &#x27;Healthy life expectancy&#x27;, &#x27;Freedom to make life choices&#x27;, &#x27;Generosity&#x27;,\\n       &#x27;Perceptions of corruption&#x27;, &#x27;Dystopia + residual&#x27;],\\n      dtype=&#x27;object&#x27;)&lt;/pre&gt;\"},\"id\":\"13702\",\"type\":\"panel.models.markup.HTML\"},{\"attributes\":{\"children\":[{\"id\":\"13700\"},{\"id\":\"13701\"}],\"margin\":[0,0,0,0],\"name\":\"Column24591\"},\"id\":\"13699\",\"type\":\"Column\"},{\"attributes\":{\"margin\":[0,0,0,0],\"name\":\"Column24589\"},\"id\":\"13697\",\"type\":\"Column\"},{\"attributes\":{\"children\":[{\"id\":\"13702\"}],\"margin\":[0,0,0,0],\"name\":\"Row24615\"},\"id\":\"13701\",\"type\":\"Row\"}],\"root_ids\":[\"13694\",\"13703\"]},\"title\":\"Bokeh Application\",\"version\":\"2.4.3\"}};\n",
       "    var render_items = [{\"docid\":\"0a044d70-74c9-4799-b14a-1f14289b8033\",\"root_ids\":[\"13694\"],\"roots\":{\"13694\":\"5fc0b50b-4f43-444f-ab21-4ce48951861e\"}}];\n",
       "    root.Bokeh.embed.embed_items_notebook(docs_json, render_items);\n",
       "    for (const render_item of render_items) {\n",
       "      for (const root_id of render_item.root_ids) {\n",
       "\tconst id_el = document.getElementById(root_id)\n",
       "\tif (id_el.children.length && (id_el.children[0].className === 'bk-root')) {\n",
       "\t  const root_el = id_el.children[0]\n",
       "\t  root_el.id = root_el.id + '-rendered'\n",
       "\t}\n",
       "      }\n",
       "    }\n",
       "  }\n",
       "  if (root.Bokeh !== undefined && root.Bokeh.Panel !== undefined && ( root['Tabulator'] !== undefined) && ( root['Tabulator'] !== undefined)) {\n",
       "    embed_document(root);\n",
       "  } else {\n",
       "    var attempts = 0;\n",
       "    var timer = setInterval(function(root) {\n",
       "      if (root.Bokeh !== undefined && root.Bokeh.Panel !== undefined && (root['Tabulator'] !== undefined) && (root['Tabulator'] !== undefined)) {\n",
       "        clearInterval(timer);\n",
       "        embed_document(root);\n",
       "      } else if (document.readyState == \"complete\") {\n",
       "        attempts++;\n",
       "        if (attempts > 200) {\n",
       "          clearInterval(timer);\n",
       "          console.log(\"Bokeh: ERROR: Unable to run BokehJS code because BokehJS library is missing\");\n",
       "        }\n",
       "      }\n",
       "    }, 25, root)\n",
       "  }\n",
       "})(window);</script>"
      ],
      "text/plain": [
       "<hvplot.interactive.Interactive at 0x7fc495f9fa00>"
      ]
     },
     "execution_count": 38,
     "metadata": {
      "application/vnd.holoviews_exec.v0+json": {
       "id": "13694"
      }
     },
     "output_type": "execute_result"
    }
   ],
   "source": [
    "idf1.columns"
   ]
  },
  {
   "cell_type": "code",
   "execution_count": 39,
   "metadata": {
    "id": "6TBJmi3DmkUe"
   },
   "outputs": [],
   "source": [
    "# Radio buttons group\n",
    "yaxis_co2 = pn.widgets.RadioButtonGroup(\n",
    "    name='Y axis', \n",
    "    options=[\n",
    "        'Happiness score',\n",
    "      'Log GDP per capita', 'Social support',\n",
    "       'Healthy life expectancy', 'Freedom to make life choices', 'Generosity',\n",
    "       'Perceptions of corruption', 'Dystopia + residual'\n",
    "    ],\n",
    "    button_type='success'\n",
    ")"
   ]
  },
  {
   "cell_type": "code",
   "execution_count": 40,
   "metadata": {
    "colab": {
     "base_uri": "https://localhost:8080/",
     "height": 1000
    },
    "id": "0IT9isNvmmag",
    "outputId": "3678e69a-86b4-4427-8fb8-6ee4a0531286"
   },
   "outputs": [
    {
     "data": {},
     "metadata": {},
     "output_type": "display_data"
    },
    {
     "data": {
      "application/vnd.holoviews_exec.v0+json": "",
      "text/html": [
       "<div id='13704'>\n",
       "  <div class=\"bk-root\" id=\"e8f995d7-99bc-42f2-9b85-4e5135f57031\" data-root-id=\"13704\"></div>\n",
       "</div>\n",
       "<script type=\"application/javascript\">(function(root) {\n",
       "  function embed_document(root) {\n",
       "    var docs_json = {\"41e7ba55-9121-42f2-a411-1fc7afc6f8b9\":{\"defs\":[{\"extends\":null,\"module\":null,\"name\":\"ReactiveHTML1\",\"overrides\":[],\"properties\":[]},{\"extends\":null,\"module\":null,\"name\":\"FlexBox1\",\"overrides\":[],\"properties\":[{\"default\":\"flex-start\",\"kind\":null,\"name\":\"align_content\"},{\"default\":\"flex-start\",\"kind\":null,\"name\":\"align_items\"},{\"default\":\"row\",\"kind\":null,\"name\":\"flex_direction\"},{\"default\":\"wrap\",\"kind\":null,\"name\":\"flex_wrap\"},{\"default\":\"flex-start\",\"kind\":null,\"name\":\"justify_content\"}]},{\"extends\":null,\"module\":null,\"name\":\"GridStack1\",\"overrides\":[],\"properties\":[{\"default\":\"warn\",\"kind\":null,\"name\":\"mode\"},{\"default\":null,\"kind\":null,\"name\":\"ncols\"},{\"default\":null,\"kind\":null,\"name\":\"nrows\"},{\"default\":true,\"kind\":null,\"name\":\"allow_resize\"},{\"default\":true,\"kind\":null,\"name\":\"allow_drag\"},{\"default\":[],\"kind\":null,\"name\":\"state\"}]},{\"extends\":null,\"module\":null,\"name\":\"click1\",\"overrides\":[],\"properties\":[{\"default\":\"\",\"kind\":null,\"name\":\"terminal_output\"},{\"default\":\"\",\"kind\":null,\"name\":\"debug_name\"},{\"default\":0,\"kind\":null,\"name\":\"clears\"}]},{\"extends\":null,\"module\":null,\"name\":\"NotificationAreaBase1\",\"overrides\":[],\"properties\":[{\"default\":\"bottom-right\",\"kind\":null,\"name\":\"position\"},{\"default\":0,\"kind\":null,\"name\":\"_clear\"}]},{\"extends\":null,\"module\":null,\"name\":\"NotificationArea1\",\"overrides\":[],\"properties\":[{\"default\":[],\"kind\":null,\"name\":\"notifications\"},{\"default\":\"bottom-right\",\"kind\":null,\"name\":\"position\"},{\"default\":0,\"kind\":null,\"name\":\"_clear\"},{\"default\":[{\"background\":\"#ffc107\",\"icon\":{\"className\":\"fas fa-exclamation-triangle\",\"color\":\"white\",\"tagName\":\"i\"},\"type\":\"warning\"},{\"background\":\"#007bff\",\"icon\":{\"className\":\"fas fa-info-circle\",\"color\":\"white\",\"tagName\":\"i\"},\"type\":\"info\"}],\"kind\":null,\"name\":\"types\"}]},{\"extends\":null,\"module\":null,\"name\":\"Notification\",\"overrides\":[],\"properties\":[{\"default\":null,\"kind\":null,\"name\":\"background\"},{\"default\":3000,\"kind\":null,\"name\":\"duration\"},{\"default\":null,\"kind\":null,\"name\":\"icon\"},{\"default\":\"\",\"kind\":null,\"name\":\"message\"},{\"default\":null,\"kind\":null,\"name\":\"notification_type\"},{\"default\":false,\"kind\":null,\"name\":\"_destroyed\"}]},{\"extends\":null,\"module\":null,\"name\":\"TemplateActions1\",\"overrides\":[],\"properties\":[{\"default\":0,\"kind\":null,\"name\":\"open_modal\"},{\"default\":0,\"kind\":null,\"name\":\"close_modal\"}]},{\"extends\":null,\"module\":null,\"name\":\"MaterialTemplateActions1\",\"overrides\":[],\"properties\":[{\"default\":0,\"kind\":null,\"name\":\"open_modal\"},{\"default\":0,\"kind\":null,\"name\":\"close_modal\"}]}],\"roots\":{\"references\":[{\"attributes\":{\"args\":{\"bidirectional\":true,\"properties\":{\"value\":\"align\"},\"source\":{\"id\":\"13716\"},\"target\":{\"id\":\"13733\"}},\"code\":\"\\n    var value = source['value'];\\n    value = JSON.parse(value.replace(/'/g, '\\\"'));\\n    value = value;\\n    try {\\n      var property = target.properties['align'];\\n      if (property !== undefined) { property.validate(value); }\\n    } catch(err) {\\n      console.log('WARNING: Could not set align on target, raised error: ' + err);\\n      return;\\n    }\\n    try {\\n      target['align'] = value;\\n    } catch(err) {\\n      console.log(err)\\n    }\\n    \",\"tags\":[[140482307125216,[null,\"value\"],[null,\"align\"]]]},\"id\":\"13744\",\"type\":\"CustomJS\"},{\"attributes\":{\"args\":{\"bidirectional\":true,\"properties\":{\"value\":\"width_policy\"},\"source\":{\"id\":\"13733\"},\"target\":{\"id\":\"13727\"}},\"code\":\"\\n    var value = source['width_policy'];\\n    value = value;\\n    value = value;\\n    try {\\n      var property = target.properties['value'];\\n      if (property !== undefined) { property.validate(value); }\\n    } catch(err) {\\n      console.log('WARNING: Could not set value on target, raised error: ' + err);\\n      return;\\n    }\\n    try {\\n      target['value'] = value;\\n    } catch(err) {\\n      console.log(err)\\n    }\\n    \",\"tags\":[[140482307279984,[null,\"value\"],[null,\"width_policy\"]]]},\"id\":\"13767\",\"type\":\"CustomJS\"},{\"attributes\":{\"children\":[{\"id\":\"13715\"},{\"id\":\"13716\"},{\"id\":\"13717\"},{\"id\":\"13718\"},{\"id\":\"13719\"},{\"id\":\"13720\"},{\"id\":\"13721\"},{\"id\":\"13722\"},{\"id\":\"13723\"},{\"id\":\"13724\"},{\"id\":\"13725\"},{\"id\":\"13726\"},{\"id\":\"13727\"},{\"id\":\"13728\"},{\"id\":\"13729\"},{\"id\":\"13730\"},{\"id\":\"13731\"}],\"css_classes\":[\"panel-widget-box\"],\"margin\":[5,5,5,5],\"min_width\":300,\"name\":\"Layout\",\"width\":300},\"id\":\"13714\",\"type\":\"Column\"},{\"attributes\":{\"margin\":[0,0,0,0],\"tabs\":[{\"id\":\"13713\"},{\"id\":\"13732\"}]},\"id\":\"13705\",\"type\":\"panel.models.tabs.Tabs\"},{\"attributes\":{\"args\":{\"bidirectional\":true,\"properties\":{\"value\":\"orientation\"},\"source\":{\"id\":\"13733\"},\"target\":{\"id\":\"13712\"}},\"code\":\"\\n    var value = source['orientation'];\\n    value = value;\\n    value = value;\\n    try {\\n      var property = target.properties['value'];\\n      if (property !== undefined) { property.validate(value); }\\n    } catch(err) {\\n      console.log('WARNING: Could not set value on target, raised error: ' + err);\\n      return;\\n    }\\n    try {\\n      target['value'] = value;\\n    } catch(err) {\\n      console.log(err)\\n    }\\n    \",\"tags\":[[140482307128240,[null,\"value\"],[null,\"orientation\"]]]},\"id\":\"13743\",\"type\":\"CustomJS\"},{\"attributes\":{\"js_property_callbacks\":{\"change:value\":[{\"id\":\"13748\"}]},\"margin\":[5,10,5,10],\"title\":\"Background\"},\"id\":\"13718\",\"type\":\"TextInput\"},{\"attributes\":{\"js_property_callbacks\":{\"change:value\":[{\"id\":\"13768\"}]},\"margin\":[5,10,5,10],\"options\":[[\"auto\",\"auto\"],[\"fixed\",\"fixed\"],[\"fit\",\"fit\"],[\"min\",\"min\"],[\"max\",\"max\"]],\"title\":\"Height policy\",\"value\":\"auto\"},\"id\":\"13728\",\"type\":\"panel.models.widgets.CustomSelect\"},{\"attributes\":{\"args\":{\"bidirectional\":true,\"properties\":{\"value\":\"height_policy\"},\"source\":{\"id\":\"13733\"},\"target\":{\"id\":\"13728\"}},\"code\":\"\\n    var value = source['height_policy'];\\n    value = value;\\n    value = value;\\n    try {\\n      var property = target.properties['value'];\\n      if (property !== undefined) { property.validate(value); }\\n    } catch(err) {\\n      console.log('WARNING: Could not set value on target, raised error: ' + err);\\n      return;\\n    }\\n    try {\\n      target['value'] = value;\\n    } catch(err) {\\n      console.log(err)\\n    }\\n    \",\"tags\":[[140482307278064,[null,\"value\"],[null,\"height_policy\"]]]},\"id\":\"13769\",\"type\":\"CustomJS\"},{\"attributes\":{\"js_property_callbacks\":{\"change:value\":[{\"id\":\"13752\"}]},\"low\":0,\"margin\":[5,10,5,10],\"mode\":\"int\",\"placeholder\":\"0\",\"title\":\"Width\"},\"id\":\"13720\",\"type\":\"Spinner\"},{\"attributes\":{\"args\":{\"bidirectional\":true,\"properties\":{\"value\":\"height_policy\"},\"source\":{\"id\":\"13728\"},\"target\":{\"id\":\"13733\"}},\"code\":\"\\n    var value = source['value'];\\n    value = value;\\n    value = value;\\n    try {\\n      var property = target.properties['height_policy'];\\n      if (property !== undefined) { property.validate(value); }\\n    } catch(err) {\\n      console.log('WARNING: Could not set height_policy on target, raised error: ' + err);\\n      return;\\n    }\\n    try {\\n      target['height_policy'] = value;\\n    } catch(err) {\\n      console.log(err)\\n    }\\n    \",\"tags\":[[140482307278064,[null,\"value\"],[null,\"height_policy\"]]]},\"id\":\"13768\",\"type\":\"CustomJS\"},{\"attributes\":{\"js_property_callbacks\":{\"change:value\":[{\"id\":\"13756\"}]},\"low\":0,\"margin\":[5,10,5,10],\"mode\":\"int\",\"placeholder\":\"0\",\"title\":\"Min width\"},\"id\":\"13722\",\"type\":\"Spinner\"},{\"attributes\":{\"js_property_callbacks\":{\"change:value\":[{\"id\":\"13762\"}]},\"low\":0,\"margin\":[5,10,5,10],\"mode\":\"int\",\"placeholder\":\"0\",\"title\":\"Max height\"},\"id\":\"13725\",\"type\":\"Spinner\"},{\"attributes\":{\"js_property_callbacks\":{\"change:value\":[{\"id\":\"13764\"}]},\"margin\":[5,10,5,10],\"title\":\"Margin\",\"value\":\"[5, 10]\"},\"id\":\"13726\",\"type\":\"TextInput\"},{\"attributes\":{\"js_property_callbacks\":{\"change:value\":[{\"id\":\"13750\"}]},\"margin\":[5,10,5,10],\"title\":\"Css classes\"},\"id\":\"13719\",\"type\":\"TextInput\"},{\"attributes\":{\"args\":{\"bidirectional\":true,\"properties\":{\"value\":\"visible\"},\"source\":{\"id\":\"13730\"},\"target\":{\"id\":\"13733\"}},\"code\":\"\\n    var value = source['active'];\\n    value = value.indexOf(0) >= 0;\\n    value = value;\\n    try {\\n      var property = target.properties['visible'];\\n      if (property !== undefined) { property.validate(value); }\\n    } catch(err) {\\n      console.log('WARNING: Could not set visible on target, raised error: ' + err);\\n      return;\\n    }\\n    try {\\n      target['visible'] = value;\\n    } catch(err) {\\n      console.log(err)\\n    }\\n    \",\"tags\":[[140482307280656,[null,\"active\"],[null,\"visible\"]]]},\"id\":\"13772\",\"type\":\"CustomJS\"},{\"attributes\":{\"args\":{\"bidirectional\":true,\"properties\":{\"value\":\"background\"},\"source\":{\"id\":\"13718\"},\"target\":{\"id\":\"13733\"}},\"code\":\"\\n    var value = source['value'];\\n    value = JSON.parse(value.replace(/'/g, '\\\"'));\\n    value = value;\\n    try {\\n      var property = target.properties['background'];\\n      if (property !== undefined) { property.validate(value); }\\n    } catch(err) {\\n      console.log('WARNING: Could not set background on target, raised error: ' + err);\\n      return;\\n    }\\n    try {\\n      target['background'] = value;\\n    } catch(err) {\\n      console.log(err)\\n    }\\n    \",\"tags\":[[140482307286368,[null,\"value\"],[null,\"background\"]]]},\"id\":\"13748\",\"type\":\"CustomJS\"},{\"attributes\":{\"child\":{\"id\":\"13714\"},\"name\":\"Layout\",\"title\":\"Layout\"},\"id\":\"13732\",\"type\":\"Panel\"},{\"attributes\":{\"children\":[{\"id\":\"13705\"},{\"id\":\"13733\"}],\"margin\":[0,0,0,0],\"name\":\"Row24698\"},\"id\":\"13704\",\"type\":\"Row\"},{\"attributes\":{\"active\":[0],\"js_property_callbacks\":{\"change:active\":[{\"id\":\"13772\"}]},\"labels\":[\"Visible\"],\"margin\":[5,10,5,10]},\"id\":\"13730\",\"type\":\"CheckboxGroup\"},{\"attributes\":{\"args\":{\"bidirectional\":true,\"properties\":{\"value\":\"css_classes\"},\"source\":{\"id\":\"13719\"},\"target\":{\"id\":\"13733\"}},\"code\":\"\\n    var value = source['value'];\\n    value = JSON.parse(value.replace(/'/g, '\\\"'));\\n    value = value;\\n    try {\\n      var property = target.properties['css_classes'];\\n      if (property !== undefined) { property.validate(value); }\\n    } catch(err) {\\n      console.log('WARNING: Could not set css_classes on target, raised error: ' + err);\\n      return;\\n    }\\n    try {\\n      target['css_classes'] = value;\\n    } catch(err) {\\n      console.log(err)\\n    }\\n    \",\"tags\":[[140482307286416,[null,\"value\"],[null,\"css_classes\"]]]},\"id\":\"13750\",\"type\":\"CustomJS\"},{\"attributes\":{\"active\":0,\"button_type\":\"success\",\"js_property_callbacks\":{\"change:active\":[{\"id\":\"13741\"}],\"change:align\":[{\"id\":\"13745\"}],\"change:aspect_ratio\":[{\"id\":\"13747\"}],\"change:background\":[{\"id\":\"13749\"}],\"change:button_type\":[{\"id\":\"13737\"}],\"change:css_classes\":[{\"id\":\"13751\"}],\"change:disabled\":[{\"id\":\"13735\"}],\"change:height\":[{\"id\":\"13755\"}],\"change:height_policy\":[{\"id\":\"13769\"}],\"change:labels\":[{\"id\":\"13739\"}],\"change:margin\":[{\"id\":\"13765\"}],\"change:max_height\":[{\"id\":\"13763\"}],\"change:max_width\":[{\"id\":\"13761\"}],\"change:min_height\":[{\"id\":\"13759\"}],\"change:min_width\":[{\"id\":\"13757\"}],\"change:orientation\":[{\"id\":\"13743\"}],\"change:sizing_mode\":[{\"id\":\"13771\"}],\"change:visible\":[{\"id\":\"13773\"}],\"change:width\":[{\"id\":\"13753\"}],\"change:width_policy\":[{\"id\":\"13767\"}]},\"labels\":[\"Happiness score\",\"Log GDP per capita\",\"Social support\",\"Healthy life expectancy\",\"Freedom to make life choices\",\"Generosity\",\"Perceptions of corruption\",\"Dystopia + residual\"],\"margin\":[5,10,5,10]},\"id\":\"13733\",\"type\":\"RadioButtonGroup\"},{\"attributes\":{\"args\":{\"bidirectional\":true,\"properties\":{\"value\":\"align\"},\"source\":{\"id\":\"13733\"},\"target\":{\"id\":\"13716\"}},\"code\":\"\\n    var value = source['align'];\\n    value = value;\\n    value = JSON.stringify(value).replace(/,/g, \\\",\\\").replace(/:/g, \\\": \\\");\\n    try {\\n      var property = target.properties['value'];\\n      if (property !== undefined) { property.validate(value); }\\n    } catch(err) {\\n      console.log('WARNING: Could not set value on target, raised error: ' + err);\\n      return;\\n    }\\n    try {\\n      target['value'] = value;\\n    } catch(err) {\\n      console.log(err)\\n    }\\n    \",\"tags\":[[140482307125216,[null,\"value\"],[null,\"align\"]]]},\"id\":\"13745\",\"type\":\"CustomJS\"},{\"attributes\":{\"js_property_callbacks\":{\"change:value\":[{\"id\":\"13738\"}]},\"margin\":[5,10,5,10],\"title\":\"Options\",\"value\":\"[\\\"Happiness score\\\", \\\"Log GDP per capita\\\", \\\"Social support\\\", \\\"Healthy life expectancy\\\", \\\"Freedom to make life choices\\\", \\\"Generosity\\\", \\\"Perceptions of corruption\\\", \\\"Dystopia + residual\\\"]\"},\"id\":\"13710\",\"type\":\"TextInput\"},{\"attributes\":{\"js_property_callbacks\":{\"change:value\":[{\"id\":\"13740\"}]},\"margin\":[5,10,5,10],\"title\":\"Value\",\"value\":\"'Happiness score'\"},\"id\":\"13711\",\"type\":\"TextInput\"},{\"attributes\":{\"args\":{\"bidirectional\":true,\"properties\":{\"value\":\"sizing_mode\"},\"source\":{\"id\":\"13729\"},\"target\":{\"id\":\"13733\"}},\"code\":\"\\n    var value = source['value'];\\n    value = value;\\n    value = value;\\n    try {\\n      var property = target.properties['sizing_mode'];\\n      if (property !== undefined) { property.validate(value); }\\n    } catch(err) {\\n      console.log('WARNING: Could not set sizing_mode on target, raised error: ' + err);\\n      return;\\n    }\\n    try {\\n      target['sizing_mode'] = value;\\n    } catch(err) {\\n      console.log(err)\\n    }\\n    \",\"tags\":[[140482307281232,[null,\"value\"],[null,\"sizing_mode\"]]]},\"id\":\"13770\",\"type\":\"CustomJS\"},{\"attributes\":{\"args\":{\"bidirectional\":true,\"properties\":{\"value\":\"aspect_ratio\"},\"source\":{\"id\":\"13717\"},\"target\":{\"id\":\"13733\"}},\"code\":\"\\n    var value = source['value'];\\n    value = JSON.parse(value.replace(/'/g, '\\\"'));\\n    value = value;\\n    try {\\n      var property = target.properties['aspect_ratio'];\\n      if (property !== undefined) { property.validate(value); }\\n    } catch(err) {\\n      console.log('WARNING: Could not set aspect_ratio on target, raised error: ' + err);\\n      return;\\n    }\\n    try {\\n      target['aspect_ratio'] = value;\\n    } catch(err) {\\n      console.log(err)\\n    }\\n    \",\"tags\":[[140482307286080,[null,\"value\"],[null,\"aspect_ratio\"]]]},\"id\":\"13746\",\"type\":\"CustomJS\"},{\"attributes\":{\"js_property_callbacks\":{\"change:value\":[{\"id\":\"13766\"}]},\"margin\":[5,10,5,10],\"options\":[[\"auto\",\"auto\"],[\"fixed\",\"fixed\"],[\"fit\",\"fit\"],[\"min\",\"min\"],[\"max\",\"max\"]],\"title\":\"Width policy\",\"value\":\"auto\"},\"id\":\"13727\",\"type\":\"panel.models.widgets.CustomSelect\"},{\"attributes\":{\"args\":{\"bidirectional\":true,\"properties\":{\"value\":\"sizing_mode\"},\"source\":{\"id\":\"13733\"},\"target\":{\"id\":\"13729\"}},\"code\":\"\\n    var value = source['sizing_mode'];\\n    value = value;\\n    value = value;\\n    try {\\n      var property = target.properties['value'];\\n      if (property !== undefined) { property.validate(value); }\\n    } catch(err) {\\n      console.log('WARNING: Could not set value on target, raised error: ' + err);\\n      return;\\n    }\\n    try {\\n      target['value'] = value;\\n    } catch(err) {\\n      console.log(err)\\n    }\\n    \",\"tags\":[[140482307281232,[null,\"value\"],[null,\"sizing_mode\"]]]},\"id\":\"13771\",\"type\":\"CustomJS\"},{\"attributes\":{\"js_property_callbacks\":{\"change:value\":[{\"id\":\"13770\"}]},\"margin\":[5,10,5,10],\"options\":[[\"fixed\",\"fixed\"],[\"stretch_width\",\"stretch_width\"],[\"stretch_height\",\"stretch_height\"],[\"stretch_both\",\"stretch_both\"],[\"scale_width\",\"scale_width\"],[\"scale_height\",\"scale_height\"],[\"scale_both\",\"scale_both\"],[\"None\",\"None\"]],\"title\":\"Sizing mode\"},\"id\":\"13729\",\"type\":\"panel.models.widgets.CustomSelect\"},{\"attributes\":{\"js_property_callbacks\":{\"change:value\":[{\"id\":\"13736\"}]},\"margin\":[5,10,5,10],\"options\":[[\"default\",\"default\"],[\"primary\",\"primary\"],[\"success\",\"success\"],[\"warning\",\"warning\"],[\"danger\",\"danger\"],[\"light\",\"light\"]],\"title\":\"Button type\",\"value\":\"success\"},\"id\":\"13709\",\"type\":\"panel.models.widgets.CustomSelect\"},{\"attributes\":{\"js_property_callbacks\":{\"change:active\":[{\"id\":\"13774\"}]},\"labels\":[\"Loading\"],\"margin\":[5,10,5,10]},\"id\":\"13731\",\"type\":\"CheckboxGroup\"},{\"attributes\":{\"args\":{\"bidirectional\":true,\"properties\":{\"value\":\"visible\"},\"source\":{\"id\":\"13733\"},\"target\":{\"id\":\"13730\"}},\"code\":\"\\n    var value = source['visible'];\\n    value = value;\\n    value = value ? [0] : [];\\n    try {\\n      var property = target.properties['active'];\\n      if (property !== undefined) { property.validate(value); }\\n    } catch(err) {\\n      console.log('WARNING: Could not set active on target, raised error: ' + err);\\n      return;\\n    }\\n    try {\\n      target['active'] = value;\\n    } catch(err) {\\n      console.log(err)\\n    }\\n    \",\"tags\":[[140482307280656,[null,\"active\"],[null,\"visible\"]]]},\"id\":\"13773\",\"type\":\"CustomJS\"},{\"attributes\":{\"args\":{\"bidirectional\":false,\"properties\":{\"value\":\"loading\"},\"source\":{\"id\":\"13731\"},\"target\":{\"id\":\"13733\"}},\"code\":\"\\n    if ('active'.startsWith('event:')) {\\n      var value = true\\n    } else {\\n      var value = source['active'];\\n      value = value.indexOf(0) >= 0;\\n    }\\n    if (typeof value !== 'boolean' || source.labels !== ['Loading']) {\\n      value = true\\n    }\\n    var css_classes = target.css_classes.slice()\\n    var loading_css = ['pn-loading', 'arc']\\n    if (value) {\\n      for (var css of loading_css) {\\n        if (!(css in css_classes)) {\\n          css_classes.push(css)\\n        }\\n      }\\n    } else {\\n     for (var css of loading_css) {\\n        var index = css_classes.indexOf(css)\\n        if (index > -1) {\\n          css_classes.splice(index, 1)\\n        }\\n      }\\n    }\\n    target['css_classes'] = css_classes\\n    \",\"tags\":[[140482307281472,[null,\"active\"],[null,\"loading\"]]]},\"id\":\"13774\",\"type\":\"CustomJS\"},{\"attributes\":{\"js_property_callbacks\":{\"change:value\":[{\"id\":\"13758\"}]},\"low\":0,\"margin\":[5,10,5,10],\"mode\":\"int\",\"placeholder\":\"0\",\"title\":\"Min height\"},\"id\":\"13723\",\"type\":\"Spinner\"},{\"attributes\":{\"margin\":[5,10,5,10],\"name\":\"\",\"text\":\"<b>Controls</b>\"},\"id\":\"13707\",\"type\":\"Div\"},{\"attributes\":{\"args\":{\"bidirectional\":true,\"properties\":{\"value\":\"background\"},\"source\":{\"id\":\"13733\"},\"target\":{\"id\":\"13718\"}},\"code\":\"\\n    var value = source['background'];\\n    value = value;\\n    value = JSON.stringify(value).replace(/,/g, \\\",\\\").replace(/:/g, \\\": \\\");\\n    try {\\n      var property = target.properties['value'];\\n      if (property !== undefined) { property.validate(value); }\\n    } catch(err) {\\n      console.log('WARNING: Could not set value on target, raised error: ' + err);\\n      return;\\n    }\\n    try {\\n      target['value'] = value;\\n    } catch(err) {\\n      console.log(err)\\n    }\\n    \",\"tags\":[[140482307286368,[null,\"value\"],[null,\"background\"]]]},\"id\":\"13749\",\"type\":\"CustomJS\"},{\"attributes\":{\"children\":[{\"id\":\"13707\"},{\"id\":\"13708\"},{\"id\":\"13709\"},{\"id\":\"13710\"},{\"id\":\"13711\"},{\"id\":\"13712\"}],\"css_classes\":[\"panel-widget-box\"],\"margin\":[5,5,5,5],\"min_width\":300,\"name\":\"Controls\",\"width\":300},\"id\":\"13706\",\"type\":\"Column\"},{\"attributes\":{\"args\":{\"bidirectional\":true,\"properties\":{\"value\":\"aspect_ratio\"},\"source\":{\"id\":\"13733\"},\"target\":{\"id\":\"13717\"}},\"code\":\"\\n    var value = source['aspect_ratio'];\\n    value = value;\\n    value = JSON.stringify(value).replace(/,/g, \\\",\\\").replace(/:/g, \\\": \\\");\\n    try {\\n      var property = target.properties['value'];\\n      if (property !== undefined) { property.validate(value); }\\n    } catch(err) {\\n      console.log('WARNING: Could not set value on target, raised error: ' + err);\\n      return;\\n    }\\n    try {\\n      target['value'] = value;\\n    } catch(err) {\\n      console.log(err)\\n    }\\n    \",\"tags\":[[140482307286080,[null,\"value\"],[null,\"aspect_ratio\"]]]},\"id\":\"13747\",\"type\":\"CustomJS\"},{\"attributes\":{\"js_property_callbacks\":{\"change:active\":[{\"id\":\"13734\"}]},\"labels\":[\"Disabled\"],\"margin\":[5,10,5,10]},\"id\":\"13708\",\"type\":\"CheckboxGroup\"},{\"attributes\":{\"args\":{\"bidirectional\":true,\"properties\":{\"value\":\"disabled\"},\"source\":{\"id\":\"13708\"},\"target\":{\"id\":\"13733\"}},\"code\":\"\\n    var value = source['active'];\\n    value = value.indexOf(0) >= 0;\\n    value = value;\\n    try {\\n      var property = target.properties['disabled'];\\n      if (property !== undefined) { property.validate(value); }\\n    } catch(err) {\\n      console.log('WARNING: Could not set disabled on target, raised error: ' + err);\\n      return;\\n    }\\n    try {\\n      target['disabled'] = value;\\n    } catch(err) {\\n      console.log(err)\\n    }\\n    \",\"tags\":[[140482307124304,[null,\"active\"],[null,\"disabled\"]]]},\"id\":\"13734\",\"type\":\"CustomJS\"},{\"attributes\":{\"margin\":[5,10,5,10],\"name\":\"\",\"text\":\"<b>Layout</b>\"},\"id\":\"13715\",\"type\":\"Div\"},{\"attributes\":{\"args\":{\"bidirectional\":true,\"properties\":{\"value\":\"options\"},\"source\":{\"id\":\"13710\"},\"target\":{\"id\":\"13733\"}},\"code\":\"\\n    var value = source['value'];\\n    value = JSON.parse(value.replace(/'/g, '\\\"'));\\n    value = value;\\n    try {\\n      var property = target.properties['labels'];\\n      if (property !== undefined) { property.validate(value); }\\n    } catch(err) {\\n      console.log('WARNING: Could not set labels on target, raised error: ' + err);\\n      return;\\n    }\\n    try {\\n      target['labels'] = value;\\n    } catch(err) {\\n      console.log(err)\\n    }\\n    \",\"tags\":[[140482307128144,[null,\"value\"],[null,\"labels\"]]]},\"id\":\"13738\",\"type\":\"CustomJS\"},{\"attributes\":{\"js_property_callbacks\":{\"change:value\":[{\"id\":\"13754\"}]},\"low\":0,\"margin\":[5,10,5,10],\"mode\":\"int\",\"placeholder\":\"0\",\"title\":\"Height\"},\"id\":\"13721\",\"type\":\"Spinner\"},{\"attributes\":{\"js_property_callbacks\":{\"change:value\":[{\"id\":\"13746\"}]},\"margin\":[5,10,5,10],\"title\":\"Aspect ratio\"},\"id\":\"13717\",\"type\":\"TextInput\"},{\"attributes\":{\"args\":{\"bidirectional\":true,\"properties\":{\"value\":\"width\"},\"source\":{\"id\":\"13720\"},\"target\":{\"id\":\"13733\"}},\"code\":\"\\n    var value = source['value'];\\n    value = value;\\n    value = value;\\n    try {\\n      var property = target.properties['width'];\\n      if (property !== undefined) { property.validate(value); }\\n    } catch(err) {\\n      console.log('WARNING: Could not set width on target, raised error: ' + err);\\n      return;\\n    }\\n    try {\\n      target['width'] = value;\\n    } catch(err) {\\n      console.log(err)\\n    }\\n    \",\"tags\":[[140482307286320,[null,\"value\"],[null,\"width\"]]]},\"id\":\"13752\",\"type\":\"CustomJS\"},{\"attributes\":{\"args\":{\"bidirectional\":true,\"properties\":{\"value\":\"disabled\"},\"source\":{\"id\":\"13733\"},\"target\":{\"id\":\"13708\"}},\"code\":\"\\n    var value = source['disabled'];\\n    value = value;\\n    value = value ? [0] : [];\\n    try {\\n      var property = target.properties['active'];\\n      if (property !== undefined) { property.validate(value); }\\n    } catch(err) {\\n      console.log('WARNING: Could not set active on target, raised error: ' + err);\\n      return;\\n    }\\n    try {\\n      target['active'] = value;\\n    } catch(err) {\\n      console.log(err)\\n    }\\n    \",\"tags\":[[140482307124304,[null,\"active\"],[null,\"disabled\"]]]},\"id\":\"13735\",\"type\":\"CustomJS\"},{\"attributes\":{\"args\":{\"bidirectional\":true,\"properties\":{\"value\":\"button_type\"},\"source\":{\"id\":\"13709\"},\"target\":{\"id\":\"13733\"}},\"code\":\"\\n    var value = source['value'];\\n    value = value;\\n    value = value;\\n    try {\\n      var property = target.properties['button_type'];\\n      if (property !== undefined) { property.validate(value); }\\n    } catch(err) {\\n      console.log('WARNING: Could not set button_type on target, raised error: ' + err);\\n      return;\\n    }\\n    try {\\n      target['button_type'] = value;\\n    } catch(err) {\\n      console.log(err)\\n    }\\n    \",\"tags\":[[140482307123920,[null,\"value\"],[null,\"button_type\"]]]},\"id\":\"13736\",\"type\":\"CustomJS\"},{\"attributes\":{\"args\":{\"bidirectional\":true,\"properties\":{\"value\":\"width\"},\"source\":{\"id\":\"13733\"},\"target\":{\"id\":\"13720\"}},\"code\":\"\\n    var value = source['width'];\\n    value = value;\\n    value = value;\\n    try {\\n      var property = target.properties['value'];\\n      if (property !== undefined) { property.validate(value); }\\n    } catch(err) {\\n      console.log('WARNING: Could not set value on target, raised error: ' + err);\\n      return;\\n    }\\n    try {\\n      target['value'] = value;\\n    } catch(err) {\\n      console.log(err)\\n    }\\n    \",\"tags\":[[140482307286320,[null,\"value\"],[null,\"width\"]]]},\"id\":\"13753\",\"type\":\"CustomJS\"},{\"attributes\":{\"args\":{\"bidirectional\":true,\"properties\":{\"value\":\"orientation\"},\"source\":{\"id\":\"13712\"},\"target\":{\"id\":\"13733\"}},\"code\":\"\\n    var value = source['value'];\\n    value = value;\\n    value = value;\\n    try {\\n      var property = target.properties['orientation'];\\n      if (property !== undefined) { property.validate(value); }\\n    } catch(err) {\\n      console.log('WARNING: Could not set orientation on target, raised error: ' + err);\\n      return;\\n    }\\n    try {\\n      target['orientation'] = value;\\n    } catch(err) {\\n      console.log(err)\\n    }\\n    \",\"tags\":[[140482307128240,[null,\"value\"],[null,\"orientation\"]]]},\"id\":\"13742\",\"type\":\"CustomJS\"},{\"attributes\":{\"args\":{\"bidirectional\":true,\"properties\":{\"value\":\"min_width\"},\"source\":{\"id\":\"13722\"},\"target\":{\"id\":\"13733\"}},\"code\":\"\\n    var value = source['value'];\\n    value = value;\\n    value = value;\\n    try {\\n      var property = target.properties['min_width'];\\n      if (property !== undefined) { property.validate(value); }\\n    } catch(err) {\\n      console.log('WARNING: Could not set min_width on target, raised error: ' + err);\\n      return;\\n    }\\n    try {\\n      target['min_width'] = value;\\n    } catch(err) {\\n      console.log(err)\\n    }\\n    \",\"tags\":[[140482307286512,[null,\"value\"],[null,\"min_width\"]]]},\"id\":\"13756\",\"type\":\"CustomJS\"},{\"attributes\":{\"args\":{\"bidirectional\":true,\"properties\":{\"value\":\"margin\"},\"source\":{\"id\":\"13733\"},\"target\":{\"id\":\"13726\"}},\"code\":\"\\n    var value = source['margin'];\\n    value = value;\\n    value = JSON.stringify(value).replace(/,/g, \\\",\\\").replace(/:/g, \\\": \\\");\\n    try {\\n      var property = target.properties['value'];\\n      if (property !== undefined) { property.validate(value); }\\n    } catch(err) {\\n      console.log('WARNING: Could not set value on target, raised error: ' + err);\\n      return;\\n    }\\n    try {\\n      target['value'] = value;\\n    } catch(err) {\\n      console.log(err)\\n    }\\n    \",\"tags\":[[140482307280416,[null,\"value\"],[null,\"margin\"]]]},\"id\":\"13765\",\"type\":\"CustomJS\"},{\"attributes\":{\"args\":{\"bidirectional\":true,\"properties\":{\"value\":\"height\"},\"source\":{\"id\":\"13721\"},\"target\":{\"id\":\"13733\"}},\"code\":\"\\n    var value = source['value'];\\n    value = value;\\n    value = value;\\n    try {\\n      var property = target.properties['height'];\\n      if (property !== undefined) { property.validate(value); }\\n    } catch(err) {\\n      console.log('WARNING: Could not set height on target, raised error: ' + err);\\n      return;\\n    }\\n    try {\\n      target['height'] = value;\\n    } catch(err) {\\n      console.log(err)\\n    }\\n    \",\"tags\":[[140482307286272,[null,\"value\"],[null,\"height\"]]]},\"id\":\"13754\",\"type\":\"CustomJS\"},{\"attributes\":{\"args\":{\"bidirectional\":true,\"properties\":{\"value\":\"button_type\"},\"source\":{\"id\":\"13733\"},\"target\":{\"id\":\"13709\"}},\"code\":\"\\n    var value = source['button_type'];\\n    value = value;\\n    value = value;\\n    try {\\n      var property = target.properties['value'];\\n      if (property !== undefined) { property.validate(value); }\\n    } catch(err) {\\n      console.log('WARNING: Could not set value on target, raised error: ' + err);\\n      return;\\n    }\\n    try {\\n      target['value'] = value;\\n    } catch(err) {\\n      console.log(err)\\n    }\\n    \",\"tags\":[[140482307123920,[null,\"value\"],[null,\"button_type\"]]]},\"id\":\"13737\",\"type\":\"CustomJS\"},{\"attributes\":{\"args\":{\"bidirectional\":true,\"properties\":{\"value\":\"min_width\"},\"source\":{\"id\":\"13733\"},\"target\":{\"id\":\"13722\"}},\"code\":\"\\n    var value = source['min_width'];\\n    value = value;\\n    value = value;\\n    try {\\n      var property = target.properties['value'];\\n      if (property !== undefined) { property.validate(value); }\\n    } catch(err) {\\n      console.log('WARNING: Could not set value on target, raised error: ' + err);\\n      return;\\n    }\\n    try {\\n      target['value'] = value;\\n    } catch(err) {\\n      console.log(err)\\n    }\\n    \",\"tags\":[[140482307286512,[null,\"value\"],[null,\"min_width\"]]]},\"id\":\"13757\",\"type\":\"CustomJS\"},{\"attributes\":{\"args\":{\"bidirectional\":true,\"properties\":{\"value\":\"options\"},\"source\":{\"id\":\"13733\"},\"target\":{\"id\":\"13710\"}},\"code\":\"\\n    var value = source['labels'];\\n    value = value;\\n    value = JSON.stringify(value).replace(/,/g, \\\",\\\").replace(/:/g, \\\": \\\");\\n    try {\\n      var property = target.properties['value'];\\n      if (property !== undefined) { property.validate(value); }\\n    } catch(err) {\\n      console.log('WARNING: Could not set value on target, raised error: ' + err);\\n      return;\\n    }\\n    try {\\n      target['value'] = value;\\n    } catch(err) {\\n      console.log(err)\\n    }\\n    \",\"tags\":[[140482307128144,[null,\"value\"],[null,\"labels\"]]]},\"id\":\"13739\",\"type\":\"CustomJS\"},{\"attributes\":{\"args\":{\"bidirectional\":true,\"properties\":{\"value\":\"min_height\"},\"source\":{\"id\":\"13723\"},\"target\":{\"id\":\"13733\"}},\"code\":\"\\n    var value = source['value'];\\n    value = value;\\n    value = value;\\n    try {\\n      var property = target.properties['min_height'];\\n      if (property !== undefined) { property.validate(value); }\\n    } catch(err) {\\n      console.log('WARNING: Could not set min_height on target, raised error: ' + err);\\n      return;\\n    }\\n    try {\\n      target['min_height'] = value;\\n    } catch(err) {\\n      console.log(err)\\n    }\\n    \",\"tags\":[[140482307286176,[null,\"value\"],[null,\"min_height\"]]]},\"id\":\"13758\",\"type\":\"CustomJS\"},{\"attributes\":{\"args\":{\"bidirectional\":true,\"properties\":{\"value\":\"height\"},\"source\":{\"id\":\"13733\"},\"target\":{\"id\":\"13721\"}},\"code\":\"\\n    var value = source['height'];\\n    value = value;\\n    value = value;\\n    try {\\n      var property = target.properties['value'];\\n      if (property !== undefined) { property.validate(value); }\\n    } catch(err) {\\n      console.log('WARNING: Could not set value on target, raised error: ' + err);\\n      return;\\n    }\\n    try {\\n      target['value'] = value;\\n    } catch(err) {\\n      console.log(err)\\n    }\\n    \",\"tags\":[[140482307286272,[null,\"value\"],[null,\"height\"]]]},\"id\":\"13755\",\"type\":\"CustomJS\"},{\"attributes\":{\"args\":{\"bidirectional\":true,\"properties\":{\"value\":\"min_height\"},\"source\":{\"id\":\"13733\"},\"target\":{\"id\":\"13723\"}},\"code\":\"\\n    var value = source['min_height'];\\n    value = value;\\n    value = value;\\n    try {\\n      var property = target.properties['value'];\\n      if (property !== undefined) { property.validate(value); }\\n    } catch(err) {\\n      console.log('WARNING: Could not set value on target, raised error: ' + err);\\n      return;\\n    }\\n    try {\\n      target['value'] = value;\\n    } catch(err) {\\n      console.log(err)\\n    }\\n    \",\"tags\":[[140482307286176,[null,\"value\"],[null,\"min_height\"]]]},\"id\":\"13759\",\"type\":\"CustomJS\"},{\"attributes\":{\"child\":{\"id\":\"13706\"},\"name\":\"Controls\",\"title\":\"Controls\"},\"id\":\"13713\",\"type\":\"Panel\"},{\"attributes\":{\"args\":{\"bidirectional\":true,\"properties\":{\"value\":\"max_width\"},\"source\":{\"id\":\"13724\"},\"target\":{\"id\":\"13733\"}},\"code\":\"\\n    var value = source['value'];\\n    value = value;\\n    value = value;\\n    try {\\n      var property = target.properties['max_width'];\\n      if (property !== undefined) { property.validate(value); }\\n    } catch(err) {\\n      console.log('WARNING: Could not set max_width on target, raised error: ' + err);\\n      return;\\n    }\\n    try {\\n      target['max_width'] = value;\\n    } catch(err) {\\n      console.log(err)\\n    }\\n    \",\"tags\":[[140482307286464,[null,\"value\"],[null,\"max_width\"]]]},\"id\":\"13760\",\"type\":\"CustomJS\"},{\"attributes\":{\"js_property_callbacks\":{\"change:value\":[{\"id\":\"13760\"}]},\"low\":0,\"margin\":[5,10,5,10],\"mode\":\"int\",\"placeholder\":\"0\",\"title\":\"Max width\"},\"id\":\"13724\",\"type\":\"Spinner\"},{\"attributes\":{\"args\":{\"bidirectional\":true,\"properties\":{\"value\":\"max_width\"},\"source\":{\"id\":\"13733\"},\"target\":{\"id\":\"13724\"}},\"code\":\"\\n    var value = source['max_width'];\\n    value = value;\\n    value = value;\\n    try {\\n      var property = target.properties['value'];\\n      if (property !== undefined) { property.validate(value); }\\n    } catch(err) {\\n      console.log('WARNING: Could not set value on target, raised error: ' + err);\\n      return;\\n    }\\n    try {\\n      target['value'] = value;\\n    } catch(err) {\\n      console.log(err)\\n    }\\n    \",\"tags\":[[140482307286464,[null,\"value\"],[null,\"max_width\"]]]},\"id\":\"13761\",\"type\":\"CustomJS\"},{\"attributes\":{\"js_property_callbacks\":{\"change:value\":[{\"id\":\"13742\"}]},\"margin\":[5,10,5,10],\"options\":[[\"horizontal\",\"horizontal\"],[\"vertical\",\"vertical\"]],\"title\":\"Orientation\",\"value\":\"horizontal\"},\"id\":\"13712\",\"type\":\"panel.models.widgets.CustomSelect\"},{\"attributes\":{\"args\":{\"bidirectional\":true,\"properties\":{\"value\":\"max_height\"},\"source\":{\"id\":\"13725\"},\"target\":{\"id\":\"13733\"}},\"code\":\"\\n    var value = source['value'];\\n    value = value;\\n    value = value;\\n    try {\\n      var property = target.properties['max_height'];\\n      if (property !== undefined) { property.validate(value); }\\n    } catch(err) {\\n      console.log('WARNING: Could not set max_height on target, raised error: ' + err);\\n      return;\\n    }\\n    try {\\n      target['max_height'] = value;\\n    } catch(err) {\\n      console.log(err)\\n    }\\n    \",\"tags\":[[140482307286560,[null,\"value\"],[null,\"max_height\"]]]},\"id\":\"13762\",\"type\":\"CustomJS\"},{\"attributes\":{\"args\":{\"bidirectional\":true,\"properties\":{\"value\":\"width_policy\"},\"source\":{\"id\":\"13727\"},\"target\":{\"id\":\"13733\"}},\"code\":\"\\n    var value = source['value'];\\n    value = value;\\n    value = value;\\n    try {\\n      var property = target.properties['width_policy'];\\n      if (property !== undefined) { property.validate(value); }\\n    } catch(err) {\\n      console.log('WARNING: Could not set width_policy on target, raised error: ' + err);\\n      return;\\n    }\\n    try {\\n      target['width_policy'] = value;\\n    } catch(err) {\\n      console.log(err)\\n    }\\n    \",\"tags\":[[140482307279984,[null,\"value\"],[null,\"width_policy\"]]]},\"id\":\"13766\",\"type\":\"CustomJS\"},{\"attributes\":{\"client_comm_id\":\"f1585cae74e94f61a767f7fd779ffd3e\",\"comm_id\":\"bfa4ce3dde7a478283087c0af513d02e\",\"plot_id\":\"13704\"},\"id\":\"13775\",\"type\":\"panel.models.comm_manager.CommManager\"},{\"attributes\":{\"args\":{\"bidirectional\":true,\"properties\":{\"value\":\"value\"},\"source\":{\"id\":\"13711\"},\"target\":{\"id\":\"13733\"}},\"code\":\"\\n    var value = source['value'];\\n    value = JSON.parse(value.replace(/'/g, '\\\"'));\\n    value = target.labels.indexOf(value);\\n    try {\\n      var property = target.properties['active'];\\n      if (property !== undefined) { property.validate(value); }\\n    } catch(err) {\\n      console.log('WARNING: Could not set active on target, raised error: ' + err);\\n      return;\\n    }\\n    try {\\n      target['active'] = value;\\n    } catch(err) {\\n      console.log(err)\\n    }\\n    \",\"tags\":[[140482307120944,[null,\"value\"],[null,\"active\"]]]},\"id\":\"13740\",\"type\":\"CustomJS\"},{\"attributes\":{\"args\":{\"bidirectional\":true,\"properties\":{\"value\":\"max_height\"},\"source\":{\"id\":\"13733\"},\"target\":{\"id\":\"13725\"}},\"code\":\"\\n    var value = source['max_height'];\\n    value = value;\\n    value = value;\\n    try {\\n      var property = target.properties['value'];\\n      if (property !== undefined) { property.validate(value); }\\n    } catch(err) {\\n      console.log('WARNING: Could not set value on target, raised error: ' + err);\\n      return;\\n    }\\n    try {\\n      target['value'] = value;\\n    } catch(err) {\\n      console.log(err)\\n    }\\n    \",\"tags\":[[140482307286560,[null,\"value\"],[null,\"max_height\"]]]},\"id\":\"13763\",\"type\":\"CustomJS\"},{\"attributes\":{\"js_property_callbacks\":{\"change:value\":[{\"id\":\"13744\"}]},\"margin\":[5,10,5,10],\"title\":\"Align\",\"value\":\"'start'\"},\"id\":\"13716\",\"type\":\"TextInput\"},{\"attributes\":{\"args\":{\"bidirectional\":true,\"properties\":{\"value\":\"margin\"},\"source\":{\"id\":\"13726\"},\"target\":{\"id\":\"13733\"}},\"code\":\"\\n    var value = source['value'];\\n    value = JSON.parse(value.replace(/'/g, '\\\"'));\\n    value = value;\\n    try {\\n      var property = target.properties['margin'];\\n      if (property !== undefined) { property.validate(value); }\\n    } catch(err) {\\n      console.log('WARNING: Could not set margin on target, raised error: ' + err);\\n      return;\\n    }\\n    try {\\n      target['margin'] = value;\\n    } catch(err) {\\n      console.log(err)\\n    }\\n    \",\"tags\":[[140482307280416,[null,\"value\"],[null,\"margin\"]]]},\"id\":\"13764\",\"type\":\"CustomJS\"},{\"attributes\":{\"args\":{\"bidirectional\":true,\"properties\":{\"value\":\"css_classes\"},\"source\":{\"id\":\"13733\"},\"target\":{\"id\":\"13719\"}},\"code\":\"\\n    var value = source['css_classes'];\\n    value = value;\\n    value = JSON.stringify(value).replace(/,/g, \\\",\\\").replace(/:/g, \\\": \\\");\\n    try {\\n      var property = target.properties['value'];\\n      if (property !== undefined) { property.validate(value); }\\n    } catch(err) {\\n      console.log('WARNING: Could not set value on target, raised error: ' + err);\\n      return;\\n    }\\n    try {\\n      target['value'] = value;\\n    } catch(err) {\\n      console.log(err)\\n    }\\n    \",\"tags\":[[140482307286416,[null,\"value\"],[null,\"css_classes\"]]]},\"id\":\"13751\",\"type\":\"CustomJS\"},{\"attributes\":{\"args\":{\"bidirectional\":true,\"properties\":{\"value\":\"value\"},\"source\":{\"id\":\"13733\"},\"target\":{\"id\":\"13711\"}},\"code\":\"\\n    var value = source['active'];\\n    value = source.labels[value];\\n    value = JSON.stringify(value).replace(/,/g, \\\",\\\").replace(/:/g, \\\": \\\");\\n    try {\\n      var property = target.properties['value'];\\n      if (property !== undefined) { property.validate(value); }\\n    } catch(err) {\\n      console.log('WARNING: Could not set value on target, raised error: ' + err);\\n      return;\\n    }\\n    try {\\n      target['value'] = value;\\n    } catch(err) {\\n      console.log(err)\\n    }\\n    \",\"tags\":[[140482307120944,[null,\"value\"],[null,\"active\"]]]},\"id\":\"13741\",\"type\":\"CustomJS\"}],\"root_ids\":[\"13704\",\"13775\"]},\"title\":\"Bokeh Application\",\"version\":\"2.4.3\"}};\n",
       "    var render_items = [{\"docid\":\"41e7ba55-9121-42f2-a411-1fc7afc6f8b9\",\"root_ids\":[\"13704\"],\"roots\":{\"13704\":\"e8f995d7-99bc-42f2-9b85-4e5135f57031\"}}];\n",
       "    root.Bokeh.embed.embed_items_notebook(docs_json, render_items);\n",
       "    for (const render_item of render_items) {\n",
       "      for (const root_id of render_item.root_ids) {\n",
       "\tconst id_el = document.getElementById(root_id)\n",
       "\tif (id_el.children.length && (id_el.children[0].className === 'bk-root')) {\n",
       "\t  const root_el = id_el.children[0]\n",
       "\t  root_el.id = root_el.id + '-rendered'\n",
       "\t}\n",
       "      }\n",
       "    }\n",
       "  }\n",
       "  if (root.Bokeh !== undefined && root.Bokeh.Panel !== undefined && ( root['Tabulator'] !== undefined) && ( root['Tabulator'] !== undefined)) {\n",
       "    embed_document(root);\n",
       "  } else {\n",
       "    var attempts = 0;\n",
       "    var timer = setInterval(function(root) {\n",
       "      if (root.Bokeh !== undefined && root.Bokeh.Panel !== undefined && (root['Tabulator'] !== undefined) && (root['Tabulator'] !== undefined)) {\n",
       "        clearInterval(timer);\n",
       "        embed_document(root);\n",
       "      } else if (document.readyState == \"complete\") {\n",
       "        attempts++;\n",
       "        if (attempts > 200) {\n",
       "          clearInterval(timer);\n",
       "          console.log(\"Bokeh: ERROR: Unable to run BokehJS code because BokehJS library is missing\");\n",
       "        }\n",
       "      }\n",
       "    }, 25, root)\n",
       "  }\n",
       "})(window);</script>"
      ],
      "text/plain": [
       "Row\n",
       "    [0] Tabs\n",
       "        [0] WidgetBox(name='Controls', width=300)\n",
       "            [0] StaticText(value='<b>Controls</b>')\n",
       "            [1] Checkbox(name='Disabled')\n",
       "            [2] Select(name='Button type', options=OrderedDict([('default', ...]), value='success')\n",
       "            [3] LiteralInput(name='Options', serializer='json', value=['Happiness score', ...])\n",
       "            [4] LiteralInput(name='Value', serializer='json', value='Happiness score')\n",
       "            [5] Select(name='Orientation', options=OrderedDict([('horizontal'...]), value='horizontal')\n",
       "        [1] WidgetBox(name='Layout', width=300)\n",
       "            [0] StaticText(value='<b>Layout</b>')\n",
       "            [1] LiteralInput(name='Align', serializer='json', value='start')\n",
       "            [2] LiteralInput(name='Aspect ratio', serializer='json')\n",
       "            [3] LiteralInput(name='Background', serializer='json')\n",
       "            [4] ListInput(name='Css classes', serializer='json', type=<class 'list'>)\n",
       "            [5] IntInput(name='Width', start=0)\n",
       "            [6] IntInput(name='Height', start=0)\n",
       "            [7] IntInput(name='Min width', start=0)\n",
       "            [8] IntInput(name='Min height', start=0)\n",
       "            [9] IntInput(name='Max width', start=0)\n",
       "            [10] IntInput(name='Max height', start=0)\n",
       "            [11] LiteralInput(name='Margin', serializer='json', value=(5, 10))\n",
       "            [12] Select(name='Width policy', options=OrderedDict([('auto', ...]), value='auto')\n",
       "            [13] Select(name='Height policy', options=OrderedDict([('auto', ...]), value='auto')\n",
       "            [14] Select(name='Sizing mode', options=OrderedDict([('fixed', ...]))\n",
       "            [15] Checkbox(name='Visible', value=True)\n",
       "            [16] Checkbox(name='Loading')\n",
       "    [1] RadioButtonGroup(button_type='success', name='Y axis', options=['Happiness score', ...], value='Happiness score')"
      ]
     },
     "execution_count": 40,
     "metadata": {
      "application/vnd.holoviews_exec.v0+json": {
       "id": "13704"
      }
     },
     "output_type": "execute_result"
    }
   ],
   "source": [
    "# Controlor\n",
    "pn.Row(yaxis_co2.controls(jslink=True), yaxis_co2)"
   ]
  },
  {
   "cell_type": "markdown",
   "metadata": {
    "id": "TCqL6Yw1y2T2"
   },
   "source": [
    "### 1 Dashboard: Sortable table"
   ]
  },
  {
   "cell_type": "code",
   "execution_count": 41,
   "metadata": {
    "colab": {
     "base_uri": "https://localhost:8080/",
     "height": 505
    },
    "id": "ufAkg_Iwya6a",
    "outputId": "771d5e92-d9b4-4be7-a855-b559bc17cf66"
   },
   "outputs": [
    {
     "data": {},
     "metadata": {},
     "output_type": "display_data"
    },
    {
     "data": {
      "application/vnd.holoviews_exec.v0+json": "",
      "text/html": [
       "<div id='13776'>\n",
       "  <div class=\"bk-root\" id=\"00e67c3b-f521-4c2f-86a2-23e1fcf0f273\" data-root-id=\"13776\"></div>\n",
       "</div>\n",
       "<script type=\"application/javascript\">(function(root) {\n",
       "  function embed_document(root) {\n",
       "    var docs_json = {\"4c4422ea-f38d-4255-a3ef-d2f4839438d2\":{\"defs\":[{\"extends\":null,\"module\":null,\"name\":\"ReactiveHTML1\",\"overrides\":[],\"properties\":[]},{\"extends\":null,\"module\":null,\"name\":\"FlexBox1\",\"overrides\":[],\"properties\":[{\"default\":\"flex-start\",\"kind\":null,\"name\":\"align_content\"},{\"default\":\"flex-start\",\"kind\":null,\"name\":\"align_items\"},{\"default\":\"row\",\"kind\":null,\"name\":\"flex_direction\"},{\"default\":\"wrap\",\"kind\":null,\"name\":\"flex_wrap\"},{\"default\":\"flex-start\",\"kind\":null,\"name\":\"justify_content\"}]},{\"extends\":null,\"module\":null,\"name\":\"GridStack1\",\"overrides\":[],\"properties\":[{\"default\":\"warn\",\"kind\":null,\"name\":\"mode\"},{\"default\":null,\"kind\":null,\"name\":\"ncols\"},{\"default\":null,\"kind\":null,\"name\":\"nrows\"},{\"default\":true,\"kind\":null,\"name\":\"allow_resize\"},{\"default\":true,\"kind\":null,\"name\":\"allow_drag\"},{\"default\":[],\"kind\":null,\"name\":\"state\"}]},{\"extends\":null,\"module\":null,\"name\":\"click1\",\"overrides\":[],\"properties\":[{\"default\":\"\",\"kind\":null,\"name\":\"terminal_output\"},{\"default\":\"\",\"kind\":null,\"name\":\"debug_name\"},{\"default\":0,\"kind\":null,\"name\":\"clears\"}]},{\"extends\":null,\"module\":null,\"name\":\"NotificationAreaBase1\",\"overrides\":[],\"properties\":[{\"default\":\"bottom-right\",\"kind\":null,\"name\":\"position\"},{\"default\":0,\"kind\":null,\"name\":\"_clear\"}]},{\"extends\":null,\"module\":null,\"name\":\"NotificationArea1\",\"overrides\":[],\"properties\":[{\"default\":[],\"kind\":null,\"name\":\"notifications\"},{\"default\":\"bottom-right\",\"kind\":null,\"name\":\"position\"},{\"default\":0,\"kind\":null,\"name\":\"_clear\"},{\"default\":[{\"background\":\"#ffc107\",\"icon\":{\"className\":\"fas fa-exclamation-triangle\",\"color\":\"white\",\"tagName\":\"i\"},\"type\":\"warning\"},{\"background\":\"#007bff\",\"icon\":{\"className\":\"fas fa-info-circle\",\"color\":\"white\",\"tagName\":\"i\"},\"type\":\"info\"}],\"kind\":null,\"name\":\"types\"}]},{\"extends\":null,\"module\":null,\"name\":\"Notification\",\"overrides\":[],\"properties\":[{\"default\":null,\"kind\":null,\"name\":\"background\"},{\"default\":3000,\"kind\":null,\"name\":\"duration\"},{\"default\":null,\"kind\":null,\"name\":\"icon\"},{\"default\":\"\",\"kind\":null,\"name\":\"message\"},{\"default\":null,\"kind\":null,\"name\":\"notification_type\"},{\"default\":false,\"kind\":null,\"name\":\"_destroyed\"}]},{\"extends\":null,\"module\":null,\"name\":\"TemplateActions1\",\"overrides\":[],\"properties\":[{\"default\":0,\"kind\":null,\"name\":\"open_modal\"},{\"default\":0,\"kind\":null,\"name\":\"close_modal\"}]},{\"extends\":null,\"module\":null,\"name\":\"MaterialTemplateActions1\",\"overrides\":[],\"properties\":[{\"default\":0,\"kind\":null,\"name\":\"open_modal\"},{\"default\":0,\"kind\":null,\"name\":\"close_modal\"}]}],\"roots\":{\"references\":[{\"attributes\":{\"editor\":{\"id\":\"13813\"},\"field\":\"Happiness score\",\"formatter\":{\"id\":\"13812\"},\"title\":\"Happiness score\",\"width\":0},\"id\":\"13814\",\"type\":\"TableColumn\"},{\"attributes\":{\"editor\":{\"id\":\"13798\"},\"field\":\"Year\",\"formatter\":{\"id\":\"13797\"},\"title\":\"Year\",\"width\":0},\"id\":\"13799\",\"type\":\"TableColumn\"},{\"attributes\":{\"children\":[{\"id\":\"13778\"},{\"id\":\"13783\"}],\"margin\":[0,0,0,0],\"name\":\"Column25299\"},\"id\":\"13777\",\"type\":\"Column\"},{\"attributes\":{\"editor\":{\"id\":\"13803\"},\"field\":\"Country name\",\"formatter\":{\"id\":\"13802\"},\"title\":\"Country name\",\"width\":0},\"id\":\"13804\",\"type\":\"TableColumn\"},{\"attributes\":{\"format\":\"0,0.0[00000]\",\"text_align\":\"right\"},\"id\":\"13812\",\"type\":\"NumberFormatter\"},{\"attributes\":{\"columns\":[{\"id\":\"13789\"},{\"id\":\"13794\"},{\"id\":\"13799\"},{\"id\":\"13804\"},{\"id\":\"13809\"},{\"id\":\"13814\"}],\"configuration\":{\"columns\":[{\"field\":\"index\",\"sorter\":\"number\"},{\"field\":\"RANK\",\"sorter\":\"number\"},{\"field\":\"Year\",\"sorter\":\"number\"},{\"field\":\"Country name\"},{\"field\":\"Regional indicator\"},{\"field\":\"Happiness score\",\"sorter\":\"number\"}],\"dataTree\":false,\"selectable\":true},\"indexes\":[\"index\"],\"layout\":\"fit_data_table\",\"margin\":[5,10,5,10],\"max_page\":43,\"name\":\"\",\"page\":1,\"page_size\":10,\"pagination\":\"remote\",\"select_mode\":true,\"selectable_rows\":null,\"sizing_mode\":\"stretch_width\",\"source\":{\"id\":\"13784\"},\"styles\":{\"data\":{},\"id\":\"fcaeebfa9f4f4f15997d1cad50a80a0f\"},\"subscribed_events\":[\"cell-click\",\"table-edit\"],\"theme_url\":\"https://cdn.jsdelivr.net/npm/@holoviz/panel@0.14.4/dist/bundled/datatabulator/tabulator-tables@5.3.2/dist/css/\"},\"id\":\"13817\",\"type\":\"panel.models.tabulator.DataTabulator\"},{\"attributes\":{\"text_align\":\"right\"},\"id\":\"13792\",\"type\":\"NumberFormatter\"},{\"attributes\":{},\"id\":\"13798\",\"type\":\"IntEditor\"},{\"attributes\":{},\"id\":\"13803\",\"type\":\"StringEditor\"},{\"attributes\":{},\"id\":\"13802\",\"type\":\"StringFormatter\"},{\"attributes\":{\"margin\":[5,5,5,5],\"name\":\"HSpacer25297\",\"sizing_mode\":\"stretch_width\"},\"id\":\"13782\",\"type\":\"Spacer\"},{\"attributes\":{\"children\":[{\"id\":\"13817\"}],\"margin\":[0,0,0,0],\"name\":\"Row25271\",\"sizing_mode\":\"stretch_width\"},\"id\":\"13783\",\"type\":\"Row\"},{\"attributes\":{\"editor\":{\"id\":\"13793\"},\"field\":\"RANK\",\"formatter\":{\"id\":\"13792\"},\"title\":\"RANK\",\"width\":0},\"id\":\"13794\",\"type\":\"TableColumn\"},{\"attributes\":{\"editor\":{\"id\":\"13788\"},\"field\":\"index\",\"formatter\":{\"id\":\"13786\"},\"title\":\"index\",\"width\":0},\"id\":\"13789\",\"type\":\"TableColumn\"},{\"attributes\":{\"text_align\":\"right\"},\"id\":\"13797\",\"type\":\"NumberFormatter\"},{\"attributes\":{},\"id\":\"13793\",\"type\":\"IntEditor\"},{\"attributes\":{\"data\":{\"Country name\":[\"Finland\",\"Tajikistan\",\"Montenegro\",\"Russia\",\"South Sudan\",\"Kyrgyzstan\",\"Belarus\",\"North Cyprus\",\"Greece\",\"Hong Kong S.A.R. of China\"],\"Happiness score\":{\"__ndarray__\":\"wmMF4Bs8H0BaEvtfCTkWQGiQBuA0LxZA+C4DoBovFkDehvWfZYgGQBivBwB/KhZA9ST/f9soFkCEBgcgWiQWQFSo9x9cDxZABMf4P6YKFkA=\",\"dtype\":\"float64\",\"order\":\"little\",\"shape\":[10]},\"RANK\":[1,71,72,73,152,74,75,76,77,78],\"Regional indicator\":[\"Western Europe\",\"Commonwealth of Independent States\",\"Central and Eastern Europe\",\"Commonwealth of Independent States\",\"Sub-Saharan Africa\",\"Commonwealth of Independent States\",\"Commonwealth of Independent States\",\"Western Europe\",\"Western Europe\",\"East Asia\"],\"Year\":[2020,2020,2020,2020,2020,2020,2020,2020,2020,2020],\"index\":[0,1,2,3,4,5,6,7,8,9]},\"selected\":{\"id\":\"13785\"},\"selection_policy\":{\"id\":\"13819\"}},\"id\":\"13784\",\"type\":\"ColumnDataSource\"},{\"attributes\":{},\"id\":\"13819\",\"type\":\"UnionRenderers\"},{\"attributes\":{\"end\":2022,\"margin\":[5,10,5,10],\"start\":2020,\"title\":\"Year slider\",\"value\":2022},\"id\":\"13780\",\"type\":\"Slider\"},{\"attributes\":{\"editor\":{\"id\":\"13808\"},\"field\":\"Regional indicator\",\"formatter\":{\"id\":\"13807\"},\"title\":\"Regional indicator\",\"width\":0},\"id\":\"13809\",\"type\":\"TableColumn\"},{\"attributes\":{},\"id\":\"13788\",\"type\":\"CellEditor\"},{\"attributes\":{},\"id\":\"13808\",\"type\":\"StringEditor\"},{\"attributes\":{},\"id\":\"13807\",\"type\":\"StringFormatter\"},{\"attributes\":{\"indices\":[]},\"id\":\"13785\",\"type\":\"Selection\"},{\"attributes\":{\"active\":0,\"button_type\":\"success\",\"labels\":[\"Happiness score\",\"Log GDP per capita\",\"Social support\",\"Healthy life expectancy\",\"Freedom to make life choices\",\"Generosity\",\"Perceptions of corruption\",\"Dystopia + residual\"],\"margin\":[5,10,5,10]},\"id\":\"13781\",\"type\":\"RadioButtonGroup\"},{\"attributes\":{\"children\":[{\"id\":\"13780\"},{\"id\":\"13781\"}],\"margin\":[0,0,0,0],\"name\":\"Column25266\"},\"id\":\"13779\",\"type\":\"Column\"},{\"attributes\":{\"children\":[{\"id\":\"13777\"}],\"margin\":[0,0,0,0],\"name\":\"Row25300\"},\"id\":\"13776\",\"type\":\"Row\"},{\"attributes\":{\"client_comm_id\":\"0ef7e95a34d74995936d99035d74f86d\",\"comm_id\":\"03e1e3f6cbb640869b6081f0429386d3\",\"plot_id\":\"13776\"},\"id\":\"13825\",\"type\":\"panel.models.comm_manager.CommManager\"},{\"attributes\":{},\"id\":\"13813\",\"type\":\"NumberEditor\"},{\"attributes\":{\"text_align\":\"left\"},\"id\":\"13786\",\"type\":\"NumberFormatter\"},{\"attributes\":{\"children\":[{\"id\":\"13779\"},{\"id\":\"13782\"}],\"margin\":[0,0,0,0],\"name\":\"Row25298\"},\"id\":\"13778\",\"type\":\"Row\"}],\"root_ids\":[\"13776\",\"13825\"]},\"title\":\"Bokeh Application\",\"version\":\"2.4.3\"}};\n",
       "    var render_items = [{\"docid\":\"4c4422ea-f38d-4255-a3ef-d2f4839438d2\",\"root_ids\":[\"13776\"],\"roots\":{\"13776\":\"00e67c3b-f521-4c2f-86a2-23e1fcf0f273\"}}];\n",
       "    root.Bokeh.embed.embed_items_notebook(docs_json, render_items);\n",
       "    for (const render_item of render_items) {\n",
       "      for (const root_id of render_item.root_ids) {\n",
       "\tconst id_el = document.getElementById(root_id)\n",
       "\tif (id_el.children.length && (id_el.children[0].className === 'bk-root')) {\n",
       "\t  const root_el = id_el.children[0]\n",
       "\t  root_el.id = root_el.id + '-rendered'\n",
       "\t}\n",
       "      }\n",
       "    }\n",
       "  }\n",
       "  if (root.Bokeh !== undefined && root.Bokeh.Panel !== undefined && ( root['Tabulator'] !== undefined) && ( root['Tabulator'] !== undefined)) {\n",
       "    embed_document(root);\n",
       "  } else {\n",
       "    var attempts = 0;\n",
       "    var timer = setInterval(function(root) {\n",
       "      if (root.Bokeh !== undefined && root.Bokeh.Panel !== undefined && (root['Tabulator'] !== undefined) && (root['Tabulator'] !== undefined)) {\n",
       "        clearInterval(timer);\n",
       "        embed_document(root);\n",
       "      } else if (document.readyState == \"complete\") {\n",
       "        attempts++;\n",
       "        if (attempts > 200) {\n",
       "          clearInterval(timer);\n",
       "          console.log(\"Bokeh: ERROR: Unable to run BokehJS code because BokehJS library is missing\");\n",
       "        }\n",
       "      }\n",
       "    }, 25, root)\n",
       "  }\n",
       "})(window);</script>"
      ],
      "text/plain": [
       "<hvplot.interactive.Interactive at 0x7fc49485bcd0>"
      ]
     },
     "execution_count": 41,
     "metadata": {
      "application/vnd.holoviews_exec.v0+json": {
       "id": "13776"
      }
     },
     "output_type": "execute_result"
    }
   ],
   "source": [
    "table_pipeline = (\n",
    "    idf1[\n",
    "        (idf1.Year <= year_slider)\n",
    "    ]\n",
    "    .groupby(['RANK','Year','Country name', 'Regional indicator'])[yaxis_co2].mean()\n",
    "    .to_frame()\n",
    "    .reset_index()\n",
    "    .sort_values(by='Year') \n",
    "    .reset_index(drop=True)\n",
    ")\n",
    "table = table_pipeline.pipe(pn.widgets.Tabulator, pagination='remote', page_size = 10, sizing_mode='stretch_width') \n",
    "table"
   ]
  },
  {
   "cell_type": "markdown",
   "metadata": {
    "id": "ZKu-qdNonXZ8"
   },
   "source": [
    "### 2 Dashboard: Line graph"
   ]
  },
  {
   "cell_type": "code",
   "execution_count": 42,
   "metadata": {
    "id": "mdc3Qv_xmsuW"
   },
   "outputs": [],
   "source": [
    "#sort out the focusing countries\n",
    "hy1 = df1.loc[df1['Country name'] == 'Finland']\n",
    "hy2 = df1.loc[df1['Country name'] == 'Denmark']\n",
    "hy3 = df1.loc[df1['Country name'] == 'Switzerland']\n",
    "hy4 = df1.loc[df1['Country name'] == 'Afghanistan']\n",
    "hy5 = df1.loc[df1['Country name'] == 'Lebanon']\n",
    "hy6 = df1.loc[df1['Country name'] == 'Jordan']"
   ]
  },
  {
   "cell_type": "code",
   "execution_count": 43,
   "metadata": {
    "colab": {
     "base_uri": "https://localhost:8080/",
     "height": 604
    },
    "id": "B7mSp402mzH-",
    "outputId": "c34541d6-8b39-4747-ef58-45096f8b3f5f"
   },
   "outputs": [
    {
     "data": {
      "text/html": [
       "<div>\n",
       "<style scoped>\n",
       "    .dataframe tbody tr th:only-of-type {\n",
       "        vertical-align: middle;\n",
       "    }\n",
       "\n",
       "    .dataframe tbody tr th {\n",
       "        vertical-align: top;\n",
       "    }\n",
       "\n",
       "    .dataframe thead th {\n",
       "        text-align: right;\n",
       "    }\n",
       "</style>\n",
       "<table border=\"1\" class=\"dataframe\">\n",
       "  <thead>\n",
       "    <tr style=\"text-align: right;\">\n",
       "      <th></th>\n",
       "      <th>Year</th>\n",
       "      <th>RANK</th>\n",
       "      <th>Country name</th>\n",
       "      <th>Regional indicator</th>\n",
       "      <th>Happiness score</th>\n",
       "      <th>Whisker-high</th>\n",
       "      <th>Whisker-low</th>\n",
       "      <th>Log GDP per capita</th>\n",
       "      <th>Social support</th>\n",
       "      <th>Healthy life expectancy</th>\n",
       "      <th>Freedom to make life choices</th>\n",
       "      <th>Generosity</th>\n",
       "      <th>Perceptions of corruption</th>\n",
       "      <th>Dystopia + residual</th>\n",
       "    </tr>\n",
       "  </thead>\n",
       "  <tbody>\n",
       "    <tr>\n",
       "      <th>0</th>\n",
       "      <td>2020</td>\n",
       "      <td>1</td>\n",
       "      <td>Finland</td>\n",
       "      <td>Western Europe</td>\n",
       "      <td>7.8087</td>\n",
       "      <td>7.869766</td>\n",
       "      <td>7.747634</td>\n",
       "      <td>1.285190</td>\n",
       "      <td>1.499526</td>\n",
       "      <td>0.961271</td>\n",
       "      <td>0.662317</td>\n",
       "      <td>0.159670</td>\n",
       "      <td>0.477857</td>\n",
       "      <td>2.762835</td>\n",
       "    </tr>\n",
       "    <tr>\n",
       "      <th>153</th>\n",
       "      <td>2021</td>\n",
       "      <td>1</td>\n",
       "      <td>Finland</td>\n",
       "      <td>Western Europe</td>\n",
       "      <td>7.8420</td>\n",
       "      <td>7.904000</td>\n",
       "      <td>7.780000</td>\n",
       "      <td>1.446000</td>\n",
       "      <td>1.106000</td>\n",
       "      <td>0.741000</td>\n",
       "      <td>0.691000</td>\n",
       "      <td>0.124000</td>\n",
       "      <td>0.481000</td>\n",
       "      <td>3.253000</td>\n",
       "    </tr>\n",
       "    <tr>\n",
       "      <th>302</th>\n",
       "      <td>2022</td>\n",
       "      <td>1</td>\n",
       "      <td>Finland</td>\n",
       "      <td>Western Europe</td>\n",
       "      <td>7.8210</td>\n",
       "      <td>7.886000</td>\n",
       "      <td>7.756000</td>\n",
       "      <td>1.892000</td>\n",
       "      <td>1.258000</td>\n",
       "      <td>0.775000</td>\n",
       "      <td>0.736000</td>\n",
       "      <td>0.109000</td>\n",
       "      <td>0.534000</td>\n",
       "      <td>2.518000</td>\n",
       "    </tr>\n",
       "    <tr>\n",
       "      <th>1</th>\n",
       "      <td>2020</td>\n",
       "      <td>2</td>\n",
       "      <td>Denmark</td>\n",
       "      <td>Western Europe</td>\n",
       "      <td>7.6456</td>\n",
       "      <td>7.711245</td>\n",
       "      <td>7.579955</td>\n",
       "      <td>1.326949</td>\n",
       "      <td>1.503449</td>\n",
       "      <td>0.979333</td>\n",
       "      <td>0.665040</td>\n",
       "      <td>0.242793</td>\n",
       "      <td>0.495260</td>\n",
       "      <td>2.432741</td>\n",
       "    </tr>\n",
       "    <tr>\n",
       "      <th>154</th>\n",
       "      <td>2021</td>\n",
       "      <td>2</td>\n",
       "      <td>Denmark</td>\n",
       "      <td>Western Europe</td>\n",
       "      <td>7.6200</td>\n",
       "      <td>7.687000</td>\n",
       "      <td>7.552000</td>\n",
       "      <td>1.502000</td>\n",
       "      <td>1.108000</td>\n",
       "      <td>0.763000</td>\n",
       "      <td>0.686000</td>\n",
       "      <td>0.208000</td>\n",
       "      <td>0.485000</td>\n",
       "      <td>2.868000</td>\n",
       "    </tr>\n",
       "    <tr>\n",
       "      <th>303</th>\n",
       "      <td>2022</td>\n",
       "      <td>2</td>\n",
       "      <td>Denmark</td>\n",
       "      <td>Western Europe</td>\n",
       "      <td>7.6360</td>\n",
       "      <td>7.710000</td>\n",
       "      <td>7.563000</td>\n",
       "      <td>1.953000</td>\n",
       "      <td>1.243000</td>\n",
       "      <td>0.777000</td>\n",
       "      <td>0.719000</td>\n",
       "      <td>0.188000</td>\n",
       "      <td>0.532000</td>\n",
       "      <td>2.226000</td>\n",
       "    </tr>\n",
       "    <tr>\n",
       "      <th>2</th>\n",
       "      <td>2020</td>\n",
       "      <td>3</td>\n",
       "      <td>Switzerland</td>\n",
       "      <td>Western Europe</td>\n",
       "      <td>7.5599</td>\n",
       "      <td>7.628528</td>\n",
       "      <td>7.491272</td>\n",
       "      <td>1.390774</td>\n",
       "      <td>1.472403</td>\n",
       "      <td>1.040533</td>\n",
       "      <td>0.628954</td>\n",
       "      <td>0.269056</td>\n",
       "      <td>0.407946</td>\n",
       "      <td>2.350267</td>\n",
       "    </tr>\n",
       "    <tr>\n",
       "      <th>155</th>\n",
       "      <td>2021</td>\n",
       "      <td>3</td>\n",
       "      <td>Switzerland</td>\n",
       "      <td>Western Europe</td>\n",
       "      <td>7.5710</td>\n",
       "      <td>7.643000</td>\n",
       "      <td>7.500000</td>\n",
       "      <td>1.566000</td>\n",
       "      <td>1.079000</td>\n",
       "      <td>0.816000</td>\n",
       "      <td>0.653000</td>\n",
       "      <td>0.204000</td>\n",
       "      <td>0.413000</td>\n",
       "      <td>2.839000</td>\n",
       "    </tr>\n",
       "    <tr>\n",
       "      <th>305</th>\n",
       "      <td>2022</td>\n",
       "      <td>4</td>\n",
       "      <td>Switzerland</td>\n",
       "      <td>Western Europe</td>\n",
       "      <td>7.5120</td>\n",
       "      <td>7.586000</td>\n",
       "      <td>7.437000</td>\n",
       "      <td>2.026000</td>\n",
       "      <td>1.226000</td>\n",
       "      <td>0.822000</td>\n",
       "      <td>0.677000</td>\n",
       "      <td>0.147000</td>\n",
       "      <td>0.461000</td>\n",
       "      <td>2.153000</td>\n",
       "    </tr>\n",
       "  </tbody>\n",
       "</table>\n",
       "</div>"
      ],
      "text/plain": [
       "     Year  RANK Country name Regional indicator  Happiness score   \n",
       "0    2020     1      Finland     Western Europe           7.8087  \\\n",
       "153  2021     1      Finland     Western Europe           7.8420   \n",
       "302  2022     1      Finland     Western Europe           7.8210   \n",
       "1    2020     2      Denmark     Western Europe           7.6456   \n",
       "154  2021     2      Denmark     Western Europe           7.6200   \n",
       "303  2022     2      Denmark     Western Europe           7.6360   \n",
       "2    2020     3  Switzerland     Western Europe           7.5599   \n",
       "155  2021     3  Switzerland     Western Europe           7.5710   \n",
       "305  2022     4  Switzerland     Western Europe           7.5120   \n",
       "\n",
       "     Whisker-high  Whisker-low  Log GDP per capita  Social support   \n",
       "0        7.869766     7.747634            1.285190        1.499526  \\\n",
       "153      7.904000     7.780000            1.446000        1.106000   \n",
       "302      7.886000     7.756000            1.892000        1.258000   \n",
       "1        7.711245     7.579955            1.326949        1.503449   \n",
       "154      7.687000     7.552000            1.502000        1.108000   \n",
       "303      7.710000     7.563000            1.953000        1.243000   \n",
       "2        7.628528     7.491272            1.390774        1.472403   \n",
       "155      7.643000     7.500000            1.566000        1.079000   \n",
       "305      7.586000     7.437000            2.026000        1.226000   \n",
       "\n",
       "     Healthy life expectancy  Freedom to make life choices  Generosity   \n",
       "0                   0.961271                      0.662317    0.159670  \\\n",
       "153                 0.741000                      0.691000    0.124000   \n",
       "302                 0.775000                      0.736000    0.109000   \n",
       "1                   0.979333                      0.665040    0.242793   \n",
       "154                 0.763000                      0.686000    0.208000   \n",
       "303                 0.777000                      0.719000    0.188000   \n",
       "2                   1.040533                      0.628954    0.269056   \n",
       "155                 0.816000                      0.653000    0.204000   \n",
       "305                 0.822000                      0.677000    0.147000   \n",
       "\n",
       "     Perceptions of corruption  Dystopia + residual  \n",
       "0                     0.477857             2.762835  \n",
       "153                   0.481000             3.253000  \n",
       "302                   0.534000             2.518000  \n",
       "1                     0.495260             2.432741  \n",
       "154                   0.485000             2.868000  \n",
       "303                   0.532000             2.226000  \n",
       "2                     0.407946             2.350267  \n",
       "155                   0.413000             2.839000  \n",
       "305                   0.461000             2.153000  "
      ]
     },
     "execution_count": 43,
     "metadata": {},
     "output_type": "execute_result"
    }
   ],
   "source": [
    "#combine datafream to create new datafream\n",
    "##easy to compare\n",
    "hy_combined1 = pd.concat([hy1,hy2,hy3])\n",
    "hy_combined1"
   ]
  },
  {
   "cell_type": "code",
   "execution_count": 44,
   "metadata": {
    "id": "_Sl3mHUim02P"
   },
   "outputs": [],
   "source": [
    "#make the datafream interactive\n",
    "hyc1 = hy_combined1.interactive()\n",
    "\n",
    "#create pipeline\n",
    "hyc1_pipeline = (\n",
    "    hyc1[\n",
    "        (hyc1.Year <= year_slider)\n",
    "    ]\n",
    "    .groupby(['Country name', 'Year'])[yaxis_co2].mean()\n",
    "    .to_frame()\n",
    "    .reset_index()\n",
    "    .sort_values(by='Year') \n",
    "    .reset_index(drop=True)\n",
    ")\n",
    "#hyc1_pipeline"
   ]
  },
  {
   "cell_type": "code",
   "execution_count": 45,
   "metadata": {
    "colab": {
     "base_uri": "https://localhost:8080/",
     "height": 439
    },
    "id": "mlQtavdonAph",
    "outputId": "2739c89d-fff3-4e9f-c174-fa6b77c3e275"
   },
   "outputs": [
    {
     "data": {},
     "metadata": {},
     "output_type": "display_data"
    },
    {
     "data": {},
     "metadata": {},
     "output_type": "display_data"
    },
    {
     "data": {
      "application/vnd.holoviews_exec.v0+json": "",
      "text/html": [
       "<div id='13836'>\n",
       "  <div class=\"bk-root\" id=\"5dfb79d8-e6f5-4068-8fa7-c29a2d496dc6\" data-root-id=\"13836\"></div>\n",
       "</div>\n",
       "<script type=\"application/javascript\">(function(root) {\n",
       "  function embed_document(root) {\n",
       "    var docs_json = {\"e40b6f11-1fdb-4489-95ec-586c30489397\":{\"defs\":[{\"extends\":null,\"module\":null,\"name\":\"ReactiveHTML1\",\"overrides\":[],\"properties\":[]},{\"extends\":null,\"module\":null,\"name\":\"FlexBox1\",\"overrides\":[],\"properties\":[{\"default\":\"flex-start\",\"kind\":null,\"name\":\"align_content\"},{\"default\":\"flex-start\",\"kind\":null,\"name\":\"align_items\"},{\"default\":\"row\",\"kind\":null,\"name\":\"flex_direction\"},{\"default\":\"wrap\",\"kind\":null,\"name\":\"flex_wrap\"},{\"default\":\"flex-start\",\"kind\":null,\"name\":\"justify_content\"}]},{\"extends\":null,\"module\":null,\"name\":\"GridStack1\",\"overrides\":[],\"properties\":[{\"default\":\"warn\",\"kind\":null,\"name\":\"mode\"},{\"default\":null,\"kind\":null,\"name\":\"ncols\"},{\"default\":null,\"kind\":null,\"name\":\"nrows\"},{\"default\":true,\"kind\":null,\"name\":\"allow_resize\"},{\"default\":true,\"kind\":null,\"name\":\"allow_drag\"},{\"default\":[],\"kind\":null,\"name\":\"state\"}]},{\"extends\":null,\"module\":null,\"name\":\"click1\",\"overrides\":[],\"properties\":[{\"default\":\"\",\"kind\":null,\"name\":\"terminal_output\"},{\"default\":\"\",\"kind\":null,\"name\":\"debug_name\"},{\"default\":0,\"kind\":null,\"name\":\"clears\"}]},{\"extends\":null,\"module\":null,\"name\":\"NotificationAreaBase1\",\"overrides\":[],\"properties\":[{\"default\":\"bottom-right\",\"kind\":null,\"name\":\"position\"},{\"default\":0,\"kind\":null,\"name\":\"_clear\"}]},{\"extends\":null,\"module\":null,\"name\":\"NotificationArea1\",\"overrides\":[],\"properties\":[{\"default\":[],\"kind\":null,\"name\":\"notifications\"},{\"default\":\"bottom-right\",\"kind\":null,\"name\":\"position\"},{\"default\":0,\"kind\":null,\"name\":\"_clear\"},{\"default\":[{\"background\":\"#ffc107\",\"icon\":{\"className\":\"fas fa-exclamation-triangle\",\"color\":\"white\",\"tagName\":\"i\"},\"type\":\"warning\"},{\"background\":\"#007bff\",\"icon\":{\"className\":\"fas fa-info-circle\",\"color\":\"white\",\"tagName\":\"i\"},\"type\":\"info\"}],\"kind\":null,\"name\":\"types\"}]},{\"extends\":null,\"module\":null,\"name\":\"Notification\",\"overrides\":[],\"properties\":[{\"default\":null,\"kind\":null,\"name\":\"background\"},{\"default\":3000,\"kind\":null,\"name\":\"duration\"},{\"default\":null,\"kind\":null,\"name\":\"icon\"},{\"default\":\"\",\"kind\":null,\"name\":\"message\"},{\"default\":null,\"kind\":null,\"name\":\"notification_type\"},{\"default\":false,\"kind\":null,\"name\":\"_destroyed\"}]},{\"extends\":null,\"module\":null,\"name\":\"TemplateActions1\",\"overrides\":[],\"properties\":[{\"default\":0,\"kind\":null,\"name\":\"open_modal\"},{\"default\":0,\"kind\":null,\"name\":\"close_modal\"}]},{\"extends\":null,\"module\":null,\"name\":\"MaterialTemplateActions1\",\"overrides\":[],\"properties\":[{\"default\":0,\"kind\":null,\"name\":\"open_modal\"},{\"default\":0,\"kind\":null,\"name\":\"close_modal\"}]}],\"roots\":{\"references\":[{\"attributes\":{\"source\":{\"id\":\"13884\"}},\"id\":\"13891\",\"type\":\"CDSView\"},{\"attributes\":{\"bottom_units\":\"screen\",\"coordinates\":null,\"fill_alpha\":0.5,\"fill_color\":\"lightgrey\",\"group\":null,\"left_units\":\"screen\",\"level\":\"overlay\",\"line_alpha\":1.0,\"line_color\":\"black\",\"line_dash\":[4,4],\"line_width\":2,\"right_units\":\"screen\",\"syncable\":false,\"top_units\":\"screen\"},\"id\":\"13870\",\"type\":\"BoxAnnotation\"},{\"attributes\":{\"coordinates\":null,\"data_source\":{\"id\":\"13884\"},\"glyph\":{\"id\":\"13887\"},\"group\":null,\"hover_glyph\":null,\"muted_glyph\":{\"id\":\"13889\"},\"nonselection_glyph\":{\"id\":\"13888\"},\"selection_glyph\":{\"id\":\"13904\"},\"view\":{\"id\":\"13891\"}},\"id\":\"13890\",\"type\":\"GlyphRenderer\"},{\"attributes\":{\"end\":2022.0,\"reset_end\":2022.0,\"reset_start\":2020.0,\"start\":2020.0,\"tags\":[[[\"Year\",\"Year\",null]]]},\"id\":\"13843\",\"type\":\"Range1d\"},{\"attributes\":{\"line_alpha\":0.1,\"line_color\":\"#30a2da\",\"line_width\":2,\"x\":{\"field\":\"Year\"},\"y\":{\"field\":\"Happiness score\"}},\"id\":\"13888\",\"type\":\"Line\"},{\"attributes\":{\"click_policy\":\"mute\",\"coordinates\":null,\"group\":null,\"items\":[{\"id\":\"13903\"},{\"id\":\"13925\"},{\"id\":\"13949\"}],\"location\":[0,0],\"title\":\"Country name\"},\"id\":\"13902\",\"type\":\"Legend\"},{\"attributes\":{\"label\":{\"value\":\"Denmark\"},\"renderers\":[{\"id\":\"13890\"}]},\"id\":\"13903\",\"type\":\"LegendItem\"},{\"attributes\":{\"end\":2022,\"margin\":[5,10,5,10],\"start\":2020,\"title\":\"Year slider\",\"value\":2022},\"id\":\"13840\",\"type\":\"Slider\"},{\"attributes\":{\"data\":{\"Country_name\":[\"Finland\",\"Finland\",\"Finland\"],\"Happiness score\":{\"__ndarray__\":\"wmMF4Bs8H0CR7Xw/NV4fQGIQWDm0SB9A\",\"dtype\":\"float64\",\"order\":\"little\",\"shape\":[3]},\"Happiness_score\":{\"__ndarray__\":\"wmMF4Bs8H0CR7Xw/NV4fQGIQWDm0SB9A\",\"dtype\":\"float64\",\"order\":\"little\",\"shape\":[3]},\"Year\":[2020,2021,2022]},\"selected\":{\"id\":\"13906\"},\"selection_policy\":{\"id\":\"13922\"}},\"id\":\"13905\",\"type\":\"ColumnDataSource\"},{\"attributes\":{},\"id\":\"13906\",\"type\":\"Selection\"},{\"attributes\":{\"children\":[{\"id\":\"13840\"},{\"id\":\"13841\"}],\"margin\":[0,0,0,0],\"name\":\"Column26020\"},\"id\":\"13839\",\"type\":\"Column\"},{\"attributes\":{\"line_color\":\"#30a2da\",\"line_width\":2,\"x\":{\"field\":\"Year\"},\"y\":{\"field\":\"Happiness score\"}},\"id\":\"13904\",\"type\":\"Line\"},{\"attributes\":{\"axis_label\":\"Year\",\"coordinates\":null,\"formatter\":{\"id\":\"13879\"},\"group\":null,\"major_label_policy\":{\"id\":\"13880\"},\"ticker\":{\"id\":\"13858\"}},\"id\":\"13857\",\"type\":\"LinearAxis\"},{\"attributes\":{},\"id\":\"13885\",\"type\":\"Selection\"},{\"attributes\":{\"data\":{\"Country_name\":[\"Switzerland\",\"Switzerland\",\"Switzerland\"],\"Happiness score\":{\"__ndarray__\":\"J2gAYFY9HkBiEFg5tEgeQD81XrpJDB5A\",\"dtype\":\"float64\",\"order\":\"little\",\"shape\":[3]},\"Happiness_score\":{\"__ndarray__\":\"J2gAYFY9HkBiEFg5tEgeQD81XrpJDB5A\",\"dtype\":\"float64\",\"order\":\"little\",\"shape\":[3]},\"Year\":[2020,2021,2022]},\"selected\":{\"id\":\"13928\"},\"selection_policy\":{\"id\":\"13946\"}},\"id\":\"13927\",\"type\":\"ColumnDataSource\"},{\"attributes\":{\"end\":7.875,\"reset_end\":7.875,\"reset_start\":7.478999999999999,\"start\":7.478999999999999,\"tags\":[[[\"Happiness score\",\"Happiness score\",null]]]},\"id\":\"13844\",\"type\":\"Range1d\"},{\"attributes\":{},\"id\":\"13946\",\"type\":\"UnionRenderers\"},{\"attributes\":{\"callback\":null,\"renderers\":[{\"id\":\"13890\"},{\"id\":\"13911\"},{\"id\":\"13933\"}],\"tags\":[\"hv_created\"],\"tooltips\":[[\"Country name\",\"@{Country_name}\"],[\"Year\",\"@{Year}\"],[\"Happiness score\",\"@{Happiness_score}\"]]},\"id\":\"13845\",\"type\":\"HoverTool\"},{\"attributes\":{\"coordinates\":null,\"data_source\":{\"id\":\"13905\"},\"glyph\":{\"id\":\"13908\"},\"group\":null,\"hover_glyph\":null,\"muted_glyph\":{\"id\":\"13910\"},\"nonselection_glyph\":{\"id\":\"13909\"},\"selection_glyph\":{\"id\":\"13926\"},\"view\":{\"id\":\"13912\"}},\"id\":\"13911\",\"type\":\"GlyphRenderer\"},{\"attributes\":{\"active_drag\":{\"id\":\"13866\"},\"active_scroll\":{\"id\":\"13867\"},\"tools\":[{\"id\":\"13845\"},{\"id\":\"13865\"},{\"id\":\"13866\"},{\"id\":\"13867\"},{\"id\":\"13868\"},{\"id\":\"13869\"}]},\"id\":\"13871\",\"type\":\"Toolbar\"},{\"attributes\":{\"line_alpha\":0.2,\"line_color\":\"#30a2da\",\"line_width\":2,\"x\":{\"field\":\"Year\"},\"y\":{\"field\":\"Happiness score\"}},\"id\":\"13889\",\"type\":\"Line\"},{\"attributes\":{\"line_color\":\"#fc4f30\",\"line_width\":2,\"x\":{\"field\":\"Year\"},\"y\":{\"field\":\"Happiness score\"}},\"id\":\"13926\",\"type\":\"Line\"},{\"attributes\":{\"coordinates\":null,\"group\":null,\"text\":\"Top 3 Countries\",\"text_color\":\"black\",\"text_font_size\":\"12pt\"},\"id\":\"13849\",\"type\":\"Title\"},{\"attributes\":{\"client_comm_id\":\"6a002ea31ebd46b6a9f763b2f1ca9c46\",\"comm_id\":\"d2dd7e300c524a8e8c90475353e73b4b\",\"plot_id\":\"13836\"},\"id\":\"14011\",\"type\":\"panel.models.comm_manager.CommManager\"},{\"attributes\":{\"children\":[{\"id\":\"13837\"}],\"margin\":[0,0,0,0],\"name\":\"Row26032\"},\"id\":\"13836\",\"type\":\"Row\"},{\"attributes\":{\"line_alpha\":0.1,\"line_color\":\"#fc4f30\",\"line_width\":2,\"x\":{\"field\":\"Year\"},\"y\":{\"field\":\"Happiness score\"}},\"id\":\"13909\",\"type\":\"Line\"},{\"attributes\":{},\"id\":\"13882\",\"type\":\"BasicTickFormatter\"},{\"attributes\":{\"line_alpha\":0.2,\"line_color\":\"#fc4f30\",\"line_width\":2,\"x\":{\"field\":\"Year\"},\"y\":{\"field\":\"Happiness score\"}},\"id\":\"13910\",\"type\":\"Line\"},{\"attributes\":{},\"id\":\"13858\",\"type\":\"BasicTicker\"},{\"attributes\":{\"line_color\":\"#e5ae38\",\"line_width\":2,\"x\":{\"field\":\"Year\"},\"y\":{\"field\":\"Happiness score\"}},\"id\":\"13950\",\"type\":\"Line\"},{\"attributes\":{\"line_color\":\"#fc4f30\",\"line_width\":2,\"x\":{\"field\":\"Year\"},\"y\":{\"field\":\"Happiness score\"}},\"id\":\"13908\",\"type\":\"Line\"},{\"attributes\":{\"active\":0,\"button_type\":\"success\",\"labels\":[\"Happiness score\",\"Log GDP per capita\",\"Social support\",\"Healthy life expectancy\",\"Freedom to make life choices\",\"Generosity\",\"Perceptions of corruption\",\"Dystopia + residual\"],\"margin\":[5,10,5,10]},\"id\":\"13841\",\"type\":\"RadioButtonGroup\"},{\"attributes\":{\"source\":{\"id\":\"13905\"}},\"id\":\"13912\",\"type\":\"CDSView\"},{\"attributes\":{},\"id\":\"13855\",\"type\":\"LinearScale\"},{\"attributes\":{\"data\":{\"Country_name\":[\"Denmark\",\"Denmark\",\"Denmark\"],\"Happiness score\":{\"__ndarray__\":\"ZcX+HxiVHkB7FK5H4XoeQCUGgZVDix5A\",\"dtype\":\"float64\",\"order\":\"little\",\"shape\":[3]},\"Happiness_score\":{\"__ndarray__\":\"ZcX+HxiVHkB7FK5H4XoeQCUGgZVDix5A\",\"dtype\":\"float64\",\"order\":\"little\",\"shape\":[3]},\"Year\":[2020,2021,2022]},\"selected\":{\"id\":\"13885\"},\"selection_policy\":{\"id\":\"13899\"}},\"id\":\"13884\",\"type\":\"ColumnDataSource\"},{\"attributes\":{\"line_color\":\"#30a2da\",\"line_width\":2,\"x\":{\"field\":\"Year\"},\"y\":{\"field\":\"Happiness score\"}},\"id\":\"13887\",\"type\":\"Line\"},{\"attributes\":{\"line_color\":\"#e5ae38\",\"line_width\":2,\"x\":{\"field\":\"Year\"},\"y\":{\"field\":\"Happiness score\"}},\"id\":\"13930\",\"type\":\"Line\"},{\"attributes\":{},\"id\":\"13866\",\"type\":\"PanTool\"},{\"attributes\":{\"label\":{\"value\":\"Finland\"},\"renderers\":[{\"id\":\"13911\"}]},\"id\":\"13925\",\"type\":\"LegendItem\"},{\"attributes\":{\"axis\":{\"id\":\"13857\"},\"coordinates\":null,\"grid_line_color\":null,\"group\":null,\"ticker\":null},\"id\":\"13860\",\"type\":\"Grid\"},{\"attributes\":{},\"id\":\"13928\",\"type\":\"Selection\"},{\"attributes\":{},\"id\":\"13880\",\"type\":\"AllLabels\"},{\"attributes\":{\"axis_label\":\"Happiness score\",\"coordinates\":null,\"formatter\":{\"id\":\"13882\"},\"group\":null,\"major_label_policy\":{\"id\":\"13883\"},\"ticker\":{\"id\":\"13862\"}},\"id\":\"13861\",\"type\":\"LinearAxis\"},{\"attributes\":{\"line_alpha\":0.1,\"line_color\":\"#e5ae38\",\"line_width\":2,\"x\":{\"field\":\"Year\"},\"y\":{\"field\":\"Happiness score\"}},\"id\":\"13931\",\"type\":\"Line\"},{\"attributes\":{\"children\":[{\"id\":\"13839\"},{\"id\":\"13842\"}],\"margin\":[0,0,0,0],\"name\":\"Row26025\"},\"id\":\"13838\",\"type\":\"Row\"},{\"attributes\":{\"axis\":{\"id\":\"13861\"},\"coordinates\":null,\"dimension\":1,\"grid_line_color\":null,\"group\":null,\"ticker\":null},\"id\":\"13864\",\"type\":\"Grid\"},{\"attributes\":{\"line_alpha\":0.2,\"line_color\":\"#e5ae38\",\"line_width\":2,\"x\":{\"field\":\"Year\"},\"y\":{\"field\":\"Happiness score\"}},\"id\":\"13932\",\"type\":\"Line\"},{\"attributes\":{\"coordinates\":null,\"data_source\":{\"id\":\"13927\"},\"glyph\":{\"id\":\"13930\"},\"group\":null,\"hover_glyph\":null,\"muted_glyph\":{\"id\":\"13932\"},\"nonselection_glyph\":{\"id\":\"13931\"},\"selection_glyph\":{\"id\":\"13950\"},\"view\":{\"id\":\"13934\"}},\"id\":\"13933\",\"type\":\"GlyphRenderer\"},{\"attributes\":{},\"id\":\"13862\",\"type\":\"BasicTicker\"},{\"attributes\":{},\"id\":\"13853\",\"type\":\"LinearScale\"},{\"attributes\":{\"source\":{\"id\":\"13927\"}},\"id\":\"13934\",\"type\":\"CDSView\"},{\"attributes\":{},\"id\":\"13867\",\"type\":\"WheelZoomTool\"},{\"attributes\":{},\"id\":\"13883\",\"type\":\"AllLabels\"},{\"attributes\":{},\"id\":\"13899\",\"type\":\"UnionRenderers\"},{\"attributes\":{},\"id\":\"13879\",\"type\":\"BasicTickFormatter\"},{\"attributes\":{\"label\":{\"value\":\"Switzerland\"},\"renderers\":[{\"id\":\"13933\"}]},\"id\":\"13949\",\"type\":\"LegendItem\"},{\"attributes\":{},\"id\":\"13922\",\"type\":\"UnionRenderers\"},{\"attributes\":{},\"id\":\"13865\",\"type\":\"SaveTool\"},{\"attributes\":{\"margin\":[5,5,5,5],\"name\":\"HSpacer26024\",\"sizing_mode\":\"stretch_width\"},\"id\":\"13842\",\"type\":\"Spacer\"},{\"attributes\":{\"overlay\":{\"id\":\"13870\"}},\"id\":\"13868\",\"type\":\"BoxZoomTool\"},{\"attributes\":{\"below\":[{\"id\":\"13857\"}],\"center\":[{\"id\":\"13860\"},{\"id\":\"13864\"}],\"height\":300,\"left\":[{\"id\":\"13861\"}],\"margin\":[5,5,5,5],\"min_border_bottom\":10,\"min_border_left\":10,\"min_border_right\":10,\"min_border_top\":10,\"renderers\":[{\"id\":\"13890\"},{\"id\":\"13911\"},{\"id\":\"13933\"}],\"right\":[{\"id\":\"13902\"}],\"sizing_mode\":\"fixed\",\"title\":{\"id\":\"13849\"},\"toolbar\":{\"id\":\"13871\"},\"width\":700,\"x_range\":{\"id\":\"13843\"},\"x_scale\":{\"id\":\"13853\"},\"y_range\":{\"id\":\"13844\"},\"y_scale\":{\"id\":\"13855\"}},\"id\":\"13848\",\"subtype\":\"Figure\",\"type\":\"Plot\"},{\"attributes\":{},\"id\":\"13869\",\"type\":\"ResetTool\"},{\"attributes\":{\"children\":[{\"id\":\"13838\"},{\"id\":\"13848\"}],\"margin\":[0,0,0,0],\"name\":\"Column26031\"},\"id\":\"13837\",\"type\":\"Column\"}],\"root_ids\":[\"13836\",\"14011\"]},\"title\":\"Bokeh Application\",\"version\":\"2.4.3\"}};\n",
       "    var render_items = [{\"docid\":\"e40b6f11-1fdb-4489-95ec-586c30489397\",\"root_ids\":[\"13836\"],\"roots\":{\"13836\":\"5dfb79d8-e6f5-4068-8fa7-c29a2d496dc6\"}}];\n",
       "    root.Bokeh.embed.embed_items_notebook(docs_json, render_items);\n",
       "    for (const render_item of render_items) {\n",
       "      for (const root_id of render_item.root_ids) {\n",
       "\tconst id_el = document.getElementById(root_id)\n",
       "\tif (id_el.children.length && (id_el.children[0].className === 'bk-root')) {\n",
       "\t  const root_el = id_el.children[0]\n",
       "\t  root_el.id = root_el.id + '-rendered'\n",
       "\t}\n",
       "      }\n",
       "    }\n",
       "  }\n",
       "  if (root.Bokeh !== undefined && root.Bokeh.Panel !== undefined && ( root['Tabulator'] !== undefined) && ( root['Tabulator'] !== undefined)) {\n",
       "    embed_document(root);\n",
       "  } else {\n",
       "    var attempts = 0;\n",
       "    var timer = setInterval(function(root) {\n",
       "      if (root.Bokeh !== undefined && root.Bokeh.Panel !== undefined && (root['Tabulator'] !== undefined) && (root['Tabulator'] !== undefined)) {\n",
       "        clearInterval(timer);\n",
       "        embed_document(root);\n",
       "      } else if (document.readyState == \"complete\") {\n",
       "        attempts++;\n",
       "        if (attempts > 200) {\n",
       "          clearInterval(timer);\n",
       "          console.log(\"Bokeh: ERROR: Unable to run BokehJS code because BokehJS library is missing\");\n",
       "        }\n",
       "      }\n",
       "    }, 25, root)\n",
       "  }\n",
       "})(window);</script>"
      ],
      "text/plain": [
       "<hvplot.interactive.Interactive at 0x7fc4939546a0>"
      ]
     },
     "execution_count": 45,
     "metadata": {
      "application/vnd.holoviews_exec.v0+json": {
       "id": "13836"
      }
     },
     "output_type": "execute_result"
    }
   ],
   "source": [
    "#plot line graph with widgets\n",
    "line1_plot = hyc1_pipeline.hvplot(x = 'Year', by='Country name', y=yaxis_co2,line_width=2, title=\"Top 3 Countries\")\n",
    "line1_plot"
   ]
  },
  {
   "cell_type": "code",
   "execution_count": 46,
   "metadata": {
    "colab": {
     "base_uri": "https://localhost:8080/",
     "height": 656
    },
    "id": "V6_Gh2IZnDFY",
    "outputId": "aafe686e-e3f4-4ef5-d5f4-03250f80e0ba"
   },
   "outputs": [
    {
     "data": {
      "text/html": [
       "<div>\n",
       "<style scoped>\n",
       "    .dataframe tbody tr th:only-of-type {\n",
       "        vertical-align: middle;\n",
       "    }\n",
       "\n",
       "    .dataframe tbody tr th {\n",
       "        vertical-align: top;\n",
       "    }\n",
       "\n",
       "    .dataframe thead th {\n",
       "        text-align: right;\n",
       "    }\n",
       "</style>\n",
       "<table border=\"1\" class=\"dataframe\">\n",
       "  <thead>\n",
       "    <tr style=\"text-align: right;\">\n",
       "      <th></th>\n",
       "      <th>Year</th>\n",
       "      <th>RANK</th>\n",
       "      <th>Country name</th>\n",
       "      <th>Regional indicator</th>\n",
       "      <th>Happiness score</th>\n",
       "      <th>Whisker-high</th>\n",
       "      <th>Whisker-low</th>\n",
       "      <th>Log GDP per capita</th>\n",
       "      <th>Social support</th>\n",
       "      <th>Healthy life expectancy</th>\n",
       "      <th>Freedom to make life choices</th>\n",
       "      <th>Generosity</th>\n",
       "      <th>Perceptions of corruption</th>\n",
       "      <th>Dystopia + residual</th>\n",
       "    </tr>\n",
       "  </thead>\n",
       "  <tbody>\n",
       "    <tr>\n",
       "      <th>152</th>\n",
       "      <td>2020</td>\n",
       "      <td>153</td>\n",
       "      <td>Afghanistan</td>\n",
       "      <td>South Asia</td>\n",
       "      <td>2.5669</td>\n",
       "      <td>2.628270</td>\n",
       "      <td>2.505530</td>\n",
       "      <td>0.300706</td>\n",
       "      <td>0.356434</td>\n",
       "      <td>0.266052</td>\n",
       "      <td>0.000000</td>\n",
       "      <td>0.135235</td>\n",
       "      <td>0.001226</td>\n",
       "      <td>1.507236</td>\n",
       "    </tr>\n",
       "    <tr>\n",
       "      <th>301</th>\n",
       "      <td>2021</td>\n",
       "      <td>149</td>\n",
       "      <td>Afghanistan</td>\n",
       "      <td>South Asia</td>\n",
       "      <td>2.5230</td>\n",
       "      <td>2.596000</td>\n",
       "      <td>2.449000</td>\n",
       "      <td>0.370000</td>\n",
       "      <td>0.000000</td>\n",
       "      <td>0.126000</td>\n",
       "      <td>0.000000</td>\n",
       "      <td>0.122000</td>\n",
       "      <td>0.010000</td>\n",
       "      <td>1.895000</td>\n",
       "    </tr>\n",
       "    <tr>\n",
       "      <th>426</th>\n",
       "      <td>2022</td>\n",
       "      <td>146</td>\n",
       "      <td>Afghanistan</td>\n",
       "      <td>South Asia</td>\n",
       "      <td>2.4040</td>\n",
       "      <td>2.469000</td>\n",
       "      <td>2.339000</td>\n",
       "      <td>0.758000</td>\n",
       "      <td>0.000000</td>\n",
       "      <td>0.289000</td>\n",
       "      <td>0.000000</td>\n",
       "      <td>0.089000</td>\n",
       "      <td>0.005000</td>\n",
       "      <td>1.263000</td>\n",
       "    </tr>\n",
       "    <tr>\n",
       "      <th>110</th>\n",
       "      <td>2020</td>\n",
       "      <td>111</td>\n",
       "      <td>Lebanon</td>\n",
       "      <td>Middle East and North Africa</td>\n",
       "      <td>4.7715</td>\n",
       "      <td>4.857258</td>\n",
       "      <td>4.685742</td>\n",
       "      <td>0.889233</td>\n",
       "      <td>1.192493</td>\n",
       "      <td>0.788671</td>\n",
       "      <td>0.185517</td>\n",
       "      <td>0.158524</td>\n",
       "      <td>0.021518</td>\n",
       "      <td>1.535542</td>\n",
       "    </tr>\n",
       "    <tr>\n",
       "      <th>275</th>\n",
       "      <td>2021</td>\n",
       "      <td>123</td>\n",
       "      <td>Lebanon</td>\n",
       "      <td>Middle East and North Africa</td>\n",
       "      <td>4.5840</td>\n",
       "      <td>4.691000</td>\n",
       "      <td>4.477000</td>\n",
       "      <td>1.045000</td>\n",
       "      <td>0.868000</td>\n",
       "      <td>0.595000</td>\n",
       "      <td>0.175000</td>\n",
       "      <td>0.140000</td>\n",
       "      <td>0.026000</td>\n",
       "      <td>1.736000</td>\n",
       "    </tr>\n",
       "    <tr>\n",
       "      <th>425</th>\n",
       "      <td>2022</td>\n",
       "      <td>145</td>\n",
       "      <td>Lebanon</td>\n",
       "      <td>Middle East and North Africa</td>\n",
       "      <td>2.9550</td>\n",
       "      <td>3.049000</td>\n",
       "      <td>2.862000</td>\n",
       "      <td>1.392000</td>\n",
       "      <td>0.498000</td>\n",
       "      <td>0.631000</td>\n",
       "      <td>0.103000</td>\n",
       "      <td>0.082000</td>\n",
       "      <td>0.034000</td>\n",
       "      <td>0.216000</td>\n",
       "    </tr>\n",
       "    <tr>\n",
       "      <th>118</th>\n",
       "      <td>2020</td>\n",
       "      <td>119</td>\n",
       "      <td>Jordan</td>\n",
       "      <td>Middle East and North Africa</td>\n",
       "      <td>4.6334</td>\n",
       "      <td>4.748552</td>\n",
       "      <td>4.518248</td>\n",
       "      <td>0.785179</td>\n",
       "      <td>1.140119</td>\n",
       "      <td>0.777625</td>\n",
       "      <td>0.424855</td>\n",
       "      <td>0.091495</td>\n",
       "      <td>0.151879</td>\n",
       "      <td>1.262258</td>\n",
       "    </tr>\n",
       "    <tr>\n",
       "      <th>279</th>\n",
       "      <td>2021</td>\n",
       "      <td>127</td>\n",
       "      <td>Jordan</td>\n",
       "      <td>Middle East and North Africa</td>\n",
       "      <td>4.3950</td>\n",
       "      <td>4.516000</td>\n",
       "      <td>4.273000</td>\n",
       "      <td>0.890000</td>\n",
       "      <td>0.685000</td>\n",
       "      <td>0.583000</td>\n",
       "      <td>0.455000</td>\n",
       "      <td>0.079000</td>\n",
       "      <td>0.150000</td>\n",
       "      <td>1.553000</td>\n",
       "    </tr>\n",
       "    <tr>\n",
       "      <th>417</th>\n",
       "      <td>2022</td>\n",
       "      <td>134</td>\n",
       "      <td>Jordan</td>\n",
       "      <td>Middle East and North Africa</td>\n",
       "      <td>4.1520</td>\n",
       "      <td>4.276000</td>\n",
       "      <td>4.029000</td>\n",
       "      <td>1.324000</td>\n",
       "      <td>0.724000</td>\n",
       "      <td>0.675000</td>\n",
       "      <td>0.476000</td>\n",
       "      <td>0.058000</td>\n",
       "      <td>0.200000</td>\n",
       "      <td>0.695000</td>\n",
       "    </tr>\n",
       "  </tbody>\n",
       "</table>\n",
       "</div>"
      ],
      "text/plain": [
       "     Year  RANK Country name            Regional indicator  Happiness score   \n",
       "152  2020   153  Afghanistan                    South Asia           2.5669  \\\n",
       "301  2021   149  Afghanistan                    South Asia           2.5230   \n",
       "426  2022   146  Afghanistan                    South Asia           2.4040   \n",
       "110  2020   111      Lebanon  Middle East and North Africa           4.7715   \n",
       "275  2021   123      Lebanon  Middle East and North Africa           4.5840   \n",
       "425  2022   145      Lebanon  Middle East and North Africa           2.9550   \n",
       "118  2020   119       Jordan  Middle East and North Africa           4.6334   \n",
       "279  2021   127       Jordan  Middle East and North Africa           4.3950   \n",
       "417  2022   134       Jordan  Middle East and North Africa           4.1520   \n",
       "\n",
       "     Whisker-high  Whisker-low  Log GDP per capita  Social support   \n",
       "152      2.628270     2.505530            0.300706        0.356434  \\\n",
       "301      2.596000     2.449000            0.370000        0.000000   \n",
       "426      2.469000     2.339000            0.758000        0.000000   \n",
       "110      4.857258     4.685742            0.889233        1.192493   \n",
       "275      4.691000     4.477000            1.045000        0.868000   \n",
       "425      3.049000     2.862000            1.392000        0.498000   \n",
       "118      4.748552     4.518248            0.785179        1.140119   \n",
       "279      4.516000     4.273000            0.890000        0.685000   \n",
       "417      4.276000     4.029000            1.324000        0.724000   \n",
       "\n",
       "     Healthy life expectancy  Freedom to make life choices  Generosity   \n",
       "152                 0.266052                      0.000000    0.135235  \\\n",
       "301                 0.126000                      0.000000    0.122000   \n",
       "426                 0.289000                      0.000000    0.089000   \n",
       "110                 0.788671                      0.185517    0.158524   \n",
       "275                 0.595000                      0.175000    0.140000   \n",
       "425                 0.631000                      0.103000    0.082000   \n",
       "118                 0.777625                      0.424855    0.091495   \n",
       "279                 0.583000                      0.455000    0.079000   \n",
       "417                 0.675000                      0.476000    0.058000   \n",
       "\n",
       "     Perceptions of corruption  Dystopia + residual  \n",
       "152                   0.001226             1.507236  \n",
       "301                   0.010000             1.895000  \n",
       "426                   0.005000             1.263000  \n",
       "110                   0.021518             1.535542  \n",
       "275                   0.026000             1.736000  \n",
       "425                   0.034000             0.216000  \n",
       "118                   0.151879             1.262258  \n",
       "279                   0.150000             1.553000  \n",
       "417                   0.200000             0.695000  "
      ]
     },
     "execution_count": 46,
     "metadata": {},
     "output_type": "execute_result"
    }
   ],
   "source": [
    "#combine datafream to create new datafream\n",
    "hy_combined2 = pd.concat([hy4,hy5,hy6])\n",
    "hy_combined2"
   ]
  },
  {
   "cell_type": "code",
   "execution_count": 47,
   "metadata": {
    "id": "RPOrGiVOniqK"
   },
   "outputs": [],
   "source": [
    "# make dataframe interactive\n",
    "hyc2 = hy_combined2.interactive()\n",
    "\n",
    "#create pipeline\n",
    "hyc2_pipeline = (\n",
    "    hyc2[\n",
    "        (hyc2.Year <= year_slider)\n",
    "    ]\n",
    "    .groupby(['Country name', 'Year'])[yaxis_co2].mean()\n",
    "    .to_frame()\n",
    "    .reset_index()\n",
    "    .sort_values(by='Year') \n",
    "    .reset_index(drop=True)\n",
    ")\n",
    "\n",
    "#hyc2_pipeline"
   ]
  },
  {
   "cell_type": "code",
   "execution_count": 48,
   "metadata": {
    "colab": {
     "base_uri": "https://localhost:8080/",
     "height": 439
    },
    "id": "Y5QWQtiJnnql",
    "outputId": "7073c4f3-9009-40b2-d50a-01362c823dbc"
   },
   "outputs": [
    {
     "data": {},
     "metadata": {},
     "output_type": "display_data"
    },
    {
     "data": {},
     "metadata": {},
     "output_type": "display_data"
    },
    {
     "data": {
      "application/vnd.holoviews_exec.v0+json": "",
      "text/html": [
       "<div id='14082'>\n",
       "  <div class=\"bk-root\" id=\"89201bb6-c478-41f3-bc27-9f7c46b66c61\" data-root-id=\"14082\"></div>\n",
       "</div>\n",
       "<script type=\"application/javascript\">(function(root) {\n",
       "  function embed_document(root) {\n",
       "    var docs_json = {\"725abe5e-89e1-4839-864d-df3419f5a9ff\":{\"defs\":[{\"extends\":null,\"module\":null,\"name\":\"ReactiveHTML1\",\"overrides\":[],\"properties\":[]},{\"extends\":null,\"module\":null,\"name\":\"FlexBox1\",\"overrides\":[],\"properties\":[{\"default\":\"flex-start\",\"kind\":null,\"name\":\"align_content\"},{\"default\":\"flex-start\",\"kind\":null,\"name\":\"align_items\"},{\"default\":\"row\",\"kind\":null,\"name\":\"flex_direction\"},{\"default\":\"wrap\",\"kind\":null,\"name\":\"flex_wrap\"},{\"default\":\"flex-start\",\"kind\":null,\"name\":\"justify_content\"}]},{\"extends\":null,\"module\":null,\"name\":\"GridStack1\",\"overrides\":[],\"properties\":[{\"default\":\"warn\",\"kind\":null,\"name\":\"mode\"},{\"default\":null,\"kind\":null,\"name\":\"ncols\"},{\"default\":null,\"kind\":null,\"name\":\"nrows\"},{\"default\":true,\"kind\":null,\"name\":\"allow_resize\"},{\"default\":true,\"kind\":null,\"name\":\"allow_drag\"},{\"default\":[],\"kind\":null,\"name\":\"state\"}]},{\"extends\":null,\"module\":null,\"name\":\"click1\",\"overrides\":[],\"properties\":[{\"default\":\"\",\"kind\":null,\"name\":\"terminal_output\"},{\"default\":\"\",\"kind\":null,\"name\":\"debug_name\"},{\"default\":0,\"kind\":null,\"name\":\"clears\"}]},{\"extends\":null,\"module\":null,\"name\":\"NotificationAreaBase1\",\"overrides\":[],\"properties\":[{\"default\":\"bottom-right\",\"kind\":null,\"name\":\"position\"},{\"default\":0,\"kind\":null,\"name\":\"_clear\"}]},{\"extends\":null,\"module\":null,\"name\":\"NotificationArea1\",\"overrides\":[],\"properties\":[{\"default\":[],\"kind\":null,\"name\":\"notifications\"},{\"default\":\"bottom-right\",\"kind\":null,\"name\":\"position\"},{\"default\":0,\"kind\":null,\"name\":\"_clear\"},{\"default\":[{\"background\":\"#ffc107\",\"icon\":{\"className\":\"fas fa-exclamation-triangle\",\"color\":\"white\",\"tagName\":\"i\"},\"type\":\"warning\"},{\"background\":\"#007bff\",\"icon\":{\"className\":\"fas fa-info-circle\",\"color\":\"white\",\"tagName\":\"i\"},\"type\":\"info\"}],\"kind\":null,\"name\":\"types\"}]},{\"extends\":null,\"module\":null,\"name\":\"Notification\",\"overrides\":[],\"properties\":[{\"default\":null,\"kind\":null,\"name\":\"background\"},{\"default\":3000,\"kind\":null,\"name\":\"duration\"},{\"default\":null,\"kind\":null,\"name\":\"icon\"},{\"default\":\"\",\"kind\":null,\"name\":\"message\"},{\"default\":null,\"kind\":null,\"name\":\"notification_type\"},{\"default\":false,\"kind\":null,\"name\":\"_destroyed\"}]},{\"extends\":null,\"module\":null,\"name\":\"TemplateActions1\",\"overrides\":[],\"properties\":[{\"default\":0,\"kind\":null,\"name\":\"open_modal\"},{\"default\":0,\"kind\":null,\"name\":\"close_modal\"}]},{\"extends\":null,\"module\":null,\"name\":\"MaterialTemplateActions1\",\"overrides\":[],\"properties\":[{\"default\":0,\"kind\":null,\"name\":\"open_modal\"},{\"default\":0,\"kind\":null,\"name\":\"close_modal\"}]}],\"roots\":{\"references\":[{\"attributes\":{},\"id\":\"14128\",\"type\":\"BasicTickFormatter\"},{\"attributes\":{\"line_alpha\":0.1,\"line_color\":\"#30a2da\",\"line_width\":2,\"x\":{\"field\":\"Year\"},\"y\":{\"field\":\"Happiness score\"}},\"id\":\"14134\",\"type\":\"Line\"},{\"attributes\":{\"callback\":null,\"renderers\":[{\"id\":\"14136\"},{\"id\":\"14157\"},{\"id\":\"14179\"}],\"tags\":[\"hv_created\"],\"tooltips\":[[\"Country name\",\"@{Country_name}\"],[\"Year\",\"@{Year}\"],[\"Happiness score\",\"@{Happiness_score}\"]]},\"id\":\"14091\",\"type\":\"HoverTool\"},{\"attributes\":{\"coordinates\":null,\"data_source\":{\"id\":\"14151\"},\"glyph\":{\"id\":\"14154\"},\"group\":null,\"hover_glyph\":null,\"muted_glyph\":{\"id\":\"14156\"},\"nonselection_glyph\":{\"id\":\"14155\"},\"selection_glyph\":{\"id\":\"14172\"},\"view\":{\"id\":\"14158\"}},\"id\":\"14157\",\"type\":\"GlyphRenderer\"},{\"attributes\":{},\"id\":\"14174\",\"type\":\"Selection\"},{\"attributes\":{\"data\":{\"Country_name\":[\"Afghanistan\",\"Afghanistan\",\"Afghanistan\"],\"Happiness score\":{\"__ndarray__\":\"HDcE4AKJBEDJdr6fGi8EQAisHFpkOwNA\",\"dtype\":\"float64\",\"order\":\"little\",\"shape\":[3]},\"Happiness_score\":{\"__ndarray__\":\"HDcE4AKJBEDJdr6fGi8EQAisHFpkOwNA\",\"dtype\":\"float64\",\"order\":\"little\",\"shape\":[3]},\"Year\":[2020,2021,2022]},\"selected\":{\"id\":\"14131\"},\"selection_policy\":{\"id\":\"14145\"}},\"id\":\"14130\",\"type\":\"ColumnDataSource\"},{\"attributes\":{\"data\":{\"Country_name\":[\"Jordan\",\"Jordan\",\"Jordan\"],\"Happiness score\":{\"__ndarray__\":\"jX35/5mIEkAUrkfhepQRQM/3U+OlmxBA\",\"dtype\":\"float64\",\"order\":\"little\",\"shape\":[3]},\"Happiness_score\":{\"__ndarray__\":\"jX35/5mIEkAUrkfhepQRQM/3U+OlmxBA\",\"dtype\":\"float64\",\"order\":\"little\",\"shape\":[3]},\"Year\":[2020,2021,2022]},\"selected\":{\"id\":\"14152\"},\"selection_policy\":{\"id\":\"14168\"}},\"id\":\"14151\",\"type\":\"ColumnDataSource\"},{\"attributes\":{\"line_color\":\"#fc4f30\",\"line_width\":2,\"x\":{\"field\":\"Year\"},\"y\":{\"field\":\"Happiness score\"}},\"id\":\"14172\",\"type\":\"Line\"},{\"attributes\":{\"line_alpha\":0.1,\"line_color\":\"#fc4f30\",\"line_width\":2,\"x\":{\"field\":\"Year\"},\"y\":{\"field\":\"Happiness score\"}},\"id\":\"14155\",\"type\":\"Line\"},{\"attributes\":{},\"id\":\"14131\",\"type\":\"Selection\"},{\"attributes\":{\"coordinates\":null,\"group\":null,\"text\":\"On Developing Countries\",\"text_color\":\"black\",\"text_font_size\":\"12pt\"},\"id\":\"14095\",\"type\":\"Title\"},{\"attributes\":{\"line_color\":\"#30a2da\",\"line_width\":2,\"x\":{\"field\":\"Year\"},\"y\":{\"field\":\"Happiness score\"}},\"id\":\"14133\",\"type\":\"Line\"},{\"attributes\":{\"line_alpha\":0.2,\"line_color\":\"#30a2da\",\"line_width\":2,\"x\":{\"field\":\"Year\"},\"y\":{\"field\":\"Happiness score\"}},\"id\":\"14135\",\"type\":\"Line\"},{\"attributes\":{\"line_alpha\":0.2,\"line_color\":\"#fc4f30\",\"line_width\":2,\"x\":{\"field\":\"Year\"},\"y\":{\"field\":\"Happiness score\"}},\"id\":\"14156\",\"type\":\"Line\"},{\"attributes\":{\"source\":{\"id\":\"14173\"}},\"id\":\"14180\",\"type\":\"CDSView\"},{\"attributes\":{\"data\":{\"Country_name\":[\"Lebanon\",\"Lebanon\",\"Lebanon\"],\"Happiness score\":{\"__ndarray__\":\"5msGIAQWE0C8dJMYBFYSQKRwPQrXowdA\",\"dtype\":\"float64\",\"order\":\"little\",\"shape\":[3]},\"Happiness_score\":{\"__ndarray__\":\"5msGIAQWE0C8dJMYBFYSQKRwPQrXowdA\",\"dtype\":\"float64\",\"order\":\"little\",\"shape\":[3]},\"Year\":[2020,2021,2022]},\"selected\":{\"id\":\"14174\"},\"selection_policy\":{\"id\":\"14192\"}},\"id\":\"14173\",\"type\":\"ColumnDataSource\"},{\"attributes\":{\"client_comm_id\":\"a10691bd6f2f40d4abfc51e5ca41c0f8\",\"comm_id\":\"f62ed3d9d74542f497a5d2cdb0444fcf\",\"plot_id\":\"14082\"},\"id\":\"14257\",\"type\":\"panel.models.comm_manager.CommManager\"},{\"attributes\":{\"coordinates\":null,\"data_source\":{\"id\":\"14130\"},\"glyph\":{\"id\":\"14133\"},\"group\":null,\"hover_glyph\":null,\"muted_glyph\":{\"id\":\"14135\"},\"nonselection_glyph\":{\"id\":\"14134\"},\"selection_glyph\":{\"id\":\"14150\"},\"view\":{\"id\":\"14137\"}},\"id\":\"14136\",\"type\":\"GlyphRenderer\"},{\"attributes\":{\"source\":{\"id\":\"14151\"}},\"id\":\"14158\",\"type\":\"CDSView\"},{\"attributes\":{},\"id\":\"14104\",\"type\":\"BasicTicker\"},{\"attributes\":{\"line_color\":\"#e5ae38\",\"line_width\":2,\"x\":{\"field\":\"Year\"},\"y\":{\"field\":\"Happiness score\"}},\"id\":\"14176\",\"type\":\"Line\"},{\"attributes\":{\"line_color\":\"#e5ae38\",\"line_width\":2,\"x\":{\"field\":\"Year\"},\"y\":{\"field\":\"Happiness score\"}},\"id\":\"14196\",\"type\":\"Line\"},{\"attributes\":{},\"id\":\"14145\",\"type\":\"UnionRenderers\"},{\"attributes\":{\"label\":{\"value\":\"Jordan\"},\"renderers\":[{\"id\":\"14157\"}]},\"id\":\"14171\",\"type\":\"LegendItem\"},{\"attributes\":{},\"id\":\"14101\",\"type\":\"LinearScale\"},{\"attributes\":{\"source\":{\"id\":\"14130\"}},\"id\":\"14137\",\"type\":\"CDSView\"},{\"attributes\":{\"axis\":{\"id\":\"14103\"},\"coordinates\":null,\"grid_line_color\":null,\"group\":null,\"ticker\":null},\"id\":\"14106\",\"type\":\"Grid\"},{\"attributes\":{\"click_policy\":\"mute\",\"coordinates\":null,\"group\":null,\"items\":[{\"id\":\"14149\"},{\"id\":\"14171\"},{\"id\":\"14195\"}],\"location\":[0,0],\"title\":\"Country name\"},\"id\":\"14148\",\"type\":\"Legend\"},{\"attributes\":{\"children\":[{\"id\":\"14083\"}],\"margin\":[0,0,0,0],\"name\":\"Row26978\"},\"id\":\"14082\",\"type\":\"Row\"},{\"attributes\":{},\"id\":\"14126\",\"type\":\"AllLabels\"},{\"attributes\":{\"axis_label\":\"Happiness score\",\"coordinates\":null,\"formatter\":{\"id\":\"14128\"},\"group\":null,\"major_label_policy\":{\"id\":\"14129\"},\"ticker\":{\"id\":\"14108\"}},\"id\":\"14107\",\"type\":\"LinearAxis\"},{\"attributes\":{},\"id\":\"14168\",\"type\":\"UnionRenderers\"},{\"attributes\":{\"axis\":{\"id\":\"14107\"},\"coordinates\":null,\"dimension\":1,\"grid_line_color\":null,\"group\":null,\"ticker\":null},\"id\":\"14110\",\"type\":\"Grid\"},{\"attributes\":{\"line_alpha\":0.1,\"line_color\":\"#e5ae38\",\"line_width\":2,\"x\":{\"field\":\"Year\"},\"y\":{\"field\":\"Happiness score\"}},\"id\":\"14177\",\"type\":\"Line\"},{\"attributes\":{},\"id\":\"14108\",\"type\":\"BasicTicker\"},{\"attributes\":{\"label\":{\"value\":\"Lebanon\"},\"renderers\":[{\"id\":\"14179\"}]},\"id\":\"14195\",\"type\":\"LegendItem\"},{\"attributes\":{},\"id\":\"14113\",\"type\":\"WheelZoomTool\"},{\"attributes\":{\"margin\":[5,5,5,5],\"name\":\"HSpacer26970\",\"sizing_mode\":\"stretch_width\"},\"id\":\"14088\",\"type\":\"Spacer\"},{\"attributes\":{},\"id\":\"14192\",\"type\":\"UnionRenderers\"},{\"attributes\":{},\"id\":\"14111\",\"type\":\"SaveTool\"},{\"attributes\":{},\"id\":\"14099\",\"type\":\"LinearScale\"},{\"attributes\":{\"overlay\":{\"id\":\"14116\"}},\"id\":\"14114\",\"type\":\"BoxZoomTool\"},{\"attributes\":{},\"id\":\"14115\",\"type\":\"ResetTool\"},{\"attributes\":{\"below\":[{\"id\":\"14103\"}],\"center\":[{\"id\":\"14106\"},{\"id\":\"14110\"}],\"height\":300,\"left\":[{\"id\":\"14107\"}],\"margin\":[5,5,5,5],\"min_border_bottom\":10,\"min_border_left\":10,\"min_border_right\":10,\"min_border_top\":10,\"renderers\":[{\"id\":\"14136\"},{\"id\":\"14157\"},{\"id\":\"14179\"}],\"right\":[{\"id\":\"14148\"}],\"sizing_mode\":\"fixed\",\"title\":{\"id\":\"14095\"},\"toolbar\":{\"id\":\"14117\"},\"width\":700,\"x_range\":{\"id\":\"14089\"},\"x_scale\":{\"id\":\"14099\"},\"y_range\":{\"id\":\"14090\"},\"y_scale\":{\"id\":\"14101\"}},\"id\":\"14094\",\"subtype\":\"Figure\",\"type\":\"Plot\"},{\"attributes\":{\"bottom_units\":\"screen\",\"coordinates\":null,\"fill_alpha\":0.5,\"fill_color\":\"lightgrey\",\"group\":null,\"left_units\":\"screen\",\"level\":\"overlay\",\"line_alpha\":1.0,\"line_color\":\"black\",\"line_dash\":[4,4],\"line_width\":2,\"right_units\":\"screen\",\"syncable\":false,\"top_units\":\"screen\"},\"id\":\"14116\",\"type\":\"BoxAnnotation\"},{\"attributes\":{\"end\":2022,\"margin\":[5,10,5,10],\"start\":2020,\"title\":\"Year slider\",\"value\":2022},\"id\":\"14086\",\"type\":\"Slider\"},{\"attributes\":{\"line_alpha\":0.2,\"line_color\":\"#e5ae38\",\"line_width\":2,\"x\":{\"field\":\"Year\"},\"y\":{\"field\":\"Happiness score\"}},\"id\":\"14178\",\"type\":\"Line\"},{\"attributes\":{},\"id\":\"14112\",\"type\":\"PanTool\"},{\"attributes\":{\"label\":{\"value\":\"Afghanistan\"},\"renderers\":[{\"id\":\"14136\"}]},\"id\":\"14149\",\"type\":\"LegendItem\"},{\"attributes\":{\"active_drag\":{\"id\":\"14112\"},\"active_scroll\":{\"id\":\"14113\"},\"tools\":[{\"id\":\"14091\"},{\"id\":\"14111\"},{\"id\":\"14112\"},{\"id\":\"14113\"},{\"id\":\"14114\"},{\"id\":\"14115\"}]},\"id\":\"14117\",\"type\":\"Toolbar\"},{\"attributes\":{\"active\":0,\"button_type\":\"success\",\"labels\":[\"Happiness score\",\"Log GDP per capita\",\"Social support\",\"Healthy life expectancy\",\"Freedom to make life choices\",\"Generosity\",\"Perceptions of corruption\",\"Dystopia + residual\"],\"margin\":[5,10,5,10]},\"id\":\"14087\",\"type\":\"RadioButtonGroup\"},{\"attributes\":{},\"id\":\"14152\",\"type\":\"Selection\"},{\"attributes\":{\"line_color\":\"#30a2da\",\"line_width\":2,\"x\":{\"field\":\"Year\"},\"y\":{\"field\":\"Happiness score\"}},\"id\":\"14150\",\"type\":\"Line\"},{\"attributes\":{\"end\":2022.0,\"reset_end\":2022.0,\"reset_start\":2020.0,\"start\":2020.0,\"tags\":[[[\"Year\",\"Year\",null]]]},\"id\":\"14089\",\"type\":\"Range1d\"},{\"attributes\":{},\"id\":\"14125\",\"type\":\"BasicTickFormatter\"},{\"attributes\":{\"children\":[{\"id\":\"14084\"},{\"id\":\"14094\"}],\"margin\":[0,0,0,0],\"name\":\"Column26977\"},\"id\":\"14083\",\"type\":\"Column\"},{\"attributes\":{\"children\":[{\"id\":\"14086\"},{\"id\":\"14087\"}],\"margin\":[0,0,0,0],\"name\":\"Column26966\"},\"id\":\"14085\",\"type\":\"Column\"},{\"attributes\":{\"axis_label\":\"Year\",\"coordinates\":null,\"formatter\":{\"id\":\"14125\"},\"group\":null,\"major_label_policy\":{\"id\":\"14126\"},\"ticker\":{\"id\":\"14104\"}},\"id\":\"14103\",\"type\":\"LinearAxis\"},{\"attributes\":{},\"id\":\"14129\",\"type\":\"AllLabels\"},{\"attributes\":{\"children\":[{\"id\":\"14085\"},{\"id\":\"14088\"}],\"margin\":[0,0,0,0],\"name\":\"Row26971\"},\"id\":\"14084\",\"type\":\"Row\"},{\"attributes\":{\"coordinates\":null,\"data_source\":{\"id\":\"14173\"},\"glyph\":{\"id\":\"14176\"},\"group\":null,\"hover_glyph\":null,\"muted_glyph\":{\"id\":\"14178\"},\"nonselection_glyph\":{\"id\":\"14177\"},\"selection_glyph\":{\"id\":\"14196\"},\"view\":{\"id\":\"14180\"}},\"id\":\"14179\",\"type\":\"GlyphRenderer\"},{\"attributes\":{\"end\":5.0082501221,\"reset_end\":5.0082501221,\"reset_start\":2.1672499889,\"start\":2.1672499889,\"tags\":[[[\"Happiness score\",\"Happiness score\",null]]]},\"id\":\"14090\",\"type\":\"Range1d\"},{\"attributes\":{\"line_color\":\"#fc4f30\",\"line_width\":2,\"x\":{\"field\":\"Year\"},\"y\":{\"field\":\"Happiness score\"}},\"id\":\"14154\",\"type\":\"Line\"}],\"root_ids\":[\"14082\",\"14257\"]},\"title\":\"Bokeh Application\",\"version\":\"2.4.3\"}};\n",
       "    var render_items = [{\"docid\":\"725abe5e-89e1-4839-864d-df3419f5a9ff\",\"root_ids\":[\"14082\"],\"roots\":{\"14082\":\"89201bb6-c478-41f3-bc27-9f7c46b66c61\"}}];\n",
       "    root.Bokeh.embed.embed_items_notebook(docs_json, render_items);\n",
       "    for (const render_item of render_items) {\n",
       "      for (const root_id of render_item.root_ids) {\n",
       "\tconst id_el = document.getElementById(root_id)\n",
       "\tif (id_el.children.length && (id_el.children[0].className === 'bk-root')) {\n",
       "\t  const root_el = id_el.children[0]\n",
       "\t  root_el.id = root_el.id + '-rendered'\n",
       "\t}\n",
       "      }\n",
       "    }\n",
       "  }\n",
       "  if (root.Bokeh !== undefined && root.Bokeh.Panel !== undefined && ( root['Tabulator'] !== undefined) && ( root['Tabulator'] !== undefined)) {\n",
       "    embed_document(root);\n",
       "  } else {\n",
       "    var attempts = 0;\n",
       "    var timer = setInterval(function(root) {\n",
       "      if (root.Bokeh !== undefined && root.Bokeh.Panel !== undefined && (root['Tabulator'] !== undefined) && (root['Tabulator'] !== undefined)) {\n",
       "        clearInterval(timer);\n",
       "        embed_document(root);\n",
       "      } else if (document.readyState == \"complete\") {\n",
       "        attempts++;\n",
       "        if (attempts > 200) {\n",
       "          clearInterval(timer);\n",
       "          console.log(\"Bokeh: ERROR: Unable to run BokehJS code because BokehJS library is missing\");\n",
       "        }\n",
       "      }\n",
       "    }, 25, root)\n",
       "  }\n",
       "})(window);</script>"
      ],
      "text/plain": [
       "<hvplot.interactive.Interactive at 0x7fc495fbba90>"
      ]
     },
     "execution_count": 48,
     "metadata": {
      "application/vnd.holoviews_exec.v0+json": {
       "id": "14082"
      }
     },
     "output_type": "execute_result"
    }
   ],
   "source": [
    "#creat a line graph fromnew dataframe\n",
    "line2_plot = hyc2_pipeline.hvplot(x = 'Year', by='Country name', y=yaxis_co2,line_width=2, title=\"On Developing Countries\")\n",
    "line2_plot"
   ]
  },
  {
   "cell_type": "code",
   "execution_count": 49,
   "metadata": {},
   "outputs": [
    {
     "data": {
      "text/html": [
       "<div>\n",
       "<style scoped>\n",
       "    .dataframe tbody tr th:only-of-type {\n",
       "        vertical-align: middle;\n",
       "    }\n",
       "\n",
       "    .dataframe tbody tr th {\n",
       "        vertical-align: top;\n",
       "    }\n",
       "\n",
       "    .dataframe thead th {\n",
       "        text-align: right;\n",
       "    }\n",
       "</style>\n",
       "<table border=\"1\" class=\"dataframe\">\n",
       "  <thead>\n",
       "    <tr style=\"text-align: right;\">\n",
       "      <th></th>\n",
       "      <th>Year</th>\n",
       "      <th>RANK</th>\n",
       "      <th>Country name</th>\n",
       "      <th>Regional indicator</th>\n",
       "      <th>Happiness score</th>\n",
       "      <th>Whisker-high</th>\n",
       "      <th>Whisker-low</th>\n",
       "      <th>Log GDP per capita</th>\n",
       "      <th>Social support</th>\n",
       "      <th>Healthy life expectancy</th>\n",
       "      <th>Freedom to make life choices</th>\n",
       "      <th>Generosity</th>\n",
       "      <th>Perceptions of corruption</th>\n",
       "      <th>Dystopia + residual</th>\n",
       "    </tr>\n",
       "  </thead>\n",
       "  <tbody>\n",
       "    <tr>\n",
       "      <th>0</th>\n",
       "      <td>2020</td>\n",
       "      <td>1</td>\n",
       "      <td>Finland</td>\n",
       "      <td>Western Europe</td>\n",
       "      <td>7.8087</td>\n",
       "      <td>7.869766</td>\n",
       "      <td>7.747634</td>\n",
       "      <td>1.285190</td>\n",
       "      <td>1.499526</td>\n",
       "      <td>0.961271</td>\n",
       "      <td>0.662317</td>\n",
       "      <td>0.159670</td>\n",
       "      <td>0.477857</td>\n",
       "      <td>2.762835</td>\n",
       "    </tr>\n",
       "    <tr>\n",
       "      <th>153</th>\n",
       "      <td>2021</td>\n",
       "      <td>1</td>\n",
       "      <td>Finland</td>\n",
       "      <td>Western Europe</td>\n",
       "      <td>7.8420</td>\n",
       "      <td>7.904000</td>\n",
       "      <td>7.780000</td>\n",
       "      <td>1.446000</td>\n",
       "      <td>1.106000</td>\n",
       "      <td>0.741000</td>\n",
       "      <td>0.691000</td>\n",
       "      <td>0.124000</td>\n",
       "      <td>0.481000</td>\n",
       "      <td>3.253000</td>\n",
       "    </tr>\n",
       "    <tr>\n",
       "      <th>302</th>\n",
       "      <td>2022</td>\n",
       "      <td>1</td>\n",
       "      <td>Finland</td>\n",
       "      <td>Western Europe</td>\n",
       "      <td>7.8210</td>\n",
       "      <td>7.886000</td>\n",
       "      <td>7.756000</td>\n",
       "      <td>1.892000</td>\n",
       "      <td>1.258000</td>\n",
       "      <td>0.775000</td>\n",
       "      <td>0.736000</td>\n",
       "      <td>0.109000</td>\n",
       "      <td>0.534000</td>\n",
       "      <td>2.518000</td>\n",
       "    </tr>\n",
       "    <tr>\n",
       "      <th>1</th>\n",
       "      <td>2020</td>\n",
       "      <td>2</td>\n",
       "      <td>Denmark</td>\n",
       "      <td>Western Europe</td>\n",
       "      <td>7.6456</td>\n",
       "      <td>7.711245</td>\n",
       "      <td>7.579955</td>\n",
       "      <td>1.326949</td>\n",
       "      <td>1.503449</td>\n",
       "      <td>0.979333</td>\n",
       "      <td>0.665040</td>\n",
       "      <td>0.242793</td>\n",
       "      <td>0.495260</td>\n",
       "      <td>2.432741</td>\n",
       "    </tr>\n",
       "    <tr>\n",
       "      <th>154</th>\n",
       "      <td>2021</td>\n",
       "      <td>2</td>\n",
       "      <td>Denmark</td>\n",
       "      <td>Western Europe</td>\n",
       "      <td>7.6200</td>\n",
       "      <td>7.687000</td>\n",
       "      <td>7.552000</td>\n",
       "      <td>1.502000</td>\n",
       "      <td>1.108000</td>\n",
       "      <td>0.763000</td>\n",
       "      <td>0.686000</td>\n",
       "      <td>0.208000</td>\n",
       "      <td>0.485000</td>\n",
       "      <td>2.868000</td>\n",
       "    </tr>\n",
       "    <tr>\n",
       "      <th>303</th>\n",
       "      <td>2022</td>\n",
       "      <td>2</td>\n",
       "      <td>Denmark</td>\n",
       "      <td>Western Europe</td>\n",
       "      <td>7.6360</td>\n",
       "      <td>7.710000</td>\n",
       "      <td>7.563000</td>\n",
       "      <td>1.953000</td>\n",
       "      <td>1.243000</td>\n",
       "      <td>0.777000</td>\n",
       "      <td>0.719000</td>\n",
       "      <td>0.188000</td>\n",
       "      <td>0.532000</td>\n",
       "      <td>2.226000</td>\n",
       "    </tr>\n",
       "    <tr>\n",
       "      <th>2</th>\n",
       "      <td>2020</td>\n",
       "      <td>3</td>\n",
       "      <td>Switzerland</td>\n",
       "      <td>Western Europe</td>\n",
       "      <td>7.5599</td>\n",
       "      <td>7.628528</td>\n",
       "      <td>7.491272</td>\n",
       "      <td>1.390774</td>\n",
       "      <td>1.472403</td>\n",
       "      <td>1.040533</td>\n",
       "      <td>0.628954</td>\n",
       "      <td>0.269056</td>\n",
       "      <td>0.407946</td>\n",
       "      <td>2.350267</td>\n",
       "    </tr>\n",
       "    <tr>\n",
       "      <th>155</th>\n",
       "      <td>2021</td>\n",
       "      <td>3</td>\n",
       "      <td>Switzerland</td>\n",
       "      <td>Western Europe</td>\n",
       "      <td>7.5710</td>\n",
       "      <td>7.643000</td>\n",
       "      <td>7.500000</td>\n",
       "      <td>1.566000</td>\n",
       "      <td>1.079000</td>\n",
       "      <td>0.816000</td>\n",
       "      <td>0.653000</td>\n",
       "      <td>0.204000</td>\n",
       "      <td>0.413000</td>\n",
       "      <td>2.839000</td>\n",
       "    </tr>\n",
       "    <tr>\n",
       "      <th>305</th>\n",
       "      <td>2022</td>\n",
       "      <td>4</td>\n",
       "      <td>Switzerland</td>\n",
       "      <td>Western Europe</td>\n",
       "      <td>7.5120</td>\n",
       "      <td>7.586000</td>\n",
       "      <td>7.437000</td>\n",
       "      <td>2.026000</td>\n",
       "      <td>1.226000</td>\n",
       "      <td>0.822000</td>\n",
       "      <td>0.677000</td>\n",
       "      <td>0.147000</td>\n",
       "      <td>0.461000</td>\n",
       "      <td>2.153000</td>\n",
       "    </tr>\n",
       "    <tr>\n",
       "      <th>152</th>\n",
       "      <td>2020</td>\n",
       "      <td>153</td>\n",
       "      <td>Afghanistan</td>\n",
       "      <td>South Asia</td>\n",
       "      <td>2.5669</td>\n",
       "      <td>2.628270</td>\n",
       "      <td>2.505530</td>\n",
       "      <td>0.300706</td>\n",
       "      <td>0.356434</td>\n",
       "      <td>0.266052</td>\n",
       "      <td>0.000000</td>\n",
       "      <td>0.135235</td>\n",
       "      <td>0.001226</td>\n",
       "      <td>1.507236</td>\n",
       "    </tr>\n",
       "    <tr>\n",
       "      <th>301</th>\n",
       "      <td>2021</td>\n",
       "      <td>149</td>\n",
       "      <td>Afghanistan</td>\n",
       "      <td>South Asia</td>\n",
       "      <td>2.5230</td>\n",
       "      <td>2.596000</td>\n",
       "      <td>2.449000</td>\n",
       "      <td>0.370000</td>\n",
       "      <td>0.000000</td>\n",
       "      <td>0.126000</td>\n",
       "      <td>0.000000</td>\n",
       "      <td>0.122000</td>\n",
       "      <td>0.010000</td>\n",
       "      <td>1.895000</td>\n",
       "    </tr>\n",
       "    <tr>\n",
       "      <th>426</th>\n",
       "      <td>2022</td>\n",
       "      <td>146</td>\n",
       "      <td>Afghanistan</td>\n",
       "      <td>South Asia</td>\n",
       "      <td>2.4040</td>\n",
       "      <td>2.469000</td>\n",
       "      <td>2.339000</td>\n",
       "      <td>0.758000</td>\n",
       "      <td>0.000000</td>\n",
       "      <td>0.289000</td>\n",
       "      <td>0.000000</td>\n",
       "      <td>0.089000</td>\n",
       "      <td>0.005000</td>\n",
       "      <td>1.263000</td>\n",
       "    </tr>\n",
       "    <tr>\n",
       "      <th>110</th>\n",
       "      <td>2020</td>\n",
       "      <td>111</td>\n",
       "      <td>Lebanon</td>\n",
       "      <td>Middle East and North Africa</td>\n",
       "      <td>4.7715</td>\n",
       "      <td>4.857258</td>\n",
       "      <td>4.685742</td>\n",
       "      <td>0.889233</td>\n",
       "      <td>1.192493</td>\n",
       "      <td>0.788671</td>\n",
       "      <td>0.185517</td>\n",
       "      <td>0.158524</td>\n",
       "      <td>0.021518</td>\n",
       "      <td>1.535542</td>\n",
       "    </tr>\n",
       "    <tr>\n",
       "      <th>275</th>\n",
       "      <td>2021</td>\n",
       "      <td>123</td>\n",
       "      <td>Lebanon</td>\n",
       "      <td>Middle East and North Africa</td>\n",
       "      <td>4.5840</td>\n",
       "      <td>4.691000</td>\n",
       "      <td>4.477000</td>\n",
       "      <td>1.045000</td>\n",
       "      <td>0.868000</td>\n",
       "      <td>0.595000</td>\n",
       "      <td>0.175000</td>\n",
       "      <td>0.140000</td>\n",
       "      <td>0.026000</td>\n",
       "      <td>1.736000</td>\n",
       "    </tr>\n",
       "    <tr>\n",
       "      <th>425</th>\n",
       "      <td>2022</td>\n",
       "      <td>145</td>\n",
       "      <td>Lebanon</td>\n",
       "      <td>Middle East and North Africa</td>\n",
       "      <td>2.9550</td>\n",
       "      <td>3.049000</td>\n",
       "      <td>2.862000</td>\n",
       "      <td>1.392000</td>\n",
       "      <td>0.498000</td>\n",
       "      <td>0.631000</td>\n",
       "      <td>0.103000</td>\n",
       "      <td>0.082000</td>\n",
       "      <td>0.034000</td>\n",
       "      <td>0.216000</td>\n",
       "    </tr>\n",
       "    <tr>\n",
       "      <th>118</th>\n",
       "      <td>2020</td>\n",
       "      <td>119</td>\n",
       "      <td>Jordan</td>\n",
       "      <td>Middle East and North Africa</td>\n",
       "      <td>4.6334</td>\n",
       "      <td>4.748552</td>\n",
       "      <td>4.518248</td>\n",
       "      <td>0.785179</td>\n",
       "      <td>1.140119</td>\n",
       "      <td>0.777625</td>\n",
       "      <td>0.424855</td>\n",
       "      <td>0.091495</td>\n",
       "      <td>0.151879</td>\n",
       "      <td>1.262258</td>\n",
       "    </tr>\n",
       "    <tr>\n",
       "      <th>279</th>\n",
       "      <td>2021</td>\n",
       "      <td>127</td>\n",
       "      <td>Jordan</td>\n",
       "      <td>Middle East and North Africa</td>\n",
       "      <td>4.3950</td>\n",
       "      <td>4.516000</td>\n",
       "      <td>4.273000</td>\n",
       "      <td>0.890000</td>\n",
       "      <td>0.685000</td>\n",
       "      <td>0.583000</td>\n",
       "      <td>0.455000</td>\n",
       "      <td>0.079000</td>\n",
       "      <td>0.150000</td>\n",
       "      <td>1.553000</td>\n",
       "    </tr>\n",
       "    <tr>\n",
       "      <th>417</th>\n",
       "      <td>2022</td>\n",
       "      <td>134</td>\n",
       "      <td>Jordan</td>\n",
       "      <td>Middle East and North Africa</td>\n",
       "      <td>4.1520</td>\n",
       "      <td>4.276000</td>\n",
       "      <td>4.029000</td>\n",
       "      <td>1.324000</td>\n",
       "      <td>0.724000</td>\n",
       "      <td>0.675000</td>\n",
       "      <td>0.476000</td>\n",
       "      <td>0.058000</td>\n",
       "      <td>0.200000</td>\n",
       "      <td>0.695000</td>\n",
       "    </tr>\n",
       "  </tbody>\n",
       "</table>\n",
       "</div>"
      ],
      "text/plain": [
       "     Year  RANK Country name            Regional indicator  Happiness score   \n",
       "0    2020     1      Finland                Western Europe           7.8087  \\\n",
       "153  2021     1      Finland                Western Europe           7.8420   \n",
       "302  2022     1      Finland                Western Europe           7.8210   \n",
       "1    2020     2      Denmark                Western Europe           7.6456   \n",
       "154  2021     2      Denmark                Western Europe           7.6200   \n",
       "303  2022     2      Denmark                Western Europe           7.6360   \n",
       "2    2020     3  Switzerland                Western Europe           7.5599   \n",
       "155  2021     3  Switzerland                Western Europe           7.5710   \n",
       "305  2022     4  Switzerland                Western Europe           7.5120   \n",
       "152  2020   153  Afghanistan                    South Asia           2.5669   \n",
       "301  2021   149  Afghanistan                    South Asia           2.5230   \n",
       "426  2022   146  Afghanistan                    South Asia           2.4040   \n",
       "110  2020   111      Lebanon  Middle East and North Africa           4.7715   \n",
       "275  2021   123      Lebanon  Middle East and North Africa           4.5840   \n",
       "425  2022   145      Lebanon  Middle East and North Africa           2.9550   \n",
       "118  2020   119       Jordan  Middle East and North Africa           4.6334   \n",
       "279  2021   127       Jordan  Middle East and North Africa           4.3950   \n",
       "417  2022   134       Jordan  Middle East and North Africa           4.1520   \n",
       "\n",
       "     Whisker-high  Whisker-low  Log GDP per capita  Social support   \n",
       "0        7.869766     7.747634            1.285190        1.499526  \\\n",
       "153      7.904000     7.780000            1.446000        1.106000   \n",
       "302      7.886000     7.756000            1.892000        1.258000   \n",
       "1        7.711245     7.579955            1.326949        1.503449   \n",
       "154      7.687000     7.552000            1.502000        1.108000   \n",
       "303      7.710000     7.563000            1.953000        1.243000   \n",
       "2        7.628528     7.491272            1.390774        1.472403   \n",
       "155      7.643000     7.500000            1.566000        1.079000   \n",
       "305      7.586000     7.437000            2.026000        1.226000   \n",
       "152      2.628270     2.505530            0.300706        0.356434   \n",
       "301      2.596000     2.449000            0.370000        0.000000   \n",
       "426      2.469000     2.339000            0.758000        0.000000   \n",
       "110      4.857258     4.685742            0.889233        1.192493   \n",
       "275      4.691000     4.477000            1.045000        0.868000   \n",
       "425      3.049000     2.862000            1.392000        0.498000   \n",
       "118      4.748552     4.518248            0.785179        1.140119   \n",
       "279      4.516000     4.273000            0.890000        0.685000   \n",
       "417      4.276000     4.029000            1.324000        0.724000   \n",
       "\n",
       "     Healthy life expectancy  Freedom to make life choices  Generosity   \n",
       "0                   0.961271                      0.662317    0.159670  \\\n",
       "153                 0.741000                      0.691000    0.124000   \n",
       "302                 0.775000                      0.736000    0.109000   \n",
       "1                   0.979333                      0.665040    0.242793   \n",
       "154                 0.763000                      0.686000    0.208000   \n",
       "303                 0.777000                      0.719000    0.188000   \n",
       "2                   1.040533                      0.628954    0.269056   \n",
       "155                 0.816000                      0.653000    0.204000   \n",
       "305                 0.822000                      0.677000    0.147000   \n",
       "152                 0.266052                      0.000000    0.135235   \n",
       "301                 0.126000                      0.000000    0.122000   \n",
       "426                 0.289000                      0.000000    0.089000   \n",
       "110                 0.788671                      0.185517    0.158524   \n",
       "275                 0.595000                      0.175000    0.140000   \n",
       "425                 0.631000                      0.103000    0.082000   \n",
       "118                 0.777625                      0.424855    0.091495   \n",
       "279                 0.583000                      0.455000    0.079000   \n",
       "417                 0.675000                      0.476000    0.058000   \n",
       "\n",
       "     Perceptions of corruption  Dystopia + residual  \n",
       "0                     0.477857             2.762835  \n",
       "153                   0.481000             3.253000  \n",
       "302                   0.534000             2.518000  \n",
       "1                     0.495260             2.432741  \n",
       "154                   0.485000             2.868000  \n",
       "303                   0.532000             2.226000  \n",
       "2                     0.407946             2.350267  \n",
       "155                   0.413000             2.839000  \n",
       "305                   0.461000             2.153000  \n",
       "152                   0.001226             1.507236  \n",
       "301                   0.010000             1.895000  \n",
       "426                   0.005000             1.263000  \n",
       "110                   0.021518             1.535542  \n",
       "275                   0.026000             1.736000  \n",
       "425                   0.034000             0.216000  \n",
       "118                   0.151879             1.262258  \n",
       "279                   0.150000             1.553000  \n",
       "417                   0.200000             0.695000  "
      ]
     },
     "execution_count": 49,
     "metadata": {},
     "output_type": "execute_result"
    }
   ],
   "source": [
    "#combine datafream to create new datafream\n",
    "hy_combined3 = pd.concat([hy1,hy2,hy3,hy4,hy5,hy6])\n",
    "hy_combined3"
   ]
  },
  {
   "cell_type": "code",
   "execution_count": 50,
   "metadata": {},
   "outputs": [],
   "source": [
    "# make dataframe interactive\n",
    "hyc3 = hy_combined3.interactive()\n",
    "\n",
    "#create pipeline\n",
    "hyc3_pipeline = (\n",
    "    hyc3[\n",
    "        (hyc3.Year <= year_slider)\n",
    "    ]\n",
    "    .groupby(['Country name', 'Year'])[yaxis_co2].mean()\n",
    "    .to_frame()\n",
    "    .reset_index()\n",
    "    .sort_values(by='Year') \n",
    "    .reset_index(drop=True)\n",
    ")"
   ]
  },
  {
   "cell_type": "code",
   "execution_count": 51,
   "metadata": {},
   "outputs": [
    {
     "data": {},
     "metadata": {},
     "output_type": "display_data"
    },
    {
     "data": {},
     "metadata": {},
     "output_type": "display_data"
    },
    {
     "data": {
      "application/vnd.holoviews_exec.v0+json": "",
      "text/html": [
       "<div id='14328'>\n",
       "  <div class=\"bk-root\" id=\"3aa34010-e1f3-477d-8b97-702881c8aefa\" data-root-id=\"14328\"></div>\n",
       "</div>\n",
       "<script type=\"application/javascript\">(function(root) {\n",
       "  function embed_document(root) {\n",
       "    var docs_json = {\"2f15c03a-6445-4c55-8106-6a7f90e536bc\":{\"defs\":[{\"extends\":null,\"module\":null,\"name\":\"ReactiveHTML1\",\"overrides\":[],\"properties\":[]},{\"extends\":null,\"module\":null,\"name\":\"FlexBox1\",\"overrides\":[],\"properties\":[{\"default\":\"flex-start\",\"kind\":null,\"name\":\"align_content\"},{\"default\":\"flex-start\",\"kind\":null,\"name\":\"align_items\"},{\"default\":\"row\",\"kind\":null,\"name\":\"flex_direction\"},{\"default\":\"wrap\",\"kind\":null,\"name\":\"flex_wrap\"},{\"default\":\"flex-start\",\"kind\":null,\"name\":\"justify_content\"}]},{\"extends\":null,\"module\":null,\"name\":\"GridStack1\",\"overrides\":[],\"properties\":[{\"default\":\"warn\",\"kind\":null,\"name\":\"mode\"},{\"default\":null,\"kind\":null,\"name\":\"ncols\"},{\"default\":null,\"kind\":null,\"name\":\"nrows\"},{\"default\":true,\"kind\":null,\"name\":\"allow_resize\"},{\"default\":true,\"kind\":null,\"name\":\"allow_drag\"},{\"default\":[],\"kind\":null,\"name\":\"state\"}]},{\"extends\":null,\"module\":null,\"name\":\"click1\",\"overrides\":[],\"properties\":[{\"default\":\"\",\"kind\":null,\"name\":\"terminal_output\"},{\"default\":\"\",\"kind\":null,\"name\":\"debug_name\"},{\"default\":0,\"kind\":null,\"name\":\"clears\"}]},{\"extends\":null,\"module\":null,\"name\":\"NotificationAreaBase1\",\"overrides\":[],\"properties\":[{\"default\":\"bottom-right\",\"kind\":null,\"name\":\"position\"},{\"default\":0,\"kind\":null,\"name\":\"_clear\"}]},{\"extends\":null,\"module\":null,\"name\":\"NotificationArea1\",\"overrides\":[],\"properties\":[{\"default\":[],\"kind\":null,\"name\":\"notifications\"},{\"default\":\"bottom-right\",\"kind\":null,\"name\":\"position\"},{\"default\":0,\"kind\":null,\"name\":\"_clear\"},{\"default\":[{\"background\":\"#ffc107\",\"icon\":{\"className\":\"fas fa-exclamation-triangle\",\"color\":\"white\",\"tagName\":\"i\"},\"type\":\"warning\"},{\"background\":\"#007bff\",\"icon\":{\"className\":\"fas fa-info-circle\",\"color\":\"white\",\"tagName\":\"i\"},\"type\":\"info\"}],\"kind\":null,\"name\":\"types\"}]},{\"extends\":null,\"module\":null,\"name\":\"Notification\",\"overrides\":[],\"properties\":[{\"default\":null,\"kind\":null,\"name\":\"background\"},{\"default\":3000,\"kind\":null,\"name\":\"duration\"},{\"default\":null,\"kind\":null,\"name\":\"icon\"},{\"default\":\"\",\"kind\":null,\"name\":\"message\"},{\"default\":null,\"kind\":null,\"name\":\"notification_type\"},{\"default\":false,\"kind\":null,\"name\":\"_destroyed\"}]},{\"extends\":null,\"module\":null,\"name\":\"TemplateActions1\",\"overrides\":[],\"properties\":[{\"default\":0,\"kind\":null,\"name\":\"open_modal\"},{\"default\":0,\"kind\":null,\"name\":\"close_modal\"}]},{\"extends\":null,\"module\":null,\"name\":\"MaterialTemplateActions1\",\"overrides\":[],\"properties\":[{\"default\":0,\"kind\":null,\"name\":\"open_modal\"},{\"default\":0,\"kind\":null,\"name\":\"close_modal\"}]}],\"roots\":{\"references\":[{\"attributes\":{},\"id\":\"14501\",\"type\":\"Selection\"},{\"attributes\":{},\"id\":\"14467\",\"type\":\"UnionRenderers\"},{\"attributes\":{\"label\":{\"value\":\"Switzerland\"},\"renderers\":[{\"id\":\"14506\"}]},\"id\":\"14528\",\"type\":\"LegendItem\"},{\"attributes\":{\"coordinates\":null,\"data_source\":{\"id\":\"14500\"},\"glyph\":{\"id\":\"14503\"},\"group\":null,\"hover_glyph\":null,\"muted_glyph\":{\"id\":\"14505\"},\"nonselection_glyph\":{\"id\":\"14504\"},\"selection_glyph\":{\"id\":\"14529\"},\"view\":{\"id\":\"14507\"}},\"id\":\"14506\",\"type\":\"GlyphRenderer\"},{\"attributes\":{\"line_alpha\":0.2,\"line_color\":\"#17becf\",\"line_width\":2,\"x\":{\"field\":\"Year\"},\"y\":{\"field\":\"Happiness score\"}},\"id\":\"14505\",\"type\":\"Line\"},{\"attributes\":{},\"id\":\"14377\",\"type\":\"BasicTickFormatter\"},{\"attributes\":{\"line_color\":\"#17becf\",\"line_width\":2,\"x\":{\"field\":\"Year\"},\"y\":{\"field\":\"Happiness score\"}},\"id\":\"14503\",\"type\":\"Line\"},{\"attributes\":{\"line_alpha\":0.1,\"line_color\":\"#17becf\",\"line_width\":2,\"x\":{\"field\":\"Year\"},\"y\":{\"field\":\"Happiness score\"}},\"id\":\"14504\",\"type\":\"Line\"},{\"attributes\":{\"source\":{\"id\":\"14500\"}},\"id\":\"14507\",\"type\":\"CDSView\"},{\"attributes\":{},\"id\":\"14423\",\"type\":\"Selection\"},{\"attributes\":{},\"id\":\"14375\",\"type\":\"AllLabels\"},{\"attributes\":{},\"id\":\"14378\",\"type\":\"AllLabels\"},{\"attributes\":{},\"id\":\"14525\",\"type\":\"UnionRenderers\"},{\"attributes\":{\"line_color\":\"#fc4f30\",\"line_width\":2,\"x\":{\"field\":\"Year\"},\"y\":{\"field\":\"Happiness score\"}},\"id\":\"14421\",\"type\":\"Line\"},{\"attributes\":{\"line_color\":\"#30a2da\",\"line_width\":2,\"x\":{\"field\":\"Year\"},\"y\":{\"field\":\"Happiness score\"}},\"id\":\"14382\",\"type\":\"Line\"},{\"attributes\":{\"data\":{\"Country_name\":[\"Finland\",\"Finland\",\"Finland\"],\"Happiness score\":{\"__ndarray__\":\"wmMF4Bs8H0CR7Xw/NV4fQGIQWDm0SB9A\",\"dtype\":\"float64\",\"order\":\"little\",\"shape\":[3]},\"Happiness_score\":{\"__ndarray__\":\"wmMF4Bs8H0CR7Xw/NV4fQGIQWDm0SB9A\",\"dtype\":\"float64\",\"order\":\"little\",\"shape\":[3]},\"Year\":[2020,2021,2022]},\"selected\":{\"id\":\"14423\"},\"selection_policy\":{\"id\":\"14441\"}},\"id\":\"14422\",\"type\":\"ColumnDataSource\"},{\"attributes\":{\"children\":[{\"id\":\"14330\"},{\"id\":\"14343\"}],\"margin\":[0,0,0,0],\"name\":\"Column27980\"},\"id\":\"14329\",\"type\":\"Column\"},{\"attributes\":{\"line_alpha\":0.1,\"line_color\":\"#30a2da\",\"line_width\":2,\"x\":{\"field\":\"Year\"},\"y\":{\"field\":\"Happiness score\"}},\"id\":\"14383\",\"type\":\"Line\"},{\"attributes\":{},\"id\":\"14380\",\"type\":\"Selection\"},{\"attributes\":{\"coordinates\":null,\"data_source\":{\"id\":\"14472\"},\"glyph\":{\"id\":\"14475\"},\"group\":null,\"hover_glyph\":null,\"muted_glyph\":{\"id\":\"14477\"},\"nonselection_glyph\":{\"id\":\"14476\"},\"selection_glyph\":{\"id\":\"14499\"},\"view\":{\"id\":\"14479\"}},\"id\":\"14478\",\"type\":\"GlyphRenderer\"},{\"attributes\":{\"source\":{\"id\":\"14379\"}},\"id\":\"14386\",\"type\":\"CDSView\"},{\"attributes\":{},\"id\":\"14473\",\"type\":\"Selection\"},{\"attributes\":{\"line_alpha\":0.1,\"line_color\":\"#e5ae38\",\"line_width\":2,\"x\":{\"field\":\"Year\"},\"y\":{\"field\":\"Happiness score\"}},\"id\":\"14426\",\"type\":\"Line\"},{\"attributes\":{\"line_alpha\":0.2,\"line_color\":\"#e5ae38\",\"line_width\":2,\"x\":{\"field\":\"Year\"},\"y\":{\"field\":\"Happiness score\"}},\"id\":\"14427\",\"type\":\"Line\"},{\"attributes\":{\"click_policy\":\"mute\",\"coordinates\":null,\"group\":null,\"items\":[{\"id\":\"14398\"},{\"id\":\"14420\"},{\"id\":\"14444\"},{\"id\":\"14470\"},{\"id\":\"14498\"},{\"id\":\"14528\"}],\"location\":[0,0],\"title\":\"Country name\"},\"id\":\"14397\",\"type\":\"Legend\"},{\"attributes\":{\"client_comm_id\":\"64dfd6dfeb03405db4c0387cd7824dc6\",\"comm_id\":\"9d2aadafeb1e49e184a5abbf7f380ce7\",\"plot_id\":\"14328\"},\"id\":\"14614\",\"type\":\"panel.models.comm_manager.CommManager\"},{\"attributes\":{\"line_color\":\"#6d904f\",\"line_width\":2,\"x\":{\"field\":\"Year\"},\"y\":{\"field\":\"Happiness score\"}},\"id\":\"14471\",\"type\":\"Line\"},{\"attributes\":{\"source\":{\"id\":\"14422\"}},\"id\":\"14429\",\"type\":\"CDSView\"},{\"attributes\":{\"line_color\":\"#6d904f\",\"line_width\":2,\"x\":{\"field\":\"Year\"},\"y\":{\"field\":\"Happiness score\"}},\"id\":\"14449\",\"type\":\"Line\"},{\"attributes\":{\"label\":{\"value\":\"Finland\"},\"renderers\":[{\"id\":\"14428\"}]},\"id\":\"14444\",\"type\":\"LegendItem\"},{\"attributes\":{},\"id\":\"14495\",\"type\":\"UnionRenderers\"},{\"attributes\":{\"end\":8.3858,\"reset_end\":8.3858,\"reset_start\":1.8601999999999999,\"start\":1.8601999999999999,\"tags\":[[[\"Happiness score\",\"Happiness score\",null]]]},\"id\":\"14336\",\"type\":\"Range1d\"},{\"attributes\":{\"data\":{\"Country_name\":[\"Lebanon\",\"Lebanon\",\"Lebanon\"],\"Happiness score\":{\"__ndarray__\":\"5msGIAQWE0C8dJMYBFYSQKRwPQrXowdA\",\"dtype\":\"float64\",\"order\":\"little\",\"shape\":[3]},\"Happiness_score\":{\"__ndarray__\":\"5msGIAQWE0C8dJMYBFYSQKRwPQrXowdA\",\"dtype\":\"float64\",\"order\":\"little\",\"shape\":[3]},\"Year\":[2020,2021,2022]},\"selected\":{\"id\":\"14473\"},\"selection_policy\":{\"id\":\"14495\"}},\"id\":\"14472\",\"type\":\"ColumnDataSource\"},{\"attributes\":{},\"id\":\"14441\",\"type\":\"UnionRenderers\"},{\"attributes\":{\"children\":[{\"id\":\"14332\"},{\"id\":\"14333\"}],\"margin\":[0,0,0,0],\"name\":\"Column27969\"},\"id\":\"14331\",\"type\":\"Column\"},{\"attributes\":{},\"id\":\"14350\",\"type\":\"LinearScale\"},{\"attributes\":{\"callback\":null,\"renderers\":[{\"id\":\"14385\"},{\"id\":\"14406\"},{\"id\":\"14428\"},{\"id\":\"14452\"},{\"id\":\"14478\"},{\"id\":\"14506\"}],\"tags\":[\"hv_created\"],\"tooltips\":[[\"Country name\",\"@{Country_name}\"],[\"Year\",\"@{Year}\"],[\"Happiness score\",\"@{Happiness_score}\"]]},\"id\":\"14337\",\"type\":\"HoverTool\"},{\"attributes\":{\"below\":[{\"id\":\"14352\"}],\"center\":[{\"id\":\"14355\"},{\"id\":\"14359\"}],\"height\":300,\"left\":[{\"id\":\"14356\"}],\"margin\":[5,5,5,5],\"min_border_bottom\":10,\"min_border_left\":10,\"min_border_right\":10,\"min_border_top\":10,\"renderers\":[{\"id\":\"14385\"},{\"id\":\"14406\"},{\"id\":\"14428\"},{\"id\":\"14452\"},{\"id\":\"14478\"},{\"id\":\"14506\"}],\"right\":[{\"id\":\"14397\"}],\"sizing_mode\":\"fixed\",\"title\":{\"id\":\"14344\"},\"toolbar\":{\"id\":\"14366\"},\"width\":700,\"x_range\":{\"id\":\"14335\"},\"x_scale\":{\"id\":\"14348\"},\"y_range\":{\"id\":\"14336\"},\"y_scale\":{\"id\":\"14350\"}},\"id\":\"14343\",\"subtype\":\"Figure\",\"type\":\"Plot\"},{\"attributes\":{\"line_alpha\":0.1,\"line_color\":\"#8b8b8b\",\"line_width\":2,\"x\":{\"field\":\"Year\"},\"y\":{\"field\":\"Happiness score\"}},\"id\":\"14476\",\"type\":\"Line\"},{\"attributes\":{\"line_color\":\"#17becf\",\"line_width\":2,\"x\":{\"field\":\"Year\"},\"y\":{\"field\":\"Happiness score\"}},\"id\":\"14529\",\"type\":\"Line\"},{\"attributes\":{\"line_alpha\":0.2,\"line_color\":\"#8b8b8b\",\"line_width\":2,\"x\":{\"field\":\"Year\"},\"y\":{\"field\":\"Happiness score\"}},\"id\":\"14477\",\"type\":\"Line\"},{\"attributes\":{\"label\":{\"value\":\"Afghanistan\"},\"renderers\":[{\"id\":\"14385\"}]},\"id\":\"14398\",\"type\":\"LegendItem\"},{\"attributes\":{\"source\":{\"id\":\"14472\"}},\"id\":\"14479\",\"type\":\"CDSView\"},{\"attributes\":{},\"id\":\"14401\",\"type\":\"Selection\"},{\"attributes\":{\"line_color\":\"#30a2da\",\"line_width\":2,\"x\":{\"field\":\"Year\"},\"y\":{\"field\":\"Happiness score\"}},\"id\":\"14399\",\"type\":\"Line\"},{\"attributes\":{\"label\":{\"value\":\"Lebanon\"},\"renderers\":[{\"id\":\"14478\"}]},\"id\":\"14498\",\"type\":\"LegendItem\"},{\"attributes\":{\"coordinates\":null,\"data_source\":{\"id\":\"14422\"},\"glyph\":{\"id\":\"14425\"},\"group\":null,\"hover_glyph\":null,\"muted_glyph\":{\"id\":\"14427\"},\"nonselection_glyph\":{\"id\":\"14426\"},\"selection_glyph\":{\"id\":\"14445\"},\"view\":{\"id\":\"14429\"}},\"id\":\"14428\",\"type\":\"GlyphRenderer\"},{\"attributes\":{\"children\":[{\"id\":\"14331\"},{\"id\":\"14334\"}],\"margin\":[0,0,0,0],\"name\":\"Row27974\"},\"id\":\"14330\",\"type\":\"Row\"},{\"attributes\":{\"coordinates\":null,\"data_source\":{\"id\":\"14400\"},\"glyph\":{\"id\":\"14403\"},\"group\":null,\"hover_glyph\":null,\"muted_glyph\":{\"id\":\"14405\"},\"nonselection_glyph\":{\"id\":\"14404\"},\"selection_glyph\":{\"id\":\"14421\"},\"view\":{\"id\":\"14407\"}},\"id\":\"14406\",\"type\":\"GlyphRenderer\"},{\"attributes\":{\"line_color\":\"#fc4f30\",\"line_width\":2,\"x\":{\"field\":\"Year\"},\"y\":{\"field\":\"Happiness score\"}},\"id\":\"14403\",\"type\":\"Line\"},{\"attributes\":{\"coordinates\":null,\"data_source\":{\"id\":\"14446\"},\"glyph\":{\"id\":\"14449\"},\"group\":null,\"hover_glyph\":null,\"muted_glyph\":{\"id\":\"14451\"},\"nonselection_glyph\":{\"id\":\"14450\"},\"selection_glyph\":{\"id\":\"14471\"},\"view\":{\"id\":\"14453\"}},\"id\":\"14452\",\"type\":\"GlyphRenderer\"},{\"attributes\":{\"end\":2022,\"margin\":[5,10,5,10],\"start\":2020,\"title\":\"Year slider\",\"value\":2022},\"id\":\"14332\",\"type\":\"Slider\"},{\"attributes\":{},\"id\":\"14447\",\"type\":\"Selection\"},{\"attributes\":{\"line_alpha\":0.1,\"line_color\":\"#fc4f30\",\"line_width\":2,\"x\":{\"field\":\"Year\"},\"y\":{\"field\":\"Happiness score\"}},\"id\":\"14404\",\"type\":\"Line\"},{\"attributes\":{\"coordinates\":null,\"group\":null,\"text\":\"Main Focusing Countries\",\"text_color\":\"black\",\"text_font_size\":\"12pt\"},\"id\":\"14344\",\"type\":\"Title\"},{\"attributes\":{\"line_alpha\":0.2,\"line_color\":\"#fc4f30\",\"line_width\":2,\"x\":{\"field\":\"Year\"},\"y\":{\"field\":\"Happiness score\"}},\"id\":\"14405\",\"type\":\"Line\"},{\"attributes\":{},\"id\":\"14361\",\"type\":\"PanTool\"},{\"attributes\":{\"line_color\":\"#e5ae38\",\"line_width\":2,\"x\":{\"field\":\"Year\"},\"y\":{\"field\":\"Happiness score\"}},\"id\":\"14445\",\"type\":\"Line\"},{\"attributes\":{\"data\":{\"Country_name\":[\"Denmark\",\"Denmark\",\"Denmark\"],\"Happiness score\":{\"__ndarray__\":\"ZcX+HxiVHkB7FK5H4XoeQCUGgZVDix5A\",\"dtype\":\"float64\",\"order\":\"little\",\"shape\":[3]},\"Happiness_score\":{\"__ndarray__\":\"ZcX+HxiVHkB7FK5H4XoeQCUGgZVDix5A\",\"dtype\":\"float64\",\"order\":\"little\",\"shape\":[3]},\"Year\":[2020,2021,2022]},\"selected\":{\"id\":\"14401\"},\"selection_policy\":{\"id\":\"14417\"}},\"id\":\"14400\",\"type\":\"ColumnDataSource\"},{\"attributes\":{\"coordinates\":null,\"data_source\":{\"id\":\"14379\"},\"glyph\":{\"id\":\"14382\"},\"group\":null,\"hover_glyph\":null,\"muted_glyph\":{\"id\":\"14384\"},\"nonselection_glyph\":{\"id\":\"14383\"},\"selection_glyph\":{\"id\":\"14399\"},\"view\":{\"id\":\"14386\"}},\"id\":\"14385\",\"type\":\"GlyphRenderer\"},{\"attributes\":{\"source\":{\"id\":\"14400\"}},\"id\":\"14407\",\"type\":\"CDSView\"},{\"attributes\":{},\"id\":\"14374\",\"type\":\"BasicTickFormatter\"},{\"attributes\":{\"line_color\":\"#e5ae38\",\"line_width\":2,\"x\":{\"field\":\"Year\"},\"y\":{\"field\":\"Happiness score\"}},\"id\":\"14425\",\"type\":\"Line\"},{\"attributes\":{\"axis_label\":\"Year\",\"coordinates\":null,\"formatter\":{\"id\":\"14374\"},\"group\":null,\"major_label_policy\":{\"id\":\"14375\"},\"ticker\":{\"id\":\"14353\"}},\"id\":\"14352\",\"type\":\"LinearAxis\"},{\"attributes\":{\"label\":{\"value\":\"Denmark\"},\"renderers\":[{\"id\":\"14406\"}]},\"id\":\"14420\",\"type\":\"LegendItem\"},{\"attributes\":{\"axis\":{\"id\":\"14352\"},\"coordinates\":null,\"grid_line_color\":null,\"group\":null,\"ticker\":null},\"id\":\"14355\",\"type\":\"Grid\"},{\"attributes\":{\"data\":{\"Country_name\":[\"Jordan\",\"Jordan\",\"Jordan\"],\"Happiness score\":{\"__ndarray__\":\"jX35/5mIEkAUrkfhepQRQM/3U+OlmxBA\",\"dtype\":\"float64\",\"order\":\"little\",\"shape\":[3]},\"Happiness_score\":{\"__ndarray__\":\"jX35/5mIEkAUrkfhepQRQM/3U+OlmxBA\",\"dtype\":\"float64\",\"order\":\"little\",\"shape\":[3]},\"Year\":[2020,2021,2022]},\"selected\":{\"id\":\"14447\"},\"selection_policy\":{\"id\":\"14467\"}},\"id\":\"14446\",\"type\":\"ColumnDataSource\"},{\"attributes\":{},\"id\":\"14394\",\"type\":\"UnionRenderers\"},{\"attributes\":{},\"id\":\"14353\",\"type\":\"BasicTicker\"},{\"attributes\":{\"children\":[{\"id\":\"14329\"}],\"margin\":[0,0,0,0],\"name\":\"Row27981\"},\"id\":\"14328\",\"type\":\"Row\"},{\"attributes\":{\"axis_label\":\"Happiness score\",\"coordinates\":null,\"formatter\":{\"id\":\"14377\"},\"group\":null,\"major_label_policy\":{\"id\":\"14378\"},\"ticker\":{\"id\":\"14357\"}},\"id\":\"14356\",\"type\":\"LinearAxis\"},{\"attributes\":{},\"id\":\"14417\",\"type\":\"UnionRenderers\"},{\"attributes\":{\"axis\":{\"id\":\"14356\"},\"coordinates\":null,\"dimension\":1,\"grid_line_color\":null,\"group\":null,\"ticker\":null},\"id\":\"14359\",\"type\":\"Grid\"},{\"attributes\":{},\"id\":\"14357\",\"type\":\"BasicTicker\"},{\"attributes\":{\"data\":{\"Country_name\":[\"Switzerland\",\"Switzerland\",\"Switzerland\"],\"Happiness score\":{\"__ndarray__\":\"J2gAYFY9HkBiEFg5tEgeQD81XrpJDB5A\",\"dtype\":\"float64\",\"order\":\"little\",\"shape\":[3]},\"Happiness_score\":{\"__ndarray__\":\"J2gAYFY9HkBiEFg5tEgeQD81XrpJDB5A\",\"dtype\":\"float64\",\"order\":\"little\",\"shape\":[3]},\"Year\":[2020,2021,2022]},\"selected\":{\"id\":\"14501\"},\"selection_policy\":{\"id\":\"14525\"}},\"id\":\"14500\",\"type\":\"ColumnDataSource\"},{\"attributes\":{\"line_color\":\"#8b8b8b\",\"line_width\":2,\"x\":{\"field\":\"Year\"},\"y\":{\"field\":\"Happiness score\"}},\"id\":\"14499\",\"type\":\"Line\"},{\"attributes\":{},\"id\":\"14362\",\"type\":\"WheelZoomTool\"},{\"attributes\":{\"margin\":[5,5,5,5],\"name\":\"HSpacer27973\",\"sizing_mode\":\"stretch_width\"},\"id\":\"14334\",\"type\":\"Spacer\"},{\"attributes\":{\"active_drag\":{\"id\":\"14361\"},\"active_scroll\":{\"id\":\"14362\"},\"tools\":[{\"id\":\"14337\"},{\"id\":\"14360\"},{\"id\":\"14361\"},{\"id\":\"14362\"},{\"id\":\"14363\"},{\"id\":\"14364\"}]},\"id\":\"14366\",\"type\":\"Toolbar\"},{\"attributes\":{\"active\":0,\"button_type\":\"success\",\"labels\":[\"Happiness score\",\"Log GDP per capita\",\"Social support\",\"Healthy life expectancy\",\"Freedom to make life choices\",\"Generosity\",\"Perceptions of corruption\",\"Dystopia + residual\"],\"margin\":[5,10,5,10]},\"id\":\"14333\",\"type\":\"RadioButtonGroup\"},{\"attributes\":{},\"id\":\"14348\",\"type\":\"LinearScale\"},{\"attributes\":{},\"id\":\"14360\",\"type\":\"SaveTool\"},{\"attributes\":{\"line_alpha\":0.1,\"line_color\":\"#6d904f\",\"line_width\":2,\"x\":{\"field\":\"Year\"},\"y\":{\"field\":\"Happiness score\"}},\"id\":\"14450\",\"type\":\"Line\"},{\"attributes\":{\"end\":2022.0,\"reset_end\":2022.0,\"reset_start\":2020.0,\"start\":2020.0,\"tags\":[[[\"Year\",\"Year\",null]]]},\"id\":\"14335\",\"type\":\"Range1d\"},{\"attributes\":{\"line_alpha\":0.2,\"line_color\":\"#30a2da\",\"line_width\":2,\"x\":{\"field\":\"Year\"},\"y\":{\"field\":\"Happiness score\"}},\"id\":\"14384\",\"type\":\"Line\"},{\"attributes\":{\"line_alpha\":0.2,\"line_color\":\"#6d904f\",\"line_width\":2,\"x\":{\"field\":\"Year\"},\"y\":{\"field\":\"Happiness score\"}},\"id\":\"14451\",\"type\":\"Line\"},{\"attributes\":{\"overlay\":{\"id\":\"14365\"}},\"id\":\"14363\",\"type\":\"BoxZoomTool\"},{\"attributes\":{},\"id\":\"14364\",\"type\":\"ResetTool\"},{\"attributes\":{\"source\":{\"id\":\"14446\"}},\"id\":\"14453\",\"type\":\"CDSView\"},{\"attributes\":{\"bottom_units\":\"screen\",\"coordinates\":null,\"fill_alpha\":0.5,\"fill_color\":\"lightgrey\",\"group\":null,\"left_units\":\"screen\",\"level\":\"overlay\",\"line_alpha\":1.0,\"line_color\":\"black\",\"line_dash\":[4,4],\"line_width\":2,\"right_units\":\"screen\",\"syncable\":false,\"top_units\":\"screen\"},\"id\":\"14365\",\"type\":\"BoxAnnotation\"},{\"attributes\":{\"line_color\":\"#8b8b8b\",\"line_width\":2,\"x\":{\"field\":\"Year\"},\"y\":{\"field\":\"Happiness score\"}},\"id\":\"14475\",\"type\":\"Line\"},{\"attributes\":{\"label\":{\"value\":\"Jordan\"},\"renderers\":[{\"id\":\"14452\"}]},\"id\":\"14470\",\"type\":\"LegendItem\"},{\"attributes\":{\"data\":{\"Country_name\":[\"Afghanistan\",\"Afghanistan\",\"Afghanistan\"],\"Happiness score\":{\"__ndarray__\":\"HDcE4AKJBEDJdr6fGi8EQAisHFpkOwNA\",\"dtype\":\"float64\",\"order\":\"little\",\"shape\":[3]},\"Happiness_score\":{\"__ndarray__\":\"HDcE4AKJBEDJdr6fGi8EQAisHFpkOwNA\",\"dtype\":\"float64\",\"order\":\"little\",\"shape\":[3]},\"Year\":[2020,2021,2022]},\"selected\":{\"id\":\"14380\"},\"selection_policy\":{\"id\":\"14394\"}},\"id\":\"14379\",\"type\":\"ColumnDataSource\"}],\"root_ids\":[\"14328\",\"14614\"]},\"title\":\"Bokeh Application\",\"version\":\"2.4.3\"}};\n",
       "    var render_items = [{\"docid\":\"2f15c03a-6445-4c55-8106-6a7f90e536bc\",\"root_ids\":[\"14328\"],\"roots\":{\"14328\":\"3aa34010-e1f3-477d-8b97-702881c8aefa\"}}];\n",
       "    root.Bokeh.embed.embed_items_notebook(docs_json, render_items);\n",
       "    for (const render_item of render_items) {\n",
       "      for (const root_id of render_item.root_ids) {\n",
       "\tconst id_el = document.getElementById(root_id)\n",
       "\tif (id_el.children.length && (id_el.children[0].className === 'bk-root')) {\n",
       "\t  const root_el = id_el.children[0]\n",
       "\t  root_el.id = root_el.id + '-rendered'\n",
       "\t}\n",
       "      }\n",
       "    }\n",
       "  }\n",
       "  if (root.Bokeh !== undefined && root.Bokeh.Panel !== undefined && ( root['Tabulator'] !== undefined) && ( root['Tabulator'] !== undefined)) {\n",
       "    embed_document(root);\n",
       "  } else {\n",
       "    var attempts = 0;\n",
       "    var timer = setInterval(function(root) {\n",
       "      if (root.Bokeh !== undefined && root.Bokeh.Panel !== undefined && (root['Tabulator'] !== undefined) && (root['Tabulator'] !== undefined)) {\n",
       "        clearInterval(timer);\n",
       "        embed_document(root);\n",
       "      } else if (document.readyState == \"complete\") {\n",
       "        attempts++;\n",
       "        if (attempts > 200) {\n",
       "          clearInterval(timer);\n",
       "          console.log(\"Bokeh: ERROR: Unable to run BokehJS code because BokehJS library is missing\");\n",
       "        }\n",
       "      }\n",
       "    }, 25, root)\n",
       "  }\n",
       "})(window);</script>"
      ],
      "text/plain": [
       "<hvplot.interactive.Interactive at 0x7fc4960de1d0>"
      ]
     },
     "execution_count": 51,
     "metadata": {
      "application/vnd.holoviews_exec.v0+json": {
       "id": "14328"
      }
     },
     "output_type": "execute_result"
    }
   ],
   "source": [
    "#create line graph from new data frame\n",
    "line3_plot = hyc3_pipeline.hvplot(x = 'Year', by='Country name', y=yaxis_co2,line_width=2, title=\"Main Focusing Countries\")\n",
    "line3_plot"
   ]
  },
  {
   "cell_type": "markdown",
   "metadata": {
    "id": "j3CK0zX2n01Z"
   },
   "source": [
    "### 3 Dashboard: Pie chart"
   ]
  },
  {
   "cell_type": "code",
   "execution_count": 53,
   "metadata": {
    "colab": {
     "base_uri": "https://localhost:8080/",
     "height": 542
    },
    "id": "9WN_3F7onooy",
    "outputId": "5dff0905-3668-4ee3-cd6e-2874ff784a5b"
   },
   "outputs": [
    {
     "data": {
      "application/vnd.plotly.v1+json": {
       "config": {
        "plotlyServerURL": "https://plot.ly"
       },
       "data": [
        {
         "domain": {
          "x": [
           0,
           0.2888888888888889
          ],
          "y": [
           0,
           1
          ]
         },
         "hovertemplate": "Regional indicator=%{label}<br>Happiness score=%{value}<extra></extra>",
         "labels": [
          "Central and Eastern Europe",
          "Commonwealth of Independent States",
          "East Asia",
          "Latin America and Caribbean",
          "Middle East and North Africa",
          "North America and ANZ",
          "South Asia",
          "Southeast Asia",
          "Sub-Saharan Africa",
          "Western Europe"
         ],
         "legendgroup": "",
         "name": "",
         "showlegend": true,
         "type": "pie",
         "values": [
          5.883817672705882,
          5.358341614416666,
          5.714849948833333,
          5.981785706095239,
          5.227158855058824,
          7.17352497575,
          4.4754427841428575,
          5.383366690777778,
          4.383494866205128,
          6.899219036142857
         ]
        },
        {
         "domain": {
          "x": [
           0.35555555555555557,
           0.6444444444444445
          ],
          "y": [
           0,
           1
          ]
         },
         "hovertemplate": "Regional indicator=%{label}<br>Happiness score=%{value}<extra></extra>",
         "labels": [
          "Central and Eastern Europe",
          "Commonwealth of Independent States",
          "East Asia",
          "Latin America and Caribbean",
          "Middle East and North Africa",
          "North America and ANZ",
          "South Asia",
          "Southeast Asia",
          "Sub-Saharan Africa",
          "Western Europe"
         ],
         "legendgroup": "",
         "name": "",
         "showlegend": true,
         "type": "pie",
         "values": [
          5.984764705882353,
          5.467,
          5.810333333333333,
          5.90805,
          5.219764705882353,
          7.1285,
          4.441857142857143,
          5.407555555555556,
          4.494472222222223,
          6.914904761904761
         ]
        },
        {
         "domain": {
          "x": [
           0.7111111111111111,
           1
          ],
          "y": [
           0,
           1
          ]
         },
         "hovertemplate": "Regional indicator=%{label}<br>Happiness score=%{value}<extra></extra>",
         "labels": [
          "Central and Eastern Europe",
          "East Asia",
          "Latin America and Caribbean",
          "Middle East and North Africa",
          "North America and ANZ",
          "South Asia",
          "Southeast Asia",
          "Sub-Saharan Africa",
          "Western Europe"
         ],
         "legendgroup": "",
         "name": "",
         "showlegend": true,
         "type": "pie",
         "values": [
          5.932440000000001,
          5.876166666666666,
          5.933055555555556,
          5.226785714285714,
          7.091,
          4.2651666666666666,
          5.431666666666667,
          4.562541666666667,
          6.944105263157894
         ]
        }
       ],
       "layout": {
        "annotations": [
         {
          "font": {
           "size": 16
          },
          "showarrow": false,
          "text": " 2020",
          "x": 0.14444444444444446,
          "xanchor": "center",
          "xref": "paper",
          "y": 1,
          "yanchor": "bottom",
          "yref": "paper"
         },
         {
          "font": {
           "size": 16
          },
          "showarrow": false,
          "text": " 2021",
          "x": 0.5,
          "xanchor": "center",
          "xref": "paper",
          "y": 1,
          "yanchor": "bottom",
          "yref": "paper"
         },
         {
          "font": {
           "size": 16
          },
          "showarrow": false,
          "text": " 2022",
          "x": 0.8555555555555556,
          "xanchor": "center",
          "xref": "paper",
          "y": 1,
          "yanchor": "bottom",
          "yref": "paper"
         }
        ],
        "showlegend": false,
        "template": {
         "data": {
          "bar": [
           {
            "error_x": {
             "color": "#2a3f5f"
            },
            "error_y": {
             "color": "#2a3f5f"
            },
            "marker": {
             "line": {
              "color": "#E5ECF6",
              "width": 0.5
             },
             "pattern": {
              "fillmode": "overlay",
              "size": 10,
              "solidity": 0.2
             }
            },
            "type": "bar"
           }
          ],
          "barpolar": [
           {
            "marker": {
             "line": {
              "color": "#E5ECF6",
              "width": 0.5
             },
             "pattern": {
              "fillmode": "overlay",
              "size": 10,
              "solidity": 0.2
             }
            },
            "type": "barpolar"
           }
          ],
          "carpet": [
           {
            "aaxis": {
             "endlinecolor": "#2a3f5f",
             "gridcolor": "white",
             "linecolor": "white",
             "minorgridcolor": "white",
             "startlinecolor": "#2a3f5f"
            },
            "baxis": {
             "endlinecolor": "#2a3f5f",
             "gridcolor": "white",
             "linecolor": "white",
             "minorgridcolor": "white",
             "startlinecolor": "#2a3f5f"
            },
            "type": "carpet"
           }
          ],
          "choropleth": [
           {
            "colorbar": {
             "outlinewidth": 0,
             "ticks": ""
            },
            "type": "choropleth"
           }
          ],
          "contour": [
           {
            "colorbar": {
             "outlinewidth": 0,
             "ticks": ""
            },
            "colorscale": [
             [
              0,
              "#0d0887"
             ],
             [
              0.1111111111111111,
              "#46039f"
             ],
             [
              0.2222222222222222,
              "#7201a8"
             ],
             [
              0.3333333333333333,
              "#9c179e"
             ],
             [
              0.4444444444444444,
              "#bd3786"
             ],
             [
              0.5555555555555556,
              "#d8576b"
             ],
             [
              0.6666666666666666,
              "#ed7953"
             ],
             [
              0.7777777777777778,
              "#fb9f3a"
             ],
             [
              0.8888888888888888,
              "#fdca26"
             ],
             [
              1,
              "#f0f921"
             ]
            ],
            "type": "contour"
           }
          ],
          "contourcarpet": [
           {
            "colorbar": {
             "outlinewidth": 0,
             "ticks": ""
            },
            "type": "contourcarpet"
           }
          ],
          "heatmap": [
           {
            "colorbar": {
             "outlinewidth": 0,
             "ticks": ""
            },
            "colorscale": [
             [
              0,
              "#0d0887"
             ],
             [
              0.1111111111111111,
              "#46039f"
             ],
             [
              0.2222222222222222,
              "#7201a8"
             ],
             [
              0.3333333333333333,
              "#9c179e"
             ],
             [
              0.4444444444444444,
              "#bd3786"
             ],
             [
              0.5555555555555556,
              "#d8576b"
             ],
             [
              0.6666666666666666,
              "#ed7953"
             ],
             [
              0.7777777777777778,
              "#fb9f3a"
             ],
             [
              0.8888888888888888,
              "#fdca26"
             ],
             [
              1,
              "#f0f921"
             ]
            ],
            "type": "heatmap"
           }
          ],
          "heatmapgl": [
           {
            "colorbar": {
             "outlinewidth": 0,
             "ticks": ""
            },
            "colorscale": [
             [
              0,
              "#0d0887"
             ],
             [
              0.1111111111111111,
              "#46039f"
             ],
             [
              0.2222222222222222,
              "#7201a8"
             ],
             [
              0.3333333333333333,
              "#9c179e"
             ],
             [
              0.4444444444444444,
              "#bd3786"
             ],
             [
              0.5555555555555556,
              "#d8576b"
             ],
             [
              0.6666666666666666,
              "#ed7953"
             ],
             [
              0.7777777777777778,
              "#fb9f3a"
             ],
             [
              0.8888888888888888,
              "#fdca26"
             ],
             [
              1,
              "#f0f921"
             ]
            ],
            "type": "heatmapgl"
           }
          ],
          "histogram": [
           {
            "marker": {
             "pattern": {
              "fillmode": "overlay",
              "size": 10,
              "solidity": 0.2
             }
            },
            "type": "histogram"
           }
          ],
          "histogram2d": [
           {
            "colorbar": {
             "outlinewidth": 0,
             "ticks": ""
            },
            "colorscale": [
             [
              0,
              "#0d0887"
             ],
             [
              0.1111111111111111,
              "#46039f"
             ],
             [
              0.2222222222222222,
              "#7201a8"
             ],
             [
              0.3333333333333333,
              "#9c179e"
             ],
             [
              0.4444444444444444,
              "#bd3786"
             ],
             [
              0.5555555555555556,
              "#d8576b"
             ],
             [
              0.6666666666666666,
              "#ed7953"
             ],
             [
              0.7777777777777778,
              "#fb9f3a"
             ],
             [
              0.8888888888888888,
              "#fdca26"
             ],
             [
              1,
              "#f0f921"
             ]
            ],
            "type": "histogram2d"
           }
          ],
          "histogram2dcontour": [
           {
            "colorbar": {
             "outlinewidth": 0,
             "ticks": ""
            },
            "colorscale": [
             [
              0,
              "#0d0887"
             ],
             [
              0.1111111111111111,
              "#46039f"
             ],
             [
              0.2222222222222222,
              "#7201a8"
             ],
             [
              0.3333333333333333,
              "#9c179e"
             ],
             [
              0.4444444444444444,
              "#bd3786"
             ],
             [
              0.5555555555555556,
              "#d8576b"
             ],
             [
              0.6666666666666666,
              "#ed7953"
             ],
             [
              0.7777777777777778,
              "#fb9f3a"
             ],
             [
              0.8888888888888888,
              "#fdca26"
             ],
             [
              1,
              "#f0f921"
             ]
            ],
            "type": "histogram2dcontour"
           }
          ],
          "mesh3d": [
           {
            "colorbar": {
             "outlinewidth": 0,
             "ticks": ""
            },
            "type": "mesh3d"
           }
          ],
          "parcoords": [
           {
            "line": {
             "colorbar": {
              "outlinewidth": 0,
              "ticks": ""
             }
            },
            "type": "parcoords"
           }
          ],
          "pie": [
           {
            "automargin": true,
            "type": "pie"
           }
          ],
          "scatter": [
           {
            "fillpattern": {
             "fillmode": "overlay",
             "size": 10,
             "solidity": 0.2
            },
            "type": "scatter"
           }
          ],
          "scatter3d": [
           {
            "line": {
             "colorbar": {
              "outlinewidth": 0,
              "ticks": ""
             }
            },
            "marker": {
             "colorbar": {
              "outlinewidth": 0,
              "ticks": ""
             }
            },
            "type": "scatter3d"
           }
          ],
          "scattercarpet": [
           {
            "marker": {
             "colorbar": {
              "outlinewidth": 0,
              "ticks": ""
             }
            },
            "type": "scattercarpet"
           }
          ],
          "scattergeo": [
           {
            "marker": {
             "colorbar": {
              "outlinewidth": 0,
              "ticks": ""
             }
            },
            "type": "scattergeo"
           }
          ],
          "scattergl": [
           {
            "marker": {
             "colorbar": {
              "outlinewidth": 0,
              "ticks": ""
             }
            },
            "type": "scattergl"
           }
          ],
          "scattermapbox": [
           {
            "marker": {
             "colorbar": {
              "outlinewidth": 0,
              "ticks": ""
             }
            },
            "type": "scattermapbox"
           }
          ],
          "scatterpolar": [
           {
            "marker": {
             "colorbar": {
              "outlinewidth": 0,
              "ticks": ""
             }
            },
            "type": "scatterpolar"
           }
          ],
          "scatterpolargl": [
           {
            "marker": {
             "colorbar": {
              "outlinewidth": 0,
              "ticks": ""
             }
            },
            "type": "scatterpolargl"
           }
          ],
          "scatterternary": [
           {
            "marker": {
             "colorbar": {
              "outlinewidth": 0,
              "ticks": ""
             }
            },
            "type": "scatterternary"
           }
          ],
          "surface": [
           {
            "colorbar": {
             "outlinewidth": 0,
             "ticks": ""
            },
            "colorscale": [
             [
              0,
              "#0d0887"
             ],
             [
              0.1111111111111111,
              "#46039f"
             ],
             [
              0.2222222222222222,
              "#7201a8"
             ],
             [
              0.3333333333333333,
              "#9c179e"
             ],
             [
              0.4444444444444444,
              "#bd3786"
             ],
             [
              0.5555555555555556,
              "#d8576b"
             ],
             [
              0.6666666666666666,
              "#ed7953"
             ],
             [
              0.7777777777777778,
              "#fb9f3a"
             ],
             [
              0.8888888888888888,
              "#fdca26"
             ],
             [
              1,
              "#f0f921"
             ]
            ],
            "type": "surface"
           }
          ],
          "table": [
           {
            "cells": {
             "fill": {
              "color": "#EBF0F8"
             },
             "line": {
              "color": "white"
             }
            },
            "header": {
             "fill": {
              "color": "#C8D4E3"
             },
             "line": {
              "color": "white"
             }
            },
            "type": "table"
           }
          ]
         },
         "layout": {
          "annotationdefaults": {
           "arrowcolor": "#2a3f5f",
           "arrowhead": 0,
           "arrowwidth": 1
          },
          "autotypenumbers": "strict",
          "coloraxis": {
           "colorbar": {
            "outlinewidth": 0,
            "ticks": ""
           }
          },
          "colorscale": {
           "diverging": [
            [
             0,
             "#8e0152"
            ],
            [
             0.1,
             "#c51b7d"
            ],
            [
             0.2,
             "#de77ae"
            ],
            [
             0.3,
             "#f1b6da"
            ],
            [
             0.4,
             "#fde0ef"
            ],
            [
             0.5,
             "#f7f7f7"
            ],
            [
             0.6,
             "#e6f5d0"
            ],
            [
             0.7,
             "#b8e186"
            ],
            [
             0.8,
             "#7fbc41"
            ],
            [
             0.9,
             "#4d9221"
            ],
            [
             1,
             "#276419"
            ]
           ],
           "sequential": [
            [
             0,
             "#0d0887"
            ],
            [
             0.1111111111111111,
             "#46039f"
            ],
            [
             0.2222222222222222,
             "#7201a8"
            ],
            [
             0.3333333333333333,
             "#9c179e"
            ],
            [
             0.4444444444444444,
             "#bd3786"
            ],
            [
             0.5555555555555556,
             "#d8576b"
            ],
            [
             0.6666666666666666,
             "#ed7953"
            ],
            [
             0.7777777777777778,
             "#fb9f3a"
            ],
            [
             0.8888888888888888,
             "#fdca26"
            ],
            [
             1,
             "#f0f921"
            ]
           ],
           "sequentialminus": [
            [
             0,
             "#0d0887"
            ],
            [
             0.1111111111111111,
             "#46039f"
            ],
            [
             0.2222222222222222,
             "#7201a8"
            ],
            [
             0.3333333333333333,
             "#9c179e"
            ],
            [
             0.4444444444444444,
             "#bd3786"
            ],
            [
             0.5555555555555556,
             "#d8576b"
            ],
            [
             0.6666666666666666,
             "#ed7953"
            ],
            [
             0.7777777777777778,
             "#fb9f3a"
            ],
            [
             0.8888888888888888,
             "#fdca26"
            ],
            [
             1,
             "#f0f921"
            ]
           ]
          },
          "colorway": [
           "#636efa",
           "#EF553B",
           "#00cc96",
           "#ab63fa",
           "#FFA15A",
           "#19d3f3",
           "#FF6692",
           "#B6E880",
           "#FF97FF",
           "#FECB52"
          ],
          "font": {
           "color": "#2a3f5f"
          },
          "geo": {
           "bgcolor": "white",
           "lakecolor": "white",
           "landcolor": "#E5ECF6",
           "showlakes": true,
           "showland": true,
           "subunitcolor": "white"
          },
          "hoverlabel": {
           "align": "left"
          },
          "hovermode": "closest",
          "mapbox": {
           "style": "light"
          },
          "paper_bgcolor": "white",
          "plot_bgcolor": "#E5ECF6",
          "polar": {
           "angularaxis": {
            "gridcolor": "white",
            "linecolor": "white",
            "ticks": ""
           },
           "bgcolor": "#E5ECF6",
           "radialaxis": {
            "gridcolor": "white",
            "linecolor": "white",
            "ticks": ""
           }
          },
          "scene": {
           "xaxis": {
            "backgroundcolor": "#E5ECF6",
            "gridcolor": "white",
            "gridwidth": 2,
            "linecolor": "white",
            "showbackground": true,
            "ticks": "",
            "zerolinecolor": "white"
           },
           "yaxis": {
            "backgroundcolor": "#E5ECF6",
            "gridcolor": "white",
            "gridwidth": 2,
            "linecolor": "white",
            "showbackground": true,
            "ticks": "",
            "zerolinecolor": "white"
           },
           "zaxis": {
            "backgroundcolor": "#E5ECF6",
            "gridcolor": "white",
            "gridwidth": 2,
            "linecolor": "white",
            "showbackground": true,
            "ticks": "",
            "zerolinecolor": "white"
           }
          },
          "shapedefaults": {
           "line": {
            "color": "#2a3f5f"
           }
          },
          "ternary": {
           "aaxis": {
            "gridcolor": "white",
            "linecolor": "white",
            "ticks": ""
           },
           "baxis": {
            "gridcolor": "white",
            "linecolor": "white",
            "ticks": ""
           },
           "bgcolor": "#E5ECF6",
           "caxis": {
            "gridcolor": "white",
            "linecolor": "white",
            "ticks": ""
           }
          },
          "title": {
           "x": 0.05
          },
          "xaxis": {
           "automargin": true,
           "gridcolor": "white",
           "linecolor": "white",
           "ticks": "",
           "title": {
            "standoff": 15
           },
           "zerolinecolor": "white",
           "zerolinewidth": 2
          },
          "yaxis": {
           "automargin": true,
           "gridcolor": "white",
           "linecolor": "white",
           "ticks": "",
           "title": {
            "standoff": 15
           },
           "zerolinecolor": "white",
           "zerolinewidth": 2
          }
         }
        },
        "title": {
         "text": "Happiness Score by Region"
        }
       }
      },
      "text/html": [
       "<div>                            <div id=\"4dc6b00f-8cba-46fa-bb5c-120301094c39\" class=\"plotly-graph-div\" style=\"height:525px; width:100%;\"></div>            <script type=\"text/javascript\">                require([\"plotly\"], function(Plotly) {                    window.PLOTLYENV=window.PLOTLYENV || {};                                    if (document.getElementById(\"4dc6b00f-8cba-46fa-bb5c-120301094c39\")) {                    Plotly.newPlot(                        \"4dc6b00f-8cba-46fa-bb5c-120301094c39\",                        [{\"domain\":{\"x\":[0.0,0.2888888888888889],\"y\":[0.0,1.0]},\"hovertemplate\":\"Regional indicator=%{label}<br>Happiness score=%{value}<extra></extra>\",\"labels\":[\"Central and Eastern Europe\",\"Commonwealth of Independent States\",\"East Asia\",\"Latin America and Caribbean\",\"Middle East and North Africa\",\"North America and ANZ\",\"South Asia\",\"Southeast Asia\",\"Sub-Saharan Africa\",\"Western Europe\"],\"legendgroup\":\"\",\"name\":\"\",\"showlegend\":true,\"values\":[5.883817672705882,5.358341614416666,5.714849948833333,5.981785706095239,5.227158855058824,7.17352497575,4.4754427841428575,5.383366690777778,4.383494866205128,6.899219036142857],\"type\":\"pie\"},{\"domain\":{\"x\":[0.35555555555555557,0.6444444444444445],\"y\":[0.0,1.0]},\"hovertemplate\":\"Regional indicator=%{label}<br>Happiness score=%{value}<extra></extra>\",\"labels\":[\"Central and Eastern Europe\",\"Commonwealth of Independent States\",\"East Asia\",\"Latin America and Caribbean\",\"Middle East and North Africa\",\"North America and ANZ\",\"South Asia\",\"Southeast Asia\",\"Sub-Saharan Africa\",\"Western Europe\"],\"legendgroup\":\"\",\"name\":\"\",\"showlegend\":true,\"values\":[5.984764705882353,5.467,5.810333333333333,5.90805,5.219764705882353,7.1285,4.441857142857143,5.407555555555556,4.494472222222223,6.914904761904761],\"type\":\"pie\"},{\"domain\":{\"x\":[0.7111111111111111,1.0],\"y\":[0.0,1.0]},\"hovertemplate\":\"Regional indicator=%{label}<br>Happiness score=%{value}<extra></extra>\",\"labels\":[\"Central and Eastern Europe\",\"East Asia\",\"Latin America and Caribbean\",\"Middle East and North Africa\",\"North America and ANZ\",\"South Asia\",\"Southeast Asia\",\"Sub-Saharan Africa\",\"Western Europe\"],\"legendgroup\":\"\",\"name\":\"\",\"showlegend\":true,\"values\":[5.932440000000001,5.876166666666666,5.933055555555556,5.226785714285714,7.091,4.2651666666666666,5.431666666666667,4.562541666666667,6.944105263157894],\"type\":\"pie\"}],                        {\"template\":{\"data\":{\"histogram2dcontour\":[{\"type\":\"histogram2dcontour\",\"colorbar\":{\"outlinewidth\":0,\"ticks\":\"\"},\"colorscale\":[[0.0,\"#0d0887\"],[0.1111111111111111,\"#46039f\"],[0.2222222222222222,\"#7201a8\"],[0.3333333333333333,\"#9c179e\"],[0.4444444444444444,\"#bd3786\"],[0.5555555555555556,\"#d8576b\"],[0.6666666666666666,\"#ed7953\"],[0.7777777777777778,\"#fb9f3a\"],[0.8888888888888888,\"#fdca26\"],[1.0,\"#f0f921\"]]}],\"choropleth\":[{\"type\":\"choropleth\",\"colorbar\":{\"outlinewidth\":0,\"ticks\":\"\"}}],\"histogram2d\":[{\"type\":\"histogram2d\",\"colorbar\":{\"outlinewidth\":0,\"ticks\":\"\"},\"colorscale\":[[0.0,\"#0d0887\"],[0.1111111111111111,\"#46039f\"],[0.2222222222222222,\"#7201a8\"],[0.3333333333333333,\"#9c179e\"],[0.4444444444444444,\"#bd3786\"],[0.5555555555555556,\"#d8576b\"],[0.6666666666666666,\"#ed7953\"],[0.7777777777777778,\"#fb9f3a\"],[0.8888888888888888,\"#fdca26\"],[1.0,\"#f0f921\"]]}],\"heatmap\":[{\"type\":\"heatmap\",\"colorbar\":{\"outlinewidth\":0,\"ticks\":\"\"},\"colorscale\":[[0.0,\"#0d0887\"],[0.1111111111111111,\"#46039f\"],[0.2222222222222222,\"#7201a8\"],[0.3333333333333333,\"#9c179e\"],[0.4444444444444444,\"#bd3786\"],[0.5555555555555556,\"#d8576b\"],[0.6666666666666666,\"#ed7953\"],[0.7777777777777778,\"#fb9f3a\"],[0.8888888888888888,\"#fdca26\"],[1.0,\"#f0f921\"]]}],\"heatmapgl\":[{\"type\":\"heatmapgl\",\"colorbar\":{\"outlinewidth\":0,\"ticks\":\"\"},\"colorscale\":[[0.0,\"#0d0887\"],[0.1111111111111111,\"#46039f\"],[0.2222222222222222,\"#7201a8\"],[0.3333333333333333,\"#9c179e\"],[0.4444444444444444,\"#bd3786\"],[0.5555555555555556,\"#d8576b\"],[0.6666666666666666,\"#ed7953\"],[0.7777777777777778,\"#fb9f3a\"],[0.8888888888888888,\"#fdca26\"],[1.0,\"#f0f921\"]]}],\"contourcarpet\":[{\"type\":\"contourcarpet\",\"colorbar\":{\"outlinewidth\":0,\"ticks\":\"\"}}],\"contour\":[{\"type\":\"contour\",\"colorbar\":{\"outlinewidth\":0,\"ticks\":\"\"},\"colorscale\":[[0.0,\"#0d0887\"],[0.1111111111111111,\"#46039f\"],[0.2222222222222222,\"#7201a8\"],[0.3333333333333333,\"#9c179e\"],[0.4444444444444444,\"#bd3786\"],[0.5555555555555556,\"#d8576b\"],[0.6666666666666666,\"#ed7953\"],[0.7777777777777778,\"#fb9f3a\"],[0.8888888888888888,\"#fdca26\"],[1.0,\"#f0f921\"]]}],\"surface\":[{\"type\":\"surface\",\"colorbar\":{\"outlinewidth\":0,\"ticks\":\"\"},\"colorscale\":[[0.0,\"#0d0887\"],[0.1111111111111111,\"#46039f\"],[0.2222222222222222,\"#7201a8\"],[0.3333333333333333,\"#9c179e\"],[0.4444444444444444,\"#bd3786\"],[0.5555555555555556,\"#d8576b\"],[0.6666666666666666,\"#ed7953\"],[0.7777777777777778,\"#fb9f3a\"],[0.8888888888888888,\"#fdca26\"],[1.0,\"#f0f921\"]]}],\"mesh3d\":[{\"type\":\"mesh3d\",\"colorbar\":{\"outlinewidth\":0,\"ticks\":\"\"}}],\"scatter\":[{\"fillpattern\":{\"fillmode\":\"overlay\",\"size\":10,\"solidity\":0.2},\"type\":\"scatter\"}],\"parcoords\":[{\"type\":\"parcoords\",\"line\":{\"colorbar\":{\"outlinewidth\":0,\"ticks\":\"\"}}}],\"scatterpolargl\":[{\"type\":\"scatterpolargl\",\"marker\":{\"colorbar\":{\"outlinewidth\":0,\"ticks\":\"\"}}}],\"bar\":[{\"error_x\":{\"color\":\"#2a3f5f\"},\"error_y\":{\"color\":\"#2a3f5f\"},\"marker\":{\"line\":{\"color\":\"#E5ECF6\",\"width\":0.5},\"pattern\":{\"fillmode\":\"overlay\",\"size\":10,\"solidity\":0.2}},\"type\":\"bar\"}],\"scattergeo\":[{\"type\":\"scattergeo\",\"marker\":{\"colorbar\":{\"outlinewidth\":0,\"ticks\":\"\"}}}],\"scatterpolar\":[{\"type\":\"scatterpolar\",\"marker\":{\"colorbar\":{\"outlinewidth\":0,\"ticks\":\"\"}}}],\"histogram\":[{\"marker\":{\"pattern\":{\"fillmode\":\"overlay\",\"size\":10,\"solidity\":0.2}},\"type\":\"histogram\"}],\"scattergl\":[{\"type\":\"scattergl\",\"marker\":{\"colorbar\":{\"outlinewidth\":0,\"ticks\":\"\"}}}],\"scatter3d\":[{\"type\":\"scatter3d\",\"line\":{\"colorbar\":{\"outlinewidth\":0,\"ticks\":\"\"}},\"marker\":{\"colorbar\":{\"outlinewidth\":0,\"ticks\":\"\"}}}],\"scattermapbox\":[{\"type\":\"scattermapbox\",\"marker\":{\"colorbar\":{\"outlinewidth\":0,\"ticks\":\"\"}}}],\"scatterternary\":[{\"type\":\"scatterternary\",\"marker\":{\"colorbar\":{\"outlinewidth\":0,\"ticks\":\"\"}}}],\"scattercarpet\":[{\"type\":\"scattercarpet\",\"marker\":{\"colorbar\":{\"outlinewidth\":0,\"ticks\":\"\"}}}],\"carpet\":[{\"aaxis\":{\"endlinecolor\":\"#2a3f5f\",\"gridcolor\":\"white\",\"linecolor\":\"white\",\"minorgridcolor\":\"white\",\"startlinecolor\":\"#2a3f5f\"},\"baxis\":{\"endlinecolor\":\"#2a3f5f\",\"gridcolor\":\"white\",\"linecolor\":\"white\",\"minorgridcolor\":\"white\",\"startlinecolor\":\"#2a3f5f\"},\"type\":\"carpet\"}],\"table\":[{\"cells\":{\"fill\":{\"color\":\"#EBF0F8\"},\"line\":{\"color\":\"white\"}},\"header\":{\"fill\":{\"color\":\"#C8D4E3\"},\"line\":{\"color\":\"white\"}},\"type\":\"table\"}],\"barpolar\":[{\"marker\":{\"line\":{\"color\":\"#E5ECF6\",\"width\":0.5},\"pattern\":{\"fillmode\":\"overlay\",\"size\":10,\"solidity\":0.2}},\"type\":\"barpolar\"}],\"pie\":[{\"automargin\":true,\"type\":\"pie\"}]},\"layout\":{\"autotypenumbers\":\"strict\",\"colorway\":[\"#636efa\",\"#EF553B\",\"#00cc96\",\"#ab63fa\",\"#FFA15A\",\"#19d3f3\",\"#FF6692\",\"#B6E880\",\"#FF97FF\",\"#FECB52\"],\"font\":{\"color\":\"#2a3f5f\"},\"hovermode\":\"closest\",\"hoverlabel\":{\"align\":\"left\"},\"paper_bgcolor\":\"white\",\"plot_bgcolor\":\"#E5ECF6\",\"polar\":{\"bgcolor\":\"#E5ECF6\",\"angularaxis\":{\"gridcolor\":\"white\",\"linecolor\":\"white\",\"ticks\":\"\"},\"radialaxis\":{\"gridcolor\":\"white\",\"linecolor\":\"white\",\"ticks\":\"\"}},\"ternary\":{\"bgcolor\":\"#E5ECF6\",\"aaxis\":{\"gridcolor\":\"white\",\"linecolor\":\"white\",\"ticks\":\"\"},\"baxis\":{\"gridcolor\":\"white\",\"linecolor\":\"white\",\"ticks\":\"\"},\"caxis\":{\"gridcolor\":\"white\",\"linecolor\":\"white\",\"ticks\":\"\"}},\"coloraxis\":{\"colorbar\":{\"outlinewidth\":0,\"ticks\":\"\"}},\"colorscale\":{\"sequential\":[[0.0,\"#0d0887\"],[0.1111111111111111,\"#46039f\"],[0.2222222222222222,\"#7201a8\"],[0.3333333333333333,\"#9c179e\"],[0.4444444444444444,\"#bd3786\"],[0.5555555555555556,\"#d8576b\"],[0.6666666666666666,\"#ed7953\"],[0.7777777777777778,\"#fb9f3a\"],[0.8888888888888888,\"#fdca26\"],[1.0,\"#f0f921\"]],\"sequentialminus\":[[0.0,\"#0d0887\"],[0.1111111111111111,\"#46039f\"],[0.2222222222222222,\"#7201a8\"],[0.3333333333333333,\"#9c179e\"],[0.4444444444444444,\"#bd3786\"],[0.5555555555555556,\"#d8576b\"],[0.6666666666666666,\"#ed7953\"],[0.7777777777777778,\"#fb9f3a\"],[0.8888888888888888,\"#fdca26\"],[1.0,\"#f0f921\"]],\"diverging\":[[0,\"#8e0152\"],[0.1,\"#c51b7d\"],[0.2,\"#de77ae\"],[0.3,\"#f1b6da\"],[0.4,\"#fde0ef\"],[0.5,\"#f7f7f7\"],[0.6,\"#e6f5d0\"],[0.7,\"#b8e186\"],[0.8,\"#7fbc41\"],[0.9,\"#4d9221\"],[1,\"#276419\"]]},\"xaxis\":{\"gridcolor\":\"white\",\"linecolor\":\"white\",\"ticks\":\"\",\"title\":{\"standoff\":15},\"zerolinecolor\":\"white\",\"automargin\":true,\"zerolinewidth\":2},\"yaxis\":{\"gridcolor\":\"white\",\"linecolor\":\"white\",\"ticks\":\"\",\"title\":{\"standoff\":15},\"zerolinecolor\":\"white\",\"automargin\":true,\"zerolinewidth\":2},\"scene\":{\"xaxis\":{\"backgroundcolor\":\"#E5ECF6\",\"gridcolor\":\"white\",\"linecolor\":\"white\",\"showbackground\":true,\"ticks\":\"\",\"zerolinecolor\":\"white\",\"gridwidth\":2},\"yaxis\":{\"backgroundcolor\":\"#E5ECF6\",\"gridcolor\":\"white\",\"linecolor\":\"white\",\"showbackground\":true,\"ticks\":\"\",\"zerolinecolor\":\"white\",\"gridwidth\":2},\"zaxis\":{\"backgroundcolor\":\"#E5ECF6\",\"gridcolor\":\"white\",\"linecolor\":\"white\",\"showbackground\":true,\"ticks\":\"\",\"zerolinecolor\":\"white\",\"gridwidth\":2}},\"shapedefaults\":{\"line\":{\"color\":\"#2a3f5f\"}},\"annotationdefaults\":{\"arrowcolor\":\"#2a3f5f\",\"arrowhead\":0,\"arrowwidth\":1},\"geo\":{\"bgcolor\":\"white\",\"landcolor\":\"#E5ECF6\",\"subunitcolor\":\"white\",\"showland\":true,\"showlakes\":true,\"lakecolor\":\"white\"},\"title\":{\"x\":0.05},\"mapbox\":{\"style\":\"light\"}}},\"annotations\":[{\"font\":{\"size\":16},\"showarrow\":false,\"text\":\" 2020\",\"x\":0.14444444444444446,\"xanchor\":\"center\",\"xref\":\"paper\",\"y\":1.0,\"yanchor\":\"bottom\",\"yref\":\"paper\"},{\"font\":{\"size\":16},\"showarrow\":false,\"text\":\" 2021\",\"x\":0.5,\"xanchor\":\"center\",\"xref\":\"paper\",\"y\":1.0,\"yanchor\":\"bottom\",\"yref\":\"paper\"},{\"font\":{\"size\":16},\"showarrow\":false,\"text\":\" 2022\",\"x\":0.8555555555555556,\"xanchor\":\"center\",\"xref\":\"paper\",\"y\":1.0,\"yanchor\":\"bottom\",\"yref\":\"paper\"}],\"title\":{\"text\":\"Happiness Score by Region\"},\"showlegend\":false},                        {\"responsive\": true}                    ).then(function(){\n",
       "                            \n",
       "var gd = document.getElementById('4dc6b00f-8cba-46fa-bb5c-120301094c39');\n",
       "var x = new MutationObserver(function (mutations, observer) {{\n",
       "        var display = window.getComputedStyle(gd).display;\n",
       "        if (!display || display === 'none') {{\n",
       "            console.log([gd, 'removed!']);\n",
       "            Plotly.purge(gd);\n",
       "            observer.disconnect();\n",
       "        }}\n",
       "}});\n",
       "\n",
       "// Listen for the removal of the full notebook cells\n",
       "var notebookContainer = gd.closest('#notebook-container');\n",
       "if (notebookContainer) {{\n",
       "    x.observe(notebookContainer, {childList: true});\n",
       "}}\n",
       "\n",
       "// Listen for the clearing of the current output cell\n",
       "var outputEl = gd.closest('.output');\n",
       "if (outputEl) {{\n",
       "    x.observe(outputEl, {childList: true});\n",
       "}}\n",
       "\n",
       "                        })                };                });            </script>        </div>"
      ]
     },
     "metadata": {},
     "output_type": "display_data"
    }
   ],
   "source": [
    "# Filter the years 2020-2022\n",
    "years = [2020, 2021, 2022]\n",
    "dfs = [df1[df1['Year'] == year] for year in years]\n",
    "\n",
    "# Create the subplots\n",
    "fig = make_subplots(rows=1, cols=3, specs=[[{'type':'domain'}]*3], \n",
    "                    subplot_titles=[f\" {year}\" for year in years])\n",
    "\n",
    "# Plot the pie charts for each year\n",
    "for i, df in enumerate(dfs):\n",
    "    df_agg = df.groupby('Regional indicator')['Happiness score'].mean().reset_index()\n",
    "    fig.add_trace(px.pie(df_agg, values='Happiness score', names='Regional indicator').data[0], row=1, col=i+1)\n",
    "\n",
    "# Update the layout\n",
    "fig.update_layout(title='Happiness Score by Region', showlegend=False)\n",
    "\n",
    "pie_chart=fig.show()\n",
    "pie_chart"
   ]
  },
  {
   "cell_type": "code",
   "execution_count": 54,
   "metadata": {
    "id": "rLk2eTWan7Lg"
   },
   "outputs": [],
   "source": [
    "NA = df1.loc[df1['Regional indicator'] == 'North America and ANZ']\n",
    "NA1 = NA.interactive()"
   ]
  },
  {
   "cell_type": "code",
   "execution_count": 55,
   "metadata": {
    "colab": {
     "base_uri": "https://localhost:8080/",
     "height": 357
    },
    "id": "lDMpmBMWoCjA",
    "outputId": "0e57fe9b-1cc3-4684-d713-f9d1a47e89f7"
   },
   "outputs": [
    {
     "data": {},
     "metadata": {},
     "output_type": "display_data"
    },
    {
     "data": {},
     "metadata": {},
     "output_type": "display_data"
    },
    {
     "data": {
      "application/vnd.holoviews_exec.v0+json": "",
      "text/html": [
       "<div id='14722'>\n",
       "  <div class=\"bk-root\" id=\"b19e1ce5-5ec3-4cf2-8f4b-5dc60a29e752\" data-root-id=\"14722\"></div>\n",
       "</div>\n",
       "<script type=\"application/javascript\">(function(root) {\n",
       "  function embed_document(root) {\n",
       "    var docs_json = {\"b72be9ed-d650-47c7-9625-e833665a233b\":{\"defs\":[{\"extends\":null,\"module\":null,\"name\":\"ReactiveHTML1\",\"overrides\":[],\"properties\":[]},{\"extends\":null,\"module\":null,\"name\":\"FlexBox1\",\"overrides\":[],\"properties\":[{\"default\":\"flex-start\",\"kind\":null,\"name\":\"align_content\"},{\"default\":\"flex-start\",\"kind\":null,\"name\":\"align_items\"},{\"default\":\"row\",\"kind\":null,\"name\":\"flex_direction\"},{\"default\":\"wrap\",\"kind\":null,\"name\":\"flex_wrap\"},{\"default\":\"flex-start\",\"kind\":null,\"name\":\"justify_content\"}]},{\"extends\":null,\"module\":null,\"name\":\"GridStack1\",\"overrides\":[],\"properties\":[{\"default\":\"warn\",\"kind\":null,\"name\":\"mode\"},{\"default\":null,\"kind\":null,\"name\":\"ncols\"},{\"default\":null,\"kind\":null,\"name\":\"nrows\"},{\"default\":true,\"kind\":null,\"name\":\"allow_resize\"},{\"default\":true,\"kind\":null,\"name\":\"allow_drag\"},{\"default\":[],\"kind\":null,\"name\":\"state\"}]},{\"extends\":null,\"module\":null,\"name\":\"click1\",\"overrides\":[],\"properties\":[{\"default\":\"\",\"kind\":null,\"name\":\"terminal_output\"},{\"default\":\"\",\"kind\":null,\"name\":\"debug_name\"},{\"default\":0,\"kind\":null,\"name\":\"clears\"}]},{\"extends\":null,\"module\":null,\"name\":\"NotificationAreaBase1\",\"overrides\":[],\"properties\":[{\"default\":\"bottom-right\",\"kind\":null,\"name\":\"position\"},{\"default\":0,\"kind\":null,\"name\":\"_clear\"}]},{\"extends\":null,\"module\":null,\"name\":\"NotificationArea1\",\"overrides\":[],\"properties\":[{\"default\":[],\"kind\":null,\"name\":\"notifications\"},{\"default\":\"bottom-right\",\"kind\":null,\"name\":\"position\"},{\"default\":0,\"kind\":null,\"name\":\"_clear\"},{\"default\":[{\"background\":\"#ffc107\",\"icon\":{\"className\":\"fas fa-exclamation-triangle\",\"color\":\"white\",\"tagName\":\"i\"},\"type\":\"warning\"},{\"background\":\"#007bff\",\"icon\":{\"className\":\"fas fa-info-circle\",\"color\":\"white\",\"tagName\":\"i\"},\"type\":\"info\"}],\"kind\":null,\"name\":\"types\"}]},{\"extends\":null,\"module\":null,\"name\":\"Notification\",\"overrides\":[],\"properties\":[{\"default\":null,\"kind\":null,\"name\":\"background\"},{\"default\":3000,\"kind\":null,\"name\":\"duration\"},{\"default\":null,\"kind\":null,\"name\":\"icon\"},{\"default\":\"\",\"kind\":null,\"name\":\"message\"},{\"default\":null,\"kind\":null,\"name\":\"notification_type\"},{\"default\":false,\"kind\":null,\"name\":\"_destroyed\"}]},{\"extends\":null,\"module\":null,\"name\":\"TemplateActions1\",\"overrides\":[],\"properties\":[{\"default\":0,\"kind\":null,\"name\":\"open_modal\"},{\"default\":0,\"kind\":null,\"name\":\"close_modal\"}]},{\"extends\":null,\"module\":null,\"name\":\"MaterialTemplateActions1\",\"overrides\":[],\"properties\":[{\"default\":0,\"kind\":null,\"name\":\"open_modal\"},{\"default\":0,\"kind\":null,\"name\":\"close_modal\"}]}],\"roots\":{\"references\":[{\"attributes\":{\"format\":\"0,0.0[00000]\"},\"id\":\"14764\",\"type\":\"NumberFormatter\"},{\"attributes\":{\"editor\":{\"id\":\"14770\"},\"field\":\"Social_support\",\"formatter\":{\"id\":\"14769\"},\"title\":\"Social support\"},\"id\":\"14771\",\"type\":\"TableColumn\"},{\"attributes\":{},\"id\":\"14734\",\"type\":\"NumberFormatter\"},{\"attributes\":{},\"id\":\"14775\",\"type\":\"NumberEditor\"},{\"attributes\":{\"format\":\"0,0.0[00000]\"},\"id\":\"14769\",\"type\":\"NumberFormatter\"},{\"attributes\":{},\"id\":\"14729\",\"type\":\"NumberFormatter\"},{\"attributes\":{\"editor\":{\"id\":\"14775\"},\"field\":\"Healthy_life_expectancy\",\"formatter\":{\"id\":\"14774\"},\"title\":\"Healthy life expectancy\"},\"id\":\"14776\",\"type\":\"TableColumn\"},{\"attributes\":{\"children\":[{\"id\":\"14724\"},{\"id\":\"14799\"}],\"margin\":[0,0,0,0],\"name\":\"Column28581\"},\"id\":\"14723\",\"type\":\"Column\"},{\"attributes\":{},\"id\":\"14780\",\"type\":\"NumberEditor\"},{\"attributes\":{\"format\":\"0,0.0[00000]\"},\"id\":\"14774\",\"type\":\"NumberFormatter\"},{\"attributes\":{\"children\":[{\"id\":\"14723\"}],\"margin\":[0,0,0,0],\"name\":\"Row28582\"},\"id\":\"14722\",\"type\":\"Row\"},{\"attributes\":{\"editor\":{\"id\":\"14780\"},\"field\":\"Freedom_to_make_life_choices\",\"formatter\":{\"id\":\"14779\"},\"title\":\"Freedom to make life choices\"},\"id\":\"14781\",\"type\":\"TableColumn\"},{\"attributes\":{},\"id\":\"14785\",\"type\":\"NumberEditor\"},{\"attributes\":{\"client_comm_id\":\"f4139de2014c4552974b516d7410235b\",\"comm_id\":\"727ce904aa3648cba480af11a9f8b1b3\",\"plot_id\":\"14722\"},\"id\":\"14810\",\"type\":\"panel.models.comm_manager.CommManager\"},{\"attributes\":{\"format\":\"0,0.0[00000]\"},\"id\":\"14779\",\"type\":\"NumberFormatter\"},{\"attributes\":{\"margin\":[5,5,5,5],\"name\":\"HSpacer28574\",\"sizing_mode\":\"stretch_width\"},\"id\":\"14726\",\"type\":\"Spacer\"},{\"attributes\":{\"editor\":{\"id\":\"14785\"},\"field\":\"Generosity\",\"formatter\":{\"id\":\"14784\"},\"title\":\"Generosity\"},\"id\":\"14786\",\"type\":\"TableColumn\"},{\"attributes\":{},\"id\":\"14790\",\"type\":\"NumberEditor\"},{\"attributes\":{\"editor\":{\"id\":\"14730\"},\"field\":\"Year\",\"formatter\":{\"id\":\"14729\"},\"title\":\"Year\"},\"id\":\"14731\",\"type\":\"TableColumn\"},{\"attributes\":{\"format\":\"0,0.0[00000]\"},\"id\":\"14784\",\"type\":\"NumberFormatter\"},{\"attributes\":{\"editor\":{\"id\":\"14790\"},\"field\":\"Perceptions_of_corruption\",\"formatter\":{\"id\":\"14789\"},\"title\":\"Perceptions of corruption\"},\"id\":\"14791\",\"type\":\"TableColumn\"},{\"attributes\":{},\"id\":\"14795\",\"type\":\"NumberEditor\"},{\"attributes\":{},\"id\":\"14730\",\"type\":\"IntEditor\"},{\"attributes\":{\"format\":\"0,0.0[00000]\"},\"id\":\"14789\",\"type\":\"NumberFormatter\"},{\"attributes\":{\"editor\":{\"id\":\"14795\"},\"field\":\"Dystopia_plus_residual\",\"formatter\":{\"id\":\"14794\"},\"title\":\"Dystopia + residual\"},\"id\":\"14796\",\"type\":\"TableColumn\"},{\"attributes\":{\"format\":\"0,0.0[00000]\"},\"id\":\"14794\",\"type\":\"NumberFormatter\"},{\"attributes\":{\"children\":[{\"id\":\"14725\"},{\"id\":\"14726\"}],\"margin\":[0,0,0,0],\"name\":\"Row28575\"},\"id\":\"14724\",\"type\":\"Row\"},{\"attributes\":{\"data\":{\"Country_name\":[\"New Zealand\",\"Canada\",\"Australia\",\"United States\",\"New Zealand\",\"Australia\",\"Canada\",\"United States\",\"New Zealand\",\"Australia\",\"Canada\",\"United States\"],\"Dystopia_plus_residual\":{\"__ndarray__\":\"WdcNgF0GAUCVOwZA6Y8BQCdT87/WCQFAKsj/f8TAAkBMN4lBYOUEQGIQWDm0yARArkfhehSuBEDb+X5qvHQGQN0kBoGVQ/8/SgwCK4cWAEBiEFg5tMj+P4PAyqFFtgFA\",\"dtype\":\"float64\",\"order\":\"little\",\"shape\":[12]},\"Freedom_to_make_life_choices\":{\"__ndarray__\":\"a8XHv4Cy5D+NaeXf4JvkP2QGwv9q5uM/dk0OwIIb4T9I4XoUrkflP05iEFg5tOQ/I9v5fmq85D/ufD81XrrhP8P1KFyPwuU/bxKDwMqh5T9KDAIrhxblP5HtfD81XuI/\",\"dtype\":\"float64\",\"order\":\"little\",\"shape\":[12]},\"Generosity\":{\"__ndarray__\":\"znrsv7LY1D8JzhHgkQTSPy94+R9ezNQ/L837n8YU0z9Ei2zn+6nRPzm0yHa+n9I/sHJoke18zz9U46WbxCDQP1yPwvUoXM8/UI2XbhKD0D8tsp3vp8bLPylcj8L1KMw/\",\"dtype\":\"float64\",\"order\":\"little\",\"shape\":[12]},\"Happiness_score\":{\"__ndarray__\":\"h9T5X8oyHUC0ZwGgq+0cQKVDAKAl5BxA5qoCgCbCG0DP91PjpRsdQAisHFpkuxxAtvP91HhpHEDn+6nx0s0bQM3MzMzMzBxA2c73U+OlHECamZmZmRkcQJzEILBy6BtA\",\"dtype\":\"float64\",\"order\":\"little\",\"shape\":[12]},\"Healthy_life_expectancy\":{\"__ndarray__\":\"Fs0AoFUh8D838d3/KlzwP16x9t+ZXPA/Yk4AYJ2c6j8fhetRuB7pP28Sg8DKoek/8KfGSzeJ6T+sHFpkO9/jP6rx0k1iEOg/TmIQWDm06D91kxgEVg7pP39qvHSTGOQ/\",\"dtype\":\"float64\",\"order\":\"little\",\"shape\":[12]},\"Log_GDP_per_capita\":{\"__ndarray__\":\"/I4CwIjg8z9N//d/jNP0Pxt7CEBi9/Q/PfPun9n79T9mZmZmZmb2P3Noke18P/c/9P3UeOkm9z+6SQwCK4f4P28Sg8DKof0/ZmZmZmZm/j+TGARWDi3+P4PAyqFFtv8/\",\"dtype\":\"float64\",\"order\":\"little\",\"shape\":[12]},\"Perceptions_of_corruption\":{\"__ndarray__\":\"HIwGYGuF3T+fmV2ASILWPzRmyx/3gNU/pC0j/xB+wz97FK5H4XrcP30/NV66SdQ/cT0K16Nw1T+DwMqhRbbDP7bz/dR46d4/bef7qfHS1T9aZDvfT43XPw4tsp3vp8Y/\",\"dtype\":\"float64\",\"order\":\"little\",\"shape\":[12]},\"RANK\":[8,11,12,18,9,11,14,19,10,12,15,16],\"Regional_indicator\":[\"North America and ANZ\",\"North America and ANZ\",\"North America and ANZ\",\"North America and ANZ\",\"North America and ANZ\",\"North America and ANZ\",\"North America and ANZ\",\"North America and ANZ\",\"North America and ANZ\",\"North America and ANZ\",\"North America and ANZ\",\"North America and ANZ\"],\"Social_support\":{\"__ndarray__\":\"+cIBgKXL9z9TQAWAXff2P8d+ByBkovc/UwICoAF69j8bL90kBoHxP57vp8ZLN/E/TmIQWDm08D97FK5H4XrwP8P1KFyPwvM/c2iR7Xw/8z81XrpJDALzP7bz/dR46fI/\",\"dtype\":\"float64\",\"order\":\"little\",\"shape\":[12]},\"Whisker_hyphen_minus_high\":{\"__ndarray__\":\"0DP93/+BHUB4xQUAxD4dQBlrA6AfOB1APpsBoB0hHEDsUbgehWsdQI/C9ShcDx1APQrXo3C9HEDjpZvEIDAcQARWDi2yHR1AYOXQItv5HEAhsHJokW0cQMP1KFyPQhxA\",\"dtype\":\"float64\",\"order\":\"little\",\"shape\":[12]},\"Whisker_hyphen_minus_low\":{\"__ndarray__\":\"SaMH4JTjHEDwCf0/k5wcQDEc/Z8rkBxAjroDYC9jG0CYbhKDwMocQJzEILByaBxAL90kBoEVHEAGgZVDi2wbQHsUrkfhehxAbef7qfFSHEASg8DKocUbQFpkO99PjRtA\",\"dtype\":\"float64\",\"order\":\"little\",\"shape\":[12]},\"Year\":[2020,2020,2020,2020,2021,2021,2021,2021,2022,2022,2022,2022]},\"selected\":{\"id\":\"14728\"},\"selection_policy\":{\"id\":\"14802\"}},\"id\":\"14727\",\"type\":\"ColumnDataSource\"},{\"attributes\":{\"source\":{\"id\":\"14727\"}},\"id\":\"14801\",\"type\":\"CDSView\"},{\"attributes\":{\"margin\":[0,0,0,0],\"name\":\"Column28571\"},\"id\":\"14725\",\"type\":\"Column\"},{\"attributes\":{\"columns\":[{\"id\":\"14731\"},{\"id\":\"14736\"},{\"id\":\"14741\"},{\"id\":\"14746\"},{\"id\":\"14751\"},{\"id\":\"14756\"},{\"id\":\"14761\"},{\"id\":\"14766\"},{\"id\":\"14771\"},{\"id\":\"14776\"},{\"id\":\"14781\"},{\"id\":\"14786\"},{\"id\":\"14791\"},{\"id\":\"14796\"}],\"height\":300,\"reorderable\":false,\"source\":{\"id\":\"14727\"},\"view\":{\"id\":\"14801\"},\"width\":1300},\"id\":\"14799\",\"type\":\"DataTable\"},{\"attributes\":{},\"id\":\"14740\",\"type\":\"StringEditor\"},{\"attributes\":{},\"id\":\"14728\",\"type\":\"Selection\"},{\"attributes\":{},\"id\":\"14744\",\"type\":\"StringFormatter\"},{\"attributes\":{\"format\":\"0,0.0[00000]\"},\"id\":\"14749\",\"type\":\"NumberFormatter\"},{\"attributes\":{\"editor\":{\"id\":\"14735\"},\"field\":\"RANK\",\"formatter\":{\"id\":\"14734\"},\"title\":\"RANK\"},\"id\":\"14736\",\"type\":\"TableColumn\"},{\"attributes\":{},\"id\":\"14755\",\"type\":\"NumberEditor\"},{\"attributes\":{\"editor\":{\"id\":\"14740\"},\"field\":\"Country_name\",\"formatter\":{\"id\":\"14739\"},\"title\":\"Country name\"},\"id\":\"14741\",\"type\":\"TableColumn\"},{\"attributes\":{},\"id\":\"14745\",\"type\":\"StringEditor\"},{\"attributes\":{\"editor\":{\"id\":\"14750\"},\"field\":\"Happiness_score\",\"formatter\":{\"id\":\"14749\"},\"title\":\"Happiness score\"},\"id\":\"14751\",\"type\":\"TableColumn\"},{\"attributes\":{\"editor\":{\"id\":\"14745\"},\"field\":\"Regional_indicator\",\"formatter\":{\"id\":\"14744\"},\"title\":\"Regional indicator\"},\"id\":\"14746\",\"type\":\"TableColumn\"},{\"attributes\":{},\"id\":\"14750\",\"type\":\"NumberEditor\"},{\"attributes\":{},\"id\":\"14739\",\"type\":\"StringFormatter\"},{\"attributes\":{\"editor\":{\"id\":\"14755\"},\"field\":\"Whisker_hyphen_minus_high\",\"formatter\":{\"id\":\"14754\"},\"title\":\"Whisker-high\"},\"id\":\"14756\",\"type\":\"TableColumn\"},{\"attributes\":{},\"id\":\"14735\",\"type\":\"IntEditor\"},{\"attributes\":{},\"id\":\"14760\",\"type\":\"NumberEditor\"},{\"attributes\":{},\"id\":\"14802\",\"type\":\"UnionRenderers\"},{\"attributes\":{\"format\":\"0,0.0[00000]\"},\"id\":\"14754\",\"type\":\"NumberFormatter\"},{\"attributes\":{\"editor\":{\"id\":\"14760\"},\"field\":\"Whisker_hyphen_minus_low\",\"formatter\":{\"id\":\"14759\"},\"title\":\"Whisker-low\"},\"id\":\"14761\",\"type\":\"TableColumn\"},{\"attributes\":{},\"id\":\"14765\",\"type\":\"NumberEditor\"},{\"attributes\":{\"format\":\"0,0.0[00000]\"},\"id\":\"14759\",\"type\":\"NumberFormatter\"},{\"attributes\":{\"editor\":{\"id\":\"14765\"},\"field\":\"Log_GDP_per_capita\",\"formatter\":{\"id\":\"14764\"},\"title\":\"Log GDP per capita\"},\"id\":\"14766\",\"type\":\"TableColumn\"},{\"attributes\":{},\"id\":\"14770\",\"type\":\"NumberEditor\"}],\"root_ids\":[\"14722\",\"14810\"]},\"title\":\"Bokeh Application\",\"version\":\"2.4.3\"}};\n",
       "    var render_items = [{\"docid\":\"b72be9ed-d650-47c7-9625-e833665a233b\",\"root_ids\":[\"14722\"],\"roots\":{\"14722\":\"b19e1ce5-5ec3-4cf2-8f4b-5dc60a29e752\"}}];\n",
       "    root.Bokeh.embed.embed_items_notebook(docs_json, render_items);\n",
       "    for (const render_item of render_items) {\n",
       "      for (const root_id of render_item.root_ids) {\n",
       "\tconst id_el = document.getElementById(root_id)\n",
       "\tif (id_el.children.length && (id_el.children[0].className === 'bk-root')) {\n",
       "\t  const root_el = id_el.children[0]\n",
       "\t  root_el.id = root_el.id + '-rendered'\n",
       "\t}\n",
       "      }\n",
       "    }\n",
       "  }\n",
       "  if (root.Bokeh !== undefined && root.Bokeh.Panel !== undefined && ( root['Tabulator'] !== undefined) && ( root['Tabulator'] !== undefined)) {\n",
       "    embed_document(root);\n",
       "  } else {\n",
       "    var attempts = 0;\n",
       "    var timer = setInterval(function(root) {\n",
       "      if (root.Bokeh !== undefined && root.Bokeh.Panel !== undefined && (root['Tabulator'] !== undefined) && (root['Tabulator'] !== undefined)) {\n",
       "        clearInterval(timer);\n",
       "        embed_document(root);\n",
       "      } else if (document.readyState == \"complete\") {\n",
       "        attempts++;\n",
       "        if (attempts > 200) {\n",
       "          clearInterval(timer);\n",
       "          console.log(\"Bokeh: ERROR: Unable to run BokehJS code because BokehJS library is missing\");\n",
       "        }\n",
       "      }\n",
       "    }, 25, root)\n",
       "  }\n",
       "})(window);</script>"
      ],
      "text/plain": [
       "<hvplot.interactive.Interactive at 0x7fc496036140>"
      ]
     },
     "execution_count": 55,
     "metadata": {
      "application/vnd.holoviews_exec.v0+json": {
       "id": "14722"
      }
     },
     "output_type": "execute_result"
    }
   ],
   "source": [
    "NA1.hvplot(kind='table', width=1300)"
   ]
  },
  {
   "cell_type": "markdown",
   "metadata": {
    "id": "2ooBwQcToKiN"
   },
   "source": [
    "### 4 Dashboard: Bar chart"
   ]
  },
  {
   "cell_type": "code",
   "execution_count": 56,
   "metadata": {
    "colab": {
     "base_uri": "https://localhost:8080/",
     "height": 1000
    },
    "id": "csZO8g2OoC1E",
    "outputId": "d2636d40-22c2-4edc-eaa9-5dae1c83e724"
   },
   "outputs": [
    {
     "data": {
      "text/html": [
       "<div>\n",
       "<style scoped>\n",
       "    .dataframe tbody tr th:only-of-type {\n",
       "        vertical-align: middle;\n",
       "    }\n",
       "\n",
       "    .dataframe tbody tr th {\n",
       "        vertical-align: top;\n",
       "    }\n",
       "\n",
       "    .dataframe thead th {\n",
       "        text-align: right;\n",
       "    }\n",
       "</style>\n",
       "<table border=\"1\" class=\"dataframe\">\n",
       "  <thead>\n",
       "    <tr style=\"text-align: right;\">\n",
       "      <th></th>\n",
       "      <th>Year</th>\n",
       "      <th>RANK</th>\n",
       "      <th>Country name</th>\n",
       "      <th>Regional indicator</th>\n",
       "      <th>Happiness score</th>\n",
       "      <th>Whisker-high</th>\n",
       "      <th>Whisker-low</th>\n",
       "      <th>Log GDP per capita</th>\n",
       "      <th>Social support</th>\n",
       "      <th>Healthy life expectancy</th>\n",
       "      <th>Freedom to make life choices</th>\n",
       "      <th>Generosity</th>\n",
       "      <th>Perceptions of corruption</th>\n",
       "      <th>Dystopia + residual</th>\n",
       "    </tr>\n",
       "  </thead>\n",
       "  <tbody>\n",
       "    <tr>\n",
       "      <th>0</th>\n",
       "      <td>2020</td>\n",
       "      <td>1</td>\n",
       "      <td>Finland</td>\n",
       "      <td>Western Europe</td>\n",
       "      <td>7.8087</td>\n",
       "      <td>7.869766</td>\n",
       "      <td>7.747634</td>\n",
       "      <td>1.285190</td>\n",
       "      <td>1.499526</td>\n",
       "      <td>0.961271</td>\n",
       "      <td>0.662317</td>\n",
       "      <td>0.159670</td>\n",
       "      <td>0.477857</td>\n",
       "      <td>2.762835</td>\n",
       "    </tr>\n",
       "    <tr>\n",
       "      <th>153</th>\n",
       "      <td>2021</td>\n",
       "      <td>1</td>\n",
       "      <td>Finland</td>\n",
       "      <td>Western Europe</td>\n",
       "      <td>7.8420</td>\n",
       "      <td>7.904000</td>\n",
       "      <td>7.780000</td>\n",
       "      <td>1.446000</td>\n",
       "      <td>1.106000</td>\n",
       "      <td>0.741000</td>\n",
       "      <td>0.691000</td>\n",
       "      <td>0.124000</td>\n",
       "      <td>0.481000</td>\n",
       "      <td>3.253000</td>\n",
       "    </tr>\n",
       "    <tr>\n",
       "      <th>302</th>\n",
       "      <td>2022</td>\n",
       "      <td>1</td>\n",
       "      <td>Finland</td>\n",
       "      <td>Western Europe</td>\n",
       "      <td>7.8210</td>\n",
       "      <td>7.886000</td>\n",
       "      <td>7.756000</td>\n",
       "      <td>1.892000</td>\n",
       "      <td>1.258000</td>\n",
       "      <td>0.775000</td>\n",
       "      <td>0.736000</td>\n",
       "      <td>0.109000</td>\n",
       "      <td>0.534000</td>\n",
       "      <td>2.518000</td>\n",
       "    </tr>\n",
       "    <tr>\n",
       "      <th>1</th>\n",
       "      <td>2020</td>\n",
       "      <td>2</td>\n",
       "      <td>Denmark</td>\n",
       "      <td>Western Europe</td>\n",
       "      <td>7.6456</td>\n",
       "      <td>7.711245</td>\n",
       "      <td>7.579955</td>\n",
       "      <td>1.326949</td>\n",
       "      <td>1.503449</td>\n",
       "      <td>0.979333</td>\n",
       "      <td>0.665040</td>\n",
       "      <td>0.242793</td>\n",
       "      <td>0.495260</td>\n",
       "      <td>2.432741</td>\n",
       "    </tr>\n",
       "    <tr>\n",
       "      <th>154</th>\n",
       "      <td>2021</td>\n",
       "      <td>2</td>\n",
       "      <td>Denmark</td>\n",
       "      <td>Western Europe</td>\n",
       "      <td>7.6200</td>\n",
       "      <td>7.687000</td>\n",
       "      <td>7.552000</td>\n",
       "      <td>1.502000</td>\n",
       "      <td>1.108000</td>\n",
       "      <td>0.763000</td>\n",
       "      <td>0.686000</td>\n",
       "      <td>0.208000</td>\n",
       "      <td>0.485000</td>\n",
       "      <td>2.868000</td>\n",
       "    </tr>\n",
       "    <tr>\n",
       "      <th>303</th>\n",
       "      <td>2022</td>\n",
       "      <td>2</td>\n",
       "      <td>Denmark</td>\n",
       "      <td>Western Europe</td>\n",
       "      <td>7.6360</td>\n",
       "      <td>7.710000</td>\n",
       "      <td>7.563000</td>\n",
       "      <td>1.953000</td>\n",
       "      <td>1.243000</td>\n",
       "      <td>0.777000</td>\n",
       "      <td>0.719000</td>\n",
       "      <td>0.188000</td>\n",
       "      <td>0.532000</td>\n",
       "      <td>2.226000</td>\n",
       "    </tr>\n",
       "    <tr>\n",
       "      <th>2</th>\n",
       "      <td>2020</td>\n",
       "      <td>3</td>\n",
       "      <td>Switzerland</td>\n",
       "      <td>Western Europe</td>\n",
       "      <td>7.5599</td>\n",
       "      <td>7.628528</td>\n",
       "      <td>7.491272</td>\n",
       "      <td>1.390774</td>\n",
       "      <td>1.472403</td>\n",
       "      <td>1.040533</td>\n",
       "      <td>0.628954</td>\n",
       "      <td>0.269056</td>\n",
       "      <td>0.407946</td>\n",
       "      <td>2.350267</td>\n",
       "    </tr>\n",
       "    <tr>\n",
       "      <th>155</th>\n",
       "      <td>2021</td>\n",
       "      <td>3</td>\n",
       "      <td>Switzerland</td>\n",
       "      <td>Western Europe</td>\n",
       "      <td>7.5710</td>\n",
       "      <td>7.643000</td>\n",
       "      <td>7.500000</td>\n",
       "      <td>1.566000</td>\n",
       "      <td>1.079000</td>\n",
       "      <td>0.816000</td>\n",
       "      <td>0.653000</td>\n",
       "      <td>0.204000</td>\n",
       "      <td>0.413000</td>\n",
       "      <td>2.839000</td>\n",
       "    </tr>\n",
       "    <tr>\n",
       "      <th>305</th>\n",
       "      <td>2022</td>\n",
       "      <td>4</td>\n",
       "      <td>Switzerland</td>\n",
       "      <td>Western Europe</td>\n",
       "      <td>7.5120</td>\n",
       "      <td>7.586000</td>\n",
       "      <td>7.437000</td>\n",
       "      <td>2.026000</td>\n",
       "      <td>1.226000</td>\n",
       "      <td>0.822000</td>\n",
       "      <td>0.677000</td>\n",
       "      <td>0.147000</td>\n",
       "      <td>0.461000</td>\n",
       "      <td>2.153000</td>\n",
       "    </tr>\n",
       "    <tr>\n",
       "      <th>152</th>\n",
       "      <td>2020</td>\n",
       "      <td>153</td>\n",
       "      <td>Afghanistan</td>\n",
       "      <td>South Asia</td>\n",
       "      <td>2.5669</td>\n",
       "      <td>2.628270</td>\n",
       "      <td>2.505530</td>\n",
       "      <td>0.300706</td>\n",
       "      <td>0.356434</td>\n",
       "      <td>0.266052</td>\n",
       "      <td>0.000000</td>\n",
       "      <td>0.135235</td>\n",
       "      <td>0.001226</td>\n",
       "      <td>1.507236</td>\n",
       "    </tr>\n",
       "    <tr>\n",
       "      <th>301</th>\n",
       "      <td>2021</td>\n",
       "      <td>149</td>\n",
       "      <td>Afghanistan</td>\n",
       "      <td>South Asia</td>\n",
       "      <td>2.5230</td>\n",
       "      <td>2.596000</td>\n",
       "      <td>2.449000</td>\n",
       "      <td>0.370000</td>\n",
       "      <td>0.000000</td>\n",
       "      <td>0.126000</td>\n",
       "      <td>0.000000</td>\n",
       "      <td>0.122000</td>\n",
       "      <td>0.010000</td>\n",
       "      <td>1.895000</td>\n",
       "    </tr>\n",
       "    <tr>\n",
       "      <th>426</th>\n",
       "      <td>2022</td>\n",
       "      <td>146</td>\n",
       "      <td>Afghanistan</td>\n",
       "      <td>South Asia</td>\n",
       "      <td>2.4040</td>\n",
       "      <td>2.469000</td>\n",
       "      <td>2.339000</td>\n",
       "      <td>0.758000</td>\n",
       "      <td>0.000000</td>\n",
       "      <td>0.289000</td>\n",
       "      <td>0.000000</td>\n",
       "      <td>0.089000</td>\n",
       "      <td>0.005000</td>\n",
       "      <td>1.263000</td>\n",
       "    </tr>\n",
       "    <tr>\n",
       "      <th>110</th>\n",
       "      <td>2020</td>\n",
       "      <td>111</td>\n",
       "      <td>Lebanon</td>\n",
       "      <td>Middle East and North Africa</td>\n",
       "      <td>4.7715</td>\n",
       "      <td>4.857258</td>\n",
       "      <td>4.685742</td>\n",
       "      <td>0.889233</td>\n",
       "      <td>1.192493</td>\n",
       "      <td>0.788671</td>\n",
       "      <td>0.185517</td>\n",
       "      <td>0.158524</td>\n",
       "      <td>0.021518</td>\n",
       "      <td>1.535542</td>\n",
       "    </tr>\n",
       "    <tr>\n",
       "      <th>275</th>\n",
       "      <td>2021</td>\n",
       "      <td>123</td>\n",
       "      <td>Lebanon</td>\n",
       "      <td>Middle East and North Africa</td>\n",
       "      <td>4.5840</td>\n",
       "      <td>4.691000</td>\n",
       "      <td>4.477000</td>\n",
       "      <td>1.045000</td>\n",
       "      <td>0.868000</td>\n",
       "      <td>0.595000</td>\n",
       "      <td>0.175000</td>\n",
       "      <td>0.140000</td>\n",
       "      <td>0.026000</td>\n",
       "      <td>1.736000</td>\n",
       "    </tr>\n",
       "    <tr>\n",
       "      <th>425</th>\n",
       "      <td>2022</td>\n",
       "      <td>145</td>\n",
       "      <td>Lebanon</td>\n",
       "      <td>Middle East and North Africa</td>\n",
       "      <td>2.9550</td>\n",
       "      <td>3.049000</td>\n",
       "      <td>2.862000</td>\n",
       "      <td>1.392000</td>\n",
       "      <td>0.498000</td>\n",
       "      <td>0.631000</td>\n",
       "      <td>0.103000</td>\n",
       "      <td>0.082000</td>\n",
       "      <td>0.034000</td>\n",
       "      <td>0.216000</td>\n",
       "    </tr>\n",
       "    <tr>\n",
       "      <th>118</th>\n",
       "      <td>2020</td>\n",
       "      <td>119</td>\n",
       "      <td>Jordan</td>\n",
       "      <td>Middle East and North Africa</td>\n",
       "      <td>4.6334</td>\n",
       "      <td>4.748552</td>\n",
       "      <td>4.518248</td>\n",
       "      <td>0.785179</td>\n",
       "      <td>1.140119</td>\n",
       "      <td>0.777625</td>\n",
       "      <td>0.424855</td>\n",
       "      <td>0.091495</td>\n",
       "      <td>0.151879</td>\n",
       "      <td>1.262258</td>\n",
       "    </tr>\n",
       "    <tr>\n",
       "      <th>279</th>\n",
       "      <td>2021</td>\n",
       "      <td>127</td>\n",
       "      <td>Jordan</td>\n",
       "      <td>Middle East and North Africa</td>\n",
       "      <td>4.3950</td>\n",
       "      <td>4.516000</td>\n",
       "      <td>4.273000</td>\n",
       "      <td>0.890000</td>\n",
       "      <td>0.685000</td>\n",
       "      <td>0.583000</td>\n",
       "      <td>0.455000</td>\n",
       "      <td>0.079000</td>\n",
       "      <td>0.150000</td>\n",
       "      <td>1.553000</td>\n",
       "    </tr>\n",
       "    <tr>\n",
       "      <th>417</th>\n",
       "      <td>2022</td>\n",
       "      <td>134</td>\n",
       "      <td>Jordan</td>\n",
       "      <td>Middle East and North Africa</td>\n",
       "      <td>4.1520</td>\n",
       "      <td>4.276000</td>\n",
       "      <td>4.029000</td>\n",
       "      <td>1.324000</td>\n",
       "      <td>0.724000</td>\n",
       "      <td>0.675000</td>\n",
       "      <td>0.476000</td>\n",
       "      <td>0.058000</td>\n",
       "      <td>0.200000</td>\n",
       "      <td>0.695000</td>\n",
       "    </tr>\n",
       "  </tbody>\n",
       "</table>\n",
       "</div>"
      ],
      "text/plain": [
       "     Year  RANK Country name            Regional indicator  Happiness score   \n",
       "0    2020     1      Finland                Western Europe           7.8087  \\\n",
       "153  2021     1      Finland                Western Europe           7.8420   \n",
       "302  2022     1      Finland                Western Europe           7.8210   \n",
       "1    2020     2      Denmark                Western Europe           7.6456   \n",
       "154  2021     2      Denmark                Western Europe           7.6200   \n",
       "303  2022     2      Denmark                Western Europe           7.6360   \n",
       "2    2020     3  Switzerland                Western Europe           7.5599   \n",
       "155  2021     3  Switzerland                Western Europe           7.5710   \n",
       "305  2022     4  Switzerland                Western Europe           7.5120   \n",
       "152  2020   153  Afghanistan                    South Asia           2.5669   \n",
       "301  2021   149  Afghanistan                    South Asia           2.5230   \n",
       "426  2022   146  Afghanistan                    South Asia           2.4040   \n",
       "110  2020   111      Lebanon  Middle East and North Africa           4.7715   \n",
       "275  2021   123      Lebanon  Middle East and North Africa           4.5840   \n",
       "425  2022   145      Lebanon  Middle East and North Africa           2.9550   \n",
       "118  2020   119       Jordan  Middle East and North Africa           4.6334   \n",
       "279  2021   127       Jordan  Middle East and North Africa           4.3950   \n",
       "417  2022   134       Jordan  Middle East and North Africa           4.1520   \n",
       "\n",
       "     Whisker-high  Whisker-low  Log GDP per capita  Social support   \n",
       "0        7.869766     7.747634            1.285190        1.499526  \\\n",
       "153      7.904000     7.780000            1.446000        1.106000   \n",
       "302      7.886000     7.756000            1.892000        1.258000   \n",
       "1        7.711245     7.579955            1.326949        1.503449   \n",
       "154      7.687000     7.552000            1.502000        1.108000   \n",
       "303      7.710000     7.563000            1.953000        1.243000   \n",
       "2        7.628528     7.491272            1.390774        1.472403   \n",
       "155      7.643000     7.500000            1.566000        1.079000   \n",
       "305      7.586000     7.437000            2.026000        1.226000   \n",
       "152      2.628270     2.505530            0.300706        0.356434   \n",
       "301      2.596000     2.449000            0.370000        0.000000   \n",
       "426      2.469000     2.339000            0.758000        0.000000   \n",
       "110      4.857258     4.685742            0.889233        1.192493   \n",
       "275      4.691000     4.477000            1.045000        0.868000   \n",
       "425      3.049000     2.862000            1.392000        0.498000   \n",
       "118      4.748552     4.518248            0.785179        1.140119   \n",
       "279      4.516000     4.273000            0.890000        0.685000   \n",
       "417      4.276000     4.029000            1.324000        0.724000   \n",
       "\n",
       "     Healthy life expectancy  Freedom to make life choices  Generosity   \n",
       "0                   0.961271                      0.662317    0.159670  \\\n",
       "153                 0.741000                      0.691000    0.124000   \n",
       "302                 0.775000                      0.736000    0.109000   \n",
       "1                   0.979333                      0.665040    0.242793   \n",
       "154                 0.763000                      0.686000    0.208000   \n",
       "303                 0.777000                      0.719000    0.188000   \n",
       "2                   1.040533                      0.628954    0.269056   \n",
       "155                 0.816000                      0.653000    0.204000   \n",
       "305                 0.822000                      0.677000    0.147000   \n",
       "152                 0.266052                      0.000000    0.135235   \n",
       "301                 0.126000                      0.000000    0.122000   \n",
       "426                 0.289000                      0.000000    0.089000   \n",
       "110                 0.788671                      0.185517    0.158524   \n",
       "275                 0.595000                      0.175000    0.140000   \n",
       "425                 0.631000                      0.103000    0.082000   \n",
       "118                 0.777625                      0.424855    0.091495   \n",
       "279                 0.583000                      0.455000    0.079000   \n",
       "417                 0.675000                      0.476000    0.058000   \n",
       "\n",
       "     Perceptions of corruption  Dystopia + residual  \n",
       "0                     0.477857             2.762835  \n",
       "153                   0.481000             3.253000  \n",
       "302                   0.534000             2.518000  \n",
       "1                     0.495260             2.432741  \n",
       "154                   0.485000             2.868000  \n",
       "303                   0.532000             2.226000  \n",
       "2                     0.407946             2.350267  \n",
       "155                   0.413000             2.839000  \n",
       "305                   0.461000             2.153000  \n",
       "152                   0.001226             1.507236  \n",
       "301                   0.010000             1.895000  \n",
       "426                   0.005000             1.263000  \n",
       "110                   0.021518             1.535542  \n",
       "275                   0.026000             1.736000  \n",
       "425                   0.034000             0.216000  \n",
       "118                   0.151879             1.262258  \n",
       "279                   0.150000             1.553000  \n",
       "417                   0.200000             0.695000  "
      ]
     },
     "execution_count": 56,
     "metadata": {},
     "output_type": "execute_result"
    }
   ],
   "source": [
    "# show data frame\n",
    "hy_combined3"
   ]
  },
  {
   "cell_type": "code",
   "execution_count": 57,
   "metadata": {
    "id": "BxPj0cELoPqy"
   },
   "outputs": [],
   "source": [
    "#create pipeline\n",
    "hyc3_pipline = (\n",
    "    hyc3[\n",
    "        (hyc3.Year <= year_slider)\n",
    "    ]\n",
    "    .groupby(['Country name', 'Year'])[yaxis_co2].mean()\n",
    "    .to_frame()\n",
    "    .reset_index()\n",
    "    .sort_values(by='Year') \n",
    "    .reset_index(drop=True)\n",
    ")\n",
    "#hyc3_pipline"
   ]
  },
  {
   "cell_type": "code",
   "execution_count": 58,
   "metadata": {
    "colab": {
     "base_uri": "https://localhost:8080/",
     "height": 439
    },
    "id": "e7bUDgaEoXjw",
    "outputId": "af25c4a5-0c72-45da-bf76-f9b5ccc36990",
    "scrolled": true
   },
   "outputs": [
    {
     "data": {},
     "metadata": {},
     "output_type": "display_data"
    },
    {
     "data": {},
     "metadata": {},
     "output_type": "display_data"
    },
    {
     "data": {
      "application/vnd.holoviews_exec.v0+json": "",
      "text/html": [
       "<div id='14821'>\n",
       "  <div class=\"bk-root\" id=\"1565da77-e0cb-49b5-907d-59d5fba800cb\" data-root-id=\"14821\"></div>\n",
       "</div>\n",
       "<script type=\"application/javascript\">(function(root) {\n",
       "  function embed_document(root) {\n",
       "    var docs_json = {\"bba1971d-8560-4b57-813d-47aeda230d69\":{\"defs\":[{\"extends\":null,\"module\":null,\"name\":\"ReactiveHTML1\",\"overrides\":[],\"properties\":[]},{\"extends\":null,\"module\":null,\"name\":\"FlexBox1\",\"overrides\":[],\"properties\":[{\"default\":\"flex-start\",\"kind\":null,\"name\":\"align_content\"},{\"default\":\"flex-start\",\"kind\":null,\"name\":\"align_items\"},{\"default\":\"row\",\"kind\":null,\"name\":\"flex_direction\"},{\"default\":\"wrap\",\"kind\":null,\"name\":\"flex_wrap\"},{\"default\":\"flex-start\",\"kind\":null,\"name\":\"justify_content\"}]},{\"extends\":null,\"module\":null,\"name\":\"GridStack1\",\"overrides\":[],\"properties\":[{\"default\":\"warn\",\"kind\":null,\"name\":\"mode\"},{\"default\":null,\"kind\":null,\"name\":\"ncols\"},{\"default\":null,\"kind\":null,\"name\":\"nrows\"},{\"default\":true,\"kind\":null,\"name\":\"allow_resize\"},{\"default\":true,\"kind\":null,\"name\":\"allow_drag\"},{\"default\":[],\"kind\":null,\"name\":\"state\"}]},{\"extends\":null,\"module\":null,\"name\":\"click1\",\"overrides\":[],\"properties\":[{\"default\":\"\",\"kind\":null,\"name\":\"terminal_output\"},{\"default\":\"\",\"kind\":null,\"name\":\"debug_name\"},{\"default\":0,\"kind\":null,\"name\":\"clears\"}]},{\"extends\":null,\"module\":null,\"name\":\"NotificationAreaBase1\",\"overrides\":[],\"properties\":[{\"default\":\"bottom-right\",\"kind\":null,\"name\":\"position\"},{\"default\":0,\"kind\":null,\"name\":\"_clear\"}]},{\"extends\":null,\"module\":null,\"name\":\"NotificationArea1\",\"overrides\":[],\"properties\":[{\"default\":[],\"kind\":null,\"name\":\"notifications\"},{\"default\":\"bottom-right\",\"kind\":null,\"name\":\"position\"},{\"default\":0,\"kind\":null,\"name\":\"_clear\"},{\"default\":[{\"background\":\"#ffc107\",\"icon\":{\"className\":\"fas fa-exclamation-triangle\",\"color\":\"white\",\"tagName\":\"i\"},\"type\":\"warning\"},{\"background\":\"#007bff\",\"icon\":{\"className\":\"fas fa-info-circle\",\"color\":\"white\",\"tagName\":\"i\"},\"type\":\"info\"}],\"kind\":null,\"name\":\"types\"}]},{\"extends\":null,\"module\":null,\"name\":\"Notification\",\"overrides\":[],\"properties\":[{\"default\":null,\"kind\":null,\"name\":\"background\"},{\"default\":3000,\"kind\":null,\"name\":\"duration\"},{\"default\":null,\"kind\":null,\"name\":\"icon\"},{\"default\":\"\",\"kind\":null,\"name\":\"message\"},{\"default\":null,\"kind\":null,\"name\":\"notification_type\"},{\"default\":false,\"kind\":null,\"name\":\"_destroyed\"}]},{\"extends\":null,\"module\":null,\"name\":\"TemplateActions1\",\"overrides\":[],\"properties\":[{\"default\":0,\"kind\":null,\"name\":\"open_modal\"},{\"default\":0,\"kind\":null,\"name\":\"close_modal\"}]},{\"extends\":null,\"module\":null,\"name\":\"MaterialTemplateActions1\",\"overrides\":[],\"properties\":[{\"default\":0,\"kind\":null,\"name\":\"open_modal\"},{\"default\":0,\"kind\":null,\"name\":\"close_modal\"}]}],\"roots\":{\"references\":[{\"attributes\":{},\"id\":\"14849\",\"type\":\"WheelZoomTool\"},{\"attributes\":{\"bottom\":{\"value\":0},\"fill_alpha\":{\"value\":1.0},\"fill_color\":{\"field\":\"Country_name\",\"transform\":{\"id\":\"14860\"}},\"hatch_alpha\":{\"value\":1.0},\"hatch_color\":{\"field\":\"Country_name\",\"transform\":{\"id\":\"14860\"}},\"hatch_scale\":{\"value\":12.0},\"hatch_weight\":{\"value\":1.0},\"line_alpha\":{\"value\":1.0},\"line_cap\":{\"value\":\"butt\"},\"line_color\":{\"value\":\"black\"},\"line_dash\":{\"value\":[]},\"line_dash_offset\":{\"value\":0},\"line_join\":{\"value\":\"bevel\"},\"line_width\":{\"value\":1},\"top\":{\"field\":\"Happiness_score\"},\"width\":{\"value\":0.8},\"x\":{\"field\":\"xoffsets\"}},\"id\":\"14869\",\"type\":\"VBar\"},{\"attributes\":{\"fill_color\":{\"field\":\"Country_name\",\"transform\":{\"id\":\"14860\"}},\"hatch_color\":{\"field\":\"Country_name\",\"transform\":{\"id\":\"14860\"}},\"top\":{\"field\":\"Happiness_score\"},\"width\":{\"value\":0.8},\"x\":{\"field\":\"xoffsets\"}},\"id\":\"14864\",\"type\":\"VBar\"},{\"attributes\":{},\"id\":\"14872\",\"type\":\"AllLabels\"},{\"attributes\":{\"end\":2022,\"margin\":[5,10,5,10],\"start\":2020,\"title\":\"Year slider\",\"value\":2022},\"id\":\"14825\",\"type\":\"Slider\"},{\"attributes\":{\"axis_label\":\"Year, Country name\",\"coordinates\":null,\"formatter\":{\"id\":\"14871\"},\"group\":null,\"major_label_orientation\":0.5235987755982988,\"major_label_policy\":{\"id\":\"14872\"},\"ticker\":{\"id\":\"14841\"}},\"id\":\"14840\",\"type\":\"CategoricalAxis\"},{\"attributes\":{\"overlay\":{\"id\":\"14852\"}},\"id\":\"14850\",\"type\":\"BoxZoomTool\"},{\"attributes\":{},\"id\":\"14836\",\"type\":\"CategoricalScale\"},{\"attributes\":{\"below\":[{\"id\":\"14840\"}],\"center\":[{\"id\":\"14842\"},{\"id\":\"14846\"}],\"height\":300,\"left\":[{\"id\":\"14843\"}],\"margin\":[5,5,5,5],\"min_border_bottom\":10,\"min_border_left\":10,\"min_border_right\":10,\"min_border_top\":10,\"renderers\":[{\"id\":\"14867\"}],\"sizing_mode\":\"fixed\",\"title\":{\"id\":\"14832\"},\"toolbar\":{\"id\":\"14853\"},\"width\":1000,\"x_range\":{\"id\":\"14828\"},\"x_scale\":{\"id\":\"14836\"},\"y_range\":{\"id\":\"14829\"},\"y_scale\":{\"id\":\"14838\"}},\"id\":\"14831\",\"subtype\":\"Figure\",\"type\":\"Plot\"},{\"attributes\":{\"data\":{\"Country_name\":[\"Afghanistan\",\"Afghanistan\",\"Afghanistan\",\"Switzerland\",\"Switzerland\",\"Switzerland\",\"Denmark\",\"Denmark\",\"Denmark\",\"Finland\",\"Finland\",\"Finland\",\"Jordan\",\"Jordan\",\"Jordan\",\"Lebanon\",\"Lebanon\",\"Lebanon\"],\"Happiness_score\":{\"__ndarray__\":\"HDcE4AKJBEDJdr6fGi8EQAisHFpkOwNAJ2gAYFY9HkBiEFg5tEgeQD81XrpJDB5AZcX+HxiVHkB7FK5H4XoeQCUGgZVDix5AwmMF4Bs8H0CR7Xw/NV4fQGIQWDm0SB9AjX35/5mIEkAUrkfhepQRQM/3U+OlmxBA5msGIAQWE0C8dJMYBFYSQKRwPQrXowdA\",\"dtype\":\"float64\",\"order\":\"little\",\"shape\":[18]},\"Year\":[\"2020\",\"2021\",\"2022\",\"2020\",\"2021\",\"2022\",\"2020\",\"2021\",\"2022\",\"2020\",\"2021\",\"2022\",\"2020\",\"2021\",\"2022\",\"2020\",\"2021\",\"2022\"],\"xoffsets\":[[\"2020\",\"Afghanistan\"],[\"2021\",\"Afghanistan\"],[\"2022\",\"Afghanistan\"],[\"2020\",\"Switzerland\"],[\"2021\",\"Switzerland\"],[\"2022\",\"Switzerland\"],[\"2020\",\"Denmark\"],[\"2021\",\"Denmark\"],[\"2022\",\"Denmark\"],[\"2020\",\"Finland\"],[\"2021\",\"Finland\"],[\"2022\",\"Finland\"],[\"2020\",\"Jordan\"],[\"2021\",\"Jordan\"],[\"2022\",\"Jordan\"],[\"2020\",\"Lebanon\"],[\"2021\",\"Lebanon\"],[\"2022\",\"Lebanon\"]]},\"selected\":{\"id\":\"14862\"},\"selection_policy\":{\"id\":\"14887\"}},\"id\":\"14861\",\"type\":\"ColumnDataSource\"},{\"attributes\":{},\"id\":\"14847\",\"type\":\"SaveTool\"},{\"attributes\":{},\"id\":\"14887\",\"type\":\"UnionRenderers\"},{\"attributes\":{},\"id\":\"14851\",\"type\":\"ResetTool\"},{\"attributes\":{\"factors\":[[\"2020\",\"Afghanistan\"],[\"2020\",\"Switzerland\"],[\"2020\",\"Denmark\"],[\"2020\",\"Finland\"],[\"2020\",\"Jordan\"],[\"2020\",\"Lebanon\"],[\"2021\",\"Afghanistan\"],[\"2021\",\"Switzerland\"],[\"2021\",\"Denmark\"],[\"2021\",\"Finland\"],[\"2021\",\"Jordan\"],[\"2021\",\"Lebanon\"],[\"2022\",\"Afghanistan\"],[\"2022\",\"Switzerland\"],[\"2022\",\"Denmark\"],[\"2022\",\"Finland\"],[\"2022\",\"Jordan\"],[\"2022\",\"Lebanon\"]],\"tags\":[[[\"Year\",\"Year\",null],[\"Country name\",\"Country name\",null]]]},\"id\":\"14828\",\"type\":\"FactorRange\"},{\"attributes\":{\"client_comm_id\":\"b40cb016e41648739a67307878cf8825\",\"comm_id\":\"c78d7099412e4ff9ac87459540039566\",\"plot_id\":\"14821\"},\"id\":\"14920\",\"type\":\"panel.models.comm_manager.CommManager\"},{\"attributes\":{\"coordinates\":null,\"data_source\":{\"id\":\"14861\"},\"glyph\":{\"id\":\"14864\"},\"group\":null,\"hover_glyph\":null,\"muted_glyph\":{\"id\":\"14866\"},\"nonselection_glyph\":{\"id\":\"14865\"},\"selection_glyph\":{\"id\":\"14869\"},\"view\":{\"id\":\"14868\"}},\"id\":\"14867\",\"type\":\"GlyphRenderer\"},{\"attributes\":{\"bottom_units\":\"screen\",\"coordinates\":null,\"fill_alpha\":0.5,\"fill_color\":\"lightgrey\",\"group\":null,\"left_units\":\"screen\",\"level\":\"overlay\",\"line_alpha\":1.0,\"line_color\":\"black\",\"line_dash\":[4,4],\"line_width\":2,\"right_units\":\"screen\",\"syncable\":false,\"top_units\":\"screen\"},\"id\":\"14852\",\"type\":\"BoxAnnotation\"},{\"attributes\":{\"end\":8.3858,\"reset_end\":8.3858,\"reset_start\":0.0,\"tags\":[[[\"Happiness score\",\"Happiness score\",null]]]},\"id\":\"14829\",\"type\":\"Range1d\"},{\"attributes\":{\"children\":[{\"id\":\"14825\"},{\"id\":\"14826\"}],\"margin\":[0,0,0,0],\"name\":\"Column29320\"},\"id\":\"14824\",\"type\":\"Column\"},{\"attributes\":{},\"id\":\"14862\",\"type\":\"Selection\"},{\"attributes\":{\"coordinates\":null,\"group\":null,\"text\":\"World Happiness\",\"text_color\":\"black\",\"text_font_size\":\"12pt\"},\"id\":\"14832\",\"type\":\"Title\"},{\"attributes\":{\"fill_alpha\":{\"value\":0.2},\"fill_color\":{\"field\":\"Country_name\",\"transform\":{\"id\":\"14860\"}},\"hatch_alpha\":{\"value\":0.2},\"hatch_color\":{\"field\":\"Country_name\",\"transform\":{\"id\":\"14860\"}},\"line_alpha\":{\"value\":0.2},\"top\":{\"field\":\"Happiness_score\"},\"width\":{\"value\":0.8},\"x\":{\"field\":\"xoffsets\"}},\"id\":\"14866\",\"type\":\"VBar\"},{\"attributes\":{\"children\":[{\"id\":\"14824\"},{\"id\":\"14827\"}],\"margin\":[0,0,0,0],\"name\":\"Row29325\"},\"id\":\"14823\",\"type\":\"Row\"},{\"attributes\":{},\"id\":\"14838\",\"type\":\"LinearScale\"},{\"attributes\":{},\"id\":\"14875\",\"type\":\"AllLabels\"},{\"attributes\":{\"children\":[{\"id\":\"14822\"}],\"margin\":[0,0,0,0],\"name\":\"Row29332\"},\"id\":\"14821\",\"type\":\"Row\"},{\"attributes\":{\"axis\":{\"id\":\"14843\"},\"coordinates\":null,\"dimension\":1,\"grid_line_color\":null,\"group\":null,\"ticker\":null},\"id\":\"14846\",\"type\":\"Grid\"},{\"attributes\":{\"children\":[{\"id\":\"14823\"},{\"id\":\"14831\"}],\"margin\":[0,0,0,0],\"name\":\"Column29331\"},\"id\":\"14822\",\"type\":\"Column\"},{\"attributes\":{},\"id\":\"14841\",\"type\":\"CategoricalTicker\"},{\"attributes\":{\"axis\":{\"id\":\"14840\"},\"coordinates\":null,\"grid_line_color\":null,\"group\":null,\"ticker\":null},\"id\":\"14842\",\"type\":\"Grid\"},{\"attributes\":{},\"id\":\"14844\",\"type\":\"BasicTicker\"},{\"attributes\":{\"axis_label\":\"Happiness score\",\"coordinates\":null,\"formatter\":{\"id\":\"14874\"},\"group\":null,\"major_label_policy\":{\"id\":\"14875\"},\"ticker\":{\"id\":\"14844\"}},\"id\":\"14843\",\"type\":\"LinearAxis\"},{\"attributes\":{\"factors\":[\"Afghanistan\",\"Switzerland\",\"Denmark\",\"Finland\",\"Jordan\",\"Lebanon\"],\"palette\":[\"#66c2a5\",\"#fc8d62\",\"#8da0cb\",\"#e78ac3\",\"#a6d854\",\"#ffd92f\"]},\"id\":\"14860\",\"type\":\"CategoricalColorMapper\"},{\"attributes\":{\"active_drag\":{\"id\":\"14848\"},\"active_scroll\":{\"id\":\"14849\"},\"tools\":[{\"id\":\"14830\"},{\"id\":\"14847\"},{\"id\":\"14848\"},{\"id\":\"14849\"},{\"id\":\"14850\"},{\"id\":\"14851\"}]},\"id\":\"14853\",\"type\":\"Toolbar\"},{\"attributes\":{},\"id\":\"14871\",\"type\":\"CategoricalTickFormatter\"},{\"attributes\":{\"callback\":null,\"renderers\":[{\"id\":\"14867\"}],\"tags\":[\"hv_created\"],\"tooltips\":[[\"Year\",\"@{Year}\"],[\"Country name\",\"@{Country_name}\"],[\"Happiness score\",\"@{Happiness_score}\"]]},\"id\":\"14830\",\"type\":\"HoverTool\"},{\"attributes\":{\"source\":{\"id\":\"14861\"}},\"id\":\"14868\",\"type\":\"CDSView\"},{\"attributes\":{},\"id\":\"14848\",\"type\":\"PanTool\"},{\"attributes\":{\"fill_alpha\":{\"value\":0.1},\"fill_color\":{\"field\":\"Country_name\",\"transform\":{\"id\":\"14860\"}},\"hatch_alpha\":{\"value\":0.1},\"hatch_color\":{\"field\":\"Country_name\",\"transform\":{\"id\":\"14860\"}},\"line_alpha\":{\"value\":0.1},\"top\":{\"field\":\"Happiness_score\"},\"width\":{\"value\":0.8},\"x\":{\"field\":\"xoffsets\"}},\"id\":\"14865\",\"type\":\"VBar\"},{\"attributes\":{},\"id\":\"14874\",\"type\":\"BasicTickFormatter\"},{\"attributes\":{\"margin\":[5,5,5,5],\"name\":\"HSpacer29324\",\"sizing_mode\":\"stretch_width\"},\"id\":\"14827\",\"type\":\"Spacer\"},{\"attributes\":{\"active\":0,\"button_type\":\"success\",\"labels\":[\"Happiness score\",\"Log GDP per capita\",\"Social support\",\"Healthy life expectancy\",\"Freedom to make life choices\",\"Generosity\",\"Perceptions of corruption\",\"Dystopia + residual\"],\"margin\":[5,10,5,10]},\"id\":\"14826\",\"type\":\"RadioButtonGroup\"}],\"root_ids\":[\"14821\",\"14920\"]},\"title\":\"Bokeh Application\",\"version\":\"2.4.3\"}};\n",
       "    var render_items = [{\"docid\":\"bba1971d-8560-4b57-813d-47aeda230d69\",\"root_ids\":[\"14821\"],\"roots\":{\"14821\":\"1565da77-e0cb-49b5-907d-59d5fba800cb\"}}];\n",
       "    root.Bokeh.embed.embed_items_notebook(docs_json, render_items);\n",
       "    for (const render_item of render_items) {\n",
       "      for (const root_id of render_item.root_ids) {\n",
       "\tconst id_el = document.getElementById(root_id)\n",
       "\tif (id_el.children.length && (id_el.children[0].className === 'bk-root')) {\n",
       "\t  const root_el = id_el.children[0]\n",
       "\t  root_el.id = root_el.id + '-rendered'\n",
       "\t}\n",
       "      }\n",
       "    }\n",
       "  }\n",
       "  if (root.Bokeh !== undefined && root.Bokeh.Panel !== undefined && ( root['Tabulator'] !== undefined) && ( root['Tabulator'] !== undefined)) {\n",
       "    embed_document(root);\n",
       "  } else {\n",
       "    var attempts = 0;\n",
       "    var timer = setInterval(function(root) {\n",
       "      if (root.Bokeh !== undefined && root.Bokeh.Panel !== undefined && (root['Tabulator'] !== undefined) && (root['Tabulator'] !== undefined)) {\n",
       "        clearInterval(timer);\n",
       "        embed_document(root);\n",
       "      } else if (document.readyState == \"complete\") {\n",
       "        attempts++;\n",
       "        if (attempts > 200) {\n",
       "          clearInterval(timer);\n",
       "          console.log(\"Bokeh: ERROR: Unable to run BokehJS code because BokehJS library is missing\");\n",
       "        }\n",
       "      }\n",
       "    }, 25, root)\n",
       "  }\n",
       "})(window);</script>"
      ],
      "text/plain": [
       "<hvplot.interactive.Interactive at 0x7fc4964c1e10>"
      ]
     },
     "execution_count": 58,
     "metadata": {
      "application/vnd.holoviews_exec.v0+json": {
       "id": "14821"
      }
     },
     "output_type": "execute_result"
    }
   ],
   "source": [
    "# set color\n",
    "custom_palette = sns.color_palette(\"Set2\", 12)\n",
    "\n",
    "# create bar chat\n",
    "bar_chart=hyc3_pipline.hvplot(x = 'Year', by='Country name', y=yaxis_co2,kind='bar',rot=30, title=\"World Happiness\", width=1000,color=custom_palette)\n",
    "bar_chart"
   ]
  },
  {
   "cell_type": "markdown",
   "metadata": {},
   "source": [
    "### 5 Dashboard: Scatter plot"
   ]
  },
  {
   "cell_type": "code",
   "execution_count": 59,
   "metadata": {},
   "outputs": [
    {
     "data": {},
     "metadata": {},
     "output_type": "display_data"
    },
    {
     "data": {
      "application/vnd.holoviews_exec.v0+json": "",
      "text/html": [
       "<div id='14971'>\n",
       "  <div class=\"bk-root\" id=\"d83c912c-3912-44a1-b5ec-d09d2bf49a93\" data-root-id=\"14971\"></div>\n",
       "</div>\n",
       "<script type=\"application/javascript\">(function(root) {\n",
       "  function embed_document(root) {\n",
       "    var docs_json = {\"f72c20d3-4980-4407-90a9-bbf0d32131c1\":{\"defs\":[{\"extends\":null,\"module\":null,\"name\":\"ReactiveHTML1\",\"overrides\":[],\"properties\":[]},{\"extends\":null,\"module\":null,\"name\":\"FlexBox1\",\"overrides\":[],\"properties\":[{\"default\":\"flex-start\",\"kind\":null,\"name\":\"align_content\"},{\"default\":\"flex-start\",\"kind\":null,\"name\":\"align_items\"},{\"default\":\"row\",\"kind\":null,\"name\":\"flex_direction\"},{\"default\":\"wrap\",\"kind\":null,\"name\":\"flex_wrap\"},{\"default\":\"flex-start\",\"kind\":null,\"name\":\"justify_content\"}]},{\"extends\":null,\"module\":null,\"name\":\"GridStack1\",\"overrides\":[],\"properties\":[{\"default\":\"warn\",\"kind\":null,\"name\":\"mode\"},{\"default\":null,\"kind\":null,\"name\":\"ncols\"},{\"default\":null,\"kind\":null,\"name\":\"nrows\"},{\"default\":true,\"kind\":null,\"name\":\"allow_resize\"},{\"default\":true,\"kind\":null,\"name\":\"allow_drag\"},{\"default\":[],\"kind\":null,\"name\":\"state\"}]},{\"extends\":null,\"module\":null,\"name\":\"click1\",\"overrides\":[],\"properties\":[{\"default\":\"\",\"kind\":null,\"name\":\"terminal_output\"},{\"default\":\"\",\"kind\":null,\"name\":\"debug_name\"},{\"default\":0,\"kind\":null,\"name\":\"clears\"}]},{\"extends\":null,\"module\":null,\"name\":\"NotificationAreaBase1\",\"overrides\":[],\"properties\":[{\"default\":\"bottom-right\",\"kind\":null,\"name\":\"position\"},{\"default\":0,\"kind\":null,\"name\":\"_clear\"}]},{\"extends\":null,\"module\":null,\"name\":\"NotificationArea1\",\"overrides\":[],\"properties\":[{\"default\":[],\"kind\":null,\"name\":\"notifications\"},{\"default\":\"bottom-right\",\"kind\":null,\"name\":\"position\"},{\"default\":0,\"kind\":null,\"name\":\"_clear\"},{\"default\":[{\"background\":\"#ffc107\",\"icon\":{\"className\":\"fas fa-exclamation-triangle\",\"color\":\"white\",\"tagName\":\"i\"},\"type\":\"warning\"},{\"background\":\"#007bff\",\"icon\":{\"className\":\"fas fa-info-circle\",\"color\":\"white\",\"tagName\":\"i\"},\"type\":\"info\"}],\"kind\":null,\"name\":\"types\"}]},{\"extends\":null,\"module\":null,\"name\":\"Notification\",\"overrides\":[],\"properties\":[{\"default\":null,\"kind\":null,\"name\":\"background\"},{\"default\":3000,\"kind\":null,\"name\":\"duration\"},{\"default\":null,\"kind\":null,\"name\":\"icon\"},{\"default\":\"\",\"kind\":null,\"name\":\"message\"},{\"default\":null,\"kind\":null,\"name\":\"notification_type\"},{\"default\":false,\"kind\":null,\"name\":\"_destroyed\"}]},{\"extends\":null,\"module\":null,\"name\":\"TemplateActions1\",\"overrides\":[],\"properties\":[{\"default\":0,\"kind\":null,\"name\":\"open_modal\"},{\"default\":0,\"kind\":null,\"name\":\"close_modal\"}]},{\"extends\":null,\"module\":null,\"name\":\"MaterialTemplateActions1\",\"overrides\":[],\"properties\":[{\"default\":0,\"kind\":null,\"name\":\"open_modal\"},{\"default\":0,\"kind\":null,\"name\":\"close_modal\"}]}],\"roots\":{\"references\":[{\"attributes\":{\"active\":0,\"button_type\":\"success\",\"labels\":[\"Happiness score\",\"Log GDP per capita\",\"Social support\",\"Healthy life expectancy\",\"Freedom to make life choices\",\"Generosity\",\"Perceptions of corruption\",\"Dystopia + residual\"],\"margin\":[5,10,5,10]},\"id\":\"14976\",\"type\":\"RadioButtonGroup\"},{\"attributes\":{\"children\":[{\"id\":\"14972\"}],\"margin\":[0,0,0,0],\"name\":\"Row30099\"},\"id\":\"14971\",\"type\":\"Row\"},{\"attributes\":{\"children\":[{\"id\":\"14975\"},{\"id\":\"14976\"}],\"margin\":[0,0,0,0],\"name\":\"Column30064\"},\"id\":\"14974\",\"type\":\"Column\"},{\"attributes\":{\"margin\":[5,5,5,5],\"name\":\"DataFrame30094\",\"text\":\"&lt;table class=&quot;dataframe panel-df&quot;&gt;\\n  &lt;thead&gt;\\n    &lt;tr style=&quot;text-align: right;&quot;&gt;\\n      &lt;th&gt;&lt;/th&gt;\\n      &lt;th&gt;RANK&lt;/th&gt;\\n      &lt;th&gt;Year&lt;/th&gt;\\n      &lt;th&gt;Country name&lt;/th&gt;\\n      &lt;th&gt;Happiness score&lt;/th&gt;\\n    &lt;/tr&gt;\\n  &lt;/thead&gt;\\n  &lt;tbody&gt;\\n    &lt;tr&gt;\\n      &lt;th&gt;0&lt;/th&gt;\\n      &lt;td&gt;1&lt;/td&gt;\\n      &lt;td&gt;2020&lt;/td&gt;\\n      &lt;td&gt;Finland&lt;/td&gt;\\n      &lt;td&gt;7.8087&lt;/td&gt;\\n    &lt;/tr&gt;\\n    &lt;tr&gt;\\n      &lt;th&gt;1&lt;/th&gt;\\n      &lt;td&gt;1&lt;/td&gt;\\n      &lt;td&gt;2021&lt;/td&gt;\\n      &lt;td&gt;Finland&lt;/td&gt;\\n      &lt;td&gt;7.8420&lt;/td&gt;\\n    &lt;/tr&gt;\\n    &lt;tr&gt;\\n      &lt;th&gt;2&lt;/th&gt;\\n      &lt;td&gt;1&lt;/td&gt;\\n      &lt;td&gt;2022&lt;/td&gt;\\n      &lt;td&gt;Finland&lt;/td&gt;\\n      &lt;td&gt;7.8210&lt;/td&gt;\\n    &lt;/tr&gt;\\n    &lt;tr&gt;\\n      &lt;th&gt;3&lt;/th&gt;\\n      &lt;td&gt;2&lt;/td&gt;\\n      &lt;td&gt;2020&lt;/td&gt;\\n      &lt;td&gt;Denmark&lt;/td&gt;\\n      &lt;td&gt;7.6456&lt;/td&gt;\\n    &lt;/tr&gt;\\n    &lt;tr&gt;\\n      &lt;th&gt;4&lt;/th&gt;\\n      &lt;td&gt;2&lt;/td&gt;\\n      &lt;td&gt;2021&lt;/td&gt;\\n      &lt;td&gt;Denmark&lt;/td&gt;\\n      &lt;td&gt;7.6200&lt;/td&gt;\\n    &lt;/tr&gt;\\n    &lt;tr&gt;\\n      &lt;th&gt;5&lt;/th&gt;\\n      &lt;td&gt;2&lt;/td&gt;\\n      &lt;td&gt;2022&lt;/td&gt;\\n      &lt;td&gt;Denmark&lt;/td&gt;\\n      &lt;td&gt;7.6360&lt;/td&gt;\\n    &lt;/tr&gt;\\n    &lt;tr&gt;\\n      &lt;th&gt;6&lt;/th&gt;\\n      &lt;td&gt;3&lt;/td&gt;\\n      &lt;td&gt;2020&lt;/td&gt;\\n      &lt;td&gt;Switzerland&lt;/td&gt;\\n      &lt;td&gt;7.5599&lt;/td&gt;\\n    &lt;/tr&gt;\\n    &lt;tr&gt;\\n      &lt;th&gt;7&lt;/th&gt;\\n      &lt;td&gt;3&lt;/td&gt;\\n      &lt;td&gt;2021&lt;/td&gt;\\n      &lt;td&gt;Switzerland&lt;/td&gt;\\n      &lt;td&gt;7.5710&lt;/td&gt;\\n    &lt;/tr&gt;\\n    &lt;tr&gt;\\n      &lt;th&gt;8&lt;/th&gt;\\n      &lt;td&gt;3&lt;/td&gt;\\n      &lt;td&gt;2022&lt;/td&gt;\\n      &lt;td&gt;Iceland&lt;/td&gt;\\n      &lt;td&gt;7.5570&lt;/td&gt;\\n    &lt;/tr&gt;\\n    &lt;tr&gt;\\n      &lt;th&gt;9&lt;/th&gt;\\n      &lt;td&gt;4&lt;/td&gt;\\n      &lt;td&gt;2021&lt;/td&gt;\\n      &lt;td&gt;Iceland&lt;/td&gt;\\n      &lt;td&gt;7.5540&lt;/td&gt;\\n    &lt;/tr&gt;\\n    &lt;tr&gt;\\n      &lt;th&gt;10&lt;/th&gt;\\n      &lt;td&gt;4&lt;/td&gt;\\n      &lt;td&gt;2022&lt;/td&gt;\\n      &lt;td&gt;Switzerland&lt;/td&gt;\\n      &lt;td&gt;7.5120&lt;/td&gt;\\n    &lt;/tr&gt;\\n    &lt;tr&gt;\\n      &lt;th&gt;11&lt;/th&gt;\\n      &lt;td&gt;4&lt;/td&gt;\\n      &lt;td&gt;2020&lt;/td&gt;\\n      &lt;td&gt;Iceland&lt;/td&gt;\\n      &lt;td&gt;7.5045&lt;/td&gt;\\n    &lt;/tr&gt;\\n    &lt;tr&gt;\\n      &lt;th&gt;12&lt;/th&gt;\\n      &lt;td&gt;5&lt;/td&gt;\\n      &lt;td&gt;2020&lt;/td&gt;\\n      &lt;td&gt;Norway&lt;/td&gt;\\n      &lt;td&gt;7.4880&lt;/td&gt;\\n    &lt;/tr&gt;\\n    &lt;tr&gt;\\n      &lt;th&gt;13&lt;/th&gt;\\n      &lt;td&gt;5&lt;/td&gt;\\n      &lt;td&gt;2021&lt;/td&gt;\\n      &lt;td&gt;Netherlands&lt;/td&gt;\\n      &lt;td&gt;7.4640&lt;/td&gt;\\n    &lt;/tr&gt;\\n    &lt;tr&gt;\\n      &lt;th&gt;14&lt;/th&gt;\\n      &lt;td&gt;5&lt;/td&gt;\\n      &lt;td&gt;2022&lt;/td&gt;\\n      &lt;td&gt;Netherlands&lt;/td&gt;\\n      &lt;td&gt;7.4150&lt;/td&gt;\\n    &lt;/tr&gt;\\n    &lt;tr&gt;\\n      &lt;th&gt;15&lt;/th&gt;\\n      &lt;td&gt;6&lt;/td&gt;\\n      &lt;td&gt;2020&lt;/td&gt;\\n      &lt;td&gt;Netherlands&lt;/td&gt;\\n      &lt;td&gt;7.4489&lt;/td&gt;\\n    &lt;/tr&gt;\\n    &lt;tr&gt;\\n      &lt;th&gt;16&lt;/th&gt;\\n      &lt;td&gt;6&lt;/td&gt;\\n      &lt;td&gt;2021&lt;/td&gt;\\n      &lt;td&gt;Norway&lt;/td&gt;\\n      &lt;td&gt;7.3920&lt;/td&gt;\\n    &lt;/tr&gt;\\n    &lt;tr&gt;\\n      &lt;th&gt;17&lt;/th&gt;\\n      &lt;td&gt;7&lt;/td&gt;\\n      &lt;td&gt;2020&lt;/td&gt;\\n      &lt;td&gt;Sweden&lt;/td&gt;\\n      &lt;td&gt;7.3535&lt;/td&gt;\\n    &lt;/tr&gt;\\n    &lt;tr&gt;\\n      &lt;th&gt;18&lt;/th&gt;\\n      &lt;td&gt;7&lt;/td&gt;\\n      &lt;td&gt;2021&lt;/td&gt;\\n      &lt;td&gt;Sweden&lt;/td&gt;\\n      &lt;td&gt;7.3630&lt;/td&gt;\\n    &lt;/tr&gt;\\n    &lt;tr&gt;\\n      &lt;th&gt;19&lt;/th&gt;\\n      &lt;td&gt;7&lt;/td&gt;\\n      &lt;td&gt;2022&lt;/td&gt;\\n      &lt;td&gt;Sweden&lt;/td&gt;\\n      &lt;td&gt;7.3840&lt;/td&gt;\\n    &lt;/tr&gt;\\n    &lt;tr&gt;\\n      &lt;th&gt;20&lt;/th&gt;\\n      &lt;td&gt;8&lt;/td&gt;\\n      &lt;td&gt;2022&lt;/td&gt;\\n      &lt;td&gt;Norway&lt;/td&gt;\\n      &lt;td&gt;7.3650&lt;/td&gt;\\n    &lt;/tr&gt;\\n    &lt;tr&gt;\\n      &lt;th&gt;21&lt;/th&gt;\\n      &lt;td&gt;8&lt;/td&gt;\\n      &lt;td&gt;2020&lt;/td&gt;\\n      &lt;td&gt;New Zealand&lt;/td&gt;\\n      &lt;td&gt;7.2996&lt;/td&gt;\\n    &lt;/tr&gt;\\n    &lt;tr&gt;\\n      &lt;th&gt;22&lt;/th&gt;\\n      &lt;td&gt;8&lt;/td&gt;\\n      &lt;td&gt;2021&lt;/td&gt;\\n      &lt;td&gt;Luxembourg&lt;/td&gt;\\n      &lt;td&gt;7.3240&lt;/td&gt;\\n    &lt;/tr&gt;\\n    &lt;tr&gt;\\n      &lt;th&gt;23&lt;/th&gt;\\n      &lt;td&gt;9&lt;/td&gt;\\n      &lt;td&gt;2021&lt;/td&gt;\\n      &lt;td&gt;New Zealand&lt;/td&gt;\\n      &lt;td&gt;7.2770&lt;/td&gt;\\n    &lt;/tr&gt;\\n    &lt;tr&gt;\\n      &lt;th&gt;24&lt;/th&gt;\\n      &lt;td&gt;9&lt;/td&gt;\\n      &lt;td&gt;2022&lt;/td&gt;\\n      &lt;td&gt;Israel&lt;/td&gt;\\n      &lt;td&gt;7.3640&lt;/td&gt;\\n    &lt;/tr&gt;\\n    &lt;tr&gt;\\n      &lt;th&gt;25&lt;/th&gt;\\n      &lt;td&gt;9&lt;/td&gt;\\n      &lt;td&gt;2020&lt;/td&gt;\\n      &lt;td&gt;Austria&lt;/td&gt;\\n      &lt;td&gt;7.2942&lt;/td&gt;\\n    &lt;/tr&gt;\\n    &lt;tr&gt;\\n      &lt;th&gt;26&lt;/th&gt;\\n      &lt;td&gt;10&lt;/td&gt;\\n      &lt;td&gt;2020&lt;/td&gt;\\n      &lt;td&gt;Luxembourg&lt;/td&gt;\\n      &lt;td&gt;7.2375&lt;/td&gt;\\n    &lt;/tr&gt;\\n    &lt;tr&gt;\\n      &lt;th&gt;27&lt;/th&gt;\\n      &lt;td&gt;10&lt;/td&gt;\\n      &lt;td&gt;2021&lt;/td&gt;\\n      &lt;td&gt;Austria&lt;/td&gt;\\n      &lt;td&gt;7.2680&lt;/td&gt;\\n    &lt;/tr&gt;\\n    &lt;tr&gt;\\n      &lt;th&gt;28&lt;/th&gt;\\n      &lt;td&gt;10&lt;/td&gt;\\n      &lt;td&gt;2022&lt;/td&gt;\\n      &lt;td&gt;New Zealand&lt;/td&gt;\\n      &lt;td&gt;7.2000&lt;/td&gt;\\n    &lt;/tr&gt;\\n    &lt;tr&gt;\\n      &lt;th&gt;29&lt;/th&gt;\\n      &lt;td&gt;11&lt;/td&gt;\\n      &lt;td&gt;2020&lt;/td&gt;\\n      &lt;td&gt;Canada&lt;/td&gt;\\n      &lt;td&gt;7.2321&lt;/td&gt;\\n    &lt;/tr&gt;\\n    &lt;tr&gt;\\n      &lt;th&gt;30&lt;/th&gt;\\n      &lt;td&gt;11&lt;/td&gt;\\n      &lt;td&gt;2021&lt;/td&gt;\\n      &lt;td&gt;Australia&lt;/td&gt;\\n      &lt;td&gt;7.1830&lt;/td&gt;\\n    &lt;/tr&gt;\\n    &lt;tr&gt;\\n      &lt;th&gt;31&lt;/th&gt;\\n      &lt;td&gt;11&lt;/td&gt;\\n      &lt;td&gt;2022&lt;/td&gt;\\n      &lt;td&gt;Austria&lt;/td&gt;\\n      &lt;td&gt;7.1630&lt;/td&gt;\\n    &lt;/tr&gt;\\n    &lt;tr&gt;\\n      &lt;th&gt;32&lt;/th&gt;\\n      &lt;td&gt;12&lt;/td&gt;\\n      &lt;td&gt;2020&lt;/td&gt;\\n      &lt;td&gt;Australia&lt;/td&gt;\\n      &lt;td&gt;7.2228&lt;/td&gt;\\n    &lt;/tr&gt;\\n    &lt;tr&gt;\\n      &lt;th&gt;33&lt;/th&gt;\\n      &lt;td&gt;12&lt;/td&gt;\\n      &lt;td&gt;2021&lt;/td&gt;\\n      &lt;td&gt;Israel&lt;/td&gt;\\n      &lt;td&gt;7.1570&lt;/td&gt;\\n    &lt;/tr&gt;\\n    &lt;tr&gt;\\n      &lt;th&gt;34&lt;/th&gt;\\n      &lt;td&gt;12&lt;/td&gt;\\n      &lt;td&gt;2022&lt;/td&gt;\\n      &lt;td&gt;Australia&lt;/td&gt;\\n      &lt;td&gt;7.1620&lt;/td&gt;\\n    &lt;/tr&gt;\\n    &lt;tr&gt;\\n      &lt;th&gt;35&lt;/th&gt;\\n      &lt;td&gt;13&lt;/td&gt;\\n      &lt;td&gt;2022&lt;/td&gt;\\n      &lt;td&gt;Ireland&lt;/td&gt;\\n      &lt;td&gt;7.0410&lt;/td&gt;\\n    &lt;/tr&gt;\\n    &lt;tr&gt;\\n      &lt;th&gt;36&lt;/th&gt;\\n      &lt;td&gt;13&lt;/td&gt;\\n      &lt;td&gt;2021&lt;/td&gt;\\n      &lt;td&gt;Germany&lt;/td&gt;\\n      &lt;td&gt;7.1550&lt;/td&gt;\\n    &lt;/tr&gt;\\n    &lt;tr&gt;\\n      &lt;th&gt;37&lt;/th&gt;\\n      &lt;td&gt;13&lt;/td&gt;\\n      &lt;td&gt;2020&lt;/td&gt;\\n      &lt;td&gt;United Kingdom&lt;/td&gt;\\n      &lt;td&gt;7.1645&lt;/td&gt;\\n    &lt;/tr&gt;\\n    &lt;tr&gt;\\n      &lt;th&gt;38&lt;/th&gt;\\n      &lt;td&gt;14&lt;/td&gt;\\n      &lt;td&gt;2020&lt;/td&gt;\\n      &lt;td&gt;Israel&lt;/td&gt;\\n      &lt;td&gt;7.1286&lt;/td&gt;\\n    &lt;/tr&gt;\\n    &lt;tr&gt;\\n      &lt;th&gt;39&lt;/th&gt;\\n      &lt;td&gt;14&lt;/td&gt;\\n      &lt;td&gt;2021&lt;/td&gt;\\n      &lt;td&gt;Canada&lt;/td&gt;\\n      &lt;td&gt;7.1030&lt;/td&gt;\\n    &lt;/tr&gt;\\n    &lt;tr&gt;\\n      &lt;th&gt;40&lt;/th&gt;\\n      &lt;td&gt;14&lt;/td&gt;\\n      &lt;td&gt;2022&lt;/td&gt;\\n      &lt;td&gt;Germany&lt;/td&gt;\\n      &lt;td&gt;7.0340&lt;/td&gt;\\n    &lt;/tr&gt;\\n    &lt;tr&gt;\\n      &lt;th&gt;41&lt;/th&gt;\\n      &lt;td&gt;15&lt;/td&gt;\\n      &lt;td&gt;2020&lt;/td&gt;\\n      &lt;td&gt;Costa Rica&lt;/td&gt;\\n      &lt;td&gt;7.1214&lt;/td&gt;\\n    &lt;/tr&gt;\\n    &lt;tr&gt;\\n      &lt;th&gt;42&lt;/th&gt;\\n      &lt;td&gt;15&lt;/td&gt;\\n      &lt;td&gt;2021&lt;/td&gt;\\n      &lt;td&gt;Ireland&lt;/td&gt;\\n      &lt;td&gt;7.0850&lt;/td&gt;\\n    &lt;/tr&gt;\\n    &lt;tr&gt;\\n      &lt;th&gt;43&lt;/th&gt;\\n      &lt;td&gt;15&lt;/td&gt;\\n      &lt;td&gt;2022&lt;/td&gt;\\n      &lt;td&gt;Canada&lt;/td&gt;\\n      &lt;td&gt;7.0250&lt;/td&gt;\\n    &lt;/tr&gt;\\n    &lt;tr&gt;\\n      &lt;th&gt;44&lt;/th&gt;\\n      &lt;td&gt;16&lt;/td&gt;\\n      &lt;td&gt;2020&lt;/td&gt;\\n      &lt;td&gt;Ireland&lt;/td&gt;\\n      &lt;td&gt;7.0937&lt;/td&gt;\\n    &lt;/tr&gt;\\n    &lt;tr&gt;\\n      &lt;th&gt;45&lt;/th&gt;\\n      &lt;td&gt;16&lt;/td&gt;\\n      &lt;td&gt;2021&lt;/td&gt;\\n      &lt;td&gt;Costa Rica&lt;/td&gt;\\n      &lt;td&gt;7.0690&lt;/td&gt;\\n    &lt;/tr&gt;\\n    &lt;tr&gt;\\n      &lt;th&gt;46&lt;/th&gt;\\n      &lt;td&gt;16&lt;/td&gt;\\n      &lt;td&gt;2022&lt;/td&gt;\\n      &lt;td&gt;United States&lt;/td&gt;\\n      &lt;td&gt;6.9770&lt;/td&gt;\\n    &lt;/tr&gt;\\n    &lt;tr&gt;\\n      &lt;th&gt;47&lt;/th&gt;\\n      &lt;td&gt;17&lt;/td&gt;\\n      &lt;td&gt;2021&lt;/td&gt;\\n      &lt;td&gt;United Kingdom&lt;/td&gt;\\n      &lt;td&gt;7.0640&lt;/td&gt;\\n    &lt;/tr&gt;\\n    &lt;tr&gt;\\n      &lt;th&gt;48&lt;/th&gt;\\n      &lt;td&gt;17&lt;/td&gt;\\n      &lt;td&gt;2022&lt;/td&gt;\\n      &lt;td&gt;United Kingdom&lt;/td&gt;\\n      &lt;td&gt;6.9430&lt;/td&gt;\\n    &lt;/tr&gt;\\n    &lt;tr&gt;\\n      &lt;th&gt;49&lt;/th&gt;\\n      &lt;td&gt;17&lt;/td&gt;\\n      &lt;td&gt;2020&lt;/td&gt;\\n      &lt;td&gt;Germany&lt;/td&gt;\\n      &lt;td&gt;7.0758&lt;/td&gt;\\n    &lt;/tr&gt;\\n    &lt;tr&gt;\\n      &lt;th&gt;...&lt;/th&gt;\\n      &lt;td&gt;...&lt;/td&gt;\\n      &lt;td&gt;...&lt;/td&gt;\\n      &lt;td&gt;...&lt;/td&gt;\\n      &lt;td&gt;...&lt;/td&gt;\\n    &lt;/tr&gt;\\n    &lt;tr&gt;\\n      &lt;th&gt;377&lt;/th&gt;\\n      &lt;td&gt;132&lt;/td&gt;\\n      &lt;td&gt;2020&lt;/td&gt;\\n      &lt;td&gt;Swaziland&lt;/td&gt;\\n      &lt;td&gt;4.3081&lt;/td&gt;\\n    &lt;/tr&gt;\\n    &lt;tr&gt;\\n      &lt;th&gt;378&lt;/th&gt;\\n      &lt;td&gt;132&lt;/td&gt;\\n      &lt;td&gt;2021&lt;/td&gt;\\n      &lt;td&gt;Egypt&lt;/td&gt;\\n      &lt;td&gt;4.2830&lt;/td&gt;\\n    &lt;/tr&gt;\\n    &lt;tr&gt;\\n      &lt;th&gt;379&lt;/th&gt;\\n      &lt;td&gt;133&lt;/td&gt;\\n      &lt;td&gt;2020&lt;/td&gt;\\n      &lt;td&gt;Myanmar&lt;/td&gt;\\n      &lt;td&gt;4.3080&lt;/td&gt;\\n    &lt;/tr&gt;\\n    &lt;tr&gt;\\n      &lt;th&gt;380&lt;/th&gt;\\n      &lt;td&gt;133&lt;/td&gt;\\n      &lt;td&gt;2021&lt;/td&gt;\\n      &lt;td&gt;Ethiopia&lt;/td&gt;\\n      &lt;td&gt;4.2750&lt;/td&gt;\\n    &lt;/tr&gt;\\n    &lt;tr&gt;\\n      &lt;th&gt;381&lt;/th&gt;\\n      &lt;td&gt;134&lt;/td&gt;\\n      &lt;td&gt;2020&lt;/td&gt;\\n      &lt;td&gt;Comoros&lt;/td&gt;\\n      &lt;td&gt;4.2886&lt;/td&gt;\\n    &lt;/tr&gt;\\n    &lt;tr&gt;\\n      &lt;th&gt;382&lt;/th&gt;\\n      &lt;td&gt;134&lt;/td&gt;\\n      &lt;td&gt;2021&lt;/td&gt;\\n      &lt;td&gt;Mauritania&lt;/td&gt;\\n      &lt;td&gt;4.2270&lt;/td&gt;\\n    &lt;/tr&gt;\\n    &lt;tr&gt;\\n      &lt;th&gt;383&lt;/th&gt;\\n      &lt;td&gt;134&lt;/td&gt;\\n      &lt;td&gt;2022&lt;/td&gt;\\n      &lt;td&gt;Jordan&lt;/td&gt;\\n      &lt;td&gt;4.1520&lt;/td&gt;\\n    &lt;/tr&gt;\\n    &lt;tr&gt;\\n      &lt;th&gt;384&lt;/th&gt;\\n      &lt;td&gt;135&lt;/td&gt;\\n      &lt;td&gt;2021&lt;/td&gt;\\n      &lt;td&gt;Madagascar&lt;/td&gt;\\n      &lt;td&gt;4.2080&lt;/td&gt;\\n    &lt;/tr&gt;\\n    &lt;tr&gt;\\n      &lt;th&gt;385&lt;/th&gt;\\n      &lt;td&gt;135&lt;/td&gt;\\n      &lt;td&gt;2022&lt;/td&gt;\\n      &lt;td&gt;Togo&lt;/td&gt;\\n      &lt;td&gt;4.1120&lt;/td&gt;\\n    &lt;/tr&gt;\\n    &lt;tr&gt;\\n      &lt;th&gt;386&lt;/th&gt;\\n      &lt;td&gt;135&lt;/td&gt;\\n      &lt;td&gt;2020&lt;/td&gt;\\n      &lt;td&gt;Togo&lt;/td&gt;\\n      &lt;td&gt;4.1872&lt;/td&gt;\\n    &lt;/tr&gt;\\n    &lt;tr&gt;\\n      &lt;th&gt;387&lt;/th&gt;\\n      &lt;td&gt;136&lt;/td&gt;\\n      &lt;td&gt;2020&lt;/td&gt;\\n      &lt;td&gt;Ethiopia&lt;/td&gt;\\n      &lt;td&gt;4.1862&lt;/td&gt;\\n    &lt;/tr&gt;\\n    &lt;tr&gt;\\n      &lt;th&gt;388&lt;/th&gt;\\n      &lt;td&gt;136&lt;/td&gt;\\n      &lt;td&gt;2021&lt;/td&gt;\\n      &lt;td&gt;Togo&lt;/td&gt;\\n      &lt;td&gt;4.1070&lt;/td&gt;\\n    &lt;/tr&gt;\\n    &lt;tr&gt;\\n      &lt;th&gt;389&lt;/th&gt;\\n      &lt;td&gt;136&lt;/td&gt;\\n      &lt;td&gt;2022&lt;/td&gt;\\n      &lt;td&gt;India&lt;/td&gt;\\n      &lt;td&gt;3.7770&lt;/td&gt;\\n    &lt;/tr&gt;\\n    &lt;tr&gt;\\n      &lt;th&gt;390&lt;/th&gt;\\n      &lt;td&gt;137&lt;/td&gt;\\n      &lt;td&gt;2020&lt;/td&gt;\\n      &lt;td&gt;Madagascar&lt;/td&gt;\\n      &lt;td&gt;4.1656&lt;/td&gt;\\n    &lt;/tr&gt;\\n    &lt;tr&gt;\\n      &lt;th&gt;391&lt;/th&gt;\\n      &lt;td&gt;137&lt;/td&gt;\\n      &lt;td&gt;2021&lt;/td&gt;\\n      &lt;td&gt;Zambia&lt;/td&gt;\\n      &lt;td&gt;4.0730&lt;/td&gt;\\n    &lt;/tr&gt;\\n    &lt;tr&gt;\\n      &lt;th&gt;392&lt;/th&gt;\\n      &lt;td&gt;137&lt;/td&gt;\\n      &lt;td&gt;2022&lt;/td&gt;\\n      &lt;td&gt;Zambia&lt;/td&gt;\\n      &lt;td&gt;3.7600&lt;/td&gt;\\n    &lt;/tr&gt;\\n    &lt;tr&gt;\\n      &lt;th&gt;393&lt;/th&gt;\\n      &lt;td&gt;138&lt;/td&gt;\\n      &lt;td&gt;2020&lt;/td&gt;\\n      &lt;td&gt;Egypt&lt;/td&gt;\\n      &lt;td&gt;4.1514&lt;/td&gt;\\n    &lt;/tr&gt;\\n    &lt;tr&gt;\\n      &lt;th&gt;394&lt;/th&gt;\\n      &lt;td&gt;138&lt;/td&gt;\\n      &lt;td&gt;2021&lt;/td&gt;\\n      &lt;td&gt;Sierra Leone&lt;/td&gt;\\n      &lt;td&gt;3.8490&lt;/td&gt;\\n    &lt;/tr&gt;\\n    &lt;tr&gt;\\n      &lt;th&gt;395&lt;/th&gt;\\n      &lt;td&gt;138&lt;/td&gt;\\n      &lt;td&gt;2022&lt;/td&gt;\\n      &lt;td&gt;Malawi&lt;/td&gt;\\n      &lt;td&gt;3.7500&lt;/td&gt;\\n    &lt;/tr&gt;\\n    &lt;tr&gt;\\n      &lt;th&gt;396&lt;/th&gt;\\n      &lt;td&gt;139&lt;/td&gt;\\n      &lt;td&gt;2020&lt;/td&gt;\\n      &lt;td&gt;Sierra Leone&lt;/td&gt;\\n      &lt;td&gt;3.9264&lt;/td&gt;\\n    &lt;/tr&gt;\\n    &lt;tr&gt;\\n      &lt;th&gt;397&lt;/th&gt;\\n      &lt;td&gt;139&lt;/td&gt;\\n      &lt;td&gt;2021&lt;/td&gt;\\n      &lt;td&gt;India&lt;/td&gt;\\n      &lt;td&gt;3.8190&lt;/td&gt;\\n    &lt;/tr&gt;\\n    &lt;tr&gt;\\n      &lt;th&gt;398&lt;/th&gt;\\n      &lt;td&gt;139&lt;/td&gt;\\n      &lt;td&gt;2022&lt;/td&gt;\\n      &lt;td&gt;Tanzania&lt;/td&gt;\\n      &lt;td&gt;3.7020&lt;/td&gt;\\n    &lt;/tr&gt;\\n    &lt;tr&gt;\\n      &lt;th&gt;399&lt;/th&gt;\\n      &lt;td&gt;140&lt;/td&gt;\\n      &lt;td&gt;2022&lt;/td&gt;\\n      &lt;td&gt;Sierra Leone&lt;/td&gt;\\n      &lt;td&gt;3.5740&lt;/td&gt;\\n    &lt;/tr&gt;\\n    &lt;tr&gt;\\n      &lt;th&gt;400&lt;/th&gt;\\n      &lt;td&gt;140&lt;/td&gt;\\n      &lt;td&gt;2020&lt;/td&gt;\\n      &lt;td&gt;Burundi&lt;/td&gt;\\n      &lt;td&gt;3.7753&lt;/td&gt;\\n    &lt;/tr&gt;\\n    &lt;tr&gt;\\n      &lt;th&gt;401&lt;/th&gt;\\n      &lt;td&gt;140&lt;/td&gt;\\n      &lt;td&gt;2021&lt;/td&gt;\\n      &lt;td&gt;Burundi&lt;/td&gt;\\n      &lt;td&gt;3.7750&lt;/td&gt;\\n    &lt;/tr&gt;\\n    &lt;tr&gt;\\n      &lt;th&gt;402&lt;/th&gt;\\n      &lt;td&gt;141&lt;/td&gt;\\n      &lt;td&gt;2020&lt;/td&gt;\\n      &lt;td&gt;Zambia&lt;/td&gt;\\n      &lt;td&gt;3.7594&lt;/td&gt;\\n    &lt;/tr&gt;\\n    &lt;tr&gt;\\n      &lt;th&gt;403&lt;/th&gt;\\n      &lt;td&gt;141&lt;/td&gt;\\n      &lt;td&gt;2021&lt;/td&gt;\\n      &lt;td&gt;Yemen&lt;/td&gt;\\n      &lt;td&gt;3.6580&lt;/td&gt;\\n    &lt;/tr&gt;\\n    &lt;tr&gt;\\n      &lt;th&gt;404&lt;/th&gt;\\n      &lt;td&gt;142&lt;/td&gt;\\n      &lt;td&gt;2020&lt;/td&gt;\\n      &lt;td&gt;Haiti&lt;/td&gt;\\n      &lt;td&gt;3.7208&lt;/td&gt;\\n    &lt;/tr&gt;\\n    &lt;tr&gt;\\n      &lt;th&gt;405&lt;/th&gt;\\n      &lt;td&gt;142&lt;/td&gt;\\n      &lt;td&gt;2021&lt;/td&gt;\\n      &lt;td&gt;Tanzania&lt;/td&gt;\\n      &lt;td&gt;3.6230&lt;/td&gt;\\n    &lt;/tr&gt;\\n    &lt;tr&gt;\\n      &lt;th&gt;406&lt;/th&gt;\\n      &lt;td&gt;143&lt;/td&gt;\\n      &lt;td&gt;2020&lt;/td&gt;\\n      &lt;td&gt;Lesotho&lt;/td&gt;\\n      &lt;td&gt;3.6528&lt;/td&gt;\\n    &lt;/tr&gt;\\n    &lt;tr&gt;\\n      &lt;th&gt;407&lt;/th&gt;\\n      &lt;td&gt;143&lt;/td&gt;\\n      &lt;td&gt;2021&lt;/td&gt;\\n      &lt;td&gt;Haiti&lt;/td&gt;\\n      &lt;td&gt;3.6150&lt;/td&gt;\\n    &lt;/tr&gt;\\n    &lt;tr&gt;\\n      &lt;th&gt;408&lt;/th&gt;\\n      &lt;td&gt;144&lt;/td&gt;\\n      &lt;td&gt;2020&lt;/td&gt;\\n      &lt;td&gt;India&lt;/td&gt;\\n      &lt;td&gt;3.5733&lt;/td&gt;\\n    &lt;/tr&gt;\\n    &lt;tr&gt;\\n      &lt;th&gt;409&lt;/th&gt;\\n      &lt;td&gt;144&lt;/td&gt;\\n      &lt;td&gt;2021&lt;/td&gt;\\n      &lt;td&gt;Malawi&lt;/td&gt;\\n      &lt;td&gt;3.6000&lt;/td&gt;\\n    &lt;/tr&gt;\\n    &lt;tr&gt;\\n      &lt;th&gt;410&lt;/th&gt;\\n      &lt;td&gt;144&lt;/td&gt;\\n      &lt;td&gt;2022&lt;/td&gt;\\n      &lt;td&gt;Zimbabwe&lt;/td&gt;\\n      &lt;td&gt;2.9950&lt;/td&gt;\\n    &lt;/tr&gt;\\n    &lt;tr&gt;\\n      &lt;th&gt;411&lt;/th&gt;\\n      &lt;td&gt;145&lt;/td&gt;\\n      &lt;td&gt;2021&lt;/td&gt;\\n      &lt;td&gt;Lesotho&lt;/td&gt;\\n      &lt;td&gt;3.5120&lt;/td&gt;\\n    &lt;/tr&gt;\\n    &lt;tr&gt;\\n      &lt;th&gt;412&lt;/th&gt;\\n      &lt;td&gt;145&lt;/td&gt;\\n      &lt;td&gt;2022&lt;/td&gt;\\n      &lt;td&gt;Lebanon&lt;/td&gt;\\n      &lt;td&gt;2.9550&lt;/td&gt;\\n    &lt;/tr&gt;\\n    &lt;tr&gt;\\n      &lt;th&gt;413&lt;/th&gt;\\n      &lt;td&gt;145&lt;/td&gt;\\n      &lt;td&gt;2020&lt;/td&gt;\\n      &lt;td&gt;Malawi&lt;/td&gt;\\n      &lt;td&gt;3.5380&lt;/td&gt;\\n    &lt;/tr&gt;\\n    &lt;tr&gt;\\n      &lt;th&gt;414&lt;/th&gt;\\n      &lt;td&gt;146&lt;/td&gt;\\n      &lt;td&gt;2020&lt;/td&gt;\\n      &lt;td&gt;Yemen&lt;/td&gt;\\n      &lt;td&gt;3.5274&lt;/td&gt;\\n    &lt;/tr&gt;\\n    &lt;tr&gt;\\n      &lt;th&gt;415&lt;/th&gt;\\n      &lt;td&gt;146&lt;/td&gt;\\n      &lt;td&gt;2021&lt;/td&gt;\\n      &lt;td&gt;Botswana&lt;/td&gt;\\n      &lt;td&gt;3.4670&lt;/td&gt;\\n    &lt;/tr&gt;\\n    &lt;tr&gt;\\n      &lt;th&gt;416&lt;/th&gt;\\n      &lt;td&gt;146&lt;/td&gt;\\n      &lt;td&gt;2022&lt;/td&gt;\\n      &lt;td&gt;Afghanistan&lt;/td&gt;\\n      &lt;td&gt;2.4040&lt;/td&gt;\\n    &lt;/tr&gt;\\n    &lt;tr&gt;\\n      &lt;th&gt;417&lt;/th&gt;\\n      &lt;td&gt;147&lt;/td&gt;\\n      &lt;td&gt;2020&lt;/td&gt;\\n      &lt;td&gt;Botswana&lt;/td&gt;\\n      &lt;td&gt;3.4789&lt;/td&gt;\\n    &lt;/tr&gt;\\n    &lt;tr&gt;\\n      &lt;th&gt;418&lt;/th&gt;\\n      &lt;td&gt;147&lt;/td&gt;\\n      &lt;td&gt;2021&lt;/td&gt;\\n      &lt;td&gt;Rwanda&lt;/td&gt;\\n      &lt;td&gt;3.4150&lt;/td&gt;\\n    &lt;/tr&gt;\\n    &lt;tr&gt;\\n      &lt;th&gt;419&lt;/th&gt;\\n      &lt;td&gt;148&lt;/td&gt;\\n      &lt;td&gt;2020&lt;/td&gt;\\n      &lt;td&gt;Tanzania&lt;/td&gt;\\n      &lt;td&gt;3.4762&lt;/td&gt;\\n    &lt;/tr&gt;\\n    &lt;tr&gt;\\n      &lt;th&gt;420&lt;/th&gt;\\n      &lt;td&gt;148&lt;/td&gt;\\n      &lt;td&gt;2021&lt;/td&gt;\\n      &lt;td&gt;Zimbabwe&lt;/td&gt;\\n      &lt;td&gt;3.1450&lt;/td&gt;\\n    &lt;/tr&gt;\\n    &lt;tr&gt;\\n      &lt;th&gt;421&lt;/th&gt;\\n      &lt;td&gt;149&lt;/td&gt;\\n      &lt;td&gt;2020&lt;/td&gt;\\n      &lt;td&gt;Central African Republic&lt;/td&gt;\\n      &lt;td&gt;3.4759&lt;/td&gt;\\n    &lt;/tr&gt;\\n    &lt;tr&gt;\\n      &lt;th&gt;422&lt;/th&gt;\\n      &lt;td&gt;149&lt;/td&gt;\\n      &lt;td&gt;2021&lt;/td&gt;\\n      &lt;td&gt;Afghanistan&lt;/td&gt;\\n      &lt;td&gt;2.5230&lt;/td&gt;\\n    &lt;/tr&gt;\\n    &lt;tr&gt;\\n      &lt;th&gt;423&lt;/th&gt;\\n      &lt;td&gt;150&lt;/td&gt;\\n      &lt;td&gt;2020&lt;/td&gt;\\n      &lt;td&gt;Rwanda&lt;/td&gt;\\n      &lt;td&gt;3.3123&lt;/td&gt;\\n    &lt;/tr&gt;\\n    &lt;tr&gt;\\n      &lt;th&gt;424&lt;/th&gt;\\n      &lt;td&gt;151&lt;/td&gt;\\n      &lt;td&gt;2020&lt;/td&gt;\\n      &lt;td&gt;Zimbabwe&lt;/td&gt;\\n      &lt;td&gt;3.2992&lt;/td&gt;\\n    &lt;/tr&gt;\\n    &lt;tr&gt;\\n      &lt;th&gt;425&lt;/th&gt;\\n      &lt;td&gt;152&lt;/td&gt;\\n      &lt;td&gt;2020&lt;/td&gt;\\n      &lt;td&gt;South Sudan&lt;/td&gt;\\n      &lt;td&gt;2.8166&lt;/td&gt;\\n    &lt;/tr&gt;\\n    &lt;tr&gt;\\n      &lt;th&gt;426&lt;/th&gt;\\n      &lt;td&gt;153&lt;/td&gt;\\n      &lt;td&gt;2020&lt;/td&gt;\\n      &lt;td&gt;Afghanistan&lt;/td&gt;\\n      &lt;td&gt;2.5669&lt;/td&gt;\\n    &lt;/tr&gt;\\n  &lt;/tbody&gt;\\n&lt;/table&gt;\"},\"id\":\"14979\",\"type\":\"panel.models.markup.HTML\"},{\"attributes\":{\"children\":[{\"id\":\"14979\"}],\"margin\":[0,0,0,0],\"name\":\"Row30069\"},\"id\":\"14978\",\"type\":\"Row\"},{\"attributes\":{\"end\":2022,\"margin\":[5,10,5,10],\"start\":2020,\"title\":\"Year slider\",\"value\":2022},\"id\":\"14975\",\"type\":\"Slider\"},{\"attributes\":{\"margin\":[5,5,5,5],\"name\":\"HSpacer30096\",\"sizing_mode\":\"stretch_width\"},\"id\":\"14977\",\"type\":\"Spacer\"},{\"attributes\":{\"client_comm_id\":\"f42e4eeae0a545f6af4fb27823a1d258\",\"comm_id\":\"89c4157699c34417bdf58944000044fe\",\"plot_id\":\"14971\"},\"id\":\"14980\",\"type\":\"panel.models.comm_manager.CommManager\"},{\"attributes\":{\"children\":[{\"id\":\"14974\"},{\"id\":\"14977\"}],\"margin\":[0,0,0,0],\"name\":\"Row30097\"},\"id\":\"14973\",\"type\":\"Row\"},{\"attributes\":{\"children\":[{\"id\":\"14973\"},{\"id\":\"14978\"}],\"margin\":[0,0,0,0],\"name\":\"Column30098\"},\"id\":\"14972\",\"type\":\"Column\"}],\"root_ids\":[\"14971\",\"14980\"]},\"title\":\"Bokeh Application\",\"version\":\"2.4.3\"}};\n",
       "    var render_items = [{\"docid\":\"f72c20d3-4980-4407-90a9-bbf0d32131c1\",\"root_ids\":[\"14971\"],\"roots\":{\"14971\":\"d83c912c-3912-44a1-b5ec-d09d2bf49a93\"}}];\n",
       "    root.Bokeh.embed.embed_items_notebook(docs_json, render_items);\n",
       "    for (const render_item of render_items) {\n",
       "      for (const root_id of render_item.root_ids) {\n",
       "\tconst id_el = document.getElementById(root_id)\n",
       "\tif (id_el.children.length && (id_el.children[0].className === 'bk-root')) {\n",
       "\t  const root_el = id_el.children[0]\n",
       "\t  root_el.id = root_el.id + '-rendered'\n",
       "\t}\n",
       "      }\n",
       "    }\n",
       "  }\n",
       "  if (root.Bokeh !== undefined && root.Bokeh.Panel !== undefined && ( root['Tabulator'] !== undefined) && ( root['Tabulator'] !== undefined)) {\n",
       "    embed_document(root);\n",
       "  } else {\n",
       "    var attempts = 0;\n",
       "    var timer = setInterval(function(root) {\n",
       "      if (root.Bokeh !== undefined && root.Bokeh.Panel !== undefined && (root['Tabulator'] !== undefined) && (root['Tabulator'] !== undefined)) {\n",
       "        clearInterval(timer);\n",
       "        embed_document(root);\n",
       "      } else if (document.readyState == \"complete\") {\n",
       "        attempts++;\n",
       "        if (attempts > 200) {\n",
       "          clearInterval(timer);\n",
       "          console.log(\"Bokeh: ERROR: Unable to run BokehJS code because BokehJS library is missing\");\n",
       "        }\n",
       "      }\n",
       "    }, 25, root)\n",
       "  }\n",
       "})(window);</script>"
      ],
      "text/plain": [
       "<hvplot.interactive.Interactive at 0x7fc4965118a0>"
      ]
     },
     "execution_count": 59,
     "metadata": {
      "application/vnd.holoviews_exec.v0+json": {
       "id": "14971"
      }
     },
     "output_type": "execute_result"
    }
   ],
   "source": [
    "scatter_pipeline = (\n",
    "    idf1[\n",
    "        (idf1.Year <= year_slider)\n",
    "    ]\n",
    "    .groupby(['RANK','Year','Country name'])[yaxis_co2].mean()\n",
    "    .to_frame()\n",
    "    .reset_index()\n",
    "    .sort_values(by='RANK') \n",
    "    .reset_index(drop=True)\n",
    ")\n",
    "scatter_pipeline"
   ]
  },
  {
   "cell_type": "code",
   "execution_count": 60,
   "metadata": {},
   "outputs": [
    {
     "data": {},
     "metadata": {},
     "output_type": "display_data"
    },
    {
     "data": {},
     "metadata": {},
     "output_type": "display_data"
    },
    {
     "data": {
      "application/vnd.holoviews_exec.v0+json": "",
      "text/html": [
       "<div id='14981'>\n",
       "  <div class=\"bk-root\" id=\"94b56e11-ada5-4750-b8cc-a3ac7bbebee2\" data-root-id=\"14981\"></div>\n",
       "</div>\n",
       "<script type=\"application/javascript\">(function(root) {\n",
       "  function embed_document(root) {\n",
       "    var docs_json = {\"2d93e9c8-157c-4117-9d05-e30d4400486a\":{\"defs\":[{\"extends\":null,\"module\":null,\"name\":\"ReactiveHTML1\",\"overrides\":[],\"properties\":[]},{\"extends\":null,\"module\":null,\"name\":\"FlexBox1\",\"overrides\":[],\"properties\":[{\"default\":\"flex-start\",\"kind\":null,\"name\":\"align_content\"},{\"default\":\"flex-start\",\"kind\":null,\"name\":\"align_items\"},{\"default\":\"row\",\"kind\":null,\"name\":\"flex_direction\"},{\"default\":\"wrap\",\"kind\":null,\"name\":\"flex_wrap\"},{\"default\":\"flex-start\",\"kind\":null,\"name\":\"justify_content\"}]},{\"extends\":null,\"module\":null,\"name\":\"GridStack1\",\"overrides\":[],\"properties\":[{\"default\":\"warn\",\"kind\":null,\"name\":\"mode\"},{\"default\":null,\"kind\":null,\"name\":\"ncols\"},{\"default\":null,\"kind\":null,\"name\":\"nrows\"},{\"default\":true,\"kind\":null,\"name\":\"allow_resize\"},{\"default\":true,\"kind\":null,\"name\":\"allow_drag\"},{\"default\":[],\"kind\":null,\"name\":\"state\"}]},{\"extends\":null,\"module\":null,\"name\":\"click1\",\"overrides\":[],\"properties\":[{\"default\":\"\",\"kind\":null,\"name\":\"terminal_output\"},{\"default\":\"\",\"kind\":null,\"name\":\"debug_name\"},{\"default\":0,\"kind\":null,\"name\":\"clears\"}]},{\"extends\":null,\"module\":null,\"name\":\"NotificationAreaBase1\",\"overrides\":[],\"properties\":[{\"default\":\"bottom-right\",\"kind\":null,\"name\":\"position\"},{\"default\":0,\"kind\":null,\"name\":\"_clear\"}]},{\"extends\":null,\"module\":null,\"name\":\"NotificationArea1\",\"overrides\":[],\"properties\":[{\"default\":[],\"kind\":null,\"name\":\"notifications\"},{\"default\":\"bottom-right\",\"kind\":null,\"name\":\"position\"},{\"default\":0,\"kind\":null,\"name\":\"_clear\"},{\"default\":[{\"background\":\"#ffc107\",\"icon\":{\"className\":\"fas fa-exclamation-triangle\",\"color\":\"white\",\"tagName\":\"i\"},\"type\":\"warning\"},{\"background\":\"#007bff\",\"icon\":{\"className\":\"fas fa-info-circle\",\"color\":\"white\",\"tagName\":\"i\"},\"type\":\"info\"}],\"kind\":null,\"name\":\"types\"}]},{\"extends\":null,\"module\":null,\"name\":\"Notification\",\"overrides\":[],\"properties\":[{\"default\":null,\"kind\":null,\"name\":\"background\"},{\"default\":3000,\"kind\":null,\"name\":\"duration\"},{\"default\":null,\"kind\":null,\"name\":\"icon\"},{\"default\":\"\",\"kind\":null,\"name\":\"message\"},{\"default\":null,\"kind\":null,\"name\":\"notification_type\"},{\"default\":false,\"kind\":null,\"name\":\"_destroyed\"}]},{\"extends\":null,\"module\":null,\"name\":\"TemplateActions1\",\"overrides\":[],\"properties\":[{\"default\":0,\"kind\":null,\"name\":\"open_modal\"},{\"default\":0,\"kind\":null,\"name\":\"close_modal\"}]},{\"extends\":null,\"module\":null,\"name\":\"MaterialTemplateActions1\",\"overrides\":[],\"properties\":[{\"default\":0,\"kind\":null,\"name\":\"open_modal\"},{\"default\":0,\"kind\":null,\"name\":\"close_modal\"}]}],\"roots\":{\"references\":[{\"attributes\":{\"bottom_units\":\"screen\",\"coordinates\":null,\"fill_alpha\":0.5,\"fill_color\":\"lightgrey\",\"group\":null,\"left_units\":\"screen\",\"level\":\"overlay\",\"line_alpha\":1.0,\"line_color\":\"black\",\"line_dash\":[4,4],\"line_width\":2,\"right_units\":\"screen\",\"syncable\":false,\"top_units\":\"screen\"},\"id\":\"15012\",\"type\":\"BoxAnnotation\"},{\"attributes\":{\"coordinates\":null,\"group\":null,\"text\":\"Happiness score in each countries 2020-2022\",\"text_color\":\"black\",\"text_font_size\":\"12pt\"},\"id\":\"14992\",\"type\":\"Title\"},{\"attributes\":{},\"id\":\"15022\",\"type\":\"Selection\"},{\"attributes\":{\"factors\":[\"Finland\",\"Denmark\",\"Switzerland\",\"Iceland\",\"Norway\",\"Netherlands\",\"Sweden\",\"New Zealand\",\"Luxembourg\",\"Israel\",\"Austria\",\"Canada\",\"Australia\",\"Ireland\",\"Germany\",\"United Kingdom\",\"Costa Rica\",\"United States\",\"Czech Republic\",\"Belgium\",\"France\",\"United Arab Emirates\",\"Bahrain\",\"Slovenia\",\"Malta\",\"Mexico\",\"Taiwan Province of China\",\"Saudi Arabia\",\"Uruguay\",\"Singapore\",\"Spain\",\"Italy\",\"Romania\",\"Guatemala\",\"Brazil\",\"Kosovo\",\"Slovakia\",\"Lithuania\",\"El Salvador\",\"Estonia\",\"Panama\",\"Jamaica\",\"Uzbekistan\",\"Chile\",\"Cyprus\",\"Kazakhstan\",\"Trinidad and Tobago\",\"Latvia\",\"Poland\",\"Serbia\",\"Colombia\",\"Nicaragua\",\"Kuwait\",\"Croatia\",\"Mauritius\",\"Hungary\",\"Philippines\",\"Japan\",\"Thailand\",\"Honduras\",\"Argentina\",\"Portugal\",\"Ecuador\",\"Greece\",\"South Korea\",\"Moldova\",\"Peru\",\"Bosnia and Herzegovina\",\"Kyrgyzstan\",\"Bolivia\",\"Pakistan\",\"Paraguay\",\"Dominican Republic\",\"Mongolia\",\"Malaysia\",\"Tajikistan\",\"Montenegro\",\"China\",\"Russia\",\"North Cyprus\",\"Belarus\",\"Hong Kong S.A.R. of China\",\"Vietnam\",\"Libya\",\"Indonesia\",\"Armenia\",\"Congo (Brazzaville)\",\"Nepal\",\"Ivory Coast\",\"Bulgaria\",\"Benin\",\"Maldives\",\"Azerbaijan\",\"North Macedonia\",\"Albania\",\"Macedonia\",\"Cameroon\",\"South Africa\",\"Ghana\",\"Senegal\",\"Turkey\",\"Bangladesh\",\"Turkmenistan\",\"Laos\",\"Niger\",\"Algeria\",\"Morocco\",\"Gambia\",\"Ukraine\",\"Venezuela\",\"Congo\",\"Mozambique\",\"Guinea\",\"Georgia\",\"Cambodia\",\"Gabon\",\"Iraq\",\"Iran\",\"Lebanon\",\"Burkina Faso\",\"Mali\",\"Nigeria\",\"Uganda\",\"Kenya\",\"Jordan\",\"Tunisia\",\"Liberia\",\"Namibia\",\"Palestinian Territories\",\"Myanmar\",\"Chad\",\"Sri Lanka\",\"Mauritania\",\"Egypt\",\"Swaziland\",\"Congo (Kinshasa)\",\"Comoros\",\"Ethiopia\",\"Madagascar\",\"Togo\",\"India\",\"Zambia\",\"Sierra Leone\",\"Malawi\",\"Tanzania\",\"Burundi\",\"Yemen\",\"Haiti\",\"Lesotho\",\"Zimbabwe\",\"Botswana\",\"Afghanistan\",\"Rwanda\",\"Central African Republic\",\"South Sudan\"],\"tags\":[[[\"Country name\",\"Country name\",null]]]},\"id\":\"14988\",\"type\":\"FactorRange\"},{\"attributes\":{},\"id\":\"15008\",\"type\":\"PanTool\"},{\"attributes\":{\"fill_color\":{\"field\":\"color\",\"transform\":{\"id\":\"15020\"}},\"hatch_color\":{\"field\":\"color\",\"transform\":{\"id\":\"15020\"}},\"line_color\":{\"field\":\"color\",\"transform\":{\"id\":\"15020\"}},\"size\":{\"value\":5.477225575051661},\"x\":{\"field\":\"Country name\"},\"y\":{\"field\":\"Happiness score\"}},\"id\":\"15026\",\"type\":\"Scatter\"},{\"attributes\":{\"below\":[{\"id\":\"15000\"}],\"center\":[{\"id\":\"15002\"},{\"id\":\"15006\"}],\"height\":500,\"left\":[{\"id\":\"15003\"}],\"margin\":[5,5,5,5],\"min_border_bottom\":10,\"min_border_left\":10,\"min_border_right\":10,\"min_border_top\":10,\"renderers\":[{\"id\":\"15029\"}],\"right\":[{\"id\":\"15032\"}],\"sizing_mode\":\"fixed\",\"title\":{\"id\":\"14992\"},\"toolbar\":{\"id\":\"15013\"},\"width\":700,\"x_range\":{\"id\":\"14988\"},\"x_scale\":{\"id\":\"14996\"},\"y_range\":{\"id\":\"14989\"},\"y_scale\":{\"id\":\"14998\"}},\"id\":\"14991\",\"subtype\":\"Figure\",\"type\":\"Plot\"},{\"attributes\":{\"end\":2022,\"margin\":[5,10,5,10],\"start\":2020,\"title\":\"Year slider\",\"value\":2022},\"id\":\"14985\",\"type\":\"Slider\"},{\"attributes\":{},\"id\":\"15001\",\"type\":\"CategoricalTicker\"},{\"attributes\":{\"axis\":{\"id\":\"15000\"},\"coordinates\":null,\"grid_line_color\":null,\"group\":null,\"ticker\":null},\"id\":\"15002\",\"type\":\"Grid\"},{\"attributes\":{\"axis_label\":\"Country name\",\"coordinates\":null,\"formatter\":{\"id\":\"15034\"},\"group\":null,\"major_label_orientation\":1.2217304763960306,\"major_label_policy\":{\"id\":\"15035\"},\"ticker\":{\"id\":\"15001\"}},\"id\":\"15000\",\"type\":\"CategoricalAxis\"},{\"attributes\":{\"active_drag\":{\"id\":\"15008\"},\"active_scroll\":{\"id\":\"15009\"},\"tools\":[{\"id\":\"14990\"},{\"id\":\"15007\"},{\"id\":\"15008\"},{\"id\":\"15009\"},{\"id\":\"15010\"},{\"id\":\"15011\"}]},\"id\":\"15013\",\"type\":\"Toolbar\"},{\"attributes\":{\"children\":[{\"id\":\"14982\"}],\"margin\":[0,0,0,0],\"name\":\"Row30241\"},\"id\":\"14981\",\"type\":\"Row\"},{\"attributes\":{\"data\":{\"Country name\":[\"Finland\",\"Finland\",\"Finland\",\"Denmark\",\"Denmark\",\"Denmark\",\"Switzerland\",\"Switzerland\",\"Iceland\",\"Iceland\",\"Switzerland\",\"Iceland\",\"Norway\",\"Netherlands\",\"Netherlands\",\"Netherlands\",\"Norway\",\"Sweden\",\"Sweden\",\"Sweden\",\"Norway\",\"New Zealand\",\"Luxembourg\",\"New Zealand\",\"Israel\",\"Austria\",\"Luxembourg\",\"Austria\",\"New Zealand\",\"Canada\",\"Australia\",\"Austria\",\"Australia\",\"Israel\",\"Australia\",\"Ireland\",\"Germany\",\"United Kingdom\",\"Israel\",\"Canada\",\"Germany\",\"Costa Rica\",\"Ireland\",\"Canada\",\"Ireland\",\"Costa Rica\",\"United States\",\"United Kingdom\",\"United Kingdom\",\"Germany\",\"Czech Republic\",\"Czech Republic\",\"United States\",\"Czech Republic\",\"United States\",\"Belgium\",\"Belgium\",\"Belgium\",\"France\",\"United Arab Emirates\",\"France\",\"Bahrain\",\"Bahrain\",\"Slovenia\",\"Malta\",\"France\",\"Malta\",\"Costa Rica\",\"Mexico\",\"Taiwan Province of China\",\"United Arab Emirates\",\"Taiwan Province of China\",\"United Arab Emirates\",\"Saudi Arabia\",\"Uruguay\",\"Saudi Arabia\",\"Taiwan Province of China\",\"Singapore\",\"Spain\",\"Saudi Arabia\",\"Spain\",\"Italy\",\"Romania\",\"Guatemala\",\"Slovenia\",\"Spain\",\"Uruguay\",\"Italy\",\"Guatemala\",\"Italy\",\"Uruguay\",\"Singapore\",\"Brazil\",\"Singapore\",\"Kosovo\",\"Malta\",\"Slovenia\",\"Kosovo\",\"Slovakia\",\"Lithuania\",\"El Salvador\",\"Brazil\",\"Slovakia\",\"Kosovo\",\"Mexico\",\"Estonia\",\"Panama\",\"Slovakia\",\"Jamaica\",\"Panama\",\"Uzbekistan\",\"Lithuania\",\"Brazil\",\"Chile\",\"Cyprus\",\"Bahrain\",\"Estonia\",\"Kazakhstan\",\"Cyprus\",\"Lithuania\",\"Panama\",\"Trinidad and Tobago\",\"Uzbekistan\",\"Latvia\",\"Poland\",\"Chile\",\"Serbia\",\"Chile\",\"Colombia\",\"Poland\",\"Kazakhstan\",\"Nicaragua\",\"Cyprus\",\"Nicaragua\",\"Romania\",\"Mexico\",\"Romania\",\"Kuwait\",\"Croatia\",\"Kuwait\",\"Serbia\",\"Poland\",\"El Salvador\",\"Mauritius\",\"El Salvador\",\"Mauritius\",\"Kazakhstan\",\"Estonia\",\"Latvia\",\"Hungary\",\"Philippines\",\"Colombia\",\"Mauritius\",\"Hungary\",\"Hungary\",\"Uzbekistan\",\"Japan\",\"Thailand\",\"Thailand\",\"Honduras\",\"Argentina\",\"Nicaragua\",\"Honduras\",\"Japan\",\"Portugal\",\"Latvia\",\"Argentina\",\"Argentina\",\"Ecuador\",\"Portugal\",\"Greece\",\"South Korea\",\"Honduras\",\"Portugal\",\"Jamaica\",\"Croatia\",\"Philippines\",\"South Korea\",\"Philippines\",\"Thailand\",\"Japan\",\"South Korea\",\"Moldova\",\"Jamaica\",\"Peru\",\"Peru\",\"Serbia\",\"Bosnia and Herzegovina\",\"Kyrgyzstan\",\"Bolivia\",\"Moldova\",\"Pakistan\",\"Ecuador\",\"Colombia\",\"Kyrgyzstan\",\"Bosnia and Herzegovina\",\"Paraguay\",\"Dominican Republic\",\"Greece\",\"Mongolia\",\"Bosnia and Herzegovina\",\"Bolivia\",\"Dominican Republic\",\"Mongolia\",\"Malaysia\",\"Moldova\",\"Paraguay\",\"Bolivia\",\"Tajikistan\",\"Montenegro\",\"China\",\"Montenegro\",\"Paraguay\",\"Dominican Republic\",\"Russia\",\"Kyrgyzstan\",\"North Cyprus\",\"Peru\",\"Belarus\",\"Belarus\",\"Montenegro\",\"North Cyprus\",\"Russia\",\"Ecuador\",\"Greece\",\"Hong Kong S.A.R. of China\",\"Vietnam\",\"Tajikistan\",\"Hong Kong S.A.R. of China\",\"Croatia\",\"Vietnam\",\"Libya\",\"Libya\",\"Russia\",\"Mongolia\",\"Malaysia\",\"Hong Kong S.A.R. of China\",\"Malaysia\",\"Indonesia\",\"Armenia\",\"Tajikistan\",\"Vietnam\",\"Congo (Brazzaville)\",\"Indonesia\",\"China\",\"Nepal\",\"Ivory Coast\",\"Ivory Coast\",\"Bulgaria\",\"Benin\",\"Armenia\",\"Nepal\",\"Maldives\",\"Indonesia\",\"Ivory Coast\",\"Congo (Brazzaville)\",\"Bulgaria\",\"Azerbaijan\",\"Maldives\",\"North Macedonia\",\"Albania\",\"Macedonia\",\"Azerbaijan\",\"Cameroon\",\"South Africa\",\"Ghana\",\"Senegal\",\"Nepal\",\"Turkey\",\"Albania\",\"China\",\"North Macedonia\",\"Bangladesh\",\"Turkmenistan\",\"Ghana\",\"Laos\",\"Bulgaria\",\"Niger\",\"Algeria\",\"Turkmenistan\",\"Morocco\",\"Cameroon\",\"Gambia\",\"Ukraine\",\"Venezuela\",\"Benin\",\"Congo\",\"Algeria\",\"Laos\",\"Morocco\",\"Mozambique\",\"Senegal\",\"Bangladesh\",\"Cameroon\",\"Guinea\",\"Guinea\",\"Niger\",\"South Africa\",\"Senegal\",\"Laos\",\"Turkey\",\"Albania\",\"Pakistan\",\"Georgia\",\"Morocco\",\"Cambodia\",\"Gabon\",\"Iraq\",\"Bangladesh\",\"Venezuela\",\"Gabon\",\"Georgia\",\"Venezuela\",\"Guinea\",\"South Africa\",\"Algeria\",\"Ukraine\",\"Iran\",\"Iraq\",\"Ghana\",\"Iraq\",\"Lebanon\",\"Burkina Faso\",\"Gabon\",\"Turkey\",\"Gambia\",\"Burkina Faso\",\"Burkina Faso\",\"Mali\",\"Cambodia\",\"Cambodia\",\"Mozambique\",\"Benin\",\"Nigeria\",\"Armenia\",\"Nigeria\",\"Georgia\",\"Mali\",\"Uganda\",\"Iran\",\"Iran\",\"Nigeria\",\"Kenya\",\"Jordan\",\"Uganda\",\"Tunisia\",\"Liberia\",\"Mozambique\",\"Kenya\",\"Kenya\",\"Pakistan\",\"Namibia\",\"Tunisia\",\"Ukraine\",\"Lebanon\",\"Mali\",\"Liberia\",\"Namibia\",\"Namibia\",\"Palestinian Territories\",\"Palestinian Territories\",\"Uganda\",\"Myanmar\",\"Myanmar\",\"Chad\",\"Jordan\",\"Sri Lanka\",\"Tunisia\",\"Chad\",\"Mauritania\",\"Sri Lanka\",\"Egypt\",\"Swaziland\",\"Sri Lanka\",\"Congo (Kinshasa)\",\"Comoros\",\"Ethiopia\",\"Swaziland\",\"Egypt\",\"Myanmar\",\"Ethiopia\",\"Comoros\",\"Mauritania\",\"Jordan\",\"Madagascar\",\"Togo\",\"Togo\",\"Ethiopia\",\"Togo\",\"India\",\"Madagascar\",\"Zambia\",\"Zambia\",\"Egypt\",\"Sierra Leone\",\"Malawi\",\"Sierra Leone\",\"India\",\"Tanzania\",\"Sierra Leone\",\"Burundi\",\"Burundi\",\"Zambia\",\"Yemen\",\"Haiti\",\"Tanzania\",\"Lesotho\",\"Haiti\",\"India\",\"Malawi\",\"Zimbabwe\",\"Lesotho\",\"Lebanon\",\"Malawi\",\"Yemen\",\"Botswana\",\"Afghanistan\",\"Botswana\",\"Rwanda\",\"Tanzania\",\"Zimbabwe\",\"Central African Republic\",\"Afghanistan\",\"Rwanda\",\"Zimbabwe\",\"South Sudan\",\"Afghanistan\"],\"Country_name\":[\"Finland\",\"Finland\",\"Finland\",\"Denmark\",\"Denmark\",\"Denmark\",\"Switzerland\",\"Switzerland\",\"Iceland\",\"Iceland\",\"Switzerland\",\"Iceland\",\"Norway\",\"Netherlands\",\"Netherlands\",\"Netherlands\",\"Norway\",\"Sweden\",\"Sweden\",\"Sweden\",\"Norway\",\"New Zealand\",\"Luxembourg\",\"New Zealand\",\"Israel\",\"Austria\",\"Luxembourg\",\"Austria\",\"New Zealand\",\"Canada\",\"Australia\",\"Austria\",\"Australia\",\"Israel\",\"Australia\",\"Ireland\",\"Germany\",\"United Kingdom\",\"Israel\",\"Canada\",\"Germany\",\"Costa Rica\",\"Ireland\",\"Canada\",\"Ireland\",\"Costa Rica\",\"United States\",\"United Kingdom\",\"United Kingdom\",\"Germany\",\"Czech Republic\",\"Czech Republic\",\"United States\",\"Czech Republic\",\"United States\",\"Belgium\",\"Belgium\",\"Belgium\",\"France\",\"United Arab Emirates\",\"France\",\"Bahrain\",\"Bahrain\",\"Slovenia\",\"Malta\",\"France\",\"Malta\",\"Costa Rica\",\"Mexico\",\"Taiwan Province of China\",\"United Arab Emirates\",\"Taiwan Province of China\",\"United Arab Emirates\",\"Saudi Arabia\",\"Uruguay\",\"Saudi Arabia\",\"Taiwan Province of China\",\"Singapore\",\"Spain\",\"Saudi Arabia\",\"Spain\",\"Italy\",\"Romania\",\"Guatemala\",\"Slovenia\",\"Spain\",\"Uruguay\",\"Italy\",\"Guatemala\",\"Italy\",\"Uruguay\",\"Singapore\",\"Brazil\",\"Singapore\",\"Kosovo\",\"Malta\",\"Slovenia\",\"Kosovo\",\"Slovakia\",\"Lithuania\",\"El Salvador\",\"Brazil\",\"Slovakia\",\"Kosovo\",\"Mexico\",\"Estonia\",\"Panama\",\"Slovakia\",\"Jamaica\",\"Panama\",\"Uzbekistan\",\"Lithuania\",\"Brazil\",\"Chile\",\"Cyprus\",\"Bahrain\",\"Estonia\",\"Kazakhstan\",\"Cyprus\",\"Lithuania\",\"Panama\",\"Trinidad and Tobago\",\"Uzbekistan\",\"Latvia\",\"Poland\",\"Chile\",\"Serbia\",\"Chile\",\"Colombia\",\"Poland\",\"Kazakhstan\",\"Nicaragua\",\"Cyprus\",\"Nicaragua\",\"Romania\",\"Mexico\",\"Romania\",\"Kuwait\",\"Croatia\",\"Kuwait\",\"Serbia\",\"Poland\",\"El Salvador\",\"Mauritius\",\"El Salvador\",\"Mauritius\",\"Kazakhstan\",\"Estonia\",\"Latvia\",\"Hungary\",\"Philippines\",\"Colombia\",\"Mauritius\",\"Hungary\",\"Hungary\",\"Uzbekistan\",\"Japan\",\"Thailand\",\"Thailand\",\"Honduras\",\"Argentina\",\"Nicaragua\",\"Honduras\",\"Japan\",\"Portugal\",\"Latvia\",\"Argentina\",\"Argentina\",\"Ecuador\",\"Portugal\",\"Greece\",\"South Korea\",\"Honduras\",\"Portugal\",\"Jamaica\",\"Croatia\",\"Philippines\",\"South Korea\",\"Philippines\",\"Thailand\",\"Japan\",\"South Korea\",\"Moldova\",\"Jamaica\",\"Peru\",\"Peru\",\"Serbia\",\"Bosnia and Herzegovina\",\"Kyrgyzstan\",\"Bolivia\",\"Moldova\",\"Pakistan\",\"Ecuador\",\"Colombia\",\"Kyrgyzstan\",\"Bosnia and Herzegovina\",\"Paraguay\",\"Dominican Republic\",\"Greece\",\"Mongolia\",\"Bosnia and Herzegovina\",\"Bolivia\",\"Dominican Republic\",\"Mongolia\",\"Malaysia\",\"Moldova\",\"Paraguay\",\"Bolivia\",\"Tajikistan\",\"Montenegro\",\"China\",\"Montenegro\",\"Paraguay\",\"Dominican Republic\",\"Russia\",\"Kyrgyzstan\",\"North Cyprus\",\"Peru\",\"Belarus\",\"Belarus\",\"Montenegro\",\"North Cyprus\",\"Russia\",\"Ecuador\",\"Greece\",\"Hong Kong S.A.R. of China\",\"Vietnam\",\"Tajikistan\",\"Hong Kong S.A.R. of China\",\"Croatia\",\"Vietnam\",\"Libya\",\"Libya\",\"Russia\",\"Mongolia\",\"Malaysia\",\"Hong Kong S.A.R. of China\",\"Malaysia\",\"Indonesia\",\"Armenia\",\"Tajikistan\",\"Vietnam\",\"Congo (Brazzaville)\",\"Indonesia\",\"China\",\"Nepal\",\"Ivory Coast\",\"Ivory Coast\",\"Bulgaria\",\"Benin\",\"Armenia\",\"Nepal\",\"Maldives\",\"Indonesia\",\"Ivory Coast\",\"Congo (Brazzaville)\",\"Bulgaria\",\"Azerbaijan\",\"Maldives\",\"North Macedonia\",\"Albania\",\"Macedonia\",\"Azerbaijan\",\"Cameroon\",\"South Africa\",\"Ghana\",\"Senegal\",\"Nepal\",\"Turkey\",\"Albania\",\"China\",\"North Macedonia\",\"Bangladesh\",\"Turkmenistan\",\"Ghana\",\"Laos\",\"Bulgaria\",\"Niger\",\"Algeria\",\"Turkmenistan\",\"Morocco\",\"Cameroon\",\"Gambia\",\"Ukraine\",\"Venezuela\",\"Benin\",\"Congo\",\"Algeria\",\"Laos\",\"Morocco\",\"Mozambique\",\"Senegal\",\"Bangladesh\",\"Cameroon\",\"Guinea\",\"Guinea\",\"Niger\",\"South Africa\",\"Senegal\",\"Laos\",\"Turkey\",\"Albania\",\"Pakistan\",\"Georgia\",\"Morocco\",\"Cambodia\",\"Gabon\",\"Iraq\",\"Bangladesh\",\"Venezuela\",\"Gabon\",\"Georgia\",\"Venezuela\",\"Guinea\",\"South Africa\",\"Algeria\",\"Ukraine\",\"Iran\",\"Iraq\",\"Ghana\",\"Iraq\",\"Lebanon\",\"Burkina Faso\",\"Gabon\",\"Turkey\",\"Gambia\",\"Burkina Faso\",\"Burkina Faso\",\"Mali\",\"Cambodia\",\"Cambodia\",\"Mozambique\",\"Benin\",\"Nigeria\",\"Armenia\",\"Nigeria\",\"Georgia\",\"Mali\",\"Uganda\",\"Iran\",\"Iran\",\"Nigeria\",\"Kenya\",\"Jordan\",\"Uganda\",\"Tunisia\",\"Liberia\",\"Mozambique\",\"Kenya\",\"Kenya\",\"Pakistan\",\"Namibia\",\"Tunisia\",\"Ukraine\",\"Lebanon\",\"Mali\",\"Liberia\",\"Namibia\",\"Namibia\",\"Palestinian Territories\",\"Palestinian Territories\",\"Uganda\",\"Myanmar\",\"Myanmar\",\"Chad\",\"Jordan\",\"Sri Lanka\",\"Tunisia\",\"Chad\",\"Mauritania\",\"Sri Lanka\",\"Egypt\",\"Swaziland\",\"Sri Lanka\",\"Congo (Kinshasa)\",\"Comoros\",\"Ethiopia\",\"Swaziland\",\"Egypt\",\"Myanmar\",\"Ethiopia\",\"Comoros\",\"Mauritania\",\"Jordan\",\"Madagascar\",\"Togo\",\"Togo\",\"Ethiopia\",\"Togo\",\"India\",\"Madagascar\",\"Zambia\",\"Zambia\",\"Egypt\",\"Sierra Leone\",\"Malawi\",\"Sierra Leone\",\"India\",\"Tanzania\",\"Sierra Leone\",\"Burundi\",\"Burundi\",\"Zambia\",\"Yemen\",\"Haiti\",\"Tanzania\",\"Lesotho\",\"Haiti\",\"India\",\"Malawi\",\"Zimbabwe\",\"Lesotho\",\"Lebanon\",\"Malawi\",\"Yemen\",\"Botswana\",\"Afghanistan\",\"Botswana\",\"Rwanda\",\"Tanzania\",\"Zimbabwe\",\"Central African Republic\",\"Afghanistan\",\"Rwanda\",\"Zimbabwe\",\"South Sudan\",\"Afghanistan\"],\"Happiness score\":{\"__ndarray__\":\"wmMF4Bs8H0CR7Xw/NV4fQGIQWDm0SB9AZcX+HxiVHkB7FK5H4XoeQCUGgZVDix5AJ2gAYFY9HkBiEFg5tEgeQO58PzVeOh5Anu+nxks3HkA/NV66SQweQOB/+5+bBB5A2K7+P7bzHUBCYOXQItsdQClcj8L1qB1A9c4DgKzLHUDFILByaJEdQBqU+d/7aR1AwcqhRbZzHUDwp8ZLN4kdQPYoXI/CdR1Ah9T5X8oyHUCyne+nxksdQM/3U+OlGx1A2/l+arx0HUAx3AfAQi0dQBWOBEAz8xxA30+Nl24SHUDNzMzMzMwcQLRnAaCr7RxACKwcWmS7HED0/dR46aYcQKVDAKAl5BxAVOOlm8SgHEDZzvdT46UcQESLbOf7KRxAH4XrUbieHECiZQjAcqgcQJrTB8CvgxxAtvP91HhpHECJQWDl0CIcQGYs+D9QfBxA16NwPQpXHECamZmZmRkcQEhP/t/yXxxALbKd76dGHECcxCCwcugbQKjGSzeJQRxAEoPAyqHFG0D8tv9/nk0cQFyPwvUo3BtArkfhehSuG0DmqgKAJsIbQAeSAADDpBtA5/up8dLNG0C4HoXrUTgbQMub+185dBtAvHSTGARWG0BzaJHtfL8aQHbLBoDHKRtAw/UoXI/CGkBKDAIrh5YaQEoMAiuHlhpAhetRuB6FGkC70QTgWBcbQNC1BCC7pxpAnMQgsHJoGkCHFtnO91MaQHoUBwAp3BlAvHSTGARWGkDn+6nx0k0aQEyY/l9U0hlAWDm0yHY+GkBkO99PjRcaQNmX/5+pwhlAYOXQItv5GUA/NV66SQwaQOxRuB6F6xlAEFg5tMj2GUBnpwWAQaAZQFaK/n+FmhlAO99PjZfuGUCcxCCwcugZQOBA/z95mBlA8tJNYhDYGUCBlUOLbOcZQEw3iUFg5RlAq9z6n7KMGUA9CtejcL0ZQJHtfD813hlA001iEFi5GUDmqgKAJoIZQDOC/T+dgBlANV66SQyCGUBSuB6F69EZQH0/NV66yRlAWzr4Hx90GUCwcmiR7XwZQG3n+6nxUhlAYhBYObTIGUCYMP2/qGQZQFK4HoXrURlAqvHSTWKQGUDKNAJAAU0ZQPhT46WbRBlAd76fGi9dGUAVZgeAHTgZQBbNAKBVHxlAI9v5fmo8GUAj2/l+ajwZQIhmBkDIBxlAhetRuB4FGUB56SYxCCwZQBqU+d/76RhAMQisHFrkGEC1j/5fwegYQKjGSzeJwRhAVg4tsp3vGED8qfHSTeIYQD01AQCs3BhAuB6F61G4GEBwHvhfgcQYQJ7vp8ZLtxhAuB6F61G4GEBrLwJgxb4YQOOlm8QgsBhAg8DKoUW2GEDjpZvEILAYQHHI/F9SpxhARIts5/upGEDP91PjpZsYQClcj8L1qBhA0d0B4NCiGECXsgQAZIwYQI/C9ShcjxhAUI2XbhKDGEArmgFAq34YQAaBlUOLbBhAAAAAAACAGEDWzPffjGgYQB1aZDvfTxhAy6FFtvN9GEBYObTIdj4YQNC1BCC7ZxhAexSuR+F6GEAZBFYOLTIYQLAeASBKOxhA+ZX8v1IWGEBU46WbxCAYQPLSTWIQWBhAlKgA4CQGGEA/NV66SQwYQGIQWDm0SBhAg4v532gAGEArhxbZzvcXQI2XbhKDQBhADi2yne8nGEBrLwJgxf4XQHE9Ctej8BdASgwCK4cWGEDc9/6/F+YXQBfZzvdT4xdA9ov4nxPQF0DD9Shcj8IXQKrx0k1iEBhA63H7v8zMF0Ce76fGS7cXQJHtfD813hdAxYQIoGezF0Ce76fGS7cXQJhuEoPAyhdAPQrXo3C9F0CTGARWDq0XQAeSAADDpBdAsN8EwCePF0C6SQwCK4cXQARWDi2ynRdAJ2gAYFZ9F0CF61G4HoUXQKrx0k1ikBdAM6r6/7J7F0DhehSuR2EXQCGwcmiRbRdAZmZmZmZmF0AKdAdg7C8XQFyPwvUoXBdAHPgHgOAcF0CNl24Sg0AXQB1aZDvfTxdAl8kDoHD9FkCq8dJNYhAXQLXl+V/wxRZAdZMYBFYOF0A5tMh2vh8XQGDl0CLb+RZA30+Nl24SF0BQ4f7ftcQWQFjx95+9wRZAMQisHFrkFkAlBoGVQwsXQJTn/D9HshZAd76fGi/dFkCmm8QgsPIWQGiR7Xw/tRZA8tJNYhDYFkA38/p/FG4WQOkmMQisnBZAZmZmZmZmFkBaEvtfCTkWQG3n+6nxUhZA16NwPQpXFkBokAbgNC8WQB1aZDvfTxZArkfhehQuFkD4LgOgGi8WQBivBwB/KhZAvp8aL90kFkAj2/l+ajwWQPUk/3/bKBZAiUFg5dAiFkDjpZvEIDAWQIQGByBaJBZAnMQgsHLoFUBvEoPAyiEWQFSo9x9cDxZAnMQgsHLoFUBxPQrXo/AVQHe+nxov3RVABMf4P6YKFkC/QgIg0AQWQL6fGi/dpBVA6vMCAIj0FUCkcD0K16MVQLx0kxgE1hVAXt0CICbTFUDwp8ZLN4kVQDMzMzMzsxVADyQBAIaJFUDhehSuR2EVQH9qvHSTmBVANV66SQyCFUAalPnf+2kVQJHtfD81XhVA6Dn5X3QkFUBCYOXQIlsVQDVeukkMghVASTj/P+buFEDTTWIQWDkVQJZDi2znexVALyL+Hy/dFEBvEoPAyiEVQPp+arx0ExVA8ZwCoFfKFED2KFyPwvUUQHE9Ctej8BRA5oIFwBDHFECq8dJNYhAVQLWP/l/BqBRAmG4Sg8DKFECyne+nxssUQLKd76fGyxRA4iIGoKKjFEDJdr6fGq8UQMUgsHJokRRALbKd76fGFEBemvc/jZcUQLpJDAIrhxRA10cFIH6MFECm7QSg9oYUQCuHFtnOdxRA25AFoN9+FECBlUOLbGcUQB+F61G4nhRA3LgCYPV5FEAnMQisHFoUQI/C9ShcjxRAo0r6n+9nFECyne+nxksUQLByaJHtfBRA3SQGgZVDFEBtvvg/E2EUQCwY+v/vVhRATmIQWDk0FEC8dJMYBFYUQPHb/v95NhRArkfhehQuFEDNzMzMzEwUQBMC+d84BRRAH4XrUbgeFEA9CtejcD0UQP7UeOkmMRRA3wED4FbsE0CamZmZmRkUQP7UeOkmMRRASI76PxXME0BWDi2yne8TQANg/x9uoxNAbef7qfHSE0DJdr6fGi8UQBwPByDtjRNAmG4Sg8DKE0Drmfh/4ocTQCPb+X5qvBNAMQisHFrkE0B56SYxCKwTQAeSAADDZBNAokW28/3UE0DdJAaBlcMTQEZt93/JVBNAxSCwcmiRE0AnKQQANFETQKrx0k1ikBNAMzMzMzOzE0Cq8dJNYpATQPS9BWCjQRNAPzVeukmME0AAAAAAAIATQFpkO99PjRNA4iIGoKIjE0CwcmiR7XwTQNEi2/l+ahNA5msGIAQWE0Be3QIgJhMTQJzEILByaBNAYOXQItv5EkAzgv0/nQATQLx0kxgEVhNArkfhehSuEkAs2f2fzeoSQFK4HoXrURNAj8L1KFyPEkCTGARWDi0TQMuhRbbzfRJAqnUBgHrlEkCtFP3/CrUSQPCnxks3CRNA4L73/72wEkAxCKwcWuQSQLbz/dR4aRJAPfYEoImwEkD8qfHSTeISQGiR7Xw/NRJAeekmMQgsEkCNffn/mYgSQCUGgZVDixJAqvHSTWIQEkAAAAAAAIASQLw4/v+QfhJAJTD+//1UEkAhsHJokW0SQKrx0k1iEBJAbUAAgM5IEkD8qfHSTWISQDmtBCAoPhJAvHSTGARWEkDRItv5fuoRQLAeASBKOxJAsp3vp8ZLEkC8dJMYBNYRQMUgsHJoERJAnhwIQBE2EkBfRPw/XroRQE5iEFg5tBFA+n5qvHSTEUBQIPs/2LARQBSuR+F6lBFAppvEILByEUCqtP3fnJERQOxRuB6FaxFAfXQGIJd/EUDNzMzMzEwRQPT91HjpJhFACKwcWmQ7EUCRh/0f2U4RQEzX+r92PhFADi2yne8nEUAQWDm0yPYQQJDhB6B+OxFAbxKDwMohEUAggARgZDsRQJqZmZmZGRFAIL8AwIYnEUCcxCCwcugQQM/3U+OlmxBAokW28/3UEECmm8QgsHIQQOGn+F+xvxBAK5oBQKu+EEAhsHJokW0QQJ7vp8ZLNw5AlwgAAJOpEECYbhKDwEoQQBSuR+F6FA5ASXf7nwibEECYbhKDwMoOQAAAAAAAAA5AeLD4X0RpD0BaZDvfT40OQARWDi2ynQ1AZDvfT42XDEBIEAKA0DMOQDMzMzMzMw5AnnIDQEATDkDdJAaBlUMNQF30AcAyxA1AlkOLbOf7DEAaffo/7zgNQOxRuB6F6wxAJgEHQB6WDEDNzMzMzMwMQPYoXI/C9QdAf2q8dJMYDECkcD0K16MHQNt5BgDTTQxAFWYHgB04DEAj2/l+arwLQAisHFpkOwNAUZsIgMnUC0BSuB6F61ELQCBBCABCzwtAKVyPwvUoCUC+8gegpM4LQMl2vp8aLwRAfXQGIJd/CkAHkgAAw2QKQN6G9Z9liAZAHDcE4AKJBEA=\",\"dtype\":\"float64\",\"order\":\"little\",\"shape\":[427]},\"Happiness_score\":{\"__ndarray__\":\"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\",\"dtype\":\"float64\",\"order\":\"little\",\"shape\":[427]},\"Year\":[2020,2021,2022,2020,2021,2022,2020,2021,2022,2021,2022,2020,2020,2021,2022,2020,2021,2020,2021,2022,2022,2020,2021,2021,2022,2020,2020,2021,2022,2020,2021,2022,2020,2021,2022,2022,2021,2020,2020,2021,2022,2020,2021,2022,2020,2021,2022,2021,2022,2020,2021,2022,2020,2020,2021,2022,2020,2021,2022,2020,2021,2022,2021,2022,2020,2020,2021,2022,2020,2021,2022,2020,2021,2022,2020,2021,2022,2022,2021,2020,2020,2021,2022,2020,2021,2022,2022,2020,2021,2022,2021,2020,2020,2021,2022,2022,2020,2021,2021,2022,2020,2021,2022,2020,2021,2022,2020,2020,2021,2022,2020,2021,2022,2020,2021,2020,2021,2022,2022,2020,2021,2020,2021,2022,2020,2021,2022,2022,2020,2021,2021,2022,2020,2020,2021,2022,2020,2021,2022,2020,2021,2022,2021,2020,2022,2021,2020,2020,2021,2022,2020,2021,2022,2020,2021,2022,2022,2020,2021,2022,2020,2021,2020,2021,2022,2020,2021,2022,2020,2021,2022,2022,2021,2020,2020,2021,2022,2020,2021,2022,2020,2021,2022,2022,2020,2021,2020,2021,2022,2020,2021,2020,2021,2022,2021,2022,2020,2020,2021,2022,2020,2021,2022,2021,2022,2020,2021,2022,2020,2021,2022,2020,2022,2021,2020,2020,2021,2022,2020,2021,2022,2020,2021,2022,2020,2021,2022,2021,2020,2020,2021,2020,2021,2022,2020,2021,2022,2020,2021,2022,2022,2020,2021,2020,2021,2022,2020,2021,2022,2020,2021,2021,2020,2022,2022,2020,2021,2020,2021,2022,2022,2020,2021,2021,2022,2020,2021,2020,2020,2021,2020,2021,2022,2020,2021,2022,2020,2021,2022,2021,2020,2020,2021,2022,2020,2021,2022,2020,2021,2022,2022,2020,2021,2022,2020,2021,2020,2021,2022,2020,2021,2020,2021,2022,2021,2020,2022,2022,2020,2021,2020,2021,2022,2022,2020,2021,2021,2022,2020,2022,2021,2020,2020,2021,2022,2020,2021,2022,2020,2021,2022,2021,2022,2020,2020,2021,2020,2021,2022,2020,2021,2022,2022,2020,2021,2022,2021,2020,2020,2021,2022,2020,2021,2020,2021,2022,2020,2021,2022,2021,2020,2020,2021,2022,2020,2021,2022,2020,2021,2020,2021,2022,2021,2020,2020,2021,2022,2020,2021,2020,2021,2020,2021,2022,2021,2022,2020,2020,2021,2022,2020,2021,2022,2020,2021,2022,2020,2021,2022,2022,2020,2021,2020,2021,2020,2021,2020,2021,2020,2021,2022,2021,2022,2020,2020,2021,2022,2020,2021,2020,2021,2020,2021,2020,2020,2020,2020],\"color\":[2020,2021,2022,2020,2021,2022,2020,2021,2022,2021,2022,2020,2020,2021,2022,2020,2021,2020,2021,2022,2022,2020,2021,2021,2022,2020,2020,2021,2022,2020,2021,2022,2020,2021,2022,2022,2021,2020,2020,2021,2022,2020,2021,2022,2020,2021,2022,2021,2022,2020,2021,2022,2020,2020,2021,2022,2020,2021,2022,2020,2021,2022,2021,2022,2020,2020,2021,2022,2020,2021,2022,2020,2021,2022,2020,2021,2022,2022,2021,2020,2020,2021,2022,2020,2021,2022,2022,2020,2021,2022,2021,2020,2020,2021,2022,2022,2020,2021,2021,2022,2020,2021,2022,2020,2021,2022,2020,2020,2021,2022,2020,2021,2022,2020,2021,2020,2021,2022,2022,2020,2021,2020,2021,2022,2020,2021,2022,2022,2020,2021,2021,2022,2020,2020,2021,2022,2020,2021,2022,2020,2021,2022,2021,2020,2022,2021,2020,2020,2021,2022,2020,2021,2022,2020,2021,2022,2022,2020,2021,2022,2020,2021,2020,2021,2022,2020,2021,2022,2020,2021,2022,2022,2021,2020,2020,2021,2022,2020,2021,2022,2020,2021,2022,2022,2020,2021,2020,2021,2022,2020,2021,2020,2021,2022,2021,2022,2020,2020,2021,2022,2020,2021,2022,2021,2022,2020,2021,2022,2020,2021,2022,2020,2022,2021,2020,2020,2021,2022,2020,2021,2022,2020,2021,2022,2020,2021,2022,2021,2020,2020,2021,2020,2021,2022,2020,2021,2022,2020,2021,2022,2022,2020,2021,2020,2021,2022,2020,2021,2022,2020,2021,2021,2020,2022,2022,2020,2021,2020,2021,2022,2022,2020,2021,2021,2022,2020,2021,2020,2020,2021,2020,2021,2022,2020,2021,2022,2020,2021,2022,2021,2020,2020,2021,2022,2020,2021,2022,2020,2021,2022,2022,2020,2021,2022,2020,2021,2020,2021,2022,2020,2021,2020,2021,2022,2021,2020,2022,2022,2020,2021,2020,2021,2022,2022,2020,2021,2021,2022,2020,2022,2021,2020,2020,2021,2022,2020,2021,2022,2020,2021,2022,2021,2022,2020,2020,2021,2020,2021,2022,2020,2021,2022,2022,2020,2021,2022,2021,2020,2020,2021,2022,2020,2021,2020,2021,2022,2020,2021,2022,2021,2020,2020,2021,2022,2020,2021,2022,2020,2021,2020,2021,2022,2021,2020,2020,2021,2022,2020,2021,2020,2021,2020,2021,2022,2021,2022,2020,2020,2021,2022,2020,2021,2022,2020,2021,2022,2020,2021,2022,2022,2020,2021,2020,2021,2020,2021,2020,2021,2020,2021,2022,2021,2022,2020,2020,2021,2022,2020,2021,2020,2021,2020,2021,2020,2020,2020,2020]},\"selected\":{\"id\":\"15022\"},\"selection_policy\":{\"id\":\"15051\"}},\"id\":\"15021\",\"type\":\"ColumnDataSource\"},{\"attributes\":{},\"id\":\"15035\",\"type\":\"AllLabels\"},{\"attributes\":{\"children\":[{\"id\":\"14985\"},{\"id\":\"14986\"}],\"margin\":[0,0,0,0],\"name\":\"Column30229\"},\"id\":\"14984\",\"type\":\"Column\"},{\"attributes\":{\"axis_label\":\"Happiness score\",\"coordinates\":null,\"formatter\":{\"id\":\"15037\"},\"group\":null,\"major_label_policy\":{\"id\":\"15038\"},\"ticker\":{\"id\":\"15004\"}},\"id\":\"15003\",\"type\":\"LinearAxis\"},{\"attributes\":{\"fill_color\":{\"field\":\"color\",\"transform\":{\"id\":\"15020\"}},\"hatch_color\":{\"field\":\"color\",\"transform\":{\"id\":\"15020\"}},\"line_color\":{\"field\":\"color\",\"transform\":{\"id\":\"15020\"}},\"size\":{\"value\":5.477225575051661},\"x\":{\"field\":\"Country name\"},\"y\":{\"field\":\"Happiness score\"}},\"id\":\"15024\",\"type\":\"Scatter\"},{\"attributes\":{},\"id\":\"15038\",\"type\":\"AllLabels\"},{\"attributes\":{\"fill_alpha\":{\"value\":0.1},\"fill_color\":{\"field\":\"color\",\"transform\":{\"id\":\"15020\"}},\"hatch_alpha\":{\"value\":0.1},\"hatch_color\":{\"field\":\"color\",\"transform\":{\"id\":\"15020\"}},\"line_alpha\":{\"value\":0.1},\"line_color\":{\"field\":\"color\",\"transform\":{\"id\":\"15020\"}},\"size\":{\"value\":5.477225575051661},\"x\":{\"field\":\"Country name\"},\"y\":{\"field\":\"Happiness score\"}},\"id\":\"15025\",\"type\":\"Scatter\"},{\"attributes\":{},\"id\":\"15047\",\"type\":\"NoOverlap\"},{\"attributes\":{\"axis\":{\"id\":\"15003\"},\"coordinates\":null,\"dimension\":1,\"grid_line_color\":null,\"group\":null,\"ticker\":null},\"id\":\"15006\",\"type\":\"Grid\"},{\"attributes\":{\"active\":0,\"button_type\":\"success\",\"labels\":[\"Happiness score\",\"Log GDP per capita\",\"Social support\",\"Healthy life expectancy\",\"Freedom to make life choices\",\"Generosity\",\"Perceptions of corruption\",\"Dystopia + residual\"],\"margin\":[5,10,5,10]},\"id\":\"14986\",\"type\":\"RadioButtonGroup\"},{\"attributes\":{\"children\":[{\"id\":\"14984\"},{\"id\":\"14987\"}],\"margin\":[0,0,0,0],\"name\":\"Row30234\"},\"id\":\"14983\",\"type\":\"Row\"},{\"attributes\":{\"client_comm_id\":\"0bf1939c2ace453380f72acdff15f86d\",\"comm_id\":\"00eba36bec2647859628b290f0646aa6\",\"plot_id\":\"14981\"},\"id\":\"15087\",\"type\":\"panel.models.comm_manager.CommManager\"},{\"attributes\":{\"high\":2022,\"low\":2020,\"palette\":[\"#b3fef5\",\"#b0fef5\",\"#adfdf5\",\"#a9fcf5\",\"#a6fbf6\",\"#a3faf6\",\"#a0faf6\",\"#9df9f6\",\"#9af8f6\",\"#97f7f6\",\"#93f7f6\",\"#90f6f6\",\"#8df5f6\",\"#8af4f7\",\"#87f3f7\",\"#83f2f7\",\"#80f2f7\",\"#7df1f7\",\"#79f0f7\",\"#76eff7\",\"#73eef7\",\"#6fedf8\",\"#6cecf8\",\"#68ecf8\",\"#65ebf8\",\"#61eaf8\",\"#5ee9f8\",\"#5ae8f8\",\"#57e7f8\",\"#53e6f8\",\"#50e5f9\",\"#4ce4f9\",\"#49e3f9\",\"#45e2f9\",\"#42e1f9\",\"#3ee0f9\",\"#3bdff9\",\"#38def9\",\"#35ddf9\",\"#32dcf9\",\"#30dbfa\",\"#2ed9fa\",\"#2dd8fa\",\"#2cd7fa\",\"#2bd6fa\",\"#2bd5fa\",\"#2ad3fa\",\"#2ad2fa\",\"#29d1fa\",\"#29d0fb\",\"#29cffb\",\"#28cdfb\",\"#28ccfb\",\"#28cbfb\",\"#28cafb\",\"#28c8fb\",\"#28c7fb\",\"#29c6fb\",\"#29c5fb\",\"#29c4fb\",\"#29c2fb\",\"#2ac1fb\",\"#2ac0fb\",\"#2bbffb\",\"#2bbdfc\",\"#2cbcfc\",\"#2dbbfc\",\"#2db9fc\",\"#2eb8fc\",\"#2fb7fc\",\"#2fb6fc\",\"#30b4fc\",\"#31b3fc\",\"#32b2fc\",\"#32b0fc\",\"#33affc\",\"#33aefc\",\"#34adfc\",\"#34abfc\",\"#34aafc\",\"#35a9fc\",\"#35a8fc\",\"#35a6fc\",\"#35a5fc\",\"#35a4fc\",\"#35a3fc\",\"#35a1fc\",\"#35a0fc\",\"#359ffc\",\"#359dfc\",\"#359cfc\",\"#359bfc\",\"#349afd\",\"#3498fd\",\"#3497fd\",\"#3396fd\",\"#3395fd\",\"#3293fd\",\"#3292fd\",\"#3191fd\",\"#3090fd\",\"#308ffd\",\"#2f8dfd\",\"#2f8cfd\",\"#2e8bfd\",\"#2e8afd\",\"#2d88fd\",\"#2d87fd\",\"#2c86fd\",\"#2c84fd\",\"#2c83fd\",\"#2c82fd\",\"#2b81fd\",\"#2b7ffd\",\"#2b7efd\",\"#2b7dfd\",\"#2b7bfd\",\"#2b7afd\",\"#2b79fd\",\"#2b77fd\",\"#2b76fd\",\"#2b75fd\",\"#2b73fd\",\"#2c72fd\",\"#2c71fd\",\"#2c6ffd\",\"#2c6efd\",\"#2d6cfd\",\"#2d6bfd\",\"#2d6afc\",\"#2e68fc\",\"#2e67fc\",\"#2e65fc\",\"#2e64fc\",\"#2f62fc\",\"#2f61fc\",\"#2f5ffc\",\"#2f5efc\",\"#2f5dfc\",\"#2f5bfc\",\"#2f5afc\",\"#2f58fb\",\"#2f57fb\",\"#2f55fb\",\"#2f53fb\",\"#2f52fb\",\"#2f50fb\",\"#2f4ffb\",\"#2f4dfb\",\"#2e4cfb\",\"#2e4afb\",\"#2e48fb\",\"#2e47fa\",\"#2d45fa\",\"#2d43fa\",\"#2d42fa\",\"#2d40fa\",\"#2c3efa\",\"#2c3dfa\",\"#2b3bf9\",\"#2b39f9\",\"#2a37f9\",\"#2a36f8\",\"#2934f8\",\"#2832f7\",\"#2831f7\",\"#272ff6\",\"#262ef5\",\"#252cf5\",\"#252af4\",\"#2429f3\",\"#2327f2\",\"#2226f1\",\"#2124f0\",\"#2023ef\",\"#1f22ee\",\"#1e20ed\",\"#1d1feb\",\"#1c1eea\",\"#1b1ce9\",\"#1a1be7\",\"#181ae6\",\"#1719e5\",\"#1618e3\",\"#1417e1\",\"#1316e0\",\"#1215de\",\"#1014dc\",\"#0f13db\",\"#0e12d9\",\"#0d11d7\",\"#0c10d5\",\"#0b0fd3\",\"#0a0ed1\",\"#090dd0\",\"#080dce\",\"#080ccc\",\"#070bca\",\"#070ac8\",\"#0709c6\",\"#0708c4\",\"#0707c2\",\"#0707bf\",\"#0806bd\",\"#0806bb\",\"#0905b9\",\"#0904b7\",\"#0a04b5\",\"#0a04b2\",\"#0b03b0\",\"#0c03ae\",\"#0d02ab\",\"#0e02a9\",\"#0e02a7\",\"#0f02a4\",\"#0f01a2\",\"#1001a0\",\"#10019d\",\"#10019b\",\"#100199\",\"#100197\",\"#100194\",\"#0f0192\",\"#0f0190\",\"#0f018e\",\"#0e018b\",\"#0e0189\",\"#0d0187\",\"#0d0185\",\"#0c0183\",\"#0b0181\",\"#0b017e\",\"#0a017c\",\"#09017a\",\"#090178\",\"#080276\",\"#070274\",\"#060272\",\"#060270\",\"#05026e\",\"#04026c\",\"#030269\",\"#030267\",\"#020265\",\"#010263\",\"#010261\",\"#00025f\",\"#00025d\",\"#00025b\",\"#000259\",\"#000257\",\"#000255\",\"#000154\",\"#000152\",\"#000150\",\"#00004e\"]},\"id\":\"15020\",\"type\":\"LinearColorMapper\"},{\"attributes\":{},\"id\":\"15034\",\"type\":\"CategoricalTickFormatter\"},{\"attributes\":{\"margin\":[5,5,5,5],\"name\":\"HSpacer30233\",\"sizing_mode\":\"stretch_width\"},\"id\":\"14987\",\"type\":\"Spacer\"},{\"attributes\":{\"fill_alpha\":{\"value\":0.2},\"fill_color\":{\"field\":\"color\",\"transform\":{\"id\":\"15020\"}},\"hatch_alpha\":{\"value\":0.2},\"hatch_color\":{\"field\":\"color\",\"transform\":{\"id\":\"15020\"}},\"line_alpha\":{\"value\":0.2},\"line_color\":{\"field\":\"color\",\"transform\":{\"id\":\"15020\"}},\"size\":{\"value\":5.477225575051661},\"x\":{\"field\":\"Country name\"},\"y\":{\"field\":\"Happiness score\"}},\"id\":\"15028\",\"type\":\"Scatter\"},{\"attributes\":{\"end\":8.3858,\"reset_end\":8.3858,\"reset_start\":1.8601999999999999,\"start\":1.8601999999999999,\"tags\":[[[\"Happiness score\",\"Happiness score\",null]]]},\"id\":\"14989\",\"type\":\"Range1d\"},{\"attributes\":{\"fill_color\":{\"field\":\"color\",\"transform\":{\"id\":\"15020\"}},\"hatch_color\":{\"field\":\"color\",\"transform\":{\"id\":\"15020\"}},\"line_color\":{\"field\":\"color\",\"transform\":{\"id\":\"15020\"}},\"size\":{\"value\":5.477225575051661},\"x\":{\"field\":\"Country name\"},\"y\":{\"field\":\"Happiness score\"}},\"id\":\"15027\",\"type\":\"Scatter\"},{\"attributes\":{\"callback\":null,\"renderers\":[{\"id\":\"15029\"}],\"tags\":[\"hv_created\"],\"tooltips\":[[\"Country name\",\"@{Country_name}\"],[\"Happiness score\",\"@{Happiness_score}\"],[\"Year\",\"@{Year}\"]]},\"id\":\"14990\",\"type\":\"HoverTool\"},{\"attributes\":{},\"id\":\"15004\",\"type\":\"BasicTicker\"},{\"attributes\":{},\"id\":\"15051\",\"type\":\"UnionRenderers\"},{\"attributes\":{},\"id\":\"14998\",\"type\":\"LinearScale\"},{\"attributes\":{},\"id\":\"15009\",\"type\":\"WheelZoomTool\"},{\"attributes\":{\"coordinates\":null,\"data_source\":{\"id\":\"15021\"},\"glyph\":{\"id\":\"15024\"},\"group\":null,\"hover_glyph\":{\"id\":\"15027\"},\"muted_glyph\":{\"id\":\"15028\"},\"nonselection_glyph\":{\"id\":\"15025\"},\"selection_glyph\":{\"id\":\"15026\"},\"view\":{\"id\":\"15030\"}},\"id\":\"15029\",\"type\":\"GlyphRenderer\"},{\"attributes\":{\"children\":[{\"id\":\"14983\"},{\"id\":\"14991\"}],\"margin\":[0,0,0,0],\"name\":\"Column30240\"},\"id\":\"14982\",\"type\":\"Column\"},{\"attributes\":{},\"id\":\"15007\",\"type\":\"SaveTool\"},{\"attributes\":{},\"id\":\"15037\",\"type\":\"BasicTickFormatter\"},{\"attributes\":{\"overlay\":{\"id\":\"15012\"}},\"id\":\"15010\",\"type\":\"BoxZoomTool\"},{\"attributes\":{\"source\":{\"id\":\"15021\"}},\"id\":\"15030\",\"type\":\"CDSView\"},{\"attributes\":{},\"id\":\"15011\",\"type\":\"ResetTool\"},{\"attributes\":{\"bar_line_color\":\"black\",\"color_mapper\":{\"id\":\"15020\"},\"coordinates\":null,\"group\":null,\"label_standoff\":8,\"location\":[0,0],\"major_label_policy\":{\"id\":\"15047\"},\"major_tick_line_color\":\"black\",\"ticker\":{\"id\":\"15031\"}},\"id\":\"15032\",\"type\":\"ColorBar\"},{\"attributes\":{},\"id\":\"14996\",\"type\":\"CategoricalScale\"},{\"attributes\":{},\"id\":\"15031\",\"type\":\"BasicTicker\"}],\"root_ids\":[\"14981\",\"15087\"]},\"title\":\"Bokeh Application\",\"version\":\"2.4.3\"}};\n",
       "    var render_items = [{\"docid\":\"2d93e9c8-157c-4117-9d05-e30d4400486a\",\"root_ids\":[\"14981\"],\"roots\":{\"14981\":\"94b56e11-ada5-4750-b8cc-a3ac7bbebee2\"}}];\n",
       "    root.Bokeh.embed.embed_items_notebook(docs_json, render_items);\n",
       "    for (const render_item of render_items) {\n",
       "      for (const root_id of render_item.root_ids) {\n",
       "\tconst id_el = document.getElementById(root_id)\n",
       "\tif (id_el.children.length && (id_el.children[0].className === 'bk-root')) {\n",
       "\t  const root_el = id_el.children[0]\n",
       "\t  root_el.id = root_el.id + '-rendered'\n",
       "\t}\n",
       "      }\n",
       "    }\n",
       "  }\n",
       "  if (root.Bokeh !== undefined && root.Bokeh.Panel !== undefined && ( root['Tabulator'] !== undefined) && ( root['Tabulator'] !== undefined)) {\n",
       "    embed_document(root);\n",
       "  } else {\n",
       "    var attempts = 0;\n",
       "    var timer = setInterval(function(root) {\n",
       "      if (root.Bokeh !== undefined && root.Bokeh.Panel !== undefined && (root['Tabulator'] !== undefined) && (root['Tabulator'] !== undefined)) {\n",
       "        clearInterval(timer);\n",
       "        embed_document(root);\n",
       "      } else if (document.readyState == \"complete\") {\n",
       "        attempts++;\n",
       "        if (attempts > 200) {\n",
       "          clearInterval(timer);\n",
       "          console.log(\"Bokeh: ERROR: Unable to run BokehJS code because BokehJS library is missing\");\n",
       "        }\n",
       "      }\n",
       "    }, 25, root)\n",
       "  }\n",
       "})(window);</script>"
      ],
      "text/plain": [
       "<hvplot.interactive.Interactive at 0x7fc4964c2650>"
      ]
     },
     "execution_count": 60,
     "metadata": {
      "application/vnd.holoviews_exec.v0+json": {
       "id": "14981"
      }
     },
     "output_type": "execute_result"
    }
   ],
   "source": [
    "# create scatter plot\n",
    "scatter = scatter_pipeline.hvplot(x='Country name', \n",
    "            y=yaxis_co2, \n",
    "            kind='scatter',\n",
    "            c='Year',\n",
    "            title = 'Happiness score in each countries 2020-2022',rot=70, height = 500)\n",
    "scatter"
   ]
  },
  {
   "cell_type": "code",
   "execution_count": 61,
   "metadata": {},
   "outputs": [
    {
     "data": {},
     "metadata": {},
     "output_type": "display_data"
    },
    {
     "data": {},
     "metadata": {},
     "output_type": "display_data"
    },
    {
     "data": {
      "application/vnd.holoviews_exec.v0+json": "",
      "text/html": [
       "<div id='15143'>\n",
       "  <div class=\"bk-root\" id=\"d57e9a96-3820-4f3f-b4c5-7c4ebe90f13f\" data-root-id=\"15143\"></div>\n",
       "</div>\n",
       "<script type=\"application/javascript\">(function(root) {\n",
       "  function embed_document(root) {\n",
       "    var docs_json = {\"2e858f9d-54a0-44cf-8a81-7d49ee3cd097\":{\"defs\":[{\"extends\":null,\"module\":null,\"name\":\"ReactiveHTML1\",\"overrides\":[],\"properties\":[]},{\"extends\":null,\"module\":null,\"name\":\"FlexBox1\",\"overrides\":[],\"properties\":[{\"default\":\"flex-start\",\"kind\":null,\"name\":\"align_content\"},{\"default\":\"flex-start\",\"kind\":null,\"name\":\"align_items\"},{\"default\":\"row\",\"kind\":null,\"name\":\"flex_direction\"},{\"default\":\"wrap\",\"kind\":null,\"name\":\"flex_wrap\"},{\"default\":\"flex-start\",\"kind\":null,\"name\":\"justify_content\"}]},{\"extends\":null,\"module\":null,\"name\":\"GridStack1\",\"overrides\":[],\"properties\":[{\"default\":\"warn\",\"kind\":null,\"name\":\"mode\"},{\"default\":null,\"kind\":null,\"name\":\"ncols\"},{\"default\":null,\"kind\":null,\"name\":\"nrows\"},{\"default\":true,\"kind\":null,\"name\":\"allow_resize\"},{\"default\":true,\"kind\":null,\"name\":\"allow_drag\"},{\"default\":[],\"kind\":null,\"name\":\"state\"}]},{\"extends\":null,\"module\":null,\"name\":\"click1\",\"overrides\":[],\"properties\":[{\"default\":\"\",\"kind\":null,\"name\":\"terminal_output\"},{\"default\":\"\",\"kind\":null,\"name\":\"debug_name\"},{\"default\":0,\"kind\":null,\"name\":\"clears\"}]},{\"extends\":null,\"module\":null,\"name\":\"NotificationAreaBase1\",\"overrides\":[],\"properties\":[{\"default\":\"bottom-right\",\"kind\":null,\"name\":\"position\"},{\"default\":0,\"kind\":null,\"name\":\"_clear\"}]},{\"extends\":null,\"module\":null,\"name\":\"NotificationArea1\",\"overrides\":[],\"properties\":[{\"default\":[],\"kind\":null,\"name\":\"notifications\"},{\"default\":\"bottom-right\",\"kind\":null,\"name\":\"position\"},{\"default\":0,\"kind\":null,\"name\":\"_clear\"},{\"default\":[{\"background\":\"#ffc107\",\"icon\":{\"className\":\"fas fa-exclamation-triangle\",\"color\":\"white\",\"tagName\":\"i\"},\"type\":\"warning\"},{\"background\":\"#007bff\",\"icon\":{\"className\":\"fas fa-info-circle\",\"color\":\"white\",\"tagName\":\"i\"},\"type\":\"info\"}],\"kind\":null,\"name\":\"types\"}]},{\"extends\":null,\"module\":null,\"name\":\"Notification\",\"overrides\":[],\"properties\":[{\"default\":null,\"kind\":null,\"name\":\"background\"},{\"default\":3000,\"kind\":null,\"name\":\"duration\"},{\"default\":null,\"kind\":null,\"name\":\"icon\"},{\"default\":\"\",\"kind\":null,\"name\":\"message\"},{\"default\":null,\"kind\":null,\"name\":\"notification_type\"},{\"default\":false,\"kind\":null,\"name\":\"_destroyed\"}]},{\"extends\":null,\"module\":null,\"name\":\"TemplateActions1\",\"overrides\":[],\"properties\":[{\"default\":0,\"kind\":null,\"name\":\"open_modal\"},{\"default\":0,\"kind\":null,\"name\":\"close_modal\"}]},{\"extends\":null,\"module\":null,\"name\":\"MaterialTemplateActions1\",\"overrides\":[],\"properties\":[{\"default\":0,\"kind\":null,\"name\":\"open_modal\"},{\"default\":0,\"kind\":null,\"name\":\"close_modal\"}]}],\"roots\":{\"references\":[{\"attributes\":{\"below\":[{\"id\":\"15160\"}],\"center\":[{\"id\":\"15162\"},{\"id\":\"15166\"}],\"height\":500,\"left\":[{\"id\":\"15163\"}],\"margin\":[5,5,5,5],\"min_border_bottom\":10,\"min_border_left\":10,\"min_border_right\":10,\"min_border_top\":10,\"renderers\":[{\"id\":\"15189\"}],\"right\":[{\"id\":\"15192\"}],\"sizing_mode\":\"fixed\",\"title\":{\"id\":\"15152\"},\"toolbar\":{\"id\":\"15173\"},\"width\":700,\"x_range\":{\"id\":\"15148\"},\"x_scale\":{\"id\":\"15156\"},\"y_range\":{\"id\":\"15149\"},\"y_scale\":{\"id\":\"15158\"}},\"id\":\"15151\",\"subtype\":\"Figure\",\"type\":\"Plot\"},{\"attributes\":{\"fill_color\":{\"field\":\"color\",\"transform\":{\"id\":\"15180\"}},\"hatch_color\":{\"field\":\"color\",\"transform\":{\"id\":\"15180\"}},\"line_color\":{\"field\":\"color\",\"transform\":{\"id\":\"15180\"}},\"size\":{\"value\":5.477225575051661},\"x\":{\"field\":\"Country name\"},\"y\":{\"field\":\"Happiness score\"}},\"id\":\"15186\",\"type\":\"Scatter\"},{\"attributes\":{},\"id\":\"15168\",\"type\":\"PanTool\"},{\"attributes\":{},\"id\":\"15195\",\"type\":\"AllLabels\"},{\"attributes\":{\"end\":8.3858,\"reset_end\":8.3858,\"reset_start\":1.8601999999999999,\"start\":1.8601999999999999,\"tags\":[[[\"Happiness score\",\"Happiness score\",null]]]},\"id\":\"15149\",\"type\":\"Range1d\"},{\"attributes\":{\"fill_color\":{\"field\":\"color\",\"transform\":{\"id\":\"15180\"}},\"hatch_color\":{\"field\":\"color\",\"transform\":{\"id\":\"15180\"}},\"line_color\":{\"field\":\"color\",\"transform\":{\"id\":\"15180\"}},\"size\":{\"value\":5.477225575051661},\"x\":{\"field\":\"Country name\"},\"y\":{\"field\":\"Happiness score\"}},\"id\":\"15184\",\"type\":\"Scatter\"},{\"attributes\":{\"coordinates\":null,\"group\":null,\"text\":\"Happiness score in each countries 2020-2022\",\"text_color\":\"black\",\"text_font_size\":\"12pt\"},\"id\":\"15152\",\"type\":\"Title\"},{\"attributes\":{\"fill_alpha\":{\"value\":0.1},\"fill_color\":{\"field\":\"color\",\"transform\":{\"id\":\"15180\"}},\"hatch_alpha\":{\"value\":0.1},\"hatch_color\":{\"field\":\"color\",\"transform\":{\"id\":\"15180\"}},\"line_alpha\":{\"value\":0.1},\"line_color\":{\"field\":\"color\",\"transform\":{\"id\":\"15180\"}},\"size\":{\"value\":5.477225575051661},\"x\":{\"field\":\"Country name\"},\"y\":{\"field\":\"Happiness score\"}},\"id\":\"15185\",\"type\":\"Scatter\"},{\"attributes\":{\"source\":{\"id\":\"15181\"}},\"id\":\"15190\",\"type\":\"CDSView\"},{\"attributes\":{\"data\":{\"Country name\":[\"Finland\",\"Denmark\",\"Switzerland\",\"Iceland\",\"Norway\",\"Netherlands\",\"Sweden\",\"New Zealand\",\"Austria\",\"Luxembourg\",\"Canada\",\"Australia\",\"United Kingdom\",\"Israel\",\"Costa Rica\",\"Ireland\",\"Germany\",\"United States\",\"Czech Republic\",\"Belgium\",\"United Arab Emirates\",\"Malta\",\"France\",\"Mexico\",\"Taiwan Province of China\",\"Uruguay\",\"Saudi Arabia\",\"Spain\",\"Guatemala\",\"Italy\",\"Singapore\",\"Brazil\",\"Slovenia\",\"El Salvador\",\"Kosovo\",\"Panama\",\"Slovakia\",\"Uzbekistan\",\"Chile\",\"Bahrain\",\"Lithuania\",\"Trinidad and Tobago\",\"Poland\",\"Colombia\",\"Cyprus\",\"Nicaragua\",\"Romania\",\"Kuwait\",\"Mauritius\",\"Kazakhstan\",\"Estonia\",\"Philippines\",\"Hungary\",\"Thailand\",\"Argentina\",\"Honduras\",\"Latvia\",\"Ecuador\",\"Portugal\",\"Jamaica\",\"South Korea\",\"Japan\",\"Peru\",\"Serbia\",\"Bolivia\",\"Pakistan\",\"Paraguay\",\"Dominican Republic\",\"Bosnia and Herzegovina\",\"Moldova\",\"Tajikistan\",\"Montenegro\",\"Russia\",\"Kyrgyzstan\",\"Belarus\",\"North Cyprus\",\"Greece\",\"Hong Kong S.A.R. of China\",\"Croatia\",\"Libya\",\"Mongolia\",\"Malaysia\",\"Vietnam\",\"Indonesia\",\"Ivory Coast\",\"Benin\",\"Maldives\",\"Congo (Brazzaville)\",\"Azerbaijan\",\"Macedonia\",\"Ghana\",\"Nepal\",\"Turkey\",\"China\",\"Turkmenistan\",\"Bulgaria\",\"Morocco\",\"Cameroon\",\"Venezuela\",\"Algeria\",\"Senegal\",\"Guinea\",\"Niger\",\"Laos\",\"Albania\",\"Cambodia\",\"Bangladesh\",\"Gabon\",\"South Africa\",\"Iraq\",\"Lebanon\",\"Burkina Faso\",\"Gambia\",\"Mali\",\"Nigeria\",\"Armenia\",\"Georgia\",\"Iran\",\"Jordan\",\"Mozambique\",\"Kenya\",\"Namibia\",\"Ukraine\",\"Liberia\",\"Palestinian Territories\",\"Uganda\",\"Chad\",\"Tunisia\",\"Mauritania\",\"Sri Lanka\",\"Congo (Kinshasa)\",\"Swaziland\",\"Myanmar\",\"Comoros\",\"Togo\",\"Ethiopia\",\"Madagascar\",\"Egypt\",\"Sierra Leone\",\"Burundi\",\"Zambia\",\"Haiti\",\"Lesotho\",\"India\",\"Malawi\",\"Yemen\",\"Botswana\",\"Tanzania\",\"Central African Republic\",\"Rwanda\",\"Zimbabwe\",\"South Sudan\",\"Afghanistan\",\"Finland\",\"Denmark\",\"Switzerland\",\"Iceland\",\"Netherlands\",\"Norway\",\"Sweden\",\"Luxembourg\",\"New Zealand\",\"Austria\",\"Australia\",\"Israel\",\"Germany\",\"Canada\",\"Ireland\",\"Costa Rica\",\"United Kingdom\",\"Czech Republic\",\"United States\",\"Belgium\",\"France\",\"Bahrain\",\"Malta\",\"Taiwan Province of China\",\"United Arab Emirates\",\"Saudi Arabia\",\"Spain\",\"Italy\",\"Slovenia\",\"Guatemala\",\"Uruguay\",\"Singapore\",\"Kosovo\",\"Slovakia\",\"Brazil\",\"Mexico\",\"Jamaica\",\"Lithuania\",\"Cyprus\",\"Estonia\",\"Panama\",\"Uzbekistan\",\"Chile\",\"Poland\",\"Kazakhstan\",\"Romania\",\"Kuwait\",\"Serbia\",\"El Salvador\",\"Mauritius\",\"Latvia\",\"Colombia\",\"Hungary\",\"Thailand\",\"Nicaragua\",\"Japan\",\"Argentina\",\"Portugal\",\"Honduras\",\"Croatia\",\"Philippines\",\"South Korea\",\"Peru\",\"Bosnia and Herzegovina\",\"Moldova\",\"Ecuador\",\"Kyrgyzstan\",\"Greece\",\"Bolivia\",\"Mongolia\",\"Paraguay\",\"Montenegro\",\"Dominican Republic\",\"North Cyprus\",\"Belarus\",\"Russia\",\"Hong Kong S.A.R. of China\",\"Tajikistan\",\"Vietnam\",\"Libya\",\"Malaysia\",\"Indonesia\",\"Congo (Brazzaville)\",\"China\",\"Ivory Coast\",\"Armenia\",\"Nepal\",\"Bulgaria\",\"Maldives\",\"Azerbaijan\",\"Cameroon\",\"Senegal\",\"Albania\",\"North Macedonia\",\"Ghana\",\"Niger\",\"Turkmenistan\",\"Gambia\",\"Benin\",\"Laos\",\"Bangladesh\",\"Guinea\",\"South Africa\",\"Turkey\",\"Pakistan\",\"Morocco\",\"Venezuela\",\"Georgia\",\"Algeria\",\"Ukraine\",\"Iraq\",\"Gabon\",\"Burkina Faso\",\"Cambodia\",\"Mozambique\",\"Nigeria\",\"Mali\",\"Iran\",\"Uganda\",\"Liberia\",\"Kenya\",\"Tunisia\",\"Lebanon\",\"Namibia\",\"Palestinian Territories\",\"Myanmar\",\"Jordan\",\"Chad\",\"Sri Lanka\",\"Swaziland\",\"Comoros\",\"Egypt\",\"Ethiopia\",\"Mauritania\",\"Madagascar\",\"Togo\",\"Zambia\",\"Sierra Leone\",\"India\",\"Burundi\",\"Yemen\",\"Tanzania\",\"Haiti\",\"Malawi\",\"Lesotho\",\"Botswana\",\"Rwanda\",\"Zimbabwe\",\"Afghanistan\",\"Finland\",\"Denmark\",\"Iceland\",\"Switzerland\",\"Netherlands\",\"Sweden\",\"Norway\",\"Israel\",\"New Zealand\",\"Austria\",\"Australia\",\"Ireland\",\"Germany\",\"Canada\",\"United States\",\"United Kingdom\",\"Czech Republic\",\"Belgium\",\"France\",\"Bahrain\",\"Slovenia\",\"Costa Rica\",\"United Arab Emirates\",\"Saudi Arabia\",\"Taiwan Province of China\",\"Singapore\",\"Romania\",\"Spain\",\"Uruguay\",\"Italy\",\"Kosovo\",\"Malta\",\"Lithuania\",\"Slovakia\",\"Estonia\",\"Panama\",\"Brazil\",\"Kazakhstan\",\"Cyprus\",\"Latvia\",\"Serbia\",\"Chile\",\"Nicaragua\",\"Mexico\",\"Croatia\",\"Poland\",\"El Salvador\",\"Hungary\",\"Mauritius\",\"Uzbekistan\",\"Japan\",\"Honduras\",\"Portugal\",\"Argentina\",\"Greece\",\"South Korea\",\"Philippines\",\"Thailand\",\"Moldova\",\"Jamaica\",\"Kyrgyzstan\",\"Colombia\",\"Bosnia and Herzegovina\",\"Mongolia\",\"Dominican Republic\",\"Malaysia\",\"Bolivia\",\"China\",\"Paraguay\",\"Peru\",\"Montenegro\",\"Ecuador\",\"Vietnam\",\"Russia\",\"Hong Kong S.A.R. of China\",\"Armenia\",\"Tajikistan\",\"Nepal\",\"Bulgaria\",\"Indonesia\",\"Ivory Coast\",\"North Macedonia\",\"Albania\",\"South Africa\",\"Bangladesh\",\"Laos\",\"Algeria\",\"Ukraine\",\"Congo\",\"Morocco\",\"Mozambique\",\"Cameroon\",\"Senegal\",\"Georgia\",\"Gabon\",\"Iraq\",\"Venezuela\",\"Guinea\",\"Iran\",\"Ghana\",\"Turkey\",\"Burkina Faso\",\"Cambodia\",\"Benin\",\"Uganda\",\"Nigeria\",\"Kenya\",\"Tunisia\",\"Pakistan\",\"Mali\",\"Namibia\",\"Myanmar\",\"Sri Lanka\",\"Egypt\",\"Ethiopia\",\"Jordan\",\"Togo\",\"India\",\"Zambia\",\"Malawi\",\"Tanzania\",\"Sierra Leone\",\"Zimbabwe\",\"Lebanon\",\"Afghanistan\"],\"Country_name\":[\"Finland\",\"Denmark\",\"Switzerland\",\"Iceland\",\"Norway\",\"Netherlands\",\"Sweden\",\"New Zealand\",\"Austria\",\"Luxembourg\",\"Canada\",\"Australia\",\"United Kingdom\",\"Israel\",\"Costa Rica\",\"Ireland\",\"Germany\",\"United States\",\"Czech Republic\",\"Belgium\",\"United Arab Emirates\",\"Malta\",\"France\",\"Mexico\",\"Taiwan Province of China\",\"Uruguay\",\"Saudi Arabia\",\"Spain\",\"Guatemala\",\"Italy\",\"Singapore\",\"Brazil\",\"Slovenia\",\"El Salvador\",\"Kosovo\",\"Panama\",\"Slovakia\",\"Uzbekistan\",\"Chile\",\"Bahrain\",\"Lithuania\",\"Trinidad and Tobago\",\"Poland\",\"Colombia\",\"Cyprus\",\"Nicaragua\",\"Romania\",\"Kuwait\",\"Mauritius\",\"Kazakhstan\",\"Estonia\",\"Philippines\",\"Hungary\",\"Thailand\",\"Argentina\",\"Honduras\",\"Latvia\",\"Ecuador\",\"Portugal\",\"Jamaica\",\"South Korea\",\"Japan\",\"Peru\",\"Serbia\",\"Bolivia\",\"Pakistan\",\"Paraguay\",\"Dominican Republic\",\"Bosnia and Herzegovina\",\"Moldova\",\"Tajikistan\",\"Montenegro\",\"Russia\",\"Kyrgyzstan\",\"Belarus\",\"North Cyprus\",\"Greece\",\"Hong Kong S.A.R. of China\",\"Croatia\",\"Libya\",\"Mongolia\",\"Malaysia\",\"Vietnam\",\"Indonesia\",\"Ivory Coast\",\"Benin\",\"Maldives\",\"Congo (Brazzaville)\",\"Azerbaijan\",\"Macedonia\",\"Ghana\",\"Nepal\",\"Turkey\",\"China\",\"Turkmenistan\",\"Bulgaria\",\"Morocco\",\"Cameroon\",\"Venezuela\",\"Algeria\",\"Senegal\",\"Guinea\",\"Niger\",\"Laos\",\"Albania\",\"Cambodia\",\"Bangladesh\",\"Gabon\",\"South Africa\",\"Iraq\",\"Lebanon\",\"Burkina Faso\",\"Gambia\",\"Mali\",\"Nigeria\",\"Armenia\",\"Georgia\",\"Iran\",\"Jordan\",\"Mozambique\",\"Kenya\",\"Namibia\",\"Ukraine\",\"Liberia\",\"Palestinian Territories\",\"Uganda\",\"Chad\",\"Tunisia\",\"Mauritania\",\"Sri Lanka\",\"Congo (Kinshasa)\",\"Swaziland\",\"Myanmar\",\"Comoros\",\"Togo\",\"Ethiopia\",\"Madagascar\",\"Egypt\",\"Sierra Leone\",\"Burundi\",\"Zambia\",\"Haiti\",\"Lesotho\",\"India\",\"Malawi\",\"Yemen\",\"Botswana\",\"Tanzania\",\"Central African Republic\",\"Rwanda\",\"Zimbabwe\",\"South Sudan\",\"Afghanistan\",\"Finland\",\"Denmark\",\"Switzerland\",\"Iceland\",\"Netherlands\",\"Norway\",\"Sweden\",\"Luxembourg\",\"New Zealand\",\"Austria\",\"Australia\",\"Israel\",\"Germany\",\"Canada\",\"Ireland\",\"Costa Rica\",\"United Kingdom\",\"Czech Republic\",\"United States\",\"Belgium\",\"France\",\"Bahrain\",\"Malta\",\"Taiwan Province of China\",\"United Arab Emirates\",\"Saudi Arabia\",\"Spain\",\"Italy\",\"Slovenia\",\"Guatemala\",\"Uruguay\",\"Singapore\",\"Kosovo\",\"Slovakia\",\"Brazil\",\"Mexico\",\"Jamaica\",\"Lithuania\",\"Cyprus\",\"Estonia\",\"Panama\",\"Uzbekistan\",\"Chile\",\"Poland\",\"Kazakhstan\",\"Romania\",\"Kuwait\",\"Serbia\",\"El Salvador\",\"Mauritius\",\"Latvia\",\"Colombia\",\"Hungary\",\"Thailand\",\"Nicaragua\",\"Japan\",\"Argentina\",\"Portugal\",\"Honduras\",\"Croatia\",\"Philippines\",\"South Korea\",\"Peru\",\"Bosnia and Herzegovina\",\"Moldova\",\"Ecuador\",\"Kyrgyzstan\",\"Greece\",\"Bolivia\",\"Mongolia\",\"Paraguay\",\"Montenegro\",\"Dominican Republic\",\"North Cyprus\",\"Belarus\",\"Russia\",\"Hong Kong S.A.R. of China\",\"Tajikistan\",\"Vietnam\",\"Libya\",\"Malaysia\",\"Indonesia\",\"Congo (Brazzaville)\",\"China\",\"Ivory Coast\",\"Armenia\",\"Nepal\",\"Bulgaria\",\"Maldives\",\"Azerbaijan\",\"Cameroon\",\"Senegal\",\"Albania\",\"North Macedonia\",\"Ghana\",\"Niger\",\"Turkmenistan\",\"Gambia\",\"Benin\",\"Laos\",\"Bangladesh\",\"Guinea\",\"South Africa\",\"Turkey\",\"Pakistan\",\"Morocco\",\"Venezuela\",\"Georgia\",\"Algeria\",\"Ukraine\",\"Iraq\",\"Gabon\",\"Burkina Faso\",\"Cambodia\",\"Mozambique\",\"Nigeria\",\"Mali\",\"Iran\",\"Uganda\",\"Liberia\",\"Kenya\",\"Tunisia\",\"Lebanon\",\"Namibia\",\"Palestinian Territories\",\"Myanmar\",\"Jordan\",\"Chad\",\"Sri Lanka\",\"Swaziland\",\"Comoros\",\"Egypt\",\"Ethiopia\",\"Mauritania\",\"Madagascar\",\"Togo\",\"Zambia\",\"Sierra Leone\",\"India\",\"Burundi\",\"Yemen\",\"Tanzania\",\"Haiti\",\"Malawi\",\"Lesotho\",\"Botswana\",\"Rwanda\",\"Zimbabwe\",\"Afghanistan\",\"Finland\",\"Denmark\",\"Iceland\",\"Switzerland\",\"Netherlands\",\"Sweden\",\"Norway\",\"Israel\",\"New Zealand\",\"Austria\",\"Australia\",\"Ireland\",\"Germany\",\"Canada\",\"United States\",\"United Kingdom\",\"Czech Republic\",\"Belgium\",\"France\",\"Bahrain\",\"Slovenia\",\"Costa Rica\",\"United Arab Emirates\",\"Saudi Arabia\",\"Taiwan Province of China\",\"Singapore\",\"Romania\",\"Spain\",\"Uruguay\",\"Italy\",\"Kosovo\",\"Malta\",\"Lithuania\",\"Slovakia\",\"Estonia\",\"Panama\",\"Brazil\",\"Kazakhstan\",\"Cyprus\",\"Latvia\",\"Serbia\",\"Chile\",\"Nicaragua\",\"Mexico\",\"Croatia\",\"Poland\",\"El Salvador\",\"Hungary\",\"Mauritius\",\"Uzbekistan\",\"Japan\",\"Honduras\",\"Portugal\",\"Argentina\",\"Greece\",\"South Korea\",\"Philippines\",\"Thailand\",\"Moldova\",\"Jamaica\",\"Kyrgyzstan\",\"Colombia\",\"Bosnia and Herzegovina\",\"Mongolia\",\"Dominican Republic\",\"Malaysia\",\"Bolivia\",\"China\",\"Paraguay\",\"Peru\",\"Montenegro\",\"Ecuador\",\"Vietnam\",\"Russia\",\"Hong Kong S.A.R. of China\",\"Armenia\",\"Tajikistan\",\"Nepal\",\"Bulgaria\",\"Indonesia\",\"Ivory Coast\",\"North Macedonia\",\"Albania\",\"South Africa\",\"Bangladesh\",\"Laos\",\"Algeria\",\"Ukraine\",\"Congo\",\"Morocco\",\"Mozambique\",\"Cameroon\",\"Senegal\",\"Georgia\",\"Gabon\",\"Iraq\",\"Venezuela\",\"Guinea\",\"Iran\",\"Ghana\",\"Turkey\",\"Burkina Faso\",\"Cambodia\",\"Benin\",\"Uganda\",\"Nigeria\",\"Kenya\",\"Tunisia\",\"Pakistan\",\"Mali\",\"Namibia\",\"Myanmar\",\"Sri Lanka\",\"Egypt\",\"Ethiopia\",\"Jordan\",\"Togo\",\"India\",\"Zambia\",\"Malawi\",\"Tanzania\",\"Sierra Leone\",\"Zimbabwe\",\"Lebanon\",\"Afghanistan\"],\"Happiness score\":{\"__ndarray__\":\"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\",\"dtype\":\"float64\",\"order\":\"little\",\"shape\":[427]},\"Happiness_score\":{\"__ndarray__\":\"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\",\"dtype\":\"float64\",\"order\":\"little\",\"shape\":[427]},\"Year\":[2020,2020,2020,2020,2020,2020,2020,2020,2020,2020,2020,2020,2020,2020,2020,2020,2020,2020,2020,2020,2020,2020,2020,2020,2020,2020,2020,2020,2020,2020,2020,2020,2020,2020,2020,2020,2020,2020,2020,2020,2020,2020,2020,2020,2020,2020,2020,2020,2020,2020,2020,2020,2020,2020,2020,2020,2020,2020,2020,2020,2020,2020,2020,2020,2020,2020,2020,2020,2020,2020,2020,2020,2020,2020,2020,2020,2020,2020,2020,2020,2020,2020,2020,2020,2020,2020,2020,2020,2020,2020,2020,2020,2020,2020,2020,2020,2020,2020,2020,2020,2020,2020,2020,2020,2020,2020,2020,2020,2020,2020,2020,2020,2020,2020,2020,2020,2020,2020,2020,2020,2020,2020,2020,2020,2020,2020,2020,2020,2020,2020,2020,2020,2020,2020,2020,2020,2020,2020,2020,2020,2020,2020,2020,2020,2020,2020,2020,2020,2020,2020,2020,2020,2020,2021,2021,2021,2021,2021,2021,2021,2021,2021,2021,2021,2021,2021,2021,2021,2021,2021,2021,2021,2021,2021,2021,2021,2021,2021,2021,2021,2021,2021,2021,2021,2021,2021,2021,2021,2021,2021,2021,2021,2021,2021,2021,2021,2021,2021,2021,2021,2021,2021,2021,2021,2021,2021,2021,2021,2021,2021,2021,2021,2021,2021,2021,2021,2021,2021,2021,2021,2021,2021,2021,2021,2021,2021,2021,2021,2021,2021,2021,2021,2021,2021,2021,2021,2021,2021,2021,2021,2021,2021,2021,2021,2021,2021,2021,2021,2021,2021,2021,2021,2021,2021,2021,2021,2021,2021,2021,2021,2021,2021,2021,2021,2021,2021,2021,2021,2021,2021,2021,2021,2021,2021,2021,2021,2021,2021,2021,2021,2021,2021,2021,2021,2021,2021,2021,2021,2021,2021,2021,2021,2021,2021,2021,2021,2021,2021,2021,2021,2021,2021,2022,2022,2022,2022,2022,2022,2022,2022,2022,2022,2022,2022,2022,2022,2022,2022,2022,2022,2022,2022,2022,2022,2022,2022,2022,2022,2022,2022,2022,2022,2022,2022,2022,2022,2022,2022,2022,2022,2022,2022,2022,2022,2022,2022,2022,2022,2022,2022,2022,2022,2022,2022,2022,2022,2022,2022,2022,2022,2022,2022,2022,2022,2022,2022,2022,2022,2022,2022,2022,2022,2022,2022,2022,2022,2022,2022,2022,2022,2022,2022,2022,2022,2022,2022,2022,2022,2022,2022,2022,2022,2022,2022,2022,2022,2022,2022,2022,2022,2022,2022,2022,2022,2022,2022,2022,2022,2022,2022,2022,2022,2022,2022,2022,2022,2022,2022,2022,2022,2022,2022,2022,2022,2022,2022,2022],\"color\":[2020,2020,2020,2020,2020,2020,2020,2020,2020,2020,2020,2020,2020,2020,2020,2020,2020,2020,2020,2020,2020,2020,2020,2020,2020,2020,2020,2020,2020,2020,2020,2020,2020,2020,2020,2020,2020,2020,2020,2020,2020,2020,2020,2020,2020,2020,2020,2020,2020,2020,2020,2020,2020,2020,2020,2020,2020,2020,2020,2020,2020,2020,2020,2020,2020,2020,2020,2020,2020,2020,2020,2020,2020,2020,2020,2020,2020,2020,2020,2020,2020,2020,2020,2020,2020,2020,2020,2020,2020,2020,2020,2020,2020,2020,2020,2020,2020,2020,2020,2020,2020,2020,2020,2020,2020,2020,2020,2020,2020,2020,2020,2020,2020,2020,2020,2020,2020,2020,2020,2020,2020,2020,2020,2020,2020,2020,2020,2020,2020,2020,2020,2020,2020,2020,2020,2020,2020,2020,2020,2020,2020,2020,2020,2020,2020,2020,2020,2020,2020,2020,2020,2020,2020,2021,2021,2021,2021,2021,2021,2021,2021,2021,2021,2021,2021,2021,2021,2021,2021,2021,2021,2021,2021,2021,2021,2021,2021,2021,2021,2021,2021,2021,2021,2021,2021,2021,2021,2021,2021,2021,2021,2021,2021,2021,2021,2021,2021,2021,2021,2021,2021,2021,2021,2021,2021,2021,2021,2021,2021,2021,2021,2021,2021,2021,2021,2021,2021,2021,2021,2021,2021,2021,2021,2021,2021,2021,2021,2021,2021,2021,2021,2021,2021,2021,2021,2021,2021,2021,2021,2021,2021,2021,2021,2021,2021,2021,2021,2021,2021,2021,2021,2021,2021,2021,2021,2021,2021,2021,2021,2021,2021,2021,2021,2021,2021,2021,2021,2021,2021,2021,2021,2021,2021,2021,2021,2021,2021,2021,2021,2021,2021,2021,2021,2021,2021,2021,2021,2021,2021,2021,2021,2021,2021,2021,2021,2021,2021,2021,2021,2021,2021,2021,2022,2022,2022,2022,2022,2022,2022,2022,2022,2022,2022,2022,2022,2022,2022,2022,2022,2022,2022,2022,2022,2022,2022,2022,2022,2022,2022,2022,2022,2022,2022,2022,2022,2022,2022,2022,2022,2022,2022,2022,2022,2022,2022,2022,2022,2022,2022,2022,2022,2022,2022,2022,2022,2022,2022,2022,2022,2022,2022,2022,2022,2022,2022,2022,2022,2022,2022,2022,2022,2022,2022,2022,2022,2022,2022,2022,2022,2022,2022,2022,2022,2022,2022,2022,2022,2022,2022,2022,2022,2022,2022,2022,2022,2022,2022,2022,2022,2022,2022,2022,2022,2022,2022,2022,2022,2022,2022,2022,2022,2022,2022,2022,2022,2022,2022,2022,2022,2022,2022,2022,2022,2022,2022,2022,2022]},\"selected\":{\"id\":\"15182\"},\"selection_policy\":{\"id\":\"15211\"}},\"id\":\"15181\",\"type\":\"ColumnDataSource\"},{\"attributes\":{},\"id\":\"15207\",\"type\":\"NoOverlap\"},{\"attributes\":{\"axis\":{\"id\":\"15160\"},\"coordinates\":null,\"grid_line_color\":null,\"group\":null,\"ticker\":null},\"id\":\"15162\",\"type\":\"Grid\"},{\"attributes\":{},\"id\":\"15211\",\"type\":\"UnionRenderers\"},{\"attributes\":{},\"id\":\"15198\",\"type\":\"AllLabels\"},{\"attributes\":{\"high\":2022,\"low\":2020,\"palette\":[\"#b3fef5\",\"#b0fef5\",\"#adfdf5\",\"#a9fcf5\",\"#a6fbf6\",\"#a3faf6\",\"#a0faf6\",\"#9df9f6\",\"#9af8f6\",\"#97f7f6\",\"#93f7f6\",\"#90f6f6\",\"#8df5f6\",\"#8af4f7\",\"#87f3f7\",\"#83f2f7\",\"#80f2f7\",\"#7df1f7\",\"#79f0f7\",\"#76eff7\",\"#73eef7\",\"#6fedf8\",\"#6cecf8\",\"#68ecf8\",\"#65ebf8\",\"#61eaf8\",\"#5ee9f8\",\"#5ae8f8\",\"#57e7f8\",\"#53e6f8\",\"#50e5f9\",\"#4ce4f9\",\"#49e3f9\",\"#45e2f9\",\"#42e1f9\",\"#3ee0f9\",\"#3bdff9\",\"#38def9\",\"#35ddf9\",\"#32dcf9\",\"#30dbfa\",\"#2ed9fa\",\"#2dd8fa\",\"#2cd7fa\",\"#2bd6fa\",\"#2bd5fa\",\"#2ad3fa\",\"#2ad2fa\",\"#29d1fa\",\"#29d0fb\",\"#29cffb\",\"#28cdfb\",\"#28ccfb\",\"#28cbfb\",\"#28cafb\",\"#28c8fb\",\"#28c7fb\",\"#29c6fb\",\"#29c5fb\",\"#29c4fb\",\"#29c2fb\",\"#2ac1fb\",\"#2ac0fb\",\"#2bbffb\",\"#2bbdfc\",\"#2cbcfc\",\"#2dbbfc\",\"#2db9fc\",\"#2eb8fc\",\"#2fb7fc\",\"#2fb6fc\",\"#30b4fc\",\"#31b3fc\",\"#32b2fc\",\"#32b0fc\",\"#33affc\",\"#33aefc\",\"#34adfc\",\"#34abfc\",\"#34aafc\",\"#35a9fc\",\"#35a8fc\",\"#35a6fc\",\"#35a5fc\",\"#35a4fc\",\"#35a3fc\",\"#35a1fc\",\"#35a0fc\",\"#359ffc\",\"#359dfc\",\"#359cfc\",\"#359bfc\",\"#349afd\",\"#3498fd\",\"#3497fd\",\"#3396fd\",\"#3395fd\",\"#3293fd\",\"#3292fd\",\"#3191fd\",\"#3090fd\",\"#308ffd\",\"#2f8dfd\",\"#2f8cfd\",\"#2e8bfd\",\"#2e8afd\",\"#2d88fd\",\"#2d87fd\",\"#2c86fd\",\"#2c84fd\",\"#2c83fd\",\"#2c82fd\",\"#2b81fd\",\"#2b7ffd\",\"#2b7efd\",\"#2b7dfd\",\"#2b7bfd\",\"#2b7afd\",\"#2b79fd\",\"#2b77fd\",\"#2b76fd\",\"#2b75fd\",\"#2b73fd\",\"#2c72fd\",\"#2c71fd\",\"#2c6ffd\",\"#2c6efd\",\"#2d6cfd\",\"#2d6bfd\",\"#2d6afc\",\"#2e68fc\",\"#2e67fc\",\"#2e65fc\",\"#2e64fc\",\"#2f62fc\",\"#2f61fc\",\"#2f5ffc\",\"#2f5efc\",\"#2f5dfc\",\"#2f5bfc\",\"#2f5afc\",\"#2f58fb\",\"#2f57fb\",\"#2f55fb\",\"#2f53fb\",\"#2f52fb\",\"#2f50fb\",\"#2f4ffb\",\"#2f4dfb\",\"#2e4cfb\",\"#2e4afb\",\"#2e48fb\",\"#2e47fa\",\"#2d45fa\",\"#2d43fa\",\"#2d42fa\",\"#2d40fa\",\"#2c3efa\",\"#2c3dfa\",\"#2b3bf9\",\"#2b39f9\",\"#2a37f9\",\"#2a36f8\",\"#2934f8\",\"#2832f7\",\"#2831f7\",\"#272ff6\",\"#262ef5\",\"#252cf5\",\"#252af4\",\"#2429f3\",\"#2327f2\",\"#2226f1\",\"#2124f0\",\"#2023ef\",\"#1f22ee\",\"#1e20ed\",\"#1d1feb\",\"#1c1eea\",\"#1b1ce9\",\"#1a1be7\",\"#181ae6\",\"#1719e5\",\"#1618e3\",\"#1417e1\",\"#1316e0\",\"#1215de\",\"#1014dc\",\"#0f13db\",\"#0e12d9\",\"#0d11d7\",\"#0c10d5\",\"#0b0fd3\",\"#0a0ed1\",\"#090dd0\",\"#080dce\",\"#080ccc\",\"#070bca\",\"#070ac8\",\"#0709c6\",\"#0708c4\",\"#0707c2\",\"#0707bf\",\"#0806bd\",\"#0806bb\",\"#0905b9\",\"#0904b7\",\"#0a04b5\",\"#0a04b2\",\"#0b03b0\",\"#0c03ae\",\"#0d02ab\",\"#0e02a9\",\"#0e02a7\",\"#0f02a4\",\"#0f01a2\",\"#1001a0\",\"#10019d\",\"#10019b\",\"#100199\",\"#100197\",\"#100194\",\"#0f0192\",\"#0f0190\",\"#0f018e\",\"#0e018b\",\"#0e0189\",\"#0d0187\",\"#0d0185\",\"#0c0183\",\"#0b0181\",\"#0b017e\",\"#0a017c\",\"#09017a\",\"#090178\",\"#080276\",\"#070274\",\"#060272\",\"#060270\",\"#05026e\",\"#04026c\",\"#030269\",\"#030267\",\"#020265\",\"#010263\",\"#010261\",\"#00025f\",\"#00025d\",\"#00025b\",\"#000259\",\"#000257\",\"#000255\",\"#000154\",\"#000152\",\"#000150\",\"#00004e\"]},\"id\":\"15180\",\"type\":\"LinearColorMapper\"},{\"attributes\":{\"margin\":[5,5,5,5],\"name\":\"HSpacer30511\",\"sizing_mode\":\"stretch_width\"},\"id\":\"15147\",\"type\":\"Spacer\"},{\"attributes\":{\"children\":[{\"id\":\"15145\"},{\"id\":\"15151\"}],\"margin\":[0,0,0,0],\"name\":\"Column30518\"},\"id\":\"15144\",\"type\":\"Column\"},{\"attributes\":{},\"id\":\"15194\",\"type\":\"CategoricalTickFormatter\"},{\"attributes\":{\"fill_alpha\":{\"value\":0.2},\"fill_color\":{\"field\":\"color\",\"transform\":{\"id\":\"15180\"}},\"hatch_alpha\":{\"value\":0.2},\"hatch_color\":{\"field\":\"color\",\"transform\":{\"id\":\"15180\"}},\"line_alpha\":{\"value\":0.2},\"line_color\":{\"field\":\"color\",\"transform\":{\"id\":\"15180\"}},\"size\":{\"value\":5.477225575051661},\"x\":{\"field\":\"Country name\"},\"y\":{\"field\":\"Happiness score\"}},\"id\":\"15188\",\"type\":\"Scatter\"},{\"attributes\":{},\"id\":\"15191\",\"type\":\"BasicTicker\"},{\"attributes\":{\"axis_label\":\"Happiness score\",\"coordinates\":null,\"formatter\":{\"id\":\"15197\"},\"group\":null,\"major_label_policy\":{\"id\":\"15198\"},\"ticker\":{\"id\":\"15164\"}},\"id\":\"15163\",\"type\":\"LinearAxis\"},{\"attributes\":{\"fill_color\":{\"field\":\"color\",\"transform\":{\"id\":\"15180\"}},\"hatch_color\":{\"field\":\"color\",\"transform\":{\"id\":\"15180\"}},\"line_color\":{\"field\":\"color\",\"transform\":{\"id\":\"15180\"}},\"size\":{\"value\":5.477225575051661},\"x\":{\"field\":\"Country name\"},\"y\":{\"field\":\"Happiness score\"}},\"id\":\"15187\",\"type\":\"Scatter\"},{\"attributes\":{},\"id\":\"15197\",\"type\":\"BasicTickFormatter\"},{\"attributes\":{\"coordinates\":null,\"data_source\":{\"id\":\"15181\"},\"glyph\":{\"id\":\"15184\"},\"group\":null,\"hover_glyph\":{\"id\":\"15187\"},\"muted_glyph\":{\"id\":\"15188\"},\"nonselection_glyph\":{\"id\":\"15185\"},\"selection_glyph\":{\"id\":\"15186\"},\"view\":{\"id\":\"15190\"}},\"id\":\"15189\",\"type\":\"GlyphRenderer\"},{\"attributes\":{},\"id\":\"15158\",\"type\":\"LinearScale\"},{\"attributes\":{\"client_comm_id\":\"3f06f9f0aa774d13816170a7f60bc344\",\"comm_id\":\"ce03fac14d0b45a68c9d0eb4c6da1ecb\",\"plot_id\":\"15143\"},\"id\":\"15247\",\"type\":\"panel.models.comm_manager.CommManager\"},{\"attributes\":{},\"id\":\"15161\",\"type\":\"CategoricalTicker\"},{\"attributes\":{\"callback\":null,\"renderers\":[{\"id\":\"15189\"}],\"tags\":[\"hv_created\"],\"tooltips\":[[\"Country name\",\"@{Country_name}\"],[\"Happiness score\",\"@{Happiness_score}\"],[\"Year\",\"@{Year}\"]]},\"id\":\"15150\",\"type\":\"HoverTool\"},{\"attributes\":{\"axis\":{\"id\":\"15163\"},\"coordinates\":null,\"dimension\":1,\"grid_line_color\":null,\"group\":null,\"ticker\":null},\"id\":\"15166\",\"type\":\"Grid\"},{\"attributes\":{},\"id\":\"15164\",\"type\":\"BasicTicker\"},{\"attributes\":{},\"id\":\"15167\",\"type\":\"SaveTool\"},{\"attributes\":{\"overlay\":{\"id\":\"15172\"}},\"id\":\"15170\",\"type\":\"BoxZoomTool\"},{\"attributes\":{},\"id\":\"15171\",\"type\":\"ResetTool\"},{\"attributes\":{\"margin\":[0,0,0,0],\"name\":\"Column30508\"},\"id\":\"15146\",\"type\":\"Column\"},{\"attributes\":{},\"id\":\"15169\",\"type\":\"WheelZoomTool\"},{\"attributes\":{\"bottom_units\":\"screen\",\"coordinates\":null,\"fill_alpha\":0.5,\"fill_color\":\"lightgrey\",\"group\":null,\"left_units\":\"screen\",\"level\":\"overlay\",\"line_alpha\":1.0,\"line_color\":\"black\",\"line_dash\":[4,4],\"line_width\":2,\"right_units\":\"screen\",\"syncable\":false,\"top_units\":\"screen\"},\"id\":\"15172\",\"type\":\"BoxAnnotation\"},{\"attributes\":{},\"id\":\"15156\",\"type\":\"CategoricalScale\"},{\"attributes\":{},\"id\":\"15182\",\"type\":\"Selection\"},{\"attributes\":{\"factors\":[\"Finland\",\"Denmark\",\"Switzerland\",\"Iceland\",\"Norway\",\"Netherlands\",\"Sweden\",\"New Zealand\",\"Austria\",\"Luxembourg\",\"Canada\",\"Australia\",\"United Kingdom\",\"Israel\",\"Costa Rica\",\"Ireland\",\"Germany\",\"United States\",\"Czech Republic\",\"Belgium\",\"United Arab Emirates\",\"Malta\",\"France\",\"Mexico\",\"Taiwan Province of China\",\"Uruguay\",\"Saudi Arabia\",\"Spain\",\"Guatemala\",\"Italy\",\"Singapore\",\"Brazil\",\"Slovenia\",\"El Salvador\",\"Kosovo\",\"Panama\",\"Slovakia\",\"Uzbekistan\",\"Chile\",\"Bahrain\",\"Lithuania\",\"Trinidad and Tobago\",\"Poland\",\"Colombia\",\"Cyprus\",\"Nicaragua\",\"Romania\",\"Kuwait\",\"Mauritius\",\"Kazakhstan\",\"Estonia\",\"Philippines\",\"Hungary\",\"Thailand\",\"Argentina\",\"Honduras\",\"Latvia\",\"Ecuador\",\"Portugal\",\"Jamaica\",\"South Korea\",\"Japan\",\"Peru\",\"Serbia\",\"Bolivia\",\"Pakistan\",\"Paraguay\",\"Dominican Republic\",\"Bosnia and Herzegovina\",\"Moldova\",\"Tajikistan\",\"Montenegro\",\"Russia\",\"Kyrgyzstan\",\"Belarus\",\"North Cyprus\",\"Greece\",\"Hong Kong S.A.R. of China\",\"Croatia\",\"Libya\",\"Mongolia\",\"Malaysia\",\"Vietnam\",\"Indonesia\",\"Ivory Coast\",\"Benin\",\"Maldives\",\"Congo (Brazzaville)\",\"Azerbaijan\",\"Macedonia\",\"Ghana\",\"Nepal\",\"Turkey\",\"China\",\"Turkmenistan\",\"Bulgaria\",\"Morocco\",\"Cameroon\",\"Venezuela\",\"Algeria\",\"Senegal\",\"Guinea\",\"Niger\",\"Laos\",\"Albania\",\"Cambodia\",\"Bangladesh\",\"Gabon\",\"South Africa\",\"Iraq\",\"Lebanon\",\"Burkina Faso\",\"Gambia\",\"Mali\",\"Nigeria\",\"Armenia\",\"Georgia\",\"Iran\",\"Jordan\",\"Mozambique\",\"Kenya\",\"Namibia\",\"Ukraine\",\"Liberia\",\"Palestinian Territories\",\"Uganda\",\"Chad\",\"Tunisia\",\"Mauritania\",\"Sri Lanka\",\"Congo (Kinshasa)\",\"Swaziland\",\"Myanmar\",\"Comoros\",\"Togo\",\"Ethiopia\",\"Madagascar\",\"Egypt\",\"Sierra Leone\",\"Burundi\",\"Zambia\",\"Haiti\",\"Lesotho\",\"India\",\"Malawi\",\"Yemen\",\"Botswana\",\"Tanzania\",\"Central African Republic\",\"Rwanda\",\"Zimbabwe\",\"South Sudan\",\"Afghanistan\",\"North Macedonia\",\"Congo\"],\"tags\":[[[\"Country name\",\"Country name\",null]]]},\"id\":\"15148\",\"type\":\"FactorRange\"},{\"attributes\":{\"bar_line_color\":\"black\",\"color_mapper\":{\"id\":\"15180\"},\"coordinates\":null,\"group\":null,\"label_standoff\":8,\"location\":[0,0],\"major_label_policy\":{\"id\":\"15207\"},\"major_tick_line_color\":\"black\",\"ticker\":{\"id\":\"15191\"}},\"id\":\"15192\",\"type\":\"ColorBar\"},{\"attributes\":{\"children\":[{\"id\":\"15146\"},{\"id\":\"15147\"}],\"margin\":[0,0,0,0],\"name\":\"Row30512\"},\"id\":\"15145\",\"type\":\"Row\"},{\"attributes\":{\"axis_label\":\"Country name\",\"coordinates\":null,\"formatter\":{\"id\":\"15194\"},\"group\":null,\"major_label_orientation\":1.2217304763960306,\"major_label_policy\":{\"id\":\"15195\"},\"ticker\":{\"id\":\"15161\"}},\"id\":\"15160\",\"type\":\"CategoricalAxis\"},{\"attributes\":{\"children\":[{\"id\":\"15144\"}],\"margin\":[0,0,0,0],\"name\":\"Row30519\"},\"id\":\"15143\",\"type\":\"Row\"},{\"attributes\":{\"active_drag\":{\"id\":\"15168\"},\"active_scroll\":{\"id\":\"15169\"},\"tools\":[{\"id\":\"15150\"},{\"id\":\"15167\"},{\"id\":\"15168\"},{\"id\":\"15169\"},{\"id\":\"15170\"},{\"id\":\"15171\"}]},\"id\":\"15173\",\"type\":\"Toolbar\"}],\"root_ids\":[\"15143\",\"15247\"]},\"title\":\"Bokeh Application\",\"version\":\"2.4.3\"}};\n",
       "    var render_items = [{\"docid\":\"2e858f9d-54a0-44cf-8a81-7d49ee3cd097\",\"root_ids\":[\"15143\"],\"roots\":{\"15143\":\"d57e9a96-3820-4f3f-b4c5-7c4ebe90f13f\"}}];\n",
       "    root.Bokeh.embed.embed_items_notebook(docs_json, render_items);\n",
       "    for (const render_item of render_items) {\n",
       "      for (const root_id of render_item.root_ids) {\n",
       "\tconst id_el = document.getElementById(root_id)\n",
       "\tif (id_el.children.length && (id_el.children[0].className === 'bk-root')) {\n",
       "\t  const root_el = id_el.children[0]\n",
       "\t  root_el.id = root_el.id + '-rendered'\n",
       "\t}\n",
       "      }\n",
       "    }\n",
       "  }\n",
       "  if (root.Bokeh !== undefined && root.Bokeh.Panel !== undefined && ( root['Tabulator'] !== undefined) && ( root['Tabulator'] !== undefined)) {\n",
       "    embed_document(root);\n",
       "  } else {\n",
       "    var attempts = 0;\n",
       "    var timer = setInterval(function(root) {\n",
       "      if (root.Bokeh !== undefined && root.Bokeh.Panel !== undefined && (root['Tabulator'] !== undefined) && (root['Tabulator'] !== undefined)) {\n",
       "        clearInterval(timer);\n",
       "        embed_document(root);\n",
       "      } else if (document.readyState == \"complete\") {\n",
       "        attempts++;\n",
       "        if (attempts > 200) {\n",
       "          clearInterval(timer);\n",
       "          console.log(\"Bokeh: ERROR: Unable to run BokehJS code because BokehJS library is missing\");\n",
       "        }\n",
       "      }\n",
       "    }, 25, root)\n",
       "  }\n",
       "})(window);</script>"
      ],
      "text/plain": [
       "<hvplot.interactive.Interactive at 0x7fc4964c2110>"
      ]
     },
     "execution_count": 61,
     "metadata": {
      "application/vnd.holoviews_exec.v0+json": {
       "id": "15143"
      }
     },
     "output_type": "execute_result"
    }
   ],
   "source": [
    "scatter1 = idf1.hvplot(x='Country name', \n",
    "            y='Happiness score', \n",
    "            kind='scatter',\n",
    "            c='Year',\n",
    "            title = 'Happiness score in each countries 2020-2022',rot=70, height = 500)\n",
    "scatter1"
   ]
  },
  {
   "cell_type": "markdown",
   "metadata": {
    "id": "gcn4NPyasyTA"
   },
   "source": [
    "### Creating Dashboard\n"
   ]
  },
  {
   "cell_type": "code",
   "execution_count": 62,
   "metadata": {},
   "outputs": [
    {
     "name": "stdout",
     "output_type": "stream",
     "text": [
      "Launching server at http://localhost:50044\n"
     ]
    }
   ],
   "source": [
    "#Layout using Template\n",
    "template = pn.template.FastListTemplate(\n",
    "    title='World Happiness Report Dashboard', \n",
    "    sidebar=[pn.pane.Markdown(\"# World Happiness Report 2020-2022\"),\n",
    "             pn.pane.Markdown(\"## Year\"),   \n",
    "             year_slider,\n",
    "             pn.pane.PNG('happy.png', sizing_mode='scale_both'),\n",
    "             pn.pane.Markdown(\"#### The World Happiness Report is an annual report produced by the United Nations Sustainable Development Solutions Network. It ranks countries based on how happy their citizens perceive themselves to be, using various factors such as income, social support, freedom, trust, generosity, and health to measure happiness.\"), \n",
    "             ],\n",
    "    main=[pn.Row(pn.Column(yaxis_co2,\n",
    "                           line3_plot.panel(width=500), margin=(-20,25)), \n",
    "                 bar_chart.panel(width=500)), \n",
    "          pn.Row( pn.Column(scatter.panel(width=600), margin=(0,25)), \n",
    "                 pn.Column(table.panel(width=400)))],\n",
    "    accent_base_color=\"#88d8b0\",\n",
    "    header_background=\"#88d8b0\",\n",
    ")\n",
    "template.show()\n",
    "template.servable();"
   ]
  },
  {
   "cell_type": "code",
   "execution_count": null,
   "metadata": {},
   "outputs": [],
   "source": []
  }
 ],
 "metadata": {
  "colab": {
   "provenance": []
  },
  "kernelspec": {
   "display_name": "Python 3 (ipykernel)",
   "language": "python",
   "name": "python3"
  },
  "language_info": {
   "codemirror_mode": {
    "name": "ipython",
    "version": 3
   },
   "file_extension": ".py",
   "mimetype": "text/x-python",
   "name": "python",
   "nbconvert_exporter": "python",
   "pygments_lexer": "ipython3",
   "version": "3.10.9"
  }
 },
 "nbformat": 4,
 "nbformat_minor": 1
}
